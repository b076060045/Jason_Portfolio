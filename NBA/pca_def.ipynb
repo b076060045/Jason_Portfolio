{
 "cells": [
  {
   "cell_type": "code",
   "execution_count": 393,
   "metadata": {},
   "outputs": [],
   "source": [
    "import plotly.express as px\n",
    "import plotly.graph_objs as go\n",
    "from plotly import tools"
   ]
  },
  {
   "cell_type": "code",
   "execution_count": 388,
   "metadata": {},
   "outputs": [],
   "source": [
    "#年份以後為主\n",
    "from sklearn.preprocessing import StandardScaler\n",
    "import numpy as np\n",
    "import pandas as pd\n",
    "import matplotlib.pyplot as plt\n",
    "def pca_def(n,data):\n",
    "    sc = StandardScaler()\n",
    "    data_std = sc.fit_transform(data)\n",
    "    data_std_cov = np.cov(data_std.T)\n",
    "    eigen_value,eigen_vector = np.linalg.eig(data_std_cov)\n",
    "    #print(eigen_vector)\n",
    "    eigen_pair = list(zip(eigen_value,eigen_vector))\n",
    "    #照eigen_value大小排列\n",
    "    eigen_column = list(zip(data.columns,eigen_value))\n",
    "    eigen_pair.sort(key = lambda x:np.abs(x[0]),reverse=True)\n",
    "    #print(eigen_pair)\n",
    "    eigen_column.sort(key = lambda x:np.abs(x[1]),reverse=True)\n",
    "    eigen_vector_final = []\n",
    "    for x in eigen_pair:\n",
    "        eigen_vector_final.append(x[1][:n])\n",
    "    eigen_column_final = []\n",
    "    for x in eigen_column:\n",
    "        eigen_column_final.append(x[0])\n",
    "    ans = dict()\n",
    "    ans['new_base_pca'] = np.array(eigen_vector_final)\n",
    "    ans['new_base_pca_column'] = eigen_column_final\n",
    "    #累積圖\n",
    "    eigen_value_accumulate = []\n",
    "    eigen_value_accumulate_percent = []\n",
    "    num = 0\n",
    "    for x in eigen_pair:\n",
    "        num += x[0]\n",
    "        eigen_value_accumulate.append(num)\n",
    "    for x in eigen_value_accumulate:\n",
    "        num = x/eigen_value_accumulate[-1]\n",
    "        eigen_value_accumulate_percent.append(num)\n",
    "    ans['New Coordinate'] = np.array(data_std.dot(np.array(eigen_vector_final)))\n",
    "    ans['eigen_value_accumulate_percent'] = eigen_value_accumulate_percent\n",
    "    return(ans)\n",
    "#New Coordinate 回傳新座標\n",
    "#eigen_value_accumulate_percent 回傳累積比率畫軸圖\n",
    "#new_base_pca 回傳鐔座標的各特徵"
   ]
  },
  {
   "cell_type": "code",
   "execution_count": 160,
   "metadata": {},
   "outputs": [
    {
     "data": {
      "image/png": "[encoded data removed]",
      "text/plain": [
       "<Figure size 432x288 with 1 Axes>"
      ]
     },
     "metadata": {
      "needs_background": "light"
     },
     "output_type": "display_data"
    }
   ],
   "source": [
    "#自行整理資料\n",
    "df = pd.read_csv('/Users/xuzhejia/Desktop/NBA/例行賽數據截至2012-13賽季.csv',index_col= 0)\n",
    "df.set_index('name',inplace=True)\n",
    "year = input('輸入年份')\n",
    "df = df[df['year'] == int(year)]    #設定資料年份\n",
    "df_pca = df.loc[:,['PTS','FG_precent','3PM_percent','FT_percent','REB','AST','STL','BLK','TOV','EFF']]  #選擇關心之欄位\n",
    "m = pca_def(n = 2,data = df_pca)\n",
    "df_pca = pd.DataFrame(m['new_base_pca']).T\n",
    "df_pca.columns = m['new_base_pca_column']\n",
    "\n",
    "plt.step(range(len(m['eigen_value_accumulate_percent'])),m['eigen_value_accumulate_percent'],where = 'mid')\n",
    "plt.show()\n",
    "\n",
    "#s為pca1 及 pca2的matrix\n",
    "s = m['New Coordinate']"
   ]
  },
  {
   "cell_type": "code",
   "execution_count": 161,
   "metadata": {},
   "outputs": [
    {
     "ename": "KeyError",
     "evalue": "2013",
     "output_type": "error",
     "traceback": [
      "\u001b[0;31m---------------------------------------------------------------------------\u001b[0m",
      "\u001b[0;31mKeyError\u001b[0m                                  Traceback (most recent call last)",
      "\u001b[0;32m/var/folders/_0/d81h2sdj5z1b6t7hh803swth0000gn/T/ipykernel_68715/3801768877.py\u001b[0m in \u001b[0;36m<module>\u001b[0;34m\u001b[0m\n\u001b[1;32m     22\u001b[0m \u001b[0myear_dict\u001b[0m \u001b[0;34m=\u001b[0m \u001b[0;34m{\u001b[0m\u001b[0;36m2021\u001b[0m \u001b[0;34m:\u001b[0m \u001b[0myear_team_2021\u001b[0m\u001b[0;34m,\u001b[0m\u001b[0;36m2020\u001b[0m \u001b[0;34m:\u001b[0m \u001b[0myear_team_2020\u001b[0m\u001b[0;34m,\u001b[0m\u001b[0;36m2019\u001b[0m \u001b[0;34m:\u001b[0m \u001b[0myear_team_2019\u001b[0m\u001b[0;34m,\u001b[0m\u001b[0;36m2016\u001b[0m \u001b[0;34m:\u001b[0m \u001b[0myear_team_2016\u001b[0m\u001b[0;34m,\u001b[0m\u001b[0;36m2018\u001b[0m \u001b[0;34m:\u001b[0m \u001b[0myear_team_2018\u001b[0m\u001b[0;34m,\u001b[0m\u001b[0;36m2017\u001b[0m \u001b[0;34m:\u001b[0m \u001b[0myear_team_2017\u001b[0m\u001b[0;34m}\u001b[0m\u001b[0;34m\u001b[0m\u001b[0;34m\u001b[0m\u001b[0m\n\u001b[1;32m     23\u001b[0m \u001b[0;32mfor\u001b[0m \u001b[0mx\u001b[0m \u001b[0;32min\u001b[0m \u001b[0mdf\u001b[0m\u001b[0;34m.\u001b[0m\u001b[0mindex\u001b[0m\u001b[0;34m:\u001b[0m\u001b[0;34m\u001b[0m\u001b[0;34m\u001b[0m\u001b[0m\n\u001b[0;32m---> 24\u001b[0;31m     \u001b[0;32mif\u001b[0m \u001b[0mx\u001b[0m \u001b[0;32min\u001b[0m \u001b[0myear_dict\u001b[0m\u001b[0;34m[\u001b[0m\u001b[0mint\u001b[0m\u001b[0;34m(\u001b[0m\u001b[0myear\u001b[0m\u001b[0;34m)\u001b[0m\u001b[0;34m]\u001b[0m\u001b[0;34m:\u001b[0m   \u001b[0;31m#年份要換\u001b[0m\u001b[0;34m\u001b[0m\u001b[0;34m\u001b[0m\u001b[0m\n\u001b[0m\u001b[1;32m     25\u001b[0m         \u001b[0myear_team_dummy\u001b[0m\u001b[0;34m.\u001b[0m\u001b[0mappend\u001b[0m\u001b[0;34m(\u001b[0m\u001b[0;36m1\u001b[0m\u001b[0;34m)\u001b[0m\u001b[0;34m\u001b[0m\u001b[0;34m\u001b[0m\u001b[0m\n\u001b[1;32m     26\u001b[0m     \u001b[0;32melse\u001b[0m\u001b[0;34m:\u001b[0m\u001b[0;34m\u001b[0m\u001b[0;34m\u001b[0m\u001b[0m\n",
      "\u001b[0;31mKeyError\u001b[0m: 2013"
     ]
    }
   ],
   "source": [
    "df['pca1'] = s[:,0]\n",
    "df['pca2'] = s[:,1]\n",
    "year_team_2021 = ['Nikola Jokic','Stephen Curry','Giannis Antetokounmpo','Kawhi Leonard','Luka Doncic',\n",
    "                  'Chris Paul','Damian Lillard','LeBron James','Julius Randle','Joel Embiid','Kyrie Irving',\n",
    "                 'Bradley Beal','Jimmy Butler','Paul George','Rudy Gobert']\n",
    "year_team_2020 = ['LeBrom James','Giannis Antetokounmpo','Anthony Davis','James Harden','Luka Doncic',\n",
    "                'Kawhi Leonard','Pascal Siakam','Nikola Jokic','Damian Lillard','Chris Paul','Jimmy Butler',\n",
    "                'Jayson Tatum','Rudy Gobert','Ben Simmons','Russell Westbrook']\n",
    "year_team_2019 = ['James Harden','Stephen Curry','Giannis Antetokounmpo','Chris Paul','Nikola Jokic','Damian Lillard',\n",
    "                'Kyrie Irving','Kevin Durant','Kawhi Leonard','Joel Embiid','Russell Westbrook','Kemba Walker',\n",
    "                'Blake Griffin','LeBrom James','Rudy Gobert']\n",
    "year_team_2018 = ['James Harden','Damian Lillard','LeBrom James','Kevin Durant','Anthony Davis','DeMar DeRozan',\n",
    "                'Russell Westbrook','Giannis Antetokounmpo','LaMarcus Aldridge','Joel Embiid','Stephen Curry',\n",
    "                'Victor Oladipo','Jimmy Butler','Chris Paul','Karl-Anthony Towns']\n",
    "year_team_2017 = ['James Harden','Russell Westbrook','LeBrom James','Kwawhi Leonard','Anthony Davis','Stephen Curry',\n",
    "                'Isaiah Thomas','Kevin Durant','Giannis Antetokounmpo','Rudy Gobert','Jimmy Butler','DeMar DeRozan',\n",
    "                'John Wall','Draymond Green','DeAndre Jordan']\n",
    "year_team_2016 = ['Stephen Curry','Kawhi Leonard','DeAndre Jordan','Russell Westbrook','LeBrom James','Chris Paul',\n",
    "                'Kevin Durant','DeMarcus Cousins','Damian Lillard','Draymond Green','Kyle Lowry','Paul George',\n",
    "                'Andre Drummond','Klay Thompson','LaMarcus Aldridge']\n",
    "year_team_dummy = []\n",
    "year_dict = {2021 : year_team_2021,2020 : year_team_2020,2019 : year_team_2019,2016 : year_team_2016,2018 : year_team_2018,2017 : year_team_2017}\n",
    "for x in df.index:\n",
    "    if x in year_dict[int(year)]:   #年份要換\n",
    "        year_team_dummy.append(1)\n",
    "    else:\n",
    "        year_team_dummy.append(0)\n",
    "df['year_team_dummy'] = year_team_dummy"
   ]
  },
  {
   "cell_type": "code",
   "execution_count": 162,
   "metadata": {},
   "outputs": [
    {
     "data": {
      "text/html": [
       "<div>\n",
       "<style scoped>\n",
       "    .dataframe tbody tr th:only-of-type {\n",
       "        vertical-align: middle;\n",
       "    }\n",
       "\n",
       "    .dataframe tbody tr th {\n",
       "        vertical-align: top;\n",
       "    }\n",
       "\n",
       "    .dataframe thead th {\n",
       "        text-align: right;\n",
       "    }\n",
       "</style>\n",
       "<table border=\"1\" class=\"dataframe\">\n",
       "  <thead>\n",
       "    <tr style=\"text-align: right;\">\n",
       "      <th></th>\n",
       "      <th>Game_Participate</th>\n",
       "      <th>MIN</th>\n",
       "      <th>PTS</th>\n",
       "      <th>FGM</th>\n",
       "      <th>FGA</th>\n",
       "      <th>FG_precent</th>\n",
       "      <th>3PM</th>\n",
       "      <th>3PA</th>\n",
       "      <th>3PM_percent</th>\n",
       "      <th>FTM</th>\n",
       "      <th>...</th>\n",
       "      <th>DREB</th>\n",
       "      <th>REB</th>\n",
       "      <th>AST</th>\n",
       "      <th>STL</th>\n",
       "      <th>BLK</th>\n",
       "      <th>TOV</th>\n",
       "      <th>EFF</th>\n",
       "      <th>year</th>\n",
       "      <th>pca1</th>\n",
       "      <th>pca2</th>\n",
       "    </tr>\n",
       "    <tr>\n",
       "      <th>name</th>\n",
       "      <th></th>\n",
       "      <th></th>\n",
       "      <th></th>\n",
       "      <th></th>\n",
       "      <th></th>\n",
       "      <th></th>\n",
       "      <th></th>\n",
       "      <th></th>\n",
       "      <th></th>\n",
       "      <th></th>\n",
       "      <th></th>\n",
       "      <th></th>\n",
       "      <th></th>\n",
       "      <th></th>\n",
       "      <th></th>\n",
       "      <th></th>\n",
       "      <th></th>\n",
       "      <th></th>\n",
       "      <th></th>\n",
       "      <th></th>\n",
       "      <th></th>\n",
       "    </tr>\n",
       "  </thead>\n",
       "  <tbody>\n",
       "    <tr>\n",
       "      <th>Carmelo Anthony</th>\n",
       "      <td>67</td>\n",
       "      <td>37.0</td>\n",
       "      <td>28.7</td>\n",
       "      <td>10.0</td>\n",
       "      <td>22.2</td>\n",
       "      <td>44.9</td>\n",
       "      <td>2.3</td>\n",
       "      <td>6.2</td>\n",
       "      <td>37.9</td>\n",
       "      <td>6.3</td>\n",
       "      <td>...</td>\n",
       "      <td>4.9</td>\n",
       "      <td>6.9</td>\n",
       "      <td>2.6</td>\n",
       "      <td>0.8</td>\n",
       "      <td>0.5</td>\n",
       "      <td>2.6</td>\n",
       "      <td>23.2</td>\n",
       "      <td>2013</td>\n",
       "      <td>2.212143</td>\n",
       "      <td>-0.211193</td>\n",
       "    </tr>\n",
       "    <tr>\n",
       "      <th>Kevin Durant</th>\n",
       "      <td>81</td>\n",
       "      <td>38.5</td>\n",
       "      <td>28.1</td>\n",
       "      <td>9.0</td>\n",
       "      <td>17.7</td>\n",
       "      <td>51.0</td>\n",
       "      <td>1.7</td>\n",
       "      <td>4.1</td>\n",
       "      <td>41.6</td>\n",
       "      <td>8.4</td>\n",
       "      <td>...</td>\n",
       "      <td>7.3</td>\n",
       "      <td>7.9</td>\n",
       "      <td>4.6</td>\n",
       "      <td>1.4</td>\n",
       "      <td>1.3</td>\n",
       "      <td>3.5</td>\n",
       "      <td>30.4</td>\n",
       "      <td>2013</td>\n",
       "      <td>4.662130</td>\n",
       "      <td>-0.008473</td>\n",
       "    </tr>\n",
       "    <tr>\n",
       "      <th>Kobe Bryant</th>\n",
       "      <td>78</td>\n",
       "      <td>38.6</td>\n",
       "      <td>27.3</td>\n",
       "      <td>9.5</td>\n",
       "      <td>20.4</td>\n",
       "      <td>46.3</td>\n",
       "      <td>1.7</td>\n",
       "      <td>5.2</td>\n",
       "      <td>32.4</td>\n",
       "      <td>6.7</td>\n",
       "      <td>...</td>\n",
       "      <td>4.7</td>\n",
       "      <td>5.6</td>\n",
       "      <td>6.0</td>\n",
       "      <td>1.4</td>\n",
       "      <td>0.3</td>\n",
       "      <td>3.7</td>\n",
       "      <td>24.6</td>\n",
       "      <td>2013</td>\n",
       "      <td>3.696922</td>\n",
       "      <td>0.670285</td>\n",
       "    </tr>\n",
       "    <tr>\n",
       "      <th>LeBron James</th>\n",
       "      <td>76</td>\n",
       "      <td>37.9</td>\n",
       "      <td>26.8</td>\n",
       "      <td>10.1</td>\n",
       "      <td>17.8</td>\n",
       "      <td>56.5</td>\n",
       "      <td>1.4</td>\n",
       "      <td>3.3</td>\n",
       "      <td>40.6</td>\n",
       "      <td>5.3</td>\n",
       "      <td>...</td>\n",
       "      <td>6.8</td>\n",
       "      <td>8.0</td>\n",
       "      <td>7.3</td>\n",
       "      <td>1.7</td>\n",
       "      <td>0.9</td>\n",
       "      <td>3.0</td>\n",
       "      <td>32.2</td>\n",
       "      <td>2013</td>\n",
       "      <td>4.659306</td>\n",
       "      <td>0.615103</td>\n",
       "    </tr>\n",
       "    <tr>\n",
       "      <th>James Harden</th>\n",
       "      <td>78</td>\n",
       "      <td>38.3</td>\n",
       "      <td>25.9</td>\n",
       "      <td>7.5</td>\n",
       "      <td>17.1</td>\n",
       "      <td>43.8</td>\n",
       "      <td>2.3</td>\n",
       "      <td>6.2</td>\n",
       "      <td>36.8</td>\n",
       "      <td>8.6</td>\n",
       "      <td>...</td>\n",
       "      <td>4.1</td>\n",
       "      <td>4.9</td>\n",
       "      <td>5.8</td>\n",
       "      <td>1.8</td>\n",
       "      <td>0.5</td>\n",
       "      <td>3.8</td>\n",
       "      <td>24.0</td>\n",
       "      <td>2013</td>\n",
       "      <td>4.106957</td>\n",
       "      <td>0.198715</td>\n",
       "    </tr>\n",
       "    <tr>\n",
       "      <th>...</th>\n",
       "      <td>...</td>\n",
       "      <td>...</td>\n",
       "      <td>...</td>\n",
       "      <td>...</td>\n",
       "      <td>...</td>\n",
       "      <td>...</td>\n",
       "      <td>...</td>\n",
       "      <td>...</td>\n",
       "      <td>...</td>\n",
       "      <td>...</td>\n",
       "      <td>...</td>\n",
       "      <td>...</td>\n",
       "      <td>...</td>\n",
       "      <td>...</td>\n",
       "      <td>...</td>\n",
       "      <td>...</td>\n",
       "      <td>...</td>\n",
       "      <td>...</td>\n",
       "      <td>...</td>\n",
       "      <td>...</td>\n",
       "      <td>...</td>\n",
       "    </tr>\n",
       "    <tr>\n",
       "      <th>Pablo Prigioni</th>\n",
       "      <td>78</td>\n",
       "      <td>16.2</td>\n",
       "      <td>3.5</td>\n",
       "      <td>1.3</td>\n",
       "      <td>2.8</td>\n",
       "      <td>45.5</td>\n",
       "      <td>0.7</td>\n",
       "      <td>1.7</td>\n",
       "      <td>39.6</td>\n",
       "      <td>0.3</td>\n",
       "      <td>...</td>\n",
       "      <td>1.3</td>\n",
       "      <td>1.8</td>\n",
       "      <td>3.0</td>\n",
       "      <td>0.9</td>\n",
       "      <td>0.0</td>\n",
       "      <td>1.1</td>\n",
       "      <td>6.6</td>\n",
       "      <td>2013</td>\n",
       "      <td>-0.786963</td>\n",
       "      <td>-0.433578</td>\n",
       "    </tr>\n",
       "    <tr>\n",
       "      <th>Dahntay Jones</th>\n",
       "      <td>78</td>\n",
       "      <td>13.0</td>\n",
       "      <td>3.4</td>\n",
       "      <td>1.1</td>\n",
       "      <td>2.8</td>\n",
       "      <td>36.9</td>\n",
       "      <td>0.1</td>\n",
       "      <td>0.6</td>\n",
       "      <td>22.4</td>\n",
       "      <td>1.1</td>\n",
       "      <td>...</td>\n",
       "      <td>1.0</td>\n",
       "      <td>1.3</td>\n",
       "      <td>0.6</td>\n",
       "      <td>0.3</td>\n",
       "      <td>0.1</td>\n",
       "      <td>0.5</td>\n",
       "      <td>3.0</td>\n",
       "      <td>2013</td>\n",
       "      <td>-2.832674</td>\n",
       "      <td>-0.965357</td>\n",
       "    </tr>\n",
       "    <tr>\n",
       "      <th>Draymond Green</th>\n",
       "      <td>79</td>\n",
       "      <td>13.4</td>\n",
       "      <td>2.9</td>\n",
       "      <td>1.1</td>\n",
       "      <td>3.3</td>\n",
       "      <td>32.7</td>\n",
       "      <td>0.2</td>\n",
       "      <td>0.8</td>\n",
       "      <td>20.9</td>\n",
       "      <td>0.6</td>\n",
       "      <td>...</td>\n",
       "      <td>2.6</td>\n",
       "      <td>3.3</td>\n",
       "      <td>0.7</td>\n",
       "      <td>0.5</td>\n",
       "      <td>0.3</td>\n",
       "      <td>0.6</td>\n",
       "      <td>4.7</td>\n",
       "      <td>2013</td>\n",
       "      <td>-2.298609</td>\n",
       "      <td>-1.151032</td>\n",
       "    </tr>\n",
       "    <tr>\n",
       "      <th>Chuck Hayes</th>\n",
       "      <td>74</td>\n",
       "      <td>16.3</td>\n",
       "      <td>2.7</td>\n",
       "      <td>1.1</td>\n",
       "      <td>2.6</td>\n",
       "      <td>44.2</td>\n",
       "      <td>0.0</td>\n",
       "      <td>0.0</td>\n",
       "      <td>0.0</td>\n",
       "      <td>0.4</td>\n",
       "      <td>...</td>\n",
       "      <td>2.5</td>\n",
       "      <td>4.0</td>\n",
       "      <td>1.5</td>\n",
       "      <td>0.4</td>\n",
       "      <td>0.2</td>\n",
       "      <td>0.6</td>\n",
       "      <td>6.6</td>\n",
       "      <td>2013</td>\n",
       "      <td>-2.830225</td>\n",
       "      <td>0.569262</td>\n",
       "    </tr>\n",
       "    <tr>\n",
       "      <th>Festus Ezeli</th>\n",
       "      <td>78</td>\n",
       "      <td>14.4</td>\n",
       "      <td>2.4</td>\n",
       "      <td>0.9</td>\n",
       "      <td>2.2</td>\n",
       "      <td>43.8</td>\n",
       "      <td>0.0</td>\n",
       "      <td>0.0</td>\n",
       "      <td>0.0</td>\n",
       "      <td>0.6</td>\n",
       "      <td>...</td>\n",
       "      <td>2.2</td>\n",
       "      <td>4.0</td>\n",
       "      <td>0.3</td>\n",
       "      <td>0.3</td>\n",
       "      <td>0.9</td>\n",
       "      <td>0.8</td>\n",
       "      <td>5.5</td>\n",
       "      <td>2013</td>\n",
       "      <td>-3.064807</td>\n",
       "      <td>0.438969</td>\n",
       "    </tr>\n",
       "  </tbody>\n",
       "</table>\n",
       "<p>183 rows × 23 columns</p>\n",
       "</div>"
      ],
      "text/plain": [
       "                 Game_Participate   MIN   PTS   FGM   FGA  FG_precent  3PM  \\\n",
       "name                                                                         \n",
       "Carmelo Anthony                67  37.0  28.7  10.0  22.2        44.9  2.3   \n",
       "Kevin Durant                   81  38.5  28.1   9.0  17.7        51.0  1.7   \n",
       "Kobe Bryant                    78  38.6  27.3   9.5  20.4        46.3  1.7   \n",
       "LeBron James                   76  37.9  26.8  10.1  17.8        56.5  1.4   \n",
       "James Harden                   78  38.3  25.9   7.5  17.1        43.8  2.3   \n",
       "...                           ...   ...   ...   ...   ...         ...  ...   \n",
       "Pablo Prigioni                 78  16.2   3.5   1.3   2.8        45.5  0.7   \n",
       "Dahntay Jones                  78  13.0   3.4   1.1   2.8        36.9  0.1   \n",
       "Draymond Green                 79  13.4   2.9   1.1   3.3        32.7  0.2   \n",
       "Chuck Hayes                    74  16.3   2.7   1.1   2.6        44.2  0.0   \n",
       "Festus Ezeli                   78  14.4   2.4   0.9   2.2        43.8  0.0   \n",
       "\n",
       "                 3PA  3PM_percent  FTM  ...  DREB  REB  AST  STL  BLK  TOV  \\\n",
       "name                                    ...                                  \n",
       "Carmelo Anthony  6.2         37.9  6.3  ...   4.9  6.9  2.6  0.8  0.5  2.6   \n",
       "Kevin Durant     4.1         41.6  8.4  ...   7.3  7.9  4.6  1.4  1.3  3.5   \n",
       "Kobe Bryant      5.2         32.4  6.7  ...   4.7  5.6  6.0  1.4  0.3  3.7   \n",
       "LeBron James     3.3         40.6  5.3  ...   6.8  8.0  7.3  1.7  0.9  3.0   \n",
       "James Harden     6.2         36.8  8.6  ...   4.1  4.9  5.8  1.8  0.5  3.8   \n",
       "...              ...          ...  ...  ...   ...  ...  ...  ...  ...  ...   \n",
       "Pablo Prigioni   1.7         39.6  0.3  ...   1.3  1.8  3.0  0.9  0.0  1.1   \n",
       "Dahntay Jones    0.6         22.4  1.1  ...   1.0  1.3  0.6  0.3  0.1  0.5   \n",
       "Draymond Green   0.8         20.9  0.6  ...   2.6  3.3  0.7  0.5  0.3  0.6   \n",
       "Chuck Hayes      0.0          0.0  0.4  ...   2.5  4.0  1.5  0.4  0.2  0.6   \n",
       "Festus Ezeli     0.0          0.0  0.6  ...   2.2  4.0  0.3  0.3  0.9  0.8   \n",
       "\n",
       "                  EFF  year      pca1      pca2  \n",
       "name                                             \n",
       "Carmelo Anthony  23.2  2013  2.212143 -0.211193  \n",
       "Kevin Durant     30.4  2013  4.662130 -0.008473  \n",
       "Kobe Bryant      24.6  2013  3.696922  0.670285  \n",
       "LeBron James     32.2  2013  4.659306  0.615103  \n",
       "James Harden     24.0  2013  4.106957  0.198715  \n",
       "...               ...   ...       ...       ...  \n",
       "Pablo Prigioni    6.6  2013 -0.786963 -0.433578  \n",
       "Dahntay Jones     3.0  2013 -2.832674 -0.965357  \n",
       "Draymond Green    4.7  2013 -2.298609 -1.151032  \n",
       "Chuck Hayes       6.6  2013 -2.830225  0.569262  \n",
       "Festus Ezeli      5.5  2013 -3.064807  0.438969  \n",
       "\n",
       "[183 rows x 23 columns]"
      ]
     },
     "execution_count": 162,
     "metadata": {},
     "output_type": "execute_result"
    }
   ],
   "source": [
    "df"
   ]
  },
  {
   "cell_type": "code",
   "execution_count": 163,
   "metadata": {},
   "outputs": [
    {
     "data": {
      "image/png": "[encoded data removed]",
      "text/plain": [
       "<Figure size 1440x720 with 1 Axes>"
      ]
     },
     "metadata": {
      "needs_background": "light"
     },
     "output_type": "display_data"
    }
   ],
   "source": [
    "plt.figure(figsize=(20,10))\n",
    "plt.title(year)\n",
    "for x in range(len(df.index)):\n",
    "    try:\n",
    "        if df['year_team_dummy'][x] == 0:\n",
    "            plt.scatter(df['pca1'][x],df['pca2'][x],color = 'pink')\n",
    "        else:\n",
    "            plt.scatter(df['pca1'][x],df['pca2'][x],color = 'skyblue')\n",
    "            plt.text(df['pca1'][x],df['pca2'][x],s = df.index[x])\n",
    "    except:\n",
    "        plt.scatter(df['pca1'][x],df['pca2'][x],color = 'red')\n",
    "for x in range(len(df_pca.columns)):\n",
    "    plt.arrow(0,0,df_pca.iloc[0,x]*8,df_pca.iloc[1,x]*8)\n",
    "    plt.text(df_pca.iloc[0,x]*8,df_pca.iloc[1,x]*8,s = df_pca.columns[x])\n",
    "plt.grid()\n",
    "\n",
    "\n",
    "#16年可發現戰機重要性"
   ]
  },
  {
   "cell_type": "code",
   "execution_count": 159,
   "metadata": {},
   "outputs": [
    {
     "data": {
      "text/plain": [
       "name\n",
       "Stephen Curry        90.8\n",
       "Kevin Durant         89.8\n",
       "DeMarcus Cousins     71.8\n",
       "Damian Lillard       89.2\n",
       "Russell Westbrook    81.2\n",
       "Paul George          86.0\n",
       "Klay Thompson        87.3\n",
       "Kyle Lowry           81.1\n",
       "Kawhi Leonard        87.4\n",
       "Chris Paul           89.6\n",
       "LaMarcus Aldridge    85.8\n",
       "Andre Drummond       35.5\n",
       "Draymond Green       69.6\n",
       "DeAndre Jordan       43.0\n",
       "Name: FT_percent, dtype: float64"
      ]
     },
     "execution_count": 159,
     "metadata": {},
     "output_type": "execute_result"
    }
   ],
   "source": [
    "df[df['year_team_dummy'] == 1]['FT_percent']"
   ]
  },
  {
   "cell_type": "code",
   "execution_count": 302,
   "metadata": {},
   "outputs": [
    {
     "name": "stdout",
     "output_type": "stream",
     "text": [
      "[(4.05071208650164, array([ 0.34015541, -0.06810686,  0.34199934,  0.07986391,  0.0358114 ,\n",
      "        0.04726945, -0.11951224,  0.71604038,  0.29137619,  0.28135165,\n",
      "       -0.24686902, -0.02823037])), (1.6907783638148235, array([ 0.43392453, -0.12841022, -0.13725351,  0.00116005,  0.69870424,\n",
      "        0.08464477,  0.51299283, -0.04716989, -0.04638647, -0.10856546,\n",
      "       -0.00717263,  0.04064286])), (1.2460546930292553, array([ 0.23849455,  0.37500705,  0.22779343,  0.27608657,  0.04575923,\n",
      "        0.021004  , -0.10909739,  0.05902251, -0.19630147,  0.11788018,\n",
      "        0.74032144,  0.23653672])), (1.0898997846342584, array([ 0.11327227, -0.43998798,  0.41022145,  0.0134224 , -0.11943844,\n",
      "       -0.04750435, -0.06726399, -0.10770517, -0.33628109, -0.2322067 ,\n",
      "       -0.18909095,  0.62426822])), (0.17580391157879036, array([ 0.2117214 , -0.26636214,  0.24708056,  0.4577712 , -0.09423993,\n",
      "        0.01366122, -0.03087127, -0.26338456, -0.34914598,  0.14861192,\n",
      "       -0.07627851, -0.62001847])), (0.26508254862777314, array([ 0.37999611,  0.31120201, -0.18739423,  0.13218916, -0.57768597,\n",
      "        0.38266538,  0.39504421, -0.03979268, -0.00931733, -0.08173845,\n",
      "       -0.21469467,  0.12452566])), (0.33209847365935935, array([ 0.34565915, -0.33505378, -0.22980821, -0.16407747, -0.3523357 ,\n",
      "       -0.59871606,  0.14314068,  0.14479111,  0.10754046, -0.16728451,\n",
      "        0.3322486 , -0.12054963])), (0.39573750521824297, array([ 0.36906405, -0.17668179, -0.21147093, -0.07367692,  0.05487601,\n",
      "        0.42129441, -0.61817793, -0.13021876,  0.22613032, -0.36529761,\n",
      "        0.11018406, -0.07815371])), (0.819871216704269, array([ 0.29186543,  0.46436623, -0.09075982,  0.19835102,  0.14381386,\n",
      "       -0.54970705, -0.30691422, -0.21637456,  0.02172341, -0.06722413,\n",
      "       -0.41405229,  0.10626972])), (0.7646652179325462, array([ 2.32849040e-01,  4.26687279e-02,  4.17585024e-01, -4.63915505e-01,\n",
      "       -5.96163850e-02, -3.90272075e-05,  7.34957034e-02, -5.18549967e-01,\n",
      "        3.72681433e-01,  3.67247556e-01,  4.95837315e-02, -1.71840043e-02])), (0.5512121706682063, array([ 0.19473325, -0.04377796, -0.38115119, -0.39194383, -0.00340559,\n",
      "        0.05602037, -0.21565132,  0.07801117, -0.54875484,  0.54246731,\n",
      "       -0.07111264,  0.07117225])), (0.6412500507968641, array([-0.06369368, -0.33764843, -0.34991206,  0.4996575 , -0.01297173,\n",
      "       -0.00419288, -0.01946481, -0.19825004,  0.36897716,  0.46624601,\n",
      "        0.04214615,  0.33862514]))]\n"
     ]
    }
   ],
   "source": [
    "#恩加給的資料\n",
    "年份 = input('year')\n",
    "file_name = '/Users/xuzhejia/Desktop/NBA/資料/' + 年份 + '完整資料.csv'\n",
    "df = pd.read_csv(file_name)\n",
    "df.index = df['Player']\n",
    "df = df.iloc[:,1:]\n",
    "df_pca = df.loc[:,['W','PTS','FG%','3P%','FT%','REB','AST','STL','BLK','+/-','累積前三隊','DIFF_percent']]\n",
    "m = pca_def(n = 2, data = df_pca)\n",
    "df['pca1'] = m['New Coordinate'][:,0]\n",
    "df['pca2'] = m['New Coordinate'][:,1]\n",
    "q = pd.DataFrame(m['new_base_pca']).T\n",
    "#q.columns = m['new_base_pca_column']\n",
    "q.columns = m['new_base_pca_column']\n"
   ]
  },
  {
   "cell_type": "code",
   "execution_count": 303,
   "metadata": {},
   "outputs": [
    {
     "name": "stdout",
     "output_type": "stream",
     "text": [
      "[[ 0.34015541 -0.06810686]\n",
      " [ 0.43392453 -0.12841022]\n",
      " [ 0.23849455  0.37500705]\n",
      " [ 0.11327227 -0.43998798]\n",
      " [ 0.29186543  0.46436623]\n",
      " [ 0.23284904  0.04266873]\n",
      " [-0.06369368 -0.33764843]\n",
      " [ 0.19473325 -0.04377796]\n",
      " [ 0.36906405 -0.17668179]\n",
      " [ 0.34565915 -0.33505378]\n",
      " [ 0.37999611  0.31120201]\n",
      " [ 0.2117214  -0.26636214]]\n"
     ]
    },
    {
     "data": {
      "image/png": "[encoded data removed]",
      "text/plain": [
       "<Figure size 432x288 with 1 Axes>"
      ]
     },
     "metadata": {
      "needs_background": "light"
     },
     "output_type": "display_data"
    }
   ],
   "source": [
    "plt.scatter(df['pca1'],df['pca2'])\n",
    "for x in range(len(m['new_base_pca'])):\n",
    "    plt.arrow(0,0,m['new_base_pca'][x][0]*8,m['new_base_pca'][x][1]*8)\n",
    "print(m['new_base_pca'])"
   ]
  },
  {
   "cell_type": "code",
   "execution_count": 304,
   "metadata": {},
   "outputs": [
    {
     "data": {
      "text/html": [
       "<div>\n",
       "<style scoped>\n",
       "    .dataframe tbody tr th:only-of-type {\n",
       "        vertical-align: middle;\n",
       "    }\n",
       "\n",
       "    .dataframe tbody tr th {\n",
       "        vertical-align: top;\n",
       "    }\n",
       "\n",
       "    .dataframe thead th {\n",
       "        text-align: right;\n",
       "    }\n",
       "</style>\n",
       "<table border=\"1\" class=\"dataframe\">\n",
       "  <thead>\n",
       "    <tr style=\"text-align: right;\">\n",
       "      <th></th>\n",
       "      <th>W</th>\n",
       "      <th>PTS</th>\n",
       "      <th>FG%</th>\n",
       "      <th>3P%</th>\n",
       "      <th>BLK</th>\n",
       "      <th>+/-</th>\n",
       "      <th>DIFF_percent</th>\n",
       "      <th>累積前三隊</th>\n",
       "      <th>STL</th>\n",
       "      <th>AST</th>\n",
       "      <th>REB</th>\n",
       "      <th>FT%</th>\n",
       "    </tr>\n",
       "  </thead>\n",
       "  <tbody>\n",
       "    <tr>\n",
       "      <th>0</th>\n",
       "      <td>0.340155</td>\n",
       "      <td>0.433925</td>\n",
       "      <td>0.238495</td>\n",
       "      <td>0.113272</td>\n",
       "      <td>0.291865</td>\n",
       "      <td>0.232849</td>\n",
       "      <td>-0.063694</td>\n",
       "      <td>0.194733</td>\n",
       "      <td>0.369064</td>\n",
       "      <td>0.345659</td>\n",
       "      <td>0.379996</td>\n",
       "      <td>0.211721</td>\n",
       "    </tr>\n",
       "    <tr>\n",
       "      <th>1</th>\n",
       "      <td>-0.068107</td>\n",
       "      <td>-0.128410</td>\n",
       "      <td>0.375007</td>\n",
       "      <td>-0.439988</td>\n",
       "      <td>0.464366</td>\n",
       "      <td>0.042669</td>\n",
       "      <td>-0.337648</td>\n",
       "      <td>-0.043778</td>\n",
       "      <td>-0.176682</td>\n",
       "      <td>-0.335054</td>\n",
       "      <td>0.311202</td>\n",
       "      <td>-0.266362</td>\n",
       "    </tr>\n",
       "  </tbody>\n",
       "</table>\n",
       "</div>"
      ],
      "text/plain": [
       "          W       PTS       FG%       3P%       BLK       +/-  DIFF_percent  \\\n",
       "0  0.340155  0.433925  0.238495  0.113272  0.291865  0.232849     -0.063694   \n",
       "1 -0.068107 -0.128410  0.375007 -0.439988  0.464366  0.042669     -0.337648   \n",
       "\n",
       "      累積前三隊       STL       AST       REB       FT%  \n",
       "0  0.194733  0.369064  0.345659  0.379996  0.211721  \n",
       "1 -0.043778 -0.176682 -0.335054  0.311202 -0.266362  "
      ]
     },
     "execution_count": 304,
     "metadata": {},
     "output_type": "execute_result"
    }
   ],
   "source": [
    "qq = pd.DataFrame(m['new_base_pca'].T)\n",
    "qq.columns = m['new_base_pca_column']\n",
    "qq"
   ]
  },
  {
   "cell_type": "code",
   "execution_count": 309,
   "metadata": {},
   "outputs": [
    {
     "data": {
      "text/html": [
       "<div>\n",
       "<style scoped>\n",
       "    .dataframe tbody tr th:only-of-type {\n",
       "        vertical-align: middle;\n",
       "    }\n",
       "\n",
       "    .dataframe tbody tr th {\n",
       "        vertical-align: top;\n",
       "    }\n",
       "\n",
       "    .dataframe thead th {\n",
       "        text-align: right;\n",
       "    }\n",
       "</style>\n",
       "<table border=\"1\" class=\"dataframe\">\n",
       "  <thead>\n",
       "    <tr style=\"text-align: right;\">\n",
       "      <th></th>\n",
       "      <th>Player</th>\n",
       "      <th>Team</th>\n",
       "      <th>AGE</th>\n",
       "      <th>GP_x</th>\n",
       "      <th>W</th>\n",
       "      <th>L</th>\n",
       "      <th>MIN</th>\n",
       "      <th>PTS</th>\n",
       "      <th>FGA</th>\n",
       "      <th>FG%</th>\n",
       "      <th>...</th>\n",
       "      <th>Year</th>\n",
       "      <th>累積前三隊</th>\n",
       "      <th>當年有無入選</th>\n",
       "      <th>勝率</th>\n",
       "      <th>position</th>\n",
       "      <th>DFG_percent</th>\n",
       "      <th>DIFF_percent</th>\n",
       "      <th>year</th>\n",
       "      <th>pca1</th>\n",
       "      <th>pca2</th>\n",
       "    </tr>\n",
       "    <tr>\n",
       "      <th>Player</th>\n",
       "      <th></th>\n",
       "      <th></th>\n",
       "      <th></th>\n",
       "      <th></th>\n",
       "      <th></th>\n",
       "      <th></th>\n",
       "      <th></th>\n",
       "      <th></th>\n",
       "      <th></th>\n",
       "      <th></th>\n",
       "      <th></th>\n",
       "      <th></th>\n",
       "      <th></th>\n",
       "      <th></th>\n",
       "      <th></th>\n",
       "      <th></th>\n",
       "      <th></th>\n",
       "      <th></th>\n",
       "      <th></th>\n",
       "      <th></th>\n",
       "      <th></th>\n",
       "    </tr>\n",
       "  </thead>\n",
       "  <tbody>\n",
       "    <tr>\n",
       "      <th>Rudy Gobert</th>\n",
       "      <td>Rudy Gobert</td>\n",
       "      <td>UTA</td>\n",
       "      <td>27</td>\n",
       "      <td>81</td>\n",
       "      <td>50</td>\n",
       "      <td>31</td>\n",
       "      <td>31.8</td>\n",
       "      <td>15.9</td>\n",
       "      <td>8.8</td>\n",
       "      <td>66.9</td>\n",
       "      <td>...</td>\n",
       "      <td>2019</td>\n",
       "      <td>1</td>\n",
       "      <td>True</td>\n",
       "      <td>0.62</td>\n",
       "      <td>C</td>\n",
       "      <td>50.7</td>\n",
       "      <td>-7.4</td>\n",
       "      <td>2019</td>\n",
       "      <td>4.537722</td>\n",
       "      <td>0.495233</td>\n",
       "    </tr>\n",
       "  </tbody>\n",
       "</table>\n",
       "<p>1 rows × 36 columns</p>\n",
       "</div>"
      ],
      "text/plain": [
       "                  Player Team  AGE  GP_x   W   L   MIN   PTS  FGA   FG%  ...  \\\n",
       "Player                                                                   ...   \n",
       "Rudy Gobert  Rudy Gobert  UTA   27    81  50  31  31.8  15.9  8.8  66.9  ...   \n",
       "\n",
       "             Year  累積前三隊  當年有無入選    勝率  position  DFG_percent  DIFF_percent  \\\n",
       "Player                                                                        \n",
       "Rudy Gobert  2019      1    True  0.62         C         50.7          -7.4   \n",
       "\n",
       "             year      pca1      pca2  \n",
       "Player                                 \n",
       "Rudy Gobert  2019  4.537722  0.495233  \n",
       "\n",
       "[1 rows x 36 columns]"
      ]
     },
     "execution_count": 309,
     "metadata": {},
     "output_type": "execute_result"
    }
   ],
   "source": [
    "df[df.index == 'Rudy Gobert']"
   ]
  },
  {
   "cell_type": "code",
   "execution_count": 296,
   "metadata": {},
   "outputs": [],
   "source": [
    "from sklearn.decomposition import PCA\n",
    "\n",
    "# 我們只要最大的兩個主成分。scikit-learn 會自動幫我們\n",
    "# 依照 eigenvalue 的大小排序共變異數矩陣的 eigenvectors\n",
    "\n",
    "n_components = 2\n",
    "random_state = 9527\n",
    "\n",
    "pca = PCA(n_components=n_components, \n",
    "          random_state=random_state)\n",
    "sc = StandardScaler()\n",
    "df_pca = sc.fit_transform(df_pca)\n",
    "# 注意我們是對正規化後的特徵 Z 做 PCA\n",
    "L = pca.fit_transform(df_pca)  # (n_samples, n_components)"
   ]
  },
  {
   "cell_type": "code",
   "execution_count": 289,
   "metadata": {},
   "outputs": [
    {
     "data": {
      "text/plain": [
       "array([[ 0.34441877,  0.42955886,  0.18683293,  0.17040971,  0.2549362 ,\n",
       "         0.36602647,  0.34228209,  0.36431254,  0.30173879,  0.2197068 ,\n",
       "         0.21152541],\n",
       "       [ 0.0411891 , -0.11913225,  0.33149232, -0.46214383, -0.32318363,\n",
       "         0.38203836, -0.33970425, -0.20929203,  0.47720035,  0.13425004,\n",
       "         0.07280485]])"
      ]
     },
     "execution_count": 289,
     "metadata": {},
     "output_type": "execute_result"
    }
   ],
   "source": [
    "pca.components_ #每有按照eigen value 排咧"
   ]
  },
  {
   "cell_type": "code",
   "execution_count": 313,
   "metadata": {},
   "outputs": [
    {
     "name": "stdout",
     "output_type": "stream",
     "text": [
      "[[ 0.34015541 -0.06810686]\n",
      " [ 0.43392453 -0.12841022]\n",
      " [ 0.23849455  0.37500705]\n",
      " [ 0.11327227 -0.43998798]\n",
      " [ 0.29186543  0.46436623]\n",
      " [ 0.23284904  0.04266873]\n",
      " [-0.06369368 -0.33764843]\n",
      " [ 0.19473325 -0.04377796]\n",
      " [ 0.36906405 -0.17668179]\n",
      " [ 0.34565915 -0.33505378]\n",
      " [ 0.37999611  0.31120201]\n",
      " [ 0.2117214  -0.26636214]]\n"
     ]
    },
    {
     "data": {
      "image/png": "[encoded data removed]",
      "text/plain": [
       "<Figure size 432x288 with 1 Axes>"
      ]
     },
     "metadata": {
      "needs_background": "light"
     },
     "output_type": "display_data"
    }
   ],
   "source": [
    "#plt.figure(figsize=(20,10))\n",
    "plt.title(year)\n",
    "for x in range(len(df.index)):\n",
    "    try:\n",
    "        if df['當年有無入選'][x] == False:\n",
    "            plt.scatter(df['pca1'][x],df['pca2'][x],color = 'pink')\n",
    "        else:\n",
    "            plt.scatter(df['pca1'][x],df['pca2'][x],color = 'skyblue')\n",
    "            plt.text(df['pca1'][x],df['pca2'][x],s = df.index[x])\n",
    "    except:\n",
    "        plt.scatter(df['pca1'][x],df['pca2'][x],color = 'red')\n",
    "for x in range(len(m['new_base_pca'])):\n",
    "    plt.arrow(0,0,m['new_base_pca'][x][0]*8,m['new_base_pca'][x][1]*8)\n",
    "    plt.text(m['new_base_pca'][x][0]*8,m['new_base_pca'][x][1]*8,s = df_pca.columns[x])\n",
    "print(m['new_base_pca'])"
   ]
  },
  {
   "cell_type": "markdown",
   "metadata": {},
   "source": [
    "#晚整加入訪收資料並分位置"
   ]
  },
  {
   "cell_type": "code",
   "execution_count": 580,
   "metadata": {},
   "outputs": [
    {
     "name": "stdout",
     "output_type": "stream",
     "text": [
      "[[ 2.60726301  3.50090265  1.50435863 ...  4.05191882  1.79213007\n",
      "  -0.24128352]\n",
      " [ 0.78570567  3.31580671  0.46251782 ...  0.59084423  2.80323049\n",
      "  -0.08689905]\n",
      " [ 0.72498709  2.6595575   0.14195141 ...  0.53012362  0.78102966\n",
      "  -0.25231098]\n",
      " ...\n",
      " [-0.79297736 -1.41255301 -2.35846655 ...  0.04435877 -0.23007075\n",
      "  -3.38411032]\n",
      " [-1.40016314 -1.46303372 -2.56683471 ... -1.13969307 -0.23007075\n",
      "   2.83537851]\n",
      " [-1.70375603 -1.56399513 -6.57391477 ... -2.90059067 -0.23007075\n",
      "  -0.70443694]]\n"
     ]
    }
   ],
   "source": [
    "年份 = input('year')\n",
    "location = input('位置')\n",
    "file_name = '/Users/xuzhejia/Desktop/NBA/資料/' + 年份 + '完整資料.csv'\n",
    "df = pd.read_csv(file_name)\n",
    "df = df[df['position'] == location.upper()]\n",
    "df.index = df['Player']\n",
    "df = df.iloc[:,1:]\n",
    "df_pca = df.loc[:,['W','PTS','FG%','3P%','FT%','REB','AST','STL','BLK','+/-','累積前三隊','DIFF_percent']]\n",
    "m = pca_def(n = 2, data = df_pca)\n",
    "df['pca1'] = m['New Coordinate'][:,0]\n",
    "df['pca2'] = m['New Coordinate'][:,1]\n",
    "q = pd.DataFrame(m['new_base_pca']).T\n",
    "#q.columns = m['new_base_pca_column']\n",
    "q.columns = m['new_base_pca_column']"
   ]
  },
  {
   "cell_type": "code",
   "execution_count": 581,
   "metadata": {},
   "outputs": [
    {
     "name": "stdout",
     "output_type": "stream",
     "text": [
      "[[-0.31401605 -0.3011639 ]\n",
      " [-0.39216537  0.11559379]\n",
      " [-0.27044472 -0.27555964]\n",
      " [-0.20296552 -0.40577076]\n",
      " [-0.28527183  0.17116535]\n",
      " [ 0.130863    0.29063835]\n",
      " [-0.21636428  0.15716904]\n",
      " [-0.27315278 -0.34038595]\n",
      " [-0.34842675  0.330231  ]\n",
      " [-0.33051524  0.33481682]\n",
      " [-0.38459947  0.24287272]\n",
      " [-0.18648197 -0.34767867]]\n"
     ]
    },
    {
     "name": "stderr",
     "output_type": "stream",
     "text": [
      "/Users/xuzhejia/opt/anaconda3/lib/python3.9/site-packages/matplotlib/backends/backend_agg.py:240: RuntimeWarning:\n",
      "\n",
      "Glyph 32047 missing from current font.\n",
      "\n",
      "/Users/xuzhejia/opt/anaconda3/lib/python3.9/site-packages/matplotlib/backends/backend_agg.py:240: RuntimeWarning:\n",
      "\n",
      "Glyph 31309 missing from current font.\n",
      "\n",
      "/Users/xuzhejia/opt/anaconda3/lib/python3.9/site-packages/matplotlib/backends/backend_agg.py:240: RuntimeWarning:\n",
      "\n",
      "Glyph 21069 missing from current font.\n",
      "\n",
      "/Users/xuzhejia/opt/anaconda3/lib/python3.9/site-packages/matplotlib/backends/backend_agg.py:240: RuntimeWarning:\n",
      "\n",
      "Glyph 19977 missing from current font.\n",
      "\n",
      "/Users/xuzhejia/opt/anaconda3/lib/python3.9/site-packages/matplotlib/backends/backend_agg.py:240: RuntimeWarning:\n",
      "\n",
      "Glyph 38538 missing from current font.\n",
      "\n",
      "/Users/xuzhejia/opt/anaconda3/lib/python3.9/site-packages/matplotlib/backends/backend_agg.py:203: RuntimeWarning:\n",
      "\n",
      "Glyph 32047 missing from current font.\n",
      "\n",
      "/Users/xuzhejia/opt/anaconda3/lib/python3.9/site-packages/matplotlib/backends/backend_agg.py:203: RuntimeWarning:\n",
      "\n",
      "Glyph 31309 missing from current font.\n",
      "\n",
      "/Users/xuzhejia/opt/anaconda3/lib/python3.9/site-packages/matplotlib/backends/backend_agg.py:203: RuntimeWarning:\n",
      "\n",
      "Glyph 21069 missing from current font.\n",
      "\n",
      "/Users/xuzhejia/opt/anaconda3/lib/python3.9/site-packages/matplotlib/backends/backend_agg.py:203: RuntimeWarning:\n",
      "\n",
      "Glyph 19977 missing from current font.\n",
      "\n",
      "/Users/xuzhejia/opt/anaconda3/lib/python3.9/site-packages/matplotlib/backends/backend_agg.py:203: RuntimeWarning:\n",
      "\n",
      "Glyph 38538 missing from current font.\n",
      "\n"
     ]
    },
    {
     "data": {
      "image/png": "[encoded data removed]",
      "text/plain": [
       "<Figure size 432x288 with 1 Axes>"
      ]
     },
     "metadata": {
      "needs_background": "light"
     },
     "output_type": "display_data"
    }
   ],
   "source": [
    "plt.title(年份+location)\n",
    "for x in range(len(df.index)):\n",
    "    try:\n",
    "        if df['當年有無入選'][x] == False:\n",
    "            plt.scatter(df['pca1'][x],df['pca2'][x],color = 'pink')\n",
    "        else:\n",
    "            plt.scatter(df['pca1'][x],df['pca2'][x],color = 'skyblue',s = 80)\n",
    "            plt.text(df['pca1'][x],df['pca2'][x],s = df.index[x])\n",
    "    except:\n",
    "        plt.scatter(df['pca1'][x],df['pca2'][x],color = 'red')\n",
    "for x in range(len(m['new_base_pca'])):\n",
    "    plt.arrow(0,0,m['new_base_pca'][x][0]*8,m['new_base_pca'][x][1]*8)\n",
    "    plt.text(m['new_base_pca'][x][0]*8,m['new_base_pca'][x][1]*8,s = df_pca.columns[x])\n",
    "print(m['new_base_pca'])"
   ]
  },
  {
   "cell_type": "code",
   "execution_count": 582,
   "metadata": {},
   "outputs": [
    {
     "data": {
      "application/vnd.plotly.v1+json": {
       "config": {
        "plotlyServerURL": "https://plot.ly"
       },
       "data": [
        {
         "customdata": [
          [
           34.2,
           30.1,
           6.7,
           5.4,
           45.4,
           3.9
          ],
          [
           35.7,
           25.1,
           6.8,
           4,
           37.5,
           3.8
          ],
          [
           34.4,
           23.5,
           10.4,
           7.8,
           29.6,
           5.4
          ],
          [
           33.3,
           22.1,
           2.1,
           3.8,
           42.5,
           1.5
          ],
          [
           37,
           21.2,
           6.4,
           4.7,
           38.8,
           6.7
          ],
          [
           32.7,
           19.5,
           10,
           4.2,
           37.1,
           8.5
          ]
         ],
         "hovertemplate": "<b>%{hovertext}</b><br><br>當年有無入選=True<br>pca1=%{x}<br>pca2=%{y}<br>勝率=%{marker.size}<br>MIN=%{customdata[0]}<br>PTS=%{customdata[1]}<br>AST=%{customdata[2]}<br>REB=%{customdata[3]}<br>3P%=%{customdata[4]}<br>DIFF_percent=%{customdata[5]}<extra></extra>",
         "hovertext": [
          "Stephen Curry",
          "Damian Lillard",
          "Russell Westbrook",
          "Klay Thompson",
          "Kyle Lowry",
          "Chris Paul"
         ],
         "legendgroup": "True",
         "marker": {
          "color": "#636efa",
          "size": [
           0.9,
           0.53,
           0.69,
           0.89,
           0.7,
           0.68
          ],
          "sizemode": "area",
          "sizeref": 0.0025,
          "symbol": "circle"
         },
         "mode": "markers",
         "name": "True",
         "orientation": "v",
         "showlegend": true,
         "type": "scatter",
         "x": [
          -6.001558239763148,
          -2.8061157434979487,
          -5.072490872251627,
          -4.266252517113444,
          -3.3402702861770317,
          -6.463343409745191
         ],
         "xaxis": "x",
         "y": [
          0.6837560548654751,
          1.3941974999245341,
          2.679953996586091,
          1.3885458577851941,
          0.13363740664403911,
          1.8744485324952778
         ],
         "yaxis": "y"
        },
        {
         "customdata": [
          [
           38.1,
           29,
           7.5,
           6.1,
           35.9,
           5.3
          ],
          [
           35.9,
           23.5,
           4,
           4.5,
           33.8,
           3.3
          ],
          [
           32.2,
           22.2,
           6.2,
           3,
           35.9,
           7.8
          ],
          [
           35.6,
           20.9,
           5.2,
           4.4,
           37.1,
           6.4
          ],
          [
           34.7,
           20.8,
           4.3,
           3.2,
           41.7,
           3.3
          ],
          [
           34.2,
           20.4,
           6.1,
           4,
           37.2,
           1.9
          ],
          [
           36.2,
           19.9,
           10.2,
           4.9,
           35.1,
           2.6
          ],
          [
           31.5,
           19.6,
           4.7,
           3,
           32.1,
           4.2
          ],
          [
           36,
           19.6,
           5.1,
           3.9,
           34.2,
           9.1
          ],
          [
           30.5,
           19,
           4.6,
           4.1,
           15.9,
           0.9
          ],
          [
           30.7,
           18.8,
           6.2,
           3.2,
           35.3,
           9.5
          ],
          [
           31.1,
           17.4,
           2.9,
           3.4,
           38.7,
           7.6
          ],
          [
           28.2,
           16.8,
           6,
           3,
           33.6,
           11.9
          ],
          [
           31.8,
           16.4,
           4.7,
           3.4,
           29.3,
           6.4
          ],
          [
           28,
           16.3,
           1.4,
           1.9,
           47.5,
           0.3
          ],
          [
           33,
           16,
           3.9,
           4.8,
           34.8,
           0.1
          ],
          [
           28.5,
           15.7,
           5.9,
           2.7,
           40.1,
           0.6
          ],
          [
           32.3,
           15.5,
           2.4,
           4,
           34.7,
           10.1
          ],
          [
           28.5,
           15.3,
           2.5,
           2.5,
           34.4,
           7.4
          ],
          [
           31.4,
           15.3,
           6.1,
           2.9,
           36.3,
           4.5
          ],
          [
           32.9,
           15.2,
           2.7,
           2.2,
           38.4,
           8.1
          ],
          [
           33.4,
           15.2,
           2.1,
           2.9,
           36.1,
           3.1
          ],
          [
           32.2,
           14.5,
           2.7,
           3.4,
           35.9,
           4.3
          ],
          [
           36.7,
           14.5,
           1.8,
           3.7,
           30.9,
           -2.4
          ],
          [
           26.9,
           14.2,
           2.3,
           1.8,
           34,
           4.1
          ],
          [
           32.8,
           14.1,
           5.8,
           3.8,
           31.2,
           0.7
          ],
          [
           32.4,
           14.1,
           5.8,
           2.9,
           34.4,
           10
          ],
          [
           28,
           14,
           3.1,
           2.8,
           38.9,
           10.4
          ],
          [
           30,
           14,
           4.3,
           2.3,
           40.1,
           9.4
          ],
          [
           33.8,
           13.8,
           4.7,
           3.3,
           30.9,
           5.3
          ],
          [
           27.7,
           13.8,
           2.6,
           2.5,
           34.3,
           4.9
          ],
          [
           25.7,
           13.3,
           2,
           3.5,
           40.5,
           10
          ],
          [
           28.2,
           13.2,
           3.3,
           3.4,
           35.1,
           11.5
          ],
          [
           32.1,
           12.8,
           7.4,
           4.3,
           30.4,
           5.8
          ],
          [
           30.4,
           12.8,
           5.5,
           3.4,
           31.9,
           7
          ],
          [
           33.4,
           12.8,
           2,
           3.7,
           38.2,
           7.2
          ],
          [
           29.1,
           12.6,
           6.5,
           4,
           32.9,
           7.3
          ],
          [
           32.1,
           12.3,
           1.9,
           2.9,
           35.4,
           4.4
          ],
          [
           34.1,
           12.1,
           3.5,
           4,
           40.8,
           3.2
          ],
          [
           35.2,
           11.9,
           11.7,
           6,
           36.5,
           10.4
          ],
          [
           27.5,
           11.9,
           5.3,
           2.4,
           41.5,
           5.1
          ],
          [
           26.3,
           11.7,
           3,
           3.2,
           33.6,
           -4.3
          ],
          [
           30.5,
           11.5,
           5.2,
           5.1,
           27.3,
           2.8
          ],
          [
           19.9,
           11.1,
           0.9,
           1.8,
           34.2,
           18.2
          ],
          [
           20.3,
           11,
           4.4,
           2.6,
           32.2,
           -0.8
          ],
          [
           25.5,
           11,
           1.8,
           2.3,
           36.3,
           6.3
          ],
          [
           22.5,
           10.9,
           4.1,
           2.1,
           38.5,
           12
          ],
          [
           29.4,
           10.7,
           6.4,
           3.6,
           32.6,
           7.9
          ],
          [
           21.3,
           10.6,
           2.3,
           1.8,
           34.4,
           8.3
          ],
          [
           26.6,
           10.6,
           3.7,
           3.4,
           32.4,
           13.3
          ],
          [
           28.9,
           10.4,
           3.1,
           2.7,
           43.7,
           1.3
          ],
          [
           22.5,
           10.3,
           3.8,
           2.6,
           30.9,
           3.7
          ],
          [
           26,
           10.3,
           1.2,
           2.7,
           39.3,
           0.9
          ],
          [
           30.6,
           10.1,
           8.7,
           4.3,
           32.6,
           9.7
          ],
          [
           20.3,
           9.9,
           2.9,
           2.5,
           32.4,
           11.9
          ],
          [
           28.7,
           9.9,
           3.4,
           3.5,
           40,
           2
          ],
          [
           27.6,
           9.8,
           2,
           2.6,
           35.8,
           -1.2
          ],
          [
           20.2,
           9.8,
           1.2,
           2.1,
           41,
           15
          ],
          [
           29.6,
           9.6,
           1.7,
           2.6,
           37.8,
           2.2
          ],
          [
           19.6,
           9.6,
           3.1,
           2.5,
           39.1,
           5.4
          ],
          [
           27.4,
           9.5,
           3.6,
           3.2,
           28.2,
           2.7
          ],
          [
           19.9,
           9.3,
           1.1,
           2,
           36,
           15.2
          ],
          [
           30,
           9.2,
           2.1,
           3.3,
           39.8,
           1.8
          ],
          [
           24.3,
           9.2,
           3.1,
           2.1,
           35.6,
           -5.3
          ],
          [
           27.3,
           9.1,
           3,
           4.2,
           25.3,
           1.3
          ],
          [
           22,
           8.9,
           2.4,
           2.7,
           24.1,
           -1
          ],
          [
           19.5,
           8.9,
           2.1,
           2.5,
           23.2,
           11.3
          ],
          [
           21.8,
           8.9,
           1.5,
           1.9,
           33.5,
           -5.5
          ],
          [
           18.6,
           8.8,
           1.2,
           3.8,
           30.9,
           -1.2
          ],
          [
           24,
           8.7,
           2.2,
           3,
           38,
           -5
          ],
          [
           20.7,
           8.7,
           2.6,
           2.3,
           39.9,
           8.6
          ],
          [
           19.9,
           8.7,
           1,
           2.9,
           35.3,
           -10.2
          ],
          [
           19.9,
           8.7,
           1,
           2.9,
           35.3,
           -10.2
          ],
          [
           20.3,
           8.6,
           3.6,
           2.5,
           31.2,
           3.6
          ],
          [
           20.5,
           8.5,
           2.8,
           2,
           38.4,
           13.3
          ],
          [
           25.6,
           8.5,
           3.1,
           2.6,
           27.3,
           -1.6
          ],
          [
           24.8,
           8.5,
           1.9,
           2.5,
           32.6,
           -2.5
          ],
          [
           18,
           8.4,
           2.5,
           2.6,
           17.6,
           11.9
          ],
          [
           18.2,
           8.2,
           2.4,
           1.8,
           35.3,
           2.4
          ],
          [
           26.6,
           7.8,
           2.9,
           2.6,
           32.1,
           6.7
          ],
          [
           21.2,
           7.8,
           1.2,
           2.2,
           36.2,
           8.3
          ],
          [
           21.2,
           7.7,
           1.1,
           2.3,
           35.8,
           13.5
          ],
          [
           26.6,
           7.7,
           4.9,
           2.9,
           29.9,
           7.9
          ],
          [
           24.8,
           7.6,
           2.5,
           3.5,
           34.4,
           -1.5
          ],
          [
           20,
           7.6,
           1.8,
           2.2,
           32.9,
           8.8
          ],
          [
           28.1,
           7.6,
           4.1,
           3.2,
           41.4,
           9
          ],
          [
           19,
           7.5,
           3.2,
           1.5,
           40.5,
           16.4
          ],
          [
           21.4,
           7.5,
           1.7,
           2.3,
           45.2,
           -2.8
          ],
          [
           24.6,
           7.5,
           4.4,
           2.1,
           41,
           2.9
          ],
          [
           14.5,
           7.3,
           1,
           1.7,
           44.4,
           -2
          ],
          [
           24.4,
           7.3,
           1.8,
           2.7,
           34.5,
           -3.4
          ],
          [
           22.4,
           7.3,
           4.4,
           2.3,
           36.1,
           2.3
          ],
          [
           16.1,
           7.1,
           2.6,
           1.5,
           35.7,
           3
          ],
          [
           21.6,
           7,
           4.4,
           2.8,
           38.4,
           10.2
          ],
          [
           18.1,
           6.9,
           3.5,
           2,
           32.9,
           1.3
          ],
          [
           15.7,
           6.8,
           1.5,
           1.4,
           45,
           5.5
          ],
          [
           21.3,
           6.6,
           1.4,
           2.1,
           46.1,
           0.2
          ],
          [
           16.9,
           6.4,
           1,
           1.7,
           33.6,
           6.7
          ],
          [
           15.9,
           6.4,
           1.2,
           1.7,
           35.5,
           8.4
          ],
          [
           19.5,
           6.3,
           3,
           2.2,
           16.7,
           2.8
          ],
          [
           19.8,
           6.1,
           4.5,
           3.1,
           34.8,
           10.7
          ],
          [
           18.5,
           5.9,
           2.1,
           1.5,
           39.5,
           1.8
          ],
          [
           17.5,
           5.9,
           1.4,
           1.1,
           35.6,
           14.8
          ],
          [
           15.8,
           5.9,
           1.5,
           2,
           31.4,
           8.6
          ],
          [
           20.3,
           5.9,
           2,
           1.9,
           30,
           2.7
          ],
          [
           24.4,
           5.8,
           1.7,
           3.8,
           29.5,
           1.9
          ],
          [
           17.4,
           5.7,
           1.6,
           2.2,
           39.1,
           14.7
          ],
          [
           20,
           5.7,
           4,
           2,
           24.7,
           13.6
          ],
          [
           21.4,
           5.7,
           3.6,
           1.8,
           33.3,
           11.2
          ],
          [
           19.9,
           5.6,
           1.1,
           3.4,
           37.5,
           -3.5
          ],
          [
           11.1,
           5.6,
           0.5,
           1.3,
           48.4,
           9.9
          ],
          [
           16.6,
           5.6,
           2.3,
           1.9,
           22,
           7.2
          ],
          [
           13.6,
           5.6,
           0.4,
           0.9,
           38.7,
           7.2
          ],
          [
           14.8,
           5.6,
           1,
           2.3,
           40.4,
           -6.7
          ],
          [
           19.5,
           5.3,
           2.4,
           1.6,
           34.7,
           1.1
          ],
          [
           14.5,
           5.1,
           3.2,
           2.2,
           33.3,
           8.7
          ],
          [
           12.2,
           5,
           1.9,
           1.5,
           32.4,
           5.1
          ],
          [
           14.9,
           4.9,
           1.4,
           2.4,
           36.4,
           4.4
          ],
          [
           13.3,
           4.8,
           1.8,
           1.4,
           10,
           13.4
          ],
          [
           22.2,
           4.8,
           0.7,
           3.6,
           31.1,
           -2.5
          ],
          [
           16.1,
           4.7,
           2.6,
           1.6,
           34.1,
           0.4
          ],
          [
           14.6,
           4.5,
           1.1,
           1.7,
           34.3,
           -0.7
          ],
          [
           8.9,
           4.5,
           1.1,
           0.9,
           45.5,
           -9.2
          ],
          [
           14.2,
           4.5,
           2.1,
           1.6,
           33.3,
           8.2
          ],
          [
           16.4,
           4.5,
           3.4,
           1.7,
           26.2,
           13.3
          ],
          [
           24.1,
           4.4,
           3,
           3.6,
           0,
           12.4
          ],
          [
           17,
           4.4,
           3.4,
           1.5,
           34.4,
           3.9
          ],
          [
           19.9,
           4.3,
           2.7,
           2,
           29.2,
           3.4
          ],
          [
           15.5,
           4.2,
           2.9,
           1.3,
           30.2,
           17.7
          ],
          [
           11.2,
           4.1,
           0.8,
           1.3,
           31.4,
           7.3
          ],
          [
           9.2,
           4,
           1.1,
           0.8,
           35.7,
           -0.3
          ],
          [
           8.5,
           3.8,
           1.1,
           1.4,
           38.5,
           -2
          ],
          [
           9.4,
           3.8,
           1.6,
           1.2,
           21.7,
           5.8
          ],
          [
           14.5,
           3.7,
           0.3,
           2.1,
           20,
           16.1
          ],
          [
           13.3,
           3.7,
           2.4,
           0.9,
           32.7,
           13
          ],
          [
           11.8,
           3.7,
           2.2,
           1.3,
           25,
           17.6
          ],
          [
           10.9,
           3.7,
           1.8,
           1,
           32.7,
           15.8
          ],
          [
           8.8,
           3.6,
           1,
           1,
           35.7,
           14.6
          ],
          [
           7.3,
           3.5,
           1.5,
           1,
           0,
           46.2
          ],
          [
           12.3,
           3.3,
           3.3,
           1.3,
           22.2,
           9.5
          ],
          [
           11.6,
           3.3,
           1.5,
           1.1,
           35.7,
           -4
          ],
          [
           14.3,
           3.1,
           0.6,
           1.3,
           29.3,
           8.6
          ],
          [
           7.3,
           3,
           0.4,
           0.5,
           39.1,
           -12.8
          ],
          [
           13.7,
           3,
           1.6,
           1.5,
           38.7,
           9.1
          ],
          [
           6.2,
           2.8,
           0.5,
           0.3,
           11.1,
           10.9
          ],
          [
           9.3,
           2.7,
           0.5,
           0.9,
           30.8,
           5.9
          ],
          [
           8.7,
           2.7,
           0.4,
           1,
           30.2,
           9.5
          ],
          [
           7.6,
           2.5,
           1.4,
           0.9,
           12.5,
           13
          ],
          [
           13.9,
           2.5,
           2.2,
           1.9,
           29.5,
           16.6
          ],
          [
           8,
           1.8,
           0.9,
           1.6,
           22.2,
           2.2
          ],
          [
           5.3,
           1.8,
           1.4,
           0.6,
           0,
           4
          ],
          [
           9,
           1.6,
           0.8,
           0.8,
           25,
           -3.1
          ],
          [
           4.4,
           1.5,
           0.7,
           0.6,
           20,
           21.8
          ],
          [
           2.9,
           1.5,
           0.2,
           0,
           50,
           44
          ],
          [
           4.7,
           1.4,
           0.3,
           0.7,
           20,
           -2.2
          ],
          [
           3.5,
           1.2,
           0.1,
           0.3,
           11.1,
           52.5
          ],
          [
           4.2,
           1.1,
           0.3,
           0.9,
           23.8,
           -15.6
          ],
          [
           4.8,
           1,
           0.4,
           0,
           0,
           20.9
          ],
          [
           4.4,
           0.9,
           0.1,
           0.7,
           30,
           -24.6
          ],
          [
           3,
           0.6,
           0.4,
           0.6,
           25,
           31.8
          ],
          [
           11.6,
           0,
           2,
           0,
           0,
           -0.3
          ]
         ],
         "hovertemplate": "<b>%{hovertext}</b><br><br>當年有無入選=False<br>pca1=%{x}<br>pca2=%{y}<br>勝率=%{marker.size}<br>MIN=%{customdata[0]}<br>PTS=%{customdata[1]}<br>AST=%{customdata[2]}<br>REB=%{customdata[3]}<br>3P%=%{customdata[4]}<br>DIFF_percent=%{customdata[5]}<extra></extra>",
         "hovertext": [
          "James Harden",
          "DeMar DeRozan",
          "Isaiah Thomas",
          "Kemba Walker",
          "CJ McCollum",
          "Eric Bledsoe",
          "John Wall",
          "Kyrie Irving",
          "Brandon Knight",
          "Dwyane Wade",
          "Reggie Jackson",
          "Bradley Beal",
          "Jrue Holiday",
          "Derrick Rose",
          "JJ Redick",
          "Victor Oladipo",
          "Jeff Teague",
          "Jordan Clarkson",
          "Lou Williams",
          "Mike Conley",
          "Eric Gordon",
          "Avery Bradley",
          "Rodney Hood",
          "Kentavious Caldwell-Pope",
          "Jamal Crawford",
          "Goran Dragic",
          "Deron Williams",
          "Zach LaVine",
          "Darren Collison",
          "Monta Ellis",
          "Devin Booker",
          "Alec Burks",
          "D'Angelo Russell",
          "Jarrett Jack",
          "Emmanuel Mudiay",
          "Arron Afflalo",
          "Ish Smith",
          "Gary Harris",
          "George Hill",
          "Rajon Rondo",
          "Tony Parker",
          "Jeremy Lin",
          "Michael Carter-Williams",
          "Sean Kilpatrick",
          "Dennis Schroder",
          "Isaiah Canaan",
          "J.J. Barea",
          "Elfrid Payton",
          "Trey Burke",
          "Norris Cole",
          "Jerryd Bayless",
          "Mario Chalmers",
          "Allen Crabbe",
          "Ricky Rubio",
          "Ramon Sessions",
          "Patrick Beverley",
          "Dion Waiters",
          "Gary Neal",
          "Courtney Lee",
          "Manu Ginobili",
          "Raymond Felton",
          "Kevin Martin",
          "Kyle Korver",
          "Jordan Farmar",
          "Marcus Smart",
          "Rodney Stuckey",
          "Archie Goodwin",
          "Austin Rivers",
          "Jeremy Lamb",
          "Tyler Johnson",
          "Toney Douglas",
          "Gerald Henderson",
          "Gerald Henderson",
          "Shelvin Mack",
          "Patty Mills",
          "Cory Joseph",
          "Nik Stauskas",
          "Tony Wroten",
          "Mo Williams",
          "O.J. Mayo",
          "Ben McLemore",
          "Wayne Ellington",
          "Jameer Nelson",
          "Langston Galloway",
          "Devin Harris",
          "Jose Calderon",
          "D.J. Augustin",
          "E'Twaun Moore",
          "Matthew Dellavedova",
          "Jodie Meeks",
          "Garrett Temple",
          "Shane Larkin",
          "Aaron Brooks",
          "Donald Sloan",
          "Brandon Jennings",
          "Seth Curry",
          "Josh Richardson",
          "Tim Hardaway Jr.",
          "Leandro Barbosa",
          "Shaun Livingston",
          "T.J. McConnell",
          "Raul Neto",
          "Jason Terry",
          "Markel Brown",
          "Randy Foye",
          "Iman Shumpert",
          "Xavier Munford",
          "Greivis Vasquez",
          "Ty Lawson",
          "Bryce Dejean-Jones",
          "Troy Daniels",
          "Jerian Grant",
          "Anthony Morrow",
          "Norman Powell",
          "Ronnie Price",
          "Tim Frazier",
          "Cameron Payne",
          "Sasha Vujacic",
          "Spencer Dinwiddie",
          "Andre Roberson",
          "Beno Udrih",
          "Justin Holiday",
          "Jordan McRae",
          "Tyler Ennis",
          "Marcelo Huertas",
          "Briante Weber",
          "Steve Blake",
          "C.J. Watson",
          "Tyus Jones",
          "John Jenkins",
          "Brian Roberts",
          "Delon Wright",
          "Joe Young",
          "Orlando Johnson",
          "Kendall Marshall",
          "Andre Miller",
          "Shabazz Napier",
          "Ian Clark",
          "Jordan Adams",
          "Phil Pressey",
          "Ray McCallum",
          "Rashad Vaughn",
          "C.J. Wilcox",
          "Kirk Hinrich",
          "Andrew Goudelock",
          "Jared Cunningham",
          "RJ Hunter",
          "Lorenzo Brown",
          "Pablo Prigioni",
          "Terry Rozier",
          "Jorge Gutierrez",
          "Elliot Williams",
          "Russ Smith",
          "Jimmer Fredette",
          "Erick Green",
          "Luis Montero",
          "Pat Connaughton",
          "Bryce Cotton",
          "Aaron Harrison",
          "Joe Harris",
          "Nate Robinson"
         ],
         "legendgroup": "False",
         "marker": {
          "color": "#EF553B",
          "size": [
           0.5,
           0.68,
           0.59,
           0.58,
           0.55,
           0.39,
           0.48,
           0.7,
           0.31,
           0.58,
           0.54,
           0.51,
           0.42,
           0.48,
           0.67,
           0.44,
           0.59,
           0.22,
           0.21,
           0.59,
           0.31,
           0.59,
           0.49,
           0.54,
           0.65,
           0.61,
           0.48,
           0.35,
           0.39,
           0.54,
           0.26,
           0.42,
           0.21,
           0.31,
           0.43,
           0.38,
           0.21,
           0.41,
           0.55,
           0.4,
           0.82,
           0.6,
           0.39,
           0.23,
           0.59,
           0.13,
           0.51,
           0.44,
           0.48,
           0.44,
           0.4,
           0.62,
           0.53,
           0.37,
           0.5,
           0.49,
           0.68,
           0.45,
           0.62,
           0.81,
           0.5,
           0.44,
           0.57,
           0.17,
           0.59,
           0.57,
           0.25,
           0.63,
           0.61,
           0.53,
           0.36,
           0.54,
           0.54,
           0.52,
           0.81,
           0.68,
           0.11,
           0,
           0.66,
           0.41,
           0.41,
           0.24,
           0.31,
           0.39,
           0.55,
           0.4,
           0.56,
           0.49,
           0.71,
           1,
           0.5,
           0.26,
           0.52,
           0.21,
           0.42,
           0.39,
           0.56,
           0.57,
           0.88,
           0.88,
           0.12,
           0.49,
           0.51,
           0.19,
           0.46,
           0.72,
           0.21,
           0.39,
           0.47,
           0.57,
           0.58,
           0.38,
           0.68,
           0.65,
           0.32,
           0.49,
           0.77,
           0.36,
           0.42,
           0.69,
           0.59,
           0.53,
           0.45,
           0.37,
           0.15,
           0.43,
           0.59,
           0.42,
           0.35,
           0.42,
           0.51,
           0.7,
           0.46,
           0.14,
           0.1,
           0.51,
           0.42,
           0.89,
           0,
           0.13,
           0.73,
           0.43,
           0.65,
           0.57,
           0.62,
           0.7,
           0.58,
           0.12,
           0.63,
           0.62,
           0.75,
           0.8,
           0.4,
           0.17,
           0.67,
           0.5,
           0.5,
           0.12,
           0.71,
           1,
           0
          ],
          "sizemode": "area",
          "sizeref": 0.0025,
          "symbol": "circle"
         },
         "mode": "markers",
         "name": "False",
         "orientation": "v",
         "showlegend": true,
         "type": "scatter",
         "x": [
          -4.628566807761299,
          -2.1087252263051774,
          -2.2001492378304204,
          -2.844892413284336,
          -2.1615923408225033,
          -2.186232289171862,
          -3.410554669307278,
          -2.4500252432313623,
          -1.0165905327097031,
          -4.750940440277479,
          -1.4675605664934148,
          -0.8120684617966815,
          -1.7105031279547465,
          -0.7267962264635784,
          -1.8722940711249803,
          -2.176362574575414,
          -1.8648125584789457,
          0.5673091652095853,
          0.10882355860222817,
          -1.5260184036994082,
          -0.7006349763630907,
          -1.6473920478183472,
          -0.8928310822023588,
          -0.8138261292646947,
          -1.1223382775093764,
          -1.590867074795786,
          -1.7614864485791593,
          -0.37804516958228546,
          -1.0198990630588176,
          -2.1033247658343663,
          0.11759790319388427,
          0.3941739297382984,
          0.38947406333119095,
          0.007786661637123753,
          -0.5431493269525585,
          0.2581770339065337,
          0.031051986278410385,
          -0.4721874477684064,
          -0.8459037729326854,
          -1.3419105926627286,
          -3.624619445478197,
          -0.9926625390931997,
          -1.0935502862398672,
          0.6214606923471311,
          -0.6524891574866494,
          1.0524074689444287,
          -0.08988713646763699,
          -0.4945603361697017,
          0.0696280342755337,
          0.36959234049829726,
          0.177950689865394,
          -0.8094526989995966,
          -0.6236677242090876,
          -1.0664446343444052,
          -0.2176616867443401,
          -0.9840605508496131,
          -0.5186683277379576,
          0.5398310996738686,
          -1.3926840043270645,
          -2.2953686652043648,
          -0.14962374929993427,
          0.5044374429629911,
          -1.3899866909398213,
          0.37714031183854213,
          -0.173583126524184,
          0.488320968328027,
          1.2267003994429155,
          0.6560311809443942,
          -0.4804617367115761,
          -0.285507330789761,
          0.0829320853604365,
          0.19742250669022332,
          0.19742250669022332,
          0.126060289552253,
          -1.3087312114857286,
          -0.7965022014281481,
          1.3210777827636384,
          3.169213132708116,
          0.35193552625094304,
          0.42021617983876836,
          0.3472743531726644,
          0.9296842326957208,
          0.9812798933205426,
          0.3068016265920563,
          0.05403483109363858,
          -0.35352983576804964,
          -0.25567626946321037,
          0.08665619798938683,
          -1.003180928750302,
          1.030380118599159,
          0.3532055121608465,
          0.20513630401090377,
          0.4570451340779689,
          0.6313940259468163,
          0.8801317951402914,
          0.3116240840211563,
          -0.48469756389624274,
          0.18810235144864332,
          -0.5078641564385037,
          -1.3053107874485559,
          0.672630189731632,
          0.22477917877237258,
          0.011106762491272626,
          1.2304805558670766,
          0.13224365729766996,
          -0.2681695375015455,
          1.1681871824626644,
          1.7639396385217696,
          0.6418643252757269,
          2.081644253747968,
          0.7658851531944431,
          1.0099723668707898,
          0.263453648011711,
          0.3080621181037906,
          0.49326494083124983,
          0.8970445538646261,
          0.36619583117159116,
          0.9391479384912547,
          2.944224532280963,
          -0.7407429162717335,
          0.7861880838583735,
          0.6189571674149985,
          1.2839757454450016,
          1.1290738041519153,
          0.5624027174922445,
          2.0685089402366104,
          0.6715143619228874,
          1.0879953963112818,
          1.2424002898579607,
          1.298433214320302,
          0.9596450068063089,
          1.0022063956544873,
          1.669722578070291,
          2.248144527041697,
          1.7423432316505318,
          0.4065709231504982,
          1.3865066934606423,
          -0.21458899584740693,
          1.3218783793179605,
          1.6917470458823753,
          0.8556550817258296,
          1.3797066996875886,
          1.4370021122976524,
          0.7838467484343811,
          0.8368364117663836,
          1.8612653492233928,
          1.2182854749877639,
          2.5480515824887977,
          0.5818310587515472,
          2.442008683407766,
          1.3930599104103332,
          3.2883042984968354,
          2.437234547129503,
          1.0746487083171674,
          1.9835205324729046,
          2.4627752709048836,
          2.5546187159431306,
          4.060322536439914,
          3.70556251233671,
          4.291263906153458,
          6.797379795523936
         ],
         "xaxis": "x",
         "y": [
          2.1872891288117953,
          0.6300122476503494,
          0.03208754405946021,
          0.5964327032823906,
          -0.09403948830678054,
          0.6327372862847518,
          1.611302159285947,
          0.9733495462039974,
          0.4891903063436194,
          3.6999563365576007,
          0.12985165879395616,
          -0.32211680466299447,
          0.002553242710286313,
          0.5665322350255948,
          -0.47708169123918914,
          1.293210626014883,
          -0.14048756110507904,
          -0.8860263361084649,
          -0.1877248494605073,
          0.30206220235219433,
          -0.05094640498669263,
          -0.38256045677995326,
          0.18522241093377678,
          0.2695514243748912,
          -0.03380152459673452,
          0.6268768480135909,
          0.640668782501868,
          -0.8071578241036708,
          -0.9869978604925396,
          0.07843963105940394,
          0.05822342405930478,
          -0.090284683304664,
          -0.8217285380547341,
          0.856457503540904,
          0.7965646604415326,
          -0.1650545599772933,
          0.26073792924476225,
          -0.881263098095724,
          -0.28005900204656936,
          -0.31197646240194665,
          0.46557830703679326,
          1.0405695266242696,
          1.390578369688275,
          -0.8463677152059316,
          0.10394719108811362,
          -0.20099366543684277,
          -0.9933303256941974,
          -0.13114364544297163,
          -0.3225961051363504,
          -0.19056548946979923,
          -0.5842295531390782,
          -0.14000918400351858,
          -0.47607822503492514,
          -0.14698832331832268,
          -0.8449116384127134,
          -0.015166661552424299,
          -0.2386722992109509,
          -1.4600166814024171,
          -0.2699836728274863,
          0.12845044230983607,
          0.28951573488670834,
          -0.5527897419578143,
          0.5493237150575444,
          0.035140001936159515,
          0.8750589942250219,
          0.5308828535034013,
          0.11775514023183298,
          -0.6878420455937062,
          1.0375519803494626,
          0.594906593324378,
          -0.9434154359908402,
          0.5631830030722103,
          0.5631830030722103,
          0.1289364143514865,
          -1.022479620880445,
          0.4922395093375734,
          0.5069583213645296,
          0.03190993567311365,
          -0.07845890119464236,
          -0.05420029745745353,
          -0.7710399044665384,
          -0.7223535721204357,
          0.4585432334855515,
          0.3570540641911897,
          -0.857919093843774,
          -0.7593103009892922,
          -1.226817221145546,
          -0.6101503230581748,
          -0.1431566258400497,
          0.9282781493270895,
          -0.12795501907580492,
          -0.7064749156855243,
          -0.3402214081149196,
          -0.33550151577305,
          0.3287600852352016,
          -0.9084523148608513,
          -0.22106733519790528,
          -0.09558354102877674,
          -1.2936732625367995,
          0.0735693346937508,
          -1.0060072386126317,
          -1.1330553095517781,
          -1.1100259914437278,
          -0.21258650419931657,
          0.7833589348252529,
          1.0128448171185527,
          -1.000240532181586,
          0.27061422740393704,
          -0.917577103607934,
          -0.15988655880237113,
          -1.7974276269893148,
          -0.09079770725549616,
          -0.9491613231781257,
          0.08338663012228525,
          -0.3869417216444022,
          -0.6037373440796499,
          -0.6959035848225459,
          -0.1442318041118955,
          0.2671978318618742,
          0.6222240657046256,
          -0.14410269426064784,
          0.20090364440204472,
          -0.06108311774786035,
          -0.7966559071191489,
          0.35289989129365673,
          1.1024197283715482,
          -0.25632969030445674,
          0.7064666783349954,
          -0.8269429431234804,
          -0.5071965643311713,
          -0.5641750078969652,
          -0.2607725036278585,
          0.22341865339096376,
          1.0508777885610225,
          -0.5691860074697608,
          -1.0676208571369368,
          -0.7346293983156589,
          -1.447698478346535,
          -0.6723897414441335,
          0.07486660924811478,
          0.2760910186624477,
          0.03769931950590137,
          0.15876211748162672,
          -0.44839739730933503,
          0.5279301226866069,
          -0.5967939971895466,
          -0.2306360891357016,
          0.6172825259237895,
          -1.0276184065898688,
          0.7658008258908426,
          0.8312148524823283,
          1.487091737505369,
          -0.258141335397169,
          -2.9543254866918547,
          1.0399018841169325,
          -0.782631863756052,
          1.721233436623563,
          -0.8041270635758193,
          0.9278310351685656,
          -1.4566406675324126,
          1.1068568300069197
         ],
         "yaxis": "y"
        }
       ],
       "layout": {
        "annotations": [
         {
          "ax": 0,
          "ay": 0,
          "font": {
           "color": "rgb(84,39,143)"
          },
          "text": "W",
          "x": -2.5121284217808593,
          "xanchor": "auto",
          "y": -2.4093111665403657,
          "yanchor": "auto"
         },
         {
          "ax": 0,
          "ay": 0,
          "font": {
           "color": "rgb(84,39,143)"
          },
          "text": "PTS",
          "x": -3.1373229841347077,
          "xanchor": "auto",
          "y": 0.9247503502606148,
          "yanchor": "auto"
         },
         {
          "ax": 0,
          "ay": 0,
          "font": {
           "color": "rgb(84,39,143)"
          },
          "text": "FG%",
          "x": -2.1635577890444524,
          "xanchor": "auto",
          "y": -2.20447708488406,
          "yanchor": "auto"
         },
         {
          "ax": 0,
          "ay": 0,
          "font": {
           "color": "rgb(84,39,143)"
          },
          "text": "3P%",
          "x": -1.6237241575955212,
          "xanchor": "auto",
          "y": -3.2461660644469053,
          "yanchor": "auto"
         },
         {
          "ax": 0,
          "ay": 0,
          "font": {
           "color": "rgb(84,39,143)"
          },
          "text": "BLK",
          "x": -2.2821746547928425,
          "xanchor": "auto",
          "y": 1.369322762720959,
          "yanchor": "auto"
         },
         {
          "ax": 0,
          "ay": 0,
          "font": {
           "color": "rgb(84,39,143)"
          },
          "text": "DIFF_percent",
          "x": 1.0469039626005132,
          "xanchor": "auto",
          "y": 2.3251067973009056,
          "yanchor": "auto"
         },
         {
          "ax": 0,
          "ay": 0,
          "font": {
           "color": "rgb(84,39,143)"
          },
          "text": "累積前三隊",
          "x": -1.730914275606278,
          "xanchor": "auto",
          "y": 1.2573523413394825,
          "yanchor": "auto"
         },
         {
          "ax": 0,
          "ay": 0,
          "font": {
           "color": "rgb(84,39,143)"
          },
          "text": "+/-",
          "x": -2.185222250792799,
          "xanchor": "auto",
          "y": -2.723087610860427,
          "yanchor": "auto"
         },
         {
          "ax": 0,
          "ay": 0,
          "font": {
           "color": "rgb(84,39,143)"
          },
          "text": "STL",
          "x": -2.7874140355254746,
          "xanchor": "auto",
          "y": 2.64184803032305,
          "yanchor": "auto"
         },
         {
          "ax": 0,
          "ay": 0,
          "font": {
           "color": "rgb(84,39,143)"
          },
          "text": "AST",
          "x": -2.644121920054051,
          "xanchor": "auto",
          "y": 2.678534532689023,
          "yanchor": "auto"
         },
         {
          "ax": 0,
          "ay": 0,
          "font": {
           "color": "rgb(84,39,143)"
          },
          "text": "REB",
          "x": -3.076795734023032,
          "xanchor": "auto",
          "y": 1.9429817356678594,
          "yanchor": "auto"
         },
         {
          "ax": 0,
          "ay": 0,
          "font": {
           "color": "rgb(84,39,143)"
          },
          "text": "FT%",
          "x": -1.4918557369948993,
          "xanchor": "auto",
          "y": -2.781429377030596,
          "yanchor": "auto"
         }
        ],
        "legend": {
         "itemsizing": "constant",
         "title": {
          "text": "當年有無入選"
         },
         "tracegroupgap": 0
        },
        "paper_bgcolor": "rgb(254,245,244)",
        "plot_bgcolor": "rgb(254,245,244)",
        "shapes": [
         {
          "line": {
           "color": "skyblue"
          },
          "type": "line",
          "x0": 0,
          "x1": -2.5121284217808593,
          "y0": 0,
          "y1": -2.4093111665403657
         },
         {
          "line": {
           "color": "skyblue"
          },
          "type": "line",
          "x0": 0,
          "x1": -3.1373229841347077,
          "y0": 0,
          "y1": 0.9247503502606148
         },
         {
          "line": {
           "color": "skyblue"
          },
          "type": "line",
          "x0": 0,
          "x1": -2.1635577890444524,
          "y0": 0,
          "y1": -2.20447708488406
         },
         {
          "line": {
           "color": "skyblue"
          },
          "type": "line",
          "x0": 0,
          "x1": -1.6237241575955212,
          "y0": 0,
          "y1": -3.2461660644469053
         },
         {
          "line": {
           "color": "skyblue"
          },
          "type": "line",
          "x0": 0,
          "x1": -2.2821746547928425,
          "y0": 0,
          "y1": 1.369322762720959
         },
         {
          "line": {
           "color": "skyblue"
          },
          "type": "line",
          "x0": 0,
          "x1": 1.0469039626005132,
          "y0": 0,
          "y1": 2.3251067973009056
         },
         {
          "line": {
           "color": "skyblue"
          },
          "type": "line",
          "x0": 0,
          "x1": -1.730914275606278,
          "y0": 0,
          "y1": 1.2573523413394825
         },
         {
          "line": {
           "color": "skyblue"
          },
          "type": "line",
          "x0": 0,
          "x1": -2.185222250792799,
          "y0": 0,
          "y1": -2.723087610860427
         },
         {
          "line": {
           "color": "skyblue"
          },
          "type": "line",
          "x0": 0,
          "x1": -2.7874140355254746,
          "y0": 0,
          "y1": 2.64184803032305
         },
         {
          "line": {
           "color": "skyblue"
          },
          "type": "line",
          "x0": 0,
          "x1": -2.644121920054051,
          "y0": 0,
          "y1": 2.678534532689023
         },
         {
          "line": {
           "color": "skyblue"
          },
          "type": "line",
          "x0": 0,
          "x1": -3.076795734023032,
          "y0": 0,
          "y1": 1.9429817356678594
         },
         {
          "line": {
           "color": "skyblue"
          },
          "type": "line",
          "x0": 0,
          "x1": -1.4918557369948993,
          "y0": 0,
          "y1": -2.781429377030596
         }
        ],
        "template": {
         "data": {
          "bar": [
           {
            "error_x": {
             "color": "#2a3f5f"
            },
            "error_y": {
             "color": "#2a3f5f"
            },
            "marker": {
             "line": {
              "color": "#E5ECF6",
              "width": 0.5
             },
             "pattern": {
              "fillmode": "overlay",
              "size": 10,
              "solidity": 0.2
             }
            },
            "type": "bar"
           }
          ],
          "barpolar": [
           {
            "marker": {
             "line": {
              "color": "#E5ECF6",
              "width": 0.5
             },
             "pattern": {
              "fillmode": "overlay",
              "size": 10,
              "solidity": 0.2
             }
            },
            "type": "barpolar"
           }
          ],
          "carpet": [
           {
            "aaxis": {
             "endlinecolor": "#2a3f5f",
             "gridcolor": "white",
             "linecolor": "white",
             "minorgridcolor": "white",
             "startlinecolor": "#2a3f5f"
            },
            "baxis": {
             "endlinecolor": "#2a3f5f",
             "gridcolor": "white",
             "linecolor": "white",
             "minorgridcolor": "white",
             "startlinecolor": "#2a3f5f"
            },
            "type": "carpet"
           }
          ],
          "choropleth": [
           {
            "colorbar": {
             "outlinewidth": 0,
             "ticks": ""
            },
            "type": "choropleth"
           }
          ],
          "contour": [
           {
            "colorbar": {
             "outlinewidth": 0,
             "ticks": ""
            },
            "colorscale": [
             [
              0,
              "#0d0887"
             ],
             [
              0.1111111111111111,
              "#46039f"
             ],
             [
              0.2222222222222222,
              "#7201a8"
             ],
             [
              0.3333333333333333,
              "#9c179e"
             ],
             [
              0.4444444444444444,
              "#bd3786"
             ],
             [
              0.5555555555555556,
              "#d8576b"
             ],
             [
              0.6666666666666666,
              "#ed7953"
             ],
             [
              0.7777777777777778,
              "#fb9f3a"
             ],
             [
              0.8888888888888888,
              "#fdca26"
             ],
             [
              1,
              "#f0f921"
             ]
            ],
            "type": "contour"
           }
          ],
          "contourcarpet": [
           {
            "colorbar": {
             "outlinewidth": 0,
             "ticks": ""
            },
            "type": "contourcarpet"
           }
          ],
          "heatmap": [
           {
            "colorbar": {
             "outlinewidth": 0,
             "ticks": ""
            },
            "colorscale": [
             [
              0,
              "#0d0887"
             ],
             [
              0.1111111111111111,
              "#46039f"
             ],
             [
              0.2222222222222222,
              "#7201a8"
             ],
             [
              0.3333333333333333,
              "#9c179e"
             ],
             [
              0.4444444444444444,
              "#bd3786"
             ],
             [
              0.5555555555555556,
              "#d8576b"
             ],
             [
              0.6666666666666666,
              "#ed7953"
             ],
             [
              0.7777777777777778,
              "#fb9f3a"
             ],
             [
              0.8888888888888888,
              "#fdca26"
             ],
             [
              1,
              "#f0f921"
             ]
            ],
            "type": "heatmap"
           }
          ],
          "heatmapgl": [
           {
            "colorbar": {
             "outlinewidth": 0,
             "ticks": ""
            },
            "colorscale": [
             [
              0,
              "#0d0887"
             ],
             [
              0.1111111111111111,
              "#46039f"
             ],
             [
              0.2222222222222222,
              "#7201a8"
             ],
             [
              0.3333333333333333,
              "#9c179e"
             ],
             [
              0.4444444444444444,
              "#bd3786"
             ],
             [
              0.5555555555555556,
              "#d8576b"
             ],
             [
              0.6666666666666666,
              "#ed7953"
             ],
             [
              0.7777777777777778,
              "#fb9f3a"
             ],
             [
              0.8888888888888888,
              "#fdca26"
             ],
             [
              1,
              "#f0f921"
             ]
            ],
            "type": "heatmapgl"
           }
          ],
          "histogram": [
           {
            "marker": {
             "pattern": {
              "fillmode": "overlay",
              "size": 10,
              "solidity": 0.2
             }
            },
            "type": "histogram"
           }
          ],
          "histogram2d": [
           {
            "colorbar": {
             "outlinewidth": 0,
             "ticks": ""
            },
            "colorscale": [
             [
              0,
              "#0d0887"
             ],
             [
              0.1111111111111111,
              "#46039f"
             ],
             [
              0.2222222222222222,
              "#7201a8"
             ],
             [
              0.3333333333333333,
              "#9c179e"
             ],
             [
              0.4444444444444444,
              "#bd3786"
             ],
             [
              0.5555555555555556,
              "#d8576b"
             ],
             [
              0.6666666666666666,
              "#ed7953"
             ],
             [
              0.7777777777777778,
              "#fb9f3a"
             ],
             [
              0.8888888888888888,
              "#fdca26"
             ],
             [
              1,
              "#f0f921"
             ]
            ],
            "type": "histogram2d"
           }
          ],
          "histogram2dcontour": [
           {
            "colorbar": {
             "outlinewidth": 0,
             "ticks": ""
            },
            "colorscale": [
             [
              0,
              "#0d0887"
             ],
             [
              0.1111111111111111,
              "#46039f"
             ],
             [
              0.2222222222222222,
              "#7201a8"
             ],
             [
              0.3333333333333333,
              "#9c179e"
             ],
             [
              0.4444444444444444,
              "#bd3786"
             ],
             [
              0.5555555555555556,
              "#d8576b"
             ],
             [
              0.6666666666666666,
              "#ed7953"
             ],
             [
              0.7777777777777778,
              "#fb9f3a"
             ],
             [
              0.8888888888888888,
              "#fdca26"
             ],
             [
              1,
              "#f0f921"
             ]
            ],
            "type": "histogram2dcontour"
           }
          ],
          "mesh3d": [
           {
            "colorbar": {
             "outlinewidth": 0,
             "ticks": ""
            },
            "type": "mesh3d"
           }
          ],
          "parcoords": [
           {
            "line": {
             "colorbar": {
              "outlinewidth": 0,
              "ticks": ""
             }
            },
            "type": "parcoords"
           }
          ],
          "pie": [
           {
            "automargin": true,
            "type": "pie"
           }
          ],
          "scatter": [
           {
            "marker": {
             "colorbar": {
              "outlinewidth": 0,
              "ticks": ""
             }
            },
            "type": "scatter"
           }
          ],
          "scatter3d": [
           {
            "line": {
             "colorbar": {
              "outlinewidth": 0,
              "ticks": ""
             }
            },
            "marker": {
             "colorbar": {
              "outlinewidth": 0,
              "ticks": ""
             }
            },
            "type": "scatter3d"
           }
          ],
          "scattercarpet": [
           {
            "marker": {
             "colorbar": {
              "outlinewidth": 0,
              "ticks": ""
             }
            },
            "type": "scattercarpet"
           }
          ],
          "scattergeo": [
           {
            "marker": {
             "colorbar": {
              "outlinewidth": 0,
              "ticks": ""
             }
            },
            "type": "scattergeo"
           }
          ],
          "scattergl": [
           {
            "marker": {
             "colorbar": {
              "outlinewidth": 0,
              "ticks": ""
             }
            },
            "type": "scattergl"
           }
          ],
          "scattermapbox": [
           {
            "marker": {
             "colorbar": {
              "outlinewidth": 0,
              "ticks": ""
             }
            },
            "type": "scattermapbox"
           }
          ],
          "scatterpolar": [
           {
            "marker": {
             "colorbar": {
              "outlinewidth": 0,
              "ticks": ""
             }
            },
            "type": "scatterpolar"
           }
          ],
          "scatterpolargl": [
           {
            "marker": {
             "colorbar": {
              "outlinewidth": 0,
              "ticks": ""
             }
            },
            "type": "scatterpolargl"
           }
          ],
          "scatterternary": [
           {
            "marker": {
             "colorbar": {
              "outlinewidth": 0,
              "ticks": ""
             }
            },
            "type": "scatterternary"
           }
          ],
          "surface": [
           {
            "colorbar": {
             "outlinewidth": 0,
             "ticks": ""
            },
            "colorscale": [
             [
              0,
              "#0d0887"
             ],
             [
              0.1111111111111111,
              "#46039f"
             ],
             [
              0.2222222222222222,
              "#7201a8"
             ],
             [
              0.3333333333333333,
              "#9c179e"
             ],
             [
              0.4444444444444444,
              "#bd3786"
             ],
             [
              0.5555555555555556,
              "#d8576b"
             ],
             [
              0.6666666666666666,
              "#ed7953"
             ],
             [
              0.7777777777777778,
              "#fb9f3a"
             ],
             [
              0.8888888888888888,
              "#fdca26"
             ],
             [
              1,
              "#f0f921"
             ]
            ],
            "type": "surface"
           }
          ],
          "table": [
           {
            "cells": {
             "fill": {
              "color": "#EBF0F8"
             },
             "line": {
              "color": "white"
             }
            },
            "header": {
             "fill": {
              "color": "#C8D4E3"
             },
             "line": {
              "color": "white"
             }
            },
            "type": "table"
           }
          ]
         },
         "layout": {
          "annotationdefaults": {
           "arrowcolor": "#2a3f5f",
           "arrowhead": 0,
           "arrowwidth": 1
          },
          "autotypenumbers": "strict",
          "coloraxis": {
           "colorbar": {
            "outlinewidth": 0,
            "ticks": ""
           }
          },
          "colorscale": {
           "diverging": [
            [
             0,
             "#8e0152"
            ],
            [
             0.1,
             "#c51b7d"
            ],
            [
             0.2,
             "#de77ae"
            ],
            [
             0.3,
             "#f1b6da"
            ],
            [
             0.4,
             "#fde0ef"
            ],
            [
             0.5,
             "#f7f7f7"
            ],
            [
             0.6,
             "#e6f5d0"
            ],
            [
             0.7,
             "#b8e186"
            ],
            [
             0.8,
             "#7fbc41"
            ],
            [
             0.9,
             "#4d9221"
            ],
            [
             1,
             "#276419"
            ]
           ],
           "sequential": [
            [
             0,
             "#0d0887"
            ],
            [
             0.1111111111111111,
             "#46039f"
            ],
            [
             0.2222222222222222,
             "#7201a8"
            ],
            [
             0.3333333333333333,
             "#9c179e"
            ],
            [
             0.4444444444444444,
             "#bd3786"
            ],
            [
             0.5555555555555556,
             "#d8576b"
            ],
            [
             0.6666666666666666,
             "#ed7953"
            ],
            [
             0.7777777777777778,
             "#fb9f3a"
            ],
            [
             0.8888888888888888,
             "#fdca26"
            ],
            [
             1,
             "#f0f921"
            ]
           ],
           "sequentialminus": [
            [
             0,
             "#0d0887"
            ],
            [
             0.1111111111111111,
             "#46039f"
            ],
            [
             0.2222222222222222,
             "#7201a8"
            ],
            [
             0.3333333333333333,
             "#9c179e"
            ],
            [
             0.4444444444444444,
             "#bd3786"
            ],
            [
             0.5555555555555556,
             "#d8576b"
            ],
            [
             0.6666666666666666,
             "#ed7953"
            ],
            [
             0.7777777777777778,
             "#fb9f3a"
            ],
            [
             0.8888888888888888,
             "#fdca26"
            ],
            [
             1,
             "#f0f921"
            ]
           ]
          },
          "colorway": [
           "#636efa",
           "#EF553B",
           "#00cc96",
           "#ab63fa",
           "#FFA15A",
           "#19d3f3",
           "#FF6692",
           "#B6E880",
           "#FF97FF",
           "#FECB52"
          ],
          "font": {
           "color": "#2a3f5f"
          },
          "geo": {
           "bgcolor": "white",
           "lakecolor": "white",
           "landcolor": "#E5ECF6",
           "showlakes": true,
           "showland": true,
           "subunitcolor": "white"
          },
          "hoverlabel": {
           "align": "left"
          },
          "hovermode": "closest",
          "mapbox": {
           "style": "light"
          },
          "paper_bgcolor": "white",
          "plot_bgcolor": "#E5ECF6",
          "polar": {
           "angularaxis": {
            "gridcolor": "white",
            "linecolor": "white",
            "ticks": ""
           },
           "bgcolor": "#E5ECF6",
           "radialaxis": {
            "gridcolor": "white",
            "linecolor": "white",
            "ticks": ""
           }
          },
          "scene": {
           "xaxis": {
            "backgroundcolor": "#E5ECF6",
            "gridcolor": "white",
            "gridwidth": 2,
            "linecolor": "white",
            "showbackground": true,
            "ticks": "",
            "zerolinecolor": "white"
           },
           "yaxis": {
            "backgroundcolor": "#E5ECF6",
            "gridcolor": "white",
            "gridwidth": 2,
            "linecolor": "white",
            "showbackground": true,
            "ticks": "",
            "zerolinecolor": "white"
           },
           "zaxis": {
            "backgroundcolor": "#E5ECF6",
            "gridcolor": "white",
            "gridwidth": 2,
            "linecolor": "white",
            "showbackground": true,
            "ticks": "",
            "zerolinecolor": "white"
           }
          },
          "shapedefaults": {
           "line": {
            "color": "#2a3f5f"
           }
          },
          "ternary": {
           "aaxis": {
            "gridcolor": "white",
            "linecolor": "white",
            "ticks": ""
           },
           "baxis": {
            "gridcolor": "white",
            "linecolor": "white",
            "ticks": ""
           },
           "bgcolor": "#E5ECF6",
           "caxis": {
            "gridcolor": "white",
            "linecolor": "white",
            "ticks": ""
           }
          },
          "title": {
           "x": 0.05
          },
          "xaxis": {
           "automargin": true,
           "gridcolor": "white",
           "linecolor": "white",
           "ticks": "",
           "title": {
            "standoff": 15
           },
           "zerolinecolor": "white",
           "zerolinewidth": 2
          },
          "yaxis": {
           "automargin": true,
           "gridcolor": "white",
           "linecolor": "white",
           "ticks": "",
           "title": {
            "standoff": 15
           },
           "zerolinecolor": "white",
           "zerolinewidth": 2
          }
         }
        },
        "title": {
         "text": "2016G"
        },
        "xaxis": {
         "anchor": "y",
         "domain": [
          0,
          1
         ],
         "title": {
          "text": "pca1"
         }
        },
        "yaxis": {
         "anchor": "x",
         "domain": [
          0,
          1
         ],
         "title": {
          "text": "pca2"
         }
        }
       }
      }
     },
     "metadata": {},
     "output_type": "display_data"
    }
   ],
   "source": [
    "fig = px.scatter(df,x = 'pca1',y = 'pca2',size = '勝率',color = '當年有無入選',hover_name='Player',title = 年份+location,hover_data=['MIN','PTS','AST','REB','3P%','DIFF_percent'])\n",
    "#for x in range(len(m['new_base_pca'])):\n",
    "#    px.line([0,m['new_base_pca'][x][0]*8],[0,m['new_base_pca'][x][1]*8])\n",
    "for x in range(len(m['new_base_pca'])):\n",
    "    fig.add_shape(\n",
    "            type='line',\n",
    "            x0=0, y0=0,\n",
    "            x1=m['new_base_pca'][x][0]*8,\n",
    "            y1=m['new_base_pca'][x][1]*8,\n",
    "            line = dict(color = 'skyblue')\n",
    "    )\n",
    "    fig.add_annotation(\n",
    "        x = m['new_base_pca'][x][0]*8,\n",
    "        y = m['new_base_pca'][x][1]*8,\n",
    "        ax=0, ay=0,\n",
    "        xanchor=\"auto\",\n",
    "        yanchor=\"auto\",\n",
    "        text=m['new_base_pca_column'][x],\n",
    "        font = dict(color = 'rgb(84,39,143)')\n",
    "    )\n",
    "fig.update_layout({\n",
    "    'paper_bgcolor':'rgb(254,245,244)',\n",
    "    'plot_bgcolor':'rgb(254,245,244)'\n",
    "})\n",
    "fig.show()"
   ]
  },
  {
   "cell_type": "code",
   "execution_count": null,
   "metadata": {},
   "outputs": [],
   "source": []
  },
  {
   "cell_type": "code",
   "execution_count": null,
   "metadata": {},
   "outputs": [],
   "source": []
  }
 ],
 "metadata": {
  "interpreter": {
   "hash": "00a98dc71df6d83950e76f06710a220c85386b74d025762e76b571a2a1a859a5"
  },
  "kernelspec": {
   "display_name": "Python 3.9.7 ('base')",
   "language": "python",
   "name": "python3"
  },
  "language_info": {
   "codemirror_mode": {
    "name": "ipython",
    "version": 3
   },
   "file_extension": ".py",
   "mimetype": "text/x-python",
   "name": "python",
   "nbconvert_exporter": "python",
   "pygments_lexer": "ipython3",
   "version": "3.9.7"
  },
  "orig_nbformat": 4
 },
 "nbformat": 4,
 "nbformat_minor": 2
}
