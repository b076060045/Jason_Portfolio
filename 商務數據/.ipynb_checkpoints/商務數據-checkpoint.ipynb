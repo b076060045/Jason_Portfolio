{
 "cells": [
  {
   "cell_type": "code",
   "execution_count": 41,
   "id": "34055e3d",
   "metadata": {},
   "outputs": [
    {
     "data": {
      "text/html": [
       "        <script type=\"text/javascript\">\n",
       "        window.PlotlyConfig = {MathJaxConfig: 'local'};\n",
       "        if (window.MathJax) {MathJax.Hub.Config({SVG: {font: \"STIX-Web\"}});}\n",
       "        if (typeof require !== 'undefined') {\n",
       "        require.undef(\"plotly\");\n",
       "        requirejs.config({\n",
       "            paths: {\n",
       "                'plotly': ['https://cdn.plot.ly/plotly-2.9.0.min']\n",
       "            }\n",
       "        });\n",
       "        require(['plotly'], function(Plotly) {\n",
       "            window._Plotly = Plotly;\n",
       "        });\n",
       "        }\n",
       "        </script>\n",
       "        "
      ]
     },
     "metadata": {},
     "output_type": "display_data"
    }
   ],
   "source": [
    "import pandas as pd\n",
    "import matplotlib.pyplot as plt\n",
    "from plotly.offline import init_notebook_mode, iplot\n",
    "init_notebook_mode(connected=True)\n",
    "import plotly.graph_objs as go\n",
    "import time\n",
    "import datetime\n",
    "import plotly  \n",
    "import plotly.express as px\n",
    "from datetime import datetime\n",
    "import seaborn as sns"
   ]
  },
  {
   "cell_type": "code",
   "execution_count": 2,
   "id": "c7952ce3",
   "metadata": {},
   "outputs": [
    {
     "name": "stderr",
     "output_type": "stream",
     "text": [
      "/Users/xuzhejia/opt/anaconda3/lib/python3.9/site-packages/IPython/core/interactiveshell.py:3444: DtypeWarning:\n",
      "\n",
      "Columns (0,1,2) have mixed types.Specify dtype option on import or set low_memory=False.\n",
      "\n"
     ]
    }
   ],
   "source": [
    "csv = pd.read_csv('/Users/xuzhejia/Downloads/複本 來源資料_TO中大.csv')\n",
    "csv = csv.iloc[2:,:]\n",
    "csv.columns = csv.iloc[1,:]\n",
    "csv = csv.dropna()\n",
    "csv = csv.iloc[1:,:]"
   ]
  },
  {
   "cell_type": "code",
   "execution_count": 3,
   "id": "f48a40ff",
   "metadata": {},
   "outputs": [],
   "source": [
    "summary = []\n",
    "for x in csv['合計']:\n",
    "    summary.append(x.replace(\",\",\"\"))\n",
    "csv['合計'] = summary\n",
    "csv['合計'] = csv['合計'].astype(int)"
   ]
  },
  {
   "cell_type": "code",
   "execution_count": 4,
   "id": "4594f6f8",
   "metadata": {},
   "outputs": [],
   "source": [
    "csv_groupby_brand_year = csv.groupby([\"品牌\",'年'])"
   ]
  },
  {
   "cell_type": "code",
   "execution_count": 5,
   "id": "7fc60545",
   "metadata": {},
   "outputs": [
    {
     "data": {
      "text/html": [
       "<div>\n",
       "<style scoped>\n",
       "    .dataframe tbody tr th:only-of-type {\n",
       "        vertical-align: middle;\n",
       "    }\n",
       "\n",
       "    .dataframe tbody tr th {\n",
       "        vertical-align: top;\n",
       "    }\n",
       "\n",
       "    .dataframe thead th {\n",
       "        text-align: right;\n",
       "    }\n",
       "</style>\n",
       "<table border=\"1\" class=\"dataframe\">\n",
       "  <thead>\n",
       "    <tr style=\"text-align: right;\">\n",
       "      <th>3</th>\n",
       "      <th>年</th>\n",
       "      <th>月</th>\n",
       "      <th>旬</th>\n",
       "      <th>品牌</th>\n",
       "      <th>產地</th>\n",
       "      <th>區隔二〈大區隔</th>\n",
       "      <th>區隔三〈RV不細分〉</th>\n",
       "      <th>簡車型</th>\n",
       "      <th>合計</th>\n",
       "    </tr>\n",
       "  </thead>\n",
       "  <tbody>\n",
       "    <tr>\n",
       "      <th>68289</th>\n",
       "      <td>2016</td>\n",
       "      <td>12</td>\n",
       "      <td>1</td>\n",
       "      <td>ABARTH</td>\n",
       "      <td>進口</td>\n",
       "      <td>轎車</td>\n",
       "      <td>ECOI</td>\n",
       "      <td>695 TRIBUTO FERRARI</td>\n",
       "      <td>1</td>\n",
       "    </tr>\n",
       "  </tbody>\n",
       "</table>\n",
       "</div>"
      ],
      "text/plain": [
       "3         年   月  旬      品牌  產地 區隔二〈大區隔 區隔三〈RV不細分〉                  簡車型  合計\n",
       "68289  2016  12  1  ABARTH  進口      轎車       ECOI  695 TRIBUTO FERRARI   1"
      ]
     },
     "execution_count": 5,
     "metadata": {},
     "output_type": "execute_result"
    }
   ],
   "source": [
    "csv_groupby_brand_year.get_group(('ABARTH', 2016))"
   ]
  },
  {
   "cell_type": "code",
   "execution_count": 6,
   "id": "b18b6805",
   "metadata": {},
   "outputs": [],
   "source": [
    "group = []\n",
    "brand_year_sum = []\n",
    "for x,y in csv_groupby_brand_year:\n",
    "    group.append(x)\n",
    "for x in group:\n",
    "    brand_year_sum.append((csv_groupby_brand_year.get_group(x))['合計'].sum())"
   ]
  },
  {
   "cell_type": "code",
   "execution_count": 7,
   "id": "9d6d9bd9",
   "metadata": {},
   "outputs": [
    {
     "data": {
      "text/html": [
       "<div>\n",
       "<style scoped>\n",
       "    .dataframe tbody tr th:only-of-type {\n",
       "        vertical-align: middle;\n",
       "    }\n",
       "\n",
       "    .dataframe tbody tr th {\n",
       "        vertical-align: top;\n",
       "    }\n",
       "\n",
       "    .dataframe thead th {\n",
       "        text-align: right;\n",
       "    }\n",
       "</style>\n",
       "<table border=\"1\" class=\"dataframe\">\n",
       "  <thead>\n",
       "    <tr style=\"text-align: right;\">\n",
       "      <th></th>\n",
       "      <th>0</th>\n",
       "      <th>1</th>\n",
       "    </tr>\n",
       "  </thead>\n",
       "  <tbody>\n",
       "    <tr>\n",
       "      <th>0</th>\n",
       "      <td>(ABARTH, 2016)</td>\n",
       "      <td>1</td>\n",
       "    </tr>\n",
       "    <tr>\n",
       "      <th>1</th>\n",
       "      <td>(ABARTH, 2017)</td>\n",
       "      <td>20</td>\n",
       "    </tr>\n",
       "    <tr>\n",
       "      <th>2</th>\n",
       "      <td>(ABARTH, 2018)</td>\n",
       "      <td>20</td>\n",
       "    </tr>\n",
       "    <tr>\n",
       "      <th>3</th>\n",
       "      <td>(ABARTH, 2019)</td>\n",
       "      <td>13</td>\n",
       "    </tr>\n",
       "    <tr>\n",
       "      <th>4</th>\n",
       "      <td>(ABARTH, 2020)</td>\n",
       "      <td>18</td>\n",
       "    </tr>\n",
       "    <tr>\n",
       "      <th>...</th>\n",
       "      <td>...</td>\n",
       "      <td>...</td>\n",
       "    </tr>\n",
       "    <tr>\n",
       "      <th>644</th>\n",
       "      <td>(福田, 2020)</td>\n",
       "      <td>1</td>\n",
       "    </tr>\n",
       "    <tr>\n",
       "      <th>645</th>\n",
       "      <td>(福田, 2013)</td>\n",
       "      <td>76</td>\n",
       "    </tr>\n",
       "    <tr>\n",
       "      <th>646</th>\n",
       "      <td>(福田, 2014)</td>\n",
       "      <td>229</td>\n",
       "    </tr>\n",
       "    <tr>\n",
       "      <th>647</th>\n",
       "      <td>(福田, 2015)</td>\n",
       "      <td>75</td>\n",
       "    </tr>\n",
       "    <tr>\n",
       "      <th>648</th>\n",
       "      <td>(福田, 2016)</td>\n",
       "      <td>54</td>\n",
       "    </tr>\n",
       "  </tbody>\n",
       "</table>\n",
       "<p>649 rows × 2 columns</p>\n",
       "</div>"
      ],
      "text/plain": [
       "                  0    1\n",
       "0    (ABARTH, 2016)    1\n",
       "1    (ABARTH, 2017)   20\n",
       "2    (ABARTH, 2018)   20\n",
       "3    (ABARTH, 2019)   13\n",
       "4    (ABARTH, 2020)   18\n",
       "..              ...  ...\n",
       "644      (福田, 2020)    1\n",
       "645      (福田, 2013)   76\n",
       "646      (福田, 2014)  229\n",
       "647      (福田, 2015)   75\n",
       "648      (福田, 2016)   54\n",
       "\n",
       "[649 rows x 2 columns]"
      ]
     },
     "execution_count": 7,
     "metadata": {},
     "output_type": "execute_result"
    }
   ],
   "source": [
    "brand_year_df = pd.DataFrame([group,brand_year_sum]).T\n",
    "brand_year_df"
   ]
  },
  {
   "cell_type": "code",
   "execution_count": 8,
   "id": "3a857a15",
   "metadata": {},
   "outputs": [
    {
     "data": {
      "text/html": [
       "<div>\n",
       "<style scoped>\n",
       "    .dataframe tbody tr th:only-of-type {\n",
       "        vertical-align: middle;\n",
       "    }\n",
       "\n",
       "    .dataframe tbody tr th {\n",
       "        vertical-align: top;\n",
       "    }\n",
       "\n",
       "    .dataframe thead th {\n",
       "        text-align: right;\n",
       "    }\n",
       "</style>\n",
       "<table border=\"1\" class=\"dataframe\">\n",
       "  <thead>\n",
       "    <tr style=\"text-align: right;\">\n",
       "      <th></th>\n",
       "      <th>0</th>\n",
       "      <th>1</th>\n",
       "      <th>brand</th>\n",
       "      <th>year</th>\n",
       "    </tr>\n",
       "  </thead>\n",
       "  <tbody>\n",
       "    <tr>\n",
       "      <th>0</th>\n",
       "      <td>(ABARTH, 2016)</td>\n",
       "      <td>1</td>\n",
       "      <td>ABARTH</td>\n",
       "      <td>2016</td>\n",
       "    </tr>\n",
       "    <tr>\n",
       "      <th>1</th>\n",
       "      <td>(ABARTH, 2017)</td>\n",
       "      <td>20</td>\n",
       "      <td>ABARTH</td>\n",
       "      <td>2017</td>\n",
       "    </tr>\n",
       "    <tr>\n",
       "      <th>2</th>\n",
       "      <td>(ABARTH, 2018)</td>\n",
       "      <td>20</td>\n",
       "      <td>ABARTH</td>\n",
       "      <td>2018</td>\n",
       "    </tr>\n",
       "    <tr>\n",
       "      <th>3</th>\n",
       "      <td>(ABARTH, 2019)</td>\n",
       "      <td>13</td>\n",
       "      <td>ABARTH</td>\n",
       "      <td>2019</td>\n",
       "    </tr>\n",
       "    <tr>\n",
       "      <th>4</th>\n",
       "      <td>(ABARTH, 2020)</td>\n",
       "      <td>18</td>\n",
       "      <td>ABARTH</td>\n",
       "      <td>2020</td>\n",
       "    </tr>\n",
       "    <tr>\n",
       "      <th>...</th>\n",
       "      <td>...</td>\n",
       "      <td>...</td>\n",
       "      <td>...</td>\n",
       "      <td>...</td>\n",
       "    </tr>\n",
       "    <tr>\n",
       "      <th>644</th>\n",
       "      <td>(福田, 2020)</td>\n",
       "      <td>1</td>\n",
       "      <td>福田</td>\n",
       "      <td>2020</td>\n",
       "    </tr>\n",
       "    <tr>\n",
       "      <th>645</th>\n",
       "      <td>(福田, 2013)</td>\n",
       "      <td>76</td>\n",
       "      <td>福田</td>\n",
       "      <td>2013</td>\n",
       "    </tr>\n",
       "    <tr>\n",
       "      <th>646</th>\n",
       "      <td>(福田, 2014)</td>\n",
       "      <td>229</td>\n",
       "      <td>福田</td>\n",
       "      <td>2014</td>\n",
       "    </tr>\n",
       "    <tr>\n",
       "      <th>647</th>\n",
       "      <td>(福田, 2015)</td>\n",
       "      <td>75</td>\n",
       "      <td>福田</td>\n",
       "      <td>2015</td>\n",
       "    </tr>\n",
       "    <tr>\n",
       "      <th>648</th>\n",
       "      <td>(福田, 2016)</td>\n",
       "      <td>54</td>\n",
       "      <td>福田</td>\n",
       "      <td>2016</td>\n",
       "    </tr>\n",
       "  </tbody>\n",
       "</table>\n",
       "<p>649 rows × 4 columns</p>\n",
       "</div>"
      ],
      "text/plain": [
       "                  0    1   brand  year\n",
       "0    (ABARTH, 2016)    1  ABARTH  2016\n",
       "1    (ABARTH, 2017)   20  ABARTH  2017\n",
       "2    (ABARTH, 2018)   20  ABARTH  2018\n",
       "3    (ABARTH, 2019)   13  ABARTH  2019\n",
       "4    (ABARTH, 2020)   18  ABARTH  2020\n",
       "..              ...  ...     ...   ...\n",
       "644      (福田, 2020)    1      福田  2020\n",
       "645      (福田, 2013)   76      福田  2013\n",
       "646      (福田, 2014)  229      福田  2014\n",
       "647      (福田, 2015)   75      福田  2015\n",
       "648      (福田, 2016)   54      福田  2016\n",
       "\n",
       "[649 rows x 4 columns]"
      ]
     },
     "execution_count": 8,
     "metadata": {},
     "output_type": "execute_result"
    }
   ],
   "source": [
    "brand_year_df['brand'] = brand_year_df[0].map(lambda x:x[0])\n",
    "brand_year_df['year'] = brand_year_df[0].map(lambda x:x[1])\n",
    "brand_year_df"
   ]
  },
  {
   "cell_type": "code",
   "execution_count": 9,
   "id": "2b5d6518",
   "metadata": {},
   "outputs": [
    {
     "data": {
      "text/html": [
       "<div>\n",
       "<style scoped>\n",
       "    .dataframe tbody tr th:only-of-type {\n",
       "        vertical-align: middle;\n",
       "    }\n",
       "\n",
       "    .dataframe tbody tr th {\n",
       "        vertical-align: top;\n",
       "    }\n",
       "\n",
       "    .dataframe thead th {\n",
       "        text-align: right;\n",
       "    }\n",
       "</style>\n",
       "<table border=\"1\" class=\"dataframe\">\n",
       "  <thead>\n",
       "    <tr style=\"text-align: right;\">\n",
       "      <th></th>\n",
       "      <th>0</th>\n",
       "      <th>1</th>\n",
       "      <th>brand</th>\n",
       "      <th>year</th>\n",
       "    </tr>\n",
       "  </thead>\n",
       "  <tbody>\n",
       "    <tr>\n",
       "      <th>89</th>\n",
       "      <td>(BMW, 2016)</td>\n",
       "      <td>4447</td>\n",
       "      <td>BMW</td>\n",
       "      <td>2016</td>\n",
       "    </tr>\n",
       "    <tr>\n",
       "      <th>90</th>\n",
       "      <td>(BMW, 2017)</td>\n",
       "      <td>14922</td>\n",
       "      <td>BMW</td>\n",
       "      <td>2017</td>\n",
       "    </tr>\n",
       "    <tr>\n",
       "      <th>91</th>\n",
       "      <td>(BMW, 2018)</td>\n",
       "      <td>13915</td>\n",
       "      <td>BMW</td>\n",
       "      <td>2018</td>\n",
       "    </tr>\n",
       "    <tr>\n",
       "      <th>92</th>\n",
       "      <td>(BMW, 2019)</td>\n",
       "      <td>14170</td>\n",
       "      <td>BMW</td>\n",
       "      <td>2019</td>\n",
       "    </tr>\n",
       "    <tr>\n",
       "      <th>93</th>\n",
       "      <td>(BMW, 2020)</td>\n",
       "      <td>15137</td>\n",
       "      <td>BMW</td>\n",
       "      <td>2020</td>\n",
       "    </tr>\n",
       "    <tr>\n",
       "      <th>94</th>\n",
       "      <td>(BMW, 2021)</td>\n",
       "      <td>14927</td>\n",
       "      <td>BMW</td>\n",
       "      <td>2021</td>\n",
       "    </tr>\n",
       "    <tr>\n",
       "      <th>95</th>\n",
       "      <td>(BMW, 2022)</td>\n",
       "      <td>1834</td>\n",
       "      <td>BMW</td>\n",
       "      <td>2022</td>\n",
       "    </tr>\n",
       "    <tr>\n",
       "      <th>96</th>\n",
       "      <td>(BMW, 2012)</td>\n",
       "      <td>10864</td>\n",
       "      <td>BMW</td>\n",
       "      <td>2012</td>\n",
       "    </tr>\n",
       "    <tr>\n",
       "      <th>97</th>\n",
       "      <td>(BMW, 2013)</td>\n",
       "      <td>11975</td>\n",
       "      <td>BMW</td>\n",
       "      <td>2013</td>\n",
       "    </tr>\n",
       "    <tr>\n",
       "      <th>98</th>\n",
       "      <td>(BMW, 2014)</td>\n",
       "      <td>13356</td>\n",
       "      <td>BMW</td>\n",
       "      <td>2014</td>\n",
       "    </tr>\n",
       "    <tr>\n",
       "      <th>99</th>\n",
       "      <td>(BMW, 2015)</td>\n",
       "      <td>16093</td>\n",
       "      <td>BMW</td>\n",
       "      <td>2015</td>\n",
       "    </tr>\n",
       "    <tr>\n",
       "      <th>100</th>\n",
       "      <td>(BMW, 2016)</td>\n",
       "      <td>11210</td>\n",
       "      <td>BMW</td>\n",
       "      <td>2016</td>\n",
       "    </tr>\n",
       "  </tbody>\n",
       "</table>\n",
       "</div>"
      ],
      "text/plain": [
       "               0      1 brand  year\n",
       "89   (BMW, 2016)   4447   BMW  2016\n",
       "90   (BMW, 2017)  14922   BMW  2017\n",
       "91   (BMW, 2018)  13915   BMW  2018\n",
       "92   (BMW, 2019)  14170   BMW  2019\n",
       "93   (BMW, 2020)  15137   BMW  2020\n",
       "94   (BMW, 2021)  14927   BMW  2021\n",
       "95   (BMW, 2022)   1834   BMW  2022\n",
       "96   (BMW, 2012)  10864   BMW  2012\n",
       "97   (BMW, 2013)  11975   BMW  2013\n",
       "98   (BMW, 2014)  13356   BMW  2014\n",
       "99   (BMW, 2015)  16093   BMW  2015\n",
       "100  (BMW, 2016)  11210   BMW  2016"
      ]
     },
     "execution_count": 9,
     "metadata": {},
     "output_type": "execute_result"
    }
   ],
   "source": [
    "brand_year_df[brand_year_df['brand'] == 'BMW']"
   ]
  },
  {
   "cell_type": "code",
   "execution_count": 10,
   "id": "f034bb82",
   "metadata": {},
   "outputs": [
    {
     "data": {
      "text/html": [
       "<div>\n",
       "<style scoped>\n",
       "    .dataframe tbody tr th:only-of-type {\n",
       "        vertical-align: middle;\n",
       "    }\n",
       "\n",
       "    .dataframe tbody tr th {\n",
       "        vertical-align: top;\n",
       "    }\n",
       "\n",
       "    .dataframe thead th {\n",
       "        text-align: right;\n",
       "    }\n",
       "</style>\n",
       "<table border=\"1\" class=\"dataframe\">\n",
       "  <thead>\n",
       "    <tr style=\"text-align: right;\">\n",
       "      <th></th>\n",
       "      <th>0</th>\n",
       "      <th>1</th>\n",
       "      <th>brand</th>\n",
       "      <th>year</th>\n",
       "    </tr>\n",
       "  </thead>\n",
       "  <tbody>\n",
       "    <tr>\n",
       "      <th>0</th>\n",
       "      <td>(ABARTH, 2016)</td>\n",
       "      <td>1</td>\n",
       "      <td>ABARTH</td>\n",
       "      <td>2016</td>\n",
       "    </tr>\n",
       "    <tr>\n",
       "      <th>1</th>\n",
       "      <td>(ABARTH, 2017)</td>\n",
       "      <td>20</td>\n",
       "      <td>ABARTH</td>\n",
       "      <td>2017</td>\n",
       "    </tr>\n",
       "    <tr>\n",
       "      <th>2</th>\n",
       "      <td>(ABARTH, 2018)</td>\n",
       "      <td>20</td>\n",
       "      <td>ABARTH</td>\n",
       "      <td>2018</td>\n",
       "    </tr>\n",
       "    <tr>\n",
       "      <th>3</th>\n",
       "      <td>(ABARTH, 2019)</td>\n",
       "      <td>13</td>\n",
       "      <td>ABARTH</td>\n",
       "      <td>2019</td>\n",
       "    </tr>\n",
       "    <tr>\n",
       "      <th>4</th>\n",
       "      <td>(ABARTH, 2020)</td>\n",
       "      <td>18</td>\n",
       "      <td>ABARTH</td>\n",
       "      <td>2020</td>\n",
       "    </tr>\n",
       "    <tr>\n",
       "      <th>...</th>\n",
       "      <td>...</td>\n",
       "      <td>...</td>\n",
       "      <td>...</td>\n",
       "      <td>...</td>\n",
       "    </tr>\n",
       "    <tr>\n",
       "      <th>644</th>\n",
       "      <td>(福田, 2020)</td>\n",
       "      <td>1</td>\n",
       "      <td>福田</td>\n",
       "      <td>2020</td>\n",
       "    </tr>\n",
       "    <tr>\n",
       "      <th>645</th>\n",
       "      <td>(福田, 2013)</td>\n",
       "      <td>76</td>\n",
       "      <td>福田</td>\n",
       "      <td>2013</td>\n",
       "    </tr>\n",
       "    <tr>\n",
       "      <th>646</th>\n",
       "      <td>(福田, 2014)</td>\n",
       "      <td>229</td>\n",
       "      <td>福田</td>\n",
       "      <td>2014</td>\n",
       "    </tr>\n",
       "    <tr>\n",
       "      <th>647</th>\n",
       "      <td>(福田, 2015)</td>\n",
       "      <td>75</td>\n",
       "      <td>福田</td>\n",
       "      <td>2015</td>\n",
       "    </tr>\n",
       "    <tr>\n",
       "      <th>648</th>\n",
       "      <td>(福田, 2016)</td>\n",
       "      <td>54</td>\n",
       "      <td>福田</td>\n",
       "      <td>2016</td>\n",
       "    </tr>\n",
       "  </tbody>\n",
       "</table>\n",
       "<p>649 rows × 4 columns</p>\n",
       "</div>"
      ],
      "text/plain": [
       "                  0    1   brand  year\n",
       "0    (ABARTH, 2016)    1  ABARTH  2016\n",
       "1    (ABARTH, 2017)   20  ABARTH  2017\n",
       "2    (ABARTH, 2018)   20  ABARTH  2018\n",
       "3    (ABARTH, 2019)   13  ABARTH  2019\n",
       "4    (ABARTH, 2020)   18  ABARTH  2020\n",
       "..              ...  ...     ...   ...\n",
       "644      (福田, 2020)    1      福田  2020\n",
       "645      (福田, 2013)   76      福田  2013\n",
       "646      (福田, 2014)  229      福田  2014\n",
       "647      (福田, 2015)   75      福田  2015\n",
       "648      (福田, 2016)   54      福田  2016\n",
       "\n",
       "[649 rows x 4 columns]"
      ]
     },
     "execution_count": 10,
     "metadata": {},
     "output_type": "execute_result"
    }
   ],
   "source": [
    "brand_year_df"
   ]
  },
  {
   "cell_type": "code",
   "execution_count": 11,
   "id": "063d7d01",
   "metadata": {},
   "outputs": [],
   "source": [
    "brand_year_df['year'] = brand_year_df['year'].astype(int)"
   ]
  },
  {
   "cell_type": "code",
   "execution_count": 13,
   "id": "3951aa5b",
   "metadata": {},
   "outputs": [
    {
     "data": {
      "application/vnd.plotly.v1+json": {
       "config": {
        "linkText": "Export to plot.ly",
        "plotlyServerURL": "https://plot.ly",
        "showLink": false
       },
       "data": [
        {
         "marker": {
          "color": "rgba(5, 174, 250, 0.5)",
          "line": {
           "color": "rgb(0,0,0)",
           "width": 0.5
          }
         },
         "name": "AUDI",
         "text": [
          "AUDI",
          "AUDI",
          "AUDI",
          "AUDI",
          "AUDI",
          "AUDI",
          "AUDI",
          "AUDI",
          "AUDI",
          "AUDI",
          "AUDI",
          "AUDI"
         ],
         "type": "bar",
         "x": [
          2012,
          2013,
          2014,
          2015,
          2016,
          2017,
          2018,
          2019,
          2020,
          2021,
          2022
         ],
         "y": [
          3387,
          3393,
          3856,
          4335,
          3883,
          3623,
          2952,
          2075,
          2524,
          2667,
          540
         ]
        },
        {
         "marker": {
          "color": "rgba(1000, 174, 255, 0.5)",
          "line": {
           "color": "rgb(0,0,0)",
           "width": 0.5
          }
         },
         "name": "BENZ",
         "text": [
          "BENZ",
          "BENZ",
          "BENZ",
          "BENZ",
          "BENZ",
          "BENZ",
          "BENZ",
          "BENZ",
          "BENZ",
          "BENZ",
          "BENZ",
          "BENZ"
         ],
         "type": "bar",
         "x": [
          2012,
          2013,
          2014,
          2015,
          2016,
          2017,
          2018,
          2019,
          2020,
          2021,
          2022
         ],
         "y": [
          11657,
          14183,
          15554,
          17957,
          21418,
          23486,
          25421,
          24463,
          24123,
          23072,
          3243
         ]
        },
        {
         "marker": {
          "color": "rgba(80, 400, 255, 0.5)",
          "line": {
           "color": "rgb(0,0,0)",
           "width": 0.5
          }
         },
         "name": "BMW",
         "text": [
          "BMW",
          "BMW",
          "BMW",
          "BMW",
          "BMW",
          "BMW",
          "BMW",
          "BMW",
          "BMW",
          "BMW",
          "BMW",
          "BMW"
         ],
         "type": "bar",
         "x": [
          2012,
          2013,
          2014,
          2015,
          2016,
          2017,
          2018,
          2019,
          2020,
          2021,
          2022
         ],
         "y": [
          10864,
          11975,
          13356,
          16093,
          15657,
          14922,
          13915,
          14170,
          15137,
          14927,
          1834
         ]
        },
        {
         "marker": {
          "color": "rgba(255, 1, 255, 0.5)",
          "line": {
           "color": "rgb(0,0,0)",
           "width": 0.5
          }
         },
         "name": "HONDA",
         "text": [
          "HONDA",
          "HONDA",
          "HONDA",
          "HONDA",
          "HONDA",
          "HONDA",
          "HONDA",
          "HONDA",
          "HONDA",
          "HONDA",
          "HONDA",
          "HONDA"
         ],
         "type": "bar",
         "x": [
          2012,
          2013,
          2014,
          2015,
          2016,
          2017,
          2018,
          2019,
          2020,
          2021,
          2022
         ],
         "y": [
          15711,
          20932,
          19394,
          22375,
          22172,
          27349,
          32098,
          26468,
          24424,
          22916,
          2935
         ]
        },
        {
         "marker": {
          "color": "rgba(255, 174, 20, 0.5)",
          "line": {
           "color": "rgb(0,0,0)",
           "width": 0.5
          }
         },
         "name": "HYUNDAI",
         "text": [
          "HYUNDAI",
          "HYUNDAI",
          "HYUNDAI",
          "HYUNDAI",
          "HYUNDAI",
          "HYUNDAI",
          "HYUNDAI",
          "HYUNDAI",
          "HYUNDAI",
          "HYUNDAI",
          "HYUNDAI",
          "HYUNDAI"
         ],
         "type": "bar",
         "x": [
          2012,
          2013,
          2014,
          2015,
          2016,
          2017,
          2018,
          2019,
          2020,
          2021,
          2022
         ],
         "y": [
          13104,
          12204,
          12320,
          10791,
          10801,
          9629,
          9980,
          8954,
          9865,
          11028,
          1580
         ]
        },
        {
         "marker": {
          "color": "rgba(255, 174, 255, 14)",
          "line": {
           "color": "rgb(0,0,0)",
           "width": 0.5
          }
         },
         "name": "JAUGAR",
         "text": [
          "JAGUAR",
          "JAGUAR",
          "JAGUAR",
          "JAGUAR",
          "JAGUAR",
          "JAGUAR",
          "JAGUAR",
          "JAGUAR",
          "JAGUAR",
          "JAGUAR",
          "JAGUAR",
          "JAGUAR"
         ],
         "type": "bar",
         "x": [
          2012,
          2013,
          2014,
          2015,
          2016,
          2017,
          2018,
          2019,
          2020,
          2021,
          2022
         ],
         "y": [
          165,
          87,
          131,
          184,
          224,
          376,
          319,
          470,
          378,
          271,
          25
         ]
        },
        {
         "marker": {
          "color": "rgba(99, 174, 255, 0.5)",
          "line": {
           "color": "rgb(0,0,0)",
           "width": 0.5
          }
         },
         "name": "LAND ROVER",
         "text": [
          "LAND ROVER",
          "LAND ROVER",
          "LAND ROVER",
          "LAND ROVER",
          "LAND ROVER",
          "LAND ROVER",
          "LAND ROVER",
          "LAND ROVER",
          "LAND ROVER",
          "LAND ROVER",
          "LAND ROVER",
          "LAND ROVER"
         ],
         "type": "bar",
         "x": [
          2012,
          2013,
          2014,
          2015,
          2016,
          2017,
          2018,
          2019,
          2020,
          2021,
          2022
         ],
         "y": [
          431,
          269,
          388,
          442,
          389,
          452,
          626,
          893,
          1434,
          1493,
          158
         ]
        },
        {
         "marker": {
          "color": "rgba(255, 174,130, 0.5)",
          "line": {
           "color": "rgb(0,0,0)",
           "width": 0.5
          }
         },
         "name": "MAZADA",
         "text": [],
         "type": "bar",
         "x": [],
         "y": []
        },
        {
         "marker": {
          "color": "rgba(2, 174, 255, 500)",
          "line": {
           "color": "rgb(0,0,0)",
           "width": 0.5
          }
         },
         "name": "MITSUBISHI",
         "text": [
          "MITSUBISHI",
          "MITSUBISHI",
          "MITSUBISHI",
          "MITSUBISHI",
          "MITSUBISHI",
          "MITSUBISHI",
          "MITSUBISHI",
          "MITSUBISHI",
          "MITSUBISHI",
          "MITSUBISHI",
          "MITSUBISHI",
          "MITSUBISHI"
         ],
         "type": "bar",
         "x": [
          2012,
          2013,
          2014,
          2015,
          2016,
          2017,
          2018,
          2019,
          2020,
          2021,
          2022
         ],
         "y": [
          41796,
          34927,
          33784,
          36088,
          38257,
          38738,
          41602,
          38573,
          40072,
          39563,
          4075
         ]
        },
        {
         "marker": {
          "color": "rgba(255, 1, 255, 450)",
          "line": {
           "color": "rgb(0,0,0)",
           "width": 0.5
          }
         },
         "name": "PORSCHE",
         "text": [
          "PORSCHE",
          "PORSCHE",
          "PORSCHE",
          "PORSCHE",
          "PORSCHE",
          "PORSCHE",
          "PORSCHE",
          "PORSCHE",
          "PORSCHE",
          "PORSCHE",
          "PORSCHE",
          "PORSCHE"
         ],
         "type": "bar",
         "x": [
          2012,
          2013,
          2014,
          2015,
          2016,
          2017,
          2018,
          2019,
          2020,
          2021,
          2022
         ],
         "y": [
          1694,
          1838,
          2620,
          3100,
          2888,
          2682,
          2985,
          3026,
          3430,
          3991,
          517
         ]
        },
        {
         "marker": {
          "color": "rgba(5, 14, 5, 40)",
          "line": {
           "color": "rgb(0,0,0)",
           "width": 0.5
          }
         },
         "name": "SKODA",
         "text": [
          "SKODA",
          "SKODA",
          "SKODA",
          "SKODA",
          "SKODA",
          "SKODA",
          "SKODA",
          "SKODA",
          "SKODA",
          "SKODA",
          "SKODA",
          "SKODA"
         ],
         "type": "bar",
         "x": [
          2012,
          2013,
          2014,
          2015,
          2016,
          2017,
          2018,
          2019,
          2020,
          2021,
          2022
         ],
         "y": [
          1678,
          1521,
          1773,
          2334,
          3453,
          3881,
          4986,
          4463,
          5562,
          5869,
          461
         ]
        },
        {
         "marker": {
          "color": "rgba(75, 174, 255, 940)",
          "line": {
           "color": "rgb(0,0,0)",
           "width": 0.5
          }
         },
         "name": "SUBARU",
         "text": [
          "SUBARU",
          "SUBARU",
          "SUBARU",
          "SUBARU",
          "SUBARU",
          "SUBARU",
          "SUBARU",
          "SUBARU",
          "SUBARU",
          "SUBARU",
          "SUBARU",
          "SUBARU"
         ],
         "type": "bar",
         "x": [
          2012,
          2013,
          2014,
          2015,
          2016,
          2017,
          2018,
          2019,
          2020,
          2021,
          2022
         ],
         "y": [
          1347,
          3180,
          4351,
          5639,
          6090,
          6157,
          6673,
          4967,
          3039,
          2856,
          67
         ]
        },
        {
         "marker": {
          "color": "rgba(255, 1, 5, 400)",
          "line": {
           "color": "rgb(0,0,0)",
           "width": 0.5
          }
         },
         "name": "SUZUKI",
         "text": [
          "SUZUKI",
          "SUZUKI",
          "SUZUKI",
          "SUZUKI",
          "SUZUKI",
          "SUZUKI",
          "SUZUKI",
          "SUZUKI",
          "SUZUKI",
          "SUZUKI",
          "SUZUKI",
          "SUZUKI"
         ],
         "type": "bar",
         "x": [
          2012,
          2013,
          2014,
          2015,
          2016,
          2017,
          2018,
          2019,
          2020,
          2021,
          2022
         ],
         "y": [
          3359,
          4234,
          4600,
          4516,
          5167,
          7874,
          8148,
          6490,
          8004,
          6007,
          232
         ]
        },
        {
         "marker": {
          "color": "rgba(500, 400, 55, 40)",
          "line": {
           "color": "rgb(0,0,0)",
           "width": 0.5
          }
         },
         "name": "TESLA",
         "text": [
          "TESLA",
          "TESLA",
          "TESLA",
          "TESLA",
          "TESLA",
          "TESLA",
          "TESLA",
          "TESLA",
          "TESLA",
          "TESLA",
          "TESLA"
         ],
         "type": "bar",
         "x": [
          2013,
          2014,
          2015,
          2016,
          2017,
          2018,
          2019,
          2020,
          2021,
          2022
         ],
         "y": [
          1,
          9,
          6,
          6,
          503,
          423,
          2406,
          4381,
          4385,
          148
         ]
        },
        {
         "marker": {
          "color": "rgba(5, 40, 50, 4)",
          "line": {
           "color": "rgb(0,0,0)",
           "width": 0.5
          }
         },
         "name": "TOYOTA",
         "text": [
          "TOYOTA",
          "TOYOTA",
          "TOYOTA",
          "TOYOTA",
          "TOYOTA",
          "TOYOTA",
          "TOYOTA",
          "TOYOTA",
          "TOYOTA",
          "TOYOTA",
          "TOYOTA",
          "TOYOTA"
         ],
         "type": "bar",
         "x": [
          2012,
          2013,
          2014,
          2015,
          2016,
          2017,
          2018,
          2019,
          2020,
          2021,
          2022
         ],
         "y": [
          107774,
          107622,
          112746,
          112511,
          116192,
          105077,
          104621,
          117384,
          123180,
          126799,
          15859
         ]
        },
        {
         "marker": {
          "color": "rgba(255, 174, 255, 40)",
          "line": {
           "color": "rgb(0,0,0)",
           "width": 0.5
          }
         },
         "name": "VOLVO",
         "text": [
          "VOLVO",
          "VOLVO",
          "VOLVO",
          "VOLVO",
          "VOLVO",
          "VOLVO",
          "VOLVO",
          "VOLVO",
          "VOLVO",
          "VOLVO",
          "VOLVO",
          "VOLVO"
         ],
         "type": "bar",
         "x": [
          2012,
          2013,
          2014,
          2015,
          2016,
          2017,
          2018,
          2019,
          2020,
          2021,
          2022
         ],
         "y": [
          3530,
          3694,
          3769,
          4189,
          3497,
          3855,
          4904,
          5295,
          5717,
          6974,
          564
         ]
        },
        {
         "marker": {
          "color": "rgba(255, 174, 255, 40)",
          "line": {
           "color": "rgb(0,0,0)",
           "width": 0.5
          }
         },
         "name": "VW",
         "text": [
          "VW",
          "VW",
          "VW",
          "VW",
          "VW",
          "VW",
          "VW",
          "VW",
          "VW",
          "VW",
          "VW",
          "VW"
         ],
         "type": "bar",
         "x": [
          2012,
          2013,
          2014,
          2015,
          2016,
          2017,
          2018,
          2019,
          2020,
          2021,
          2022
         ],
         "y": [
          11287,
          8416,
          11038,
          9141,
          8368,
          10626,
          13338,
          11936,
          10886,
          10479,
          1261
         ]
        }
       ],
       "layout": {
        "barmode": "stack",
        "height": 800,
        "template": {
         "data": {
          "bar": [
           {
            "error_x": {
             "color": "#2a3f5f"
            },
            "error_y": {
             "color": "#2a3f5f"
            },
            "marker": {
             "line": {
              "color": "#E5ECF6",
              "width": 0.5
             },
             "pattern": {
              "fillmode": "overlay",
              "size": 10,
              "solidity": 0.2
             }
            },
            "type": "bar"
           }
          ],
          "barpolar": [
           {
            "marker": {
             "line": {
              "color": "#E5ECF6",
              "width": 0.5
             },
             "pattern": {
              "fillmode": "overlay",
              "size": 10,
              "solidity": 0.2
             }
            },
            "type": "barpolar"
           }
          ],
          "carpet": [
           {
            "aaxis": {
             "endlinecolor": "#2a3f5f",
             "gridcolor": "white",
             "linecolor": "white",
             "minorgridcolor": "white",
             "startlinecolor": "#2a3f5f"
            },
            "baxis": {
             "endlinecolor": "#2a3f5f",
             "gridcolor": "white",
             "linecolor": "white",
             "minorgridcolor": "white",
             "startlinecolor": "#2a3f5f"
            },
            "type": "carpet"
           }
          ],
          "choropleth": [
           {
            "colorbar": {
             "outlinewidth": 0,
             "ticks": ""
            },
            "type": "choropleth"
           }
          ],
          "contour": [
           {
            "colorbar": {
             "outlinewidth": 0,
             "ticks": ""
            },
            "colorscale": [
             [
              0,
              "#0d0887"
             ],
             [
              0.1111111111111111,
              "#46039f"
             ],
             [
              0.2222222222222222,
              "#7201a8"
             ],
             [
              0.3333333333333333,
              "#9c179e"
             ],
             [
              0.4444444444444444,
              "#bd3786"
             ],
             [
              0.5555555555555556,
              "#d8576b"
             ],
             [
              0.6666666666666666,
              "#ed7953"
             ],
             [
              0.7777777777777778,
              "#fb9f3a"
             ],
             [
              0.8888888888888888,
              "#fdca26"
             ],
             [
              1,
              "#f0f921"
             ]
            ],
            "type": "contour"
           }
          ],
          "contourcarpet": [
           {
            "colorbar": {
             "outlinewidth": 0,
             "ticks": ""
            },
            "type": "contourcarpet"
           }
          ],
          "heatmap": [
           {
            "colorbar": {
             "outlinewidth": 0,
             "ticks": ""
            },
            "colorscale": [
             [
              0,
              "#0d0887"
             ],
             [
              0.1111111111111111,
              "#46039f"
             ],
             [
              0.2222222222222222,
              "#7201a8"
             ],
             [
              0.3333333333333333,
              "#9c179e"
             ],
             [
              0.4444444444444444,
              "#bd3786"
             ],
             [
              0.5555555555555556,
              "#d8576b"
             ],
             [
              0.6666666666666666,
              "#ed7953"
             ],
             [
              0.7777777777777778,
              "#fb9f3a"
             ],
             [
              0.8888888888888888,
              "#fdca26"
             ],
             [
              1,
              "#f0f921"
             ]
            ],
            "type": "heatmap"
           }
          ],
          "heatmapgl": [
           {
            "colorbar": {
             "outlinewidth": 0,
             "ticks": ""
            },
            "colorscale": [
             [
              0,
              "#0d0887"
             ],
             [
              0.1111111111111111,
              "#46039f"
             ],
             [
              0.2222222222222222,
              "#7201a8"
             ],
             [
              0.3333333333333333,
              "#9c179e"
             ],
             [
              0.4444444444444444,
              "#bd3786"
             ],
             [
              0.5555555555555556,
              "#d8576b"
             ],
             [
              0.6666666666666666,
              "#ed7953"
             ],
             [
              0.7777777777777778,
              "#fb9f3a"
             ],
             [
              0.8888888888888888,
              "#fdca26"
             ],
             [
              1,
              "#f0f921"
             ]
            ],
            "type": "heatmapgl"
           }
          ],
          "histogram": [
           {
            "marker": {
             "pattern": {
              "fillmode": "overlay",
              "size": 10,
              "solidity": 0.2
             }
            },
            "type": "histogram"
           }
          ],
          "histogram2d": [
           {
            "colorbar": {
             "outlinewidth": 0,
             "ticks": ""
            },
            "colorscale": [
             [
              0,
              "#0d0887"
             ],
             [
              0.1111111111111111,
              "#46039f"
             ],
             [
              0.2222222222222222,
              "#7201a8"
             ],
             [
              0.3333333333333333,
              "#9c179e"
             ],
             [
              0.4444444444444444,
              "#bd3786"
             ],
             [
              0.5555555555555556,
              "#d8576b"
             ],
             [
              0.6666666666666666,
              "#ed7953"
             ],
             [
              0.7777777777777778,
              "#fb9f3a"
             ],
             [
              0.8888888888888888,
              "#fdca26"
             ],
             [
              1,
              "#f0f921"
             ]
            ],
            "type": "histogram2d"
           }
          ],
          "histogram2dcontour": [
           {
            "colorbar": {
             "outlinewidth": 0,
             "ticks": ""
            },
            "colorscale": [
             [
              0,
              "#0d0887"
             ],
             [
              0.1111111111111111,
              "#46039f"
             ],
             [
              0.2222222222222222,
              "#7201a8"
             ],
             [
              0.3333333333333333,
              "#9c179e"
             ],
             [
              0.4444444444444444,
              "#bd3786"
             ],
             [
              0.5555555555555556,
              "#d8576b"
             ],
             [
              0.6666666666666666,
              "#ed7953"
             ],
             [
              0.7777777777777778,
              "#fb9f3a"
             ],
             [
              0.8888888888888888,
              "#fdca26"
             ],
             [
              1,
              "#f0f921"
             ]
            ],
            "type": "histogram2dcontour"
           }
          ],
          "mesh3d": [
           {
            "colorbar": {
             "outlinewidth": 0,
             "ticks": ""
            },
            "type": "mesh3d"
           }
          ],
          "parcoords": [
           {
            "line": {
             "colorbar": {
              "outlinewidth": 0,
              "ticks": ""
             }
            },
            "type": "parcoords"
           }
          ],
          "pie": [
           {
            "automargin": true,
            "type": "pie"
           }
          ],
          "scatter": [
           {
            "marker": {
             "colorbar": {
              "outlinewidth": 0,
              "ticks": ""
             }
            },
            "type": "scatter"
           }
          ],
          "scatter3d": [
           {
            "line": {
             "colorbar": {
              "outlinewidth": 0,
              "ticks": ""
             }
            },
            "marker": {
             "colorbar": {
              "outlinewidth": 0,
              "ticks": ""
             }
            },
            "type": "scatter3d"
           }
          ],
          "scattercarpet": [
           {
            "marker": {
             "colorbar": {
              "outlinewidth": 0,
              "ticks": ""
             }
            },
            "type": "scattercarpet"
           }
          ],
          "scattergeo": [
           {
            "marker": {
             "colorbar": {
              "outlinewidth": 0,
              "ticks": ""
             }
            },
            "type": "scattergeo"
           }
          ],
          "scattergl": [
           {
            "marker": {
             "colorbar": {
              "outlinewidth": 0,
              "ticks": ""
             }
            },
            "type": "scattergl"
           }
          ],
          "scattermapbox": [
           {
            "marker": {
             "colorbar": {
              "outlinewidth": 0,
              "ticks": ""
             }
            },
            "type": "scattermapbox"
           }
          ],
          "scatterpolar": [
           {
            "marker": {
             "colorbar": {
              "outlinewidth": 0,
              "ticks": ""
             }
            },
            "type": "scatterpolar"
           }
          ],
          "scatterpolargl": [
           {
            "marker": {
             "colorbar": {
              "outlinewidth": 0,
              "ticks": ""
             }
            },
            "type": "scatterpolargl"
           }
          ],
          "scatterternary": [
           {
            "marker": {
             "colorbar": {
              "outlinewidth": 0,
              "ticks": ""
             }
            },
            "type": "scatterternary"
           }
          ],
          "surface": [
           {
            "colorbar": {
             "outlinewidth": 0,
             "ticks": ""
            },
            "colorscale": [
             [
              0,
              "#0d0887"
             ],
             [
              0.1111111111111111,
              "#46039f"
             ],
             [
              0.2222222222222222,
              "#7201a8"
             ],
             [
              0.3333333333333333,
              "#9c179e"
             ],
             [
              0.4444444444444444,
              "#bd3786"
             ],
             [
              0.5555555555555556,
              "#d8576b"
             ],
             [
              0.6666666666666666,
              "#ed7953"
             ],
             [
              0.7777777777777778,
              "#fb9f3a"
             ],
             [
              0.8888888888888888,
              "#fdca26"
             ],
             [
              1,
              "#f0f921"
             ]
            ],
            "type": "surface"
           }
          ],
          "table": [
           {
            "cells": {
             "fill": {
              "color": "#EBF0F8"
             },
             "line": {
              "color": "white"
             }
            },
            "header": {
             "fill": {
              "color": "#C8D4E3"
             },
             "line": {
              "color": "white"
             }
            },
            "type": "table"
           }
          ]
         },
         "layout": {
          "annotationdefaults": {
           "arrowcolor": "#2a3f5f",
           "arrowhead": 0,
           "arrowwidth": 1
          },
          "autotypenumbers": "strict",
          "coloraxis": {
           "colorbar": {
            "outlinewidth": 0,
            "ticks": ""
           }
          },
          "colorscale": {
           "diverging": [
            [
             0,
             "#8e0152"
            ],
            [
             0.1,
             "#c51b7d"
            ],
            [
             0.2,
             "#de77ae"
            ],
            [
             0.3,
             "#f1b6da"
            ],
            [
             0.4,
             "#fde0ef"
            ],
            [
             0.5,
             "#f7f7f7"
            ],
            [
             0.6,
             "#e6f5d0"
            ],
            [
             0.7,
             "#b8e186"
            ],
            [
             0.8,
             "#7fbc41"
            ],
            [
             0.9,
             "#4d9221"
            ],
            [
             1,
             "#276419"
            ]
           ],
           "sequential": [
            [
             0,
             "#0d0887"
            ],
            [
             0.1111111111111111,
             "#46039f"
            ],
            [
             0.2222222222222222,
             "#7201a8"
            ],
            [
             0.3333333333333333,
             "#9c179e"
            ],
            [
             0.4444444444444444,
             "#bd3786"
            ],
            [
             0.5555555555555556,
             "#d8576b"
            ],
            [
             0.6666666666666666,
             "#ed7953"
            ],
            [
             0.7777777777777778,
             "#fb9f3a"
            ],
            [
             0.8888888888888888,
             "#fdca26"
            ],
            [
             1,
             "#f0f921"
            ]
           ],
           "sequentialminus": [
            [
             0,
             "#0d0887"
            ],
            [
             0.1111111111111111,
             "#46039f"
            ],
            [
             0.2222222222222222,
             "#7201a8"
            ],
            [
             0.3333333333333333,
             "#9c179e"
            ],
            [
             0.4444444444444444,
             "#bd3786"
            ],
            [
             0.5555555555555556,
             "#d8576b"
            ],
            [
             0.6666666666666666,
             "#ed7953"
            ],
            [
             0.7777777777777778,
             "#fb9f3a"
            ],
            [
             0.8888888888888888,
             "#fdca26"
            ],
            [
             1,
             "#f0f921"
            ]
           ]
          },
          "colorway": [
           "#636efa",
           "#EF553B",
           "#00cc96",
           "#ab63fa",
           "#FFA15A",
           "#19d3f3",
           "#FF6692",
           "#B6E880",
           "#FF97FF",
           "#FECB52"
          ],
          "font": {
           "color": "#2a3f5f"
          },
          "geo": {
           "bgcolor": "white",
           "lakecolor": "white",
           "landcolor": "#E5ECF6",
           "showlakes": true,
           "showland": true,
           "subunitcolor": "white"
          },
          "hoverlabel": {
           "align": "left"
          },
          "hovermode": "closest",
          "mapbox": {
           "style": "light"
          },
          "paper_bgcolor": "white",
          "plot_bgcolor": "#E5ECF6",
          "polar": {
           "angularaxis": {
            "gridcolor": "white",
            "linecolor": "white",
            "ticks": ""
           },
           "bgcolor": "#E5ECF6",
           "radialaxis": {
            "gridcolor": "white",
            "linecolor": "white",
            "ticks": ""
           }
          },
          "scene": {
           "xaxis": {
            "backgroundcolor": "#E5ECF6",
            "gridcolor": "white",
            "gridwidth": 2,
            "linecolor": "white",
            "showbackground": true,
            "ticks": "",
            "zerolinecolor": "white"
           },
           "yaxis": {
            "backgroundcolor": "#E5ECF6",
            "gridcolor": "white",
            "gridwidth": 2,
            "linecolor": "white",
            "showbackground": true,
            "ticks": "",
            "zerolinecolor": "white"
           },
           "zaxis": {
            "backgroundcolor": "#E5ECF6",
            "gridcolor": "white",
            "gridwidth": 2,
            "linecolor": "white",
            "showbackground": true,
            "ticks": "",
            "zerolinecolor": "white"
           }
          },
          "shapedefaults": {
           "line": {
            "color": "#2a3f5f"
           }
          },
          "ternary": {
           "aaxis": {
            "gridcolor": "white",
            "linecolor": "white",
            "ticks": ""
           },
           "baxis": {
            "gridcolor": "white",
            "linecolor": "white",
            "ticks": ""
           },
           "bgcolor": "#E5ECF6",
           "caxis": {
            "gridcolor": "white",
            "linecolor": "white",
            "ticks": ""
           }
          },
          "title": {
           "x": 0.05
          },
          "xaxis": {
           "automargin": true,
           "gridcolor": "white",
           "linecolor": "white",
           "ticks": "",
           "title": {
            "standoff": 15
           },
           "zerolinecolor": "white",
           "zerolinewidth": 2
          },
          "yaxis": {
           "automargin": true,
           "gridcolor": "white",
           "linecolor": "white",
           "ticks": "",
           "title": {
            "standoff": 15
           },
           "zerolinecolor": "white",
           "zerolinewidth": 2
          }
         }
        },
        "width": 1000
       }
      },
      "text/html": [
       "<div>                            <div id=\"5cbdc2e7-8c19-4a88-b499-f9d86277dbac\" class=\"plotly-graph-div\" style=\"height:800px; width:1000px;\"></div>            <script type=\"text/javascript\">                require([\"plotly\"], function(Plotly) {                    window.PLOTLYENV=window.PLOTLYENV || {};                                    if (document.getElementById(\"5cbdc2e7-8c19-4a88-b499-f9d86277dbac\")) {                    Plotly.newPlot(                        \"5cbdc2e7-8c19-4a88-b499-f9d86277dbac\",                        [{\"marker\":{\"color\":\"rgba(5, 174, 250, 0.5)\",\"line\":{\"color\":\"rgb(0,0,0)\",\"width\":0.5}},\"name\":\"AUDI\",\"text\":[\"AUDI\",\"AUDI\",\"AUDI\",\"AUDI\",\"AUDI\",\"AUDI\",\"AUDI\",\"AUDI\",\"AUDI\",\"AUDI\",\"AUDI\",\"AUDI\"],\"x\":[2012,2013,2014,2015,2016,2017,2018,2019,2020,2021,2022],\"y\":[3387,3393,3856,4335,3883,3623,2952,2075,2524,2667,540],\"type\":\"bar\"},{\"marker\":{\"color\":\"rgba(1000, 174, 255, 0.5)\",\"line\":{\"color\":\"rgb(0,0,0)\",\"width\":0.5}},\"name\":\"BENZ\",\"text\":[\"BENZ\",\"BENZ\",\"BENZ\",\"BENZ\",\"BENZ\",\"BENZ\",\"BENZ\",\"BENZ\",\"BENZ\",\"BENZ\",\"BENZ\",\"BENZ\"],\"x\":[2012,2013,2014,2015,2016,2017,2018,2019,2020,2021,2022],\"y\":[11657,14183,15554,17957,21418,23486,25421,24463,24123,23072,3243],\"type\":\"bar\"},{\"marker\":{\"color\":\"rgba(80, 400, 255, 0.5)\",\"line\":{\"color\":\"rgb(0,0,0)\",\"width\":0.5}},\"name\":\"BMW\",\"text\":[\"BMW\",\"BMW\",\"BMW\",\"BMW\",\"BMW\",\"BMW\",\"BMW\",\"BMW\",\"BMW\",\"BMW\",\"BMW\",\"BMW\"],\"x\":[2012,2013,2014,2015,2016,2017,2018,2019,2020,2021,2022],\"y\":[10864,11975,13356,16093,15657,14922,13915,14170,15137,14927,1834],\"type\":\"bar\"},{\"marker\":{\"color\":\"rgba(255, 1, 255, 0.5)\",\"line\":{\"color\":\"rgb(0,0,0)\",\"width\":0.5}},\"name\":\"HONDA\",\"text\":[\"HONDA\",\"HONDA\",\"HONDA\",\"HONDA\",\"HONDA\",\"HONDA\",\"HONDA\",\"HONDA\",\"HONDA\",\"HONDA\",\"HONDA\",\"HONDA\"],\"x\":[2012,2013,2014,2015,2016,2017,2018,2019,2020,2021,2022],\"y\":[15711,20932,19394,22375,22172,27349,32098,26468,24424,22916,2935],\"type\":\"bar\"},{\"marker\":{\"color\":\"rgba(255, 174, 20, 0.5)\",\"line\":{\"color\":\"rgb(0,0,0)\",\"width\":0.5}},\"name\":\"HYUNDAI\",\"text\":[\"HYUNDAI\",\"HYUNDAI\",\"HYUNDAI\",\"HYUNDAI\",\"HYUNDAI\",\"HYUNDAI\",\"HYUNDAI\",\"HYUNDAI\",\"HYUNDAI\",\"HYUNDAI\",\"HYUNDAI\",\"HYUNDAI\"],\"x\":[2012,2013,2014,2015,2016,2017,2018,2019,2020,2021,2022],\"y\":[13104,12204,12320,10791,10801,9629,9980,8954,9865,11028,1580],\"type\":\"bar\"},{\"marker\":{\"color\":\"rgba(255, 174, 255, 14)\",\"line\":{\"color\":\"rgb(0,0,0)\",\"width\":0.5}},\"name\":\"JAUGAR\",\"text\":[\"JAGUAR\",\"JAGUAR\",\"JAGUAR\",\"JAGUAR\",\"JAGUAR\",\"JAGUAR\",\"JAGUAR\",\"JAGUAR\",\"JAGUAR\",\"JAGUAR\",\"JAGUAR\",\"JAGUAR\"],\"x\":[2012,2013,2014,2015,2016,2017,2018,2019,2020,2021,2022],\"y\":[165,87,131,184,224,376,319,470,378,271,25],\"type\":\"bar\"},{\"marker\":{\"color\":\"rgba(99, 174, 255, 0.5)\",\"line\":{\"color\":\"rgb(0,0,0)\",\"width\":0.5}},\"name\":\"LAND ROVER\",\"text\":[\"LAND ROVER\",\"LAND ROVER\",\"LAND ROVER\",\"LAND ROVER\",\"LAND ROVER\",\"LAND ROVER\",\"LAND ROVER\",\"LAND ROVER\",\"LAND ROVER\",\"LAND ROVER\",\"LAND ROVER\",\"LAND ROVER\"],\"x\":[2012,2013,2014,2015,2016,2017,2018,2019,2020,2021,2022],\"y\":[431,269,388,442,389,452,626,893,1434,1493,158],\"type\":\"bar\"},{\"marker\":{\"color\":\"rgba(255, 174,130, 0.5)\",\"line\":{\"color\":\"rgb(0,0,0)\",\"width\":0.5}},\"name\":\"MAZADA\",\"text\":[],\"x\":[],\"y\":[],\"type\":\"bar\"},{\"marker\":{\"color\":\"rgba(2, 174, 255, 500)\",\"line\":{\"color\":\"rgb(0,0,0)\",\"width\":0.5}},\"name\":\"MITSUBISHI\",\"text\":[\"MITSUBISHI\",\"MITSUBISHI\",\"MITSUBISHI\",\"MITSUBISHI\",\"MITSUBISHI\",\"MITSUBISHI\",\"MITSUBISHI\",\"MITSUBISHI\",\"MITSUBISHI\",\"MITSUBISHI\",\"MITSUBISHI\",\"MITSUBISHI\"],\"x\":[2012,2013,2014,2015,2016,2017,2018,2019,2020,2021,2022],\"y\":[41796,34927,33784,36088,38257,38738,41602,38573,40072,39563,4075],\"type\":\"bar\"},{\"marker\":{\"color\":\"rgba(255, 1, 255, 450)\",\"line\":{\"color\":\"rgb(0,0,0)\",\"width\":0.5}},\"name\":\"PORSCHE\",\"text\":[\"PORSCHE\",\"PORSCHE\",\"PORSCHE\",\"PORSCHE\",\"PORSCHE\",\"PORSCHE\",\"PORSCHE\",\"PORSCHE\",\"PORSCHE\",\"PORSCHE\",\"PORSCHE\",\"PORSCHE\"],\"x\":[2012,2013,2014,2015,2016,2017,2018,2019,2020,2021,2022],\"y\":[1694,1838,2620,3100,2888,2682,2985,3026,3430,3991,517],\"type\":\"bar\"},{\"marker\":{\"color\":\"rgba(5, 14, 5, 40)\",\"line\":{\"color\":\"rgb(0,0,0)\",\"width\":0.5}},\"name\":\"SKODA\",\"text\":[\"SKODA\",\"SKODA\",\"SKODA\",\"SKODA\",\"SKODA\",\"SKODA\",\"SKODA\",\"SKODA\",\"SKODA\",\"SKODA\",\"SKODA\",\"SKODA\"],\"x\":[2012,2013,2014,2015,2016,2017,2018,2019,2020,2021,2022],\"y\":[1678,1521,1773,2334,3453,3881,4986,4463,5562,5869,461],\"type\":\"bar\"},{\"marker\":{\"color\":\"rgba(75, 174, 255, 940)\",\"line\":{\"color\":\"rgb(0,0,0)\",\"width\":0.5}},\"name\":\"SUBARU\",\"text\":[\"SUBARU\",\"SUBARU\",\"SUBARU\",\"SUBARU\",\"SUBARU\",\"SUBARU\",\"SUBARU\",\"SUBARU\",\"SUBARU\",\"SUBARU\",\"SUBARU\",\"SUBARU\"],\"x\":[2012,2013,2014,2015,2016,2017,2018,2019,2020,2021,2022],\"y\":[1347,3180,4351,5639,6090,6157,6673,4967,3039,2856,67],\"type\":\"bar\"},{\"marker\":{\"color\":\"rgba(255, 1, 5, 400)\",\"line\":{\"color\":\"rgb(0,0,0)\",\"width\":0.5}},\"name\":\"SUZUKI\",\"text\":[\"SUZUKI\",\"SUZUKI\",\"SUZUKI\",\"SUZUKI\",\"SUZUKI\",\"SUZUKI\",\"SUZUKI\",\"SUZUKI\",\"SUZUKI\",\"SUZUKI\",\"SUZUKI\",\"SUZUKI\"],\"x\":[2012,2013,2014,2015,2016,2017,2018,2019,2020,2021,2022],\"y\":[3359,4234,4600,4516,5167,7874,8148,6490,8004,6007,232],\"type\":\"bar\"},{\"marker\":{\"color\":\"rgba(500, 400, 55, 40)\",\"line\":{\"color\":\"rgb(0,0,0)\",\"width\":0.5}},\"name\":\"TESLA\",\"text\":[\"TESLA\",\"TESLA\",\"TESLA\",\"TESLA\",\"TESLA\",\"TESLA\",\"TESLA\",\"TESLA\",\"TESLA\",\"TESLA\",\"TESLA\"],\"x\":[2013,2014,2015,2016,2017,2018,2019,2020,2021,2022],\"y\":[1,9,6,6,503,423,2406,4381,4385,148],\"type\":\"bar\"},{\"marker\":{\"color\":\"rgba(5, 40, 50, 4)\",\"line\":{\"color\":\"rgb(0,0,0)\",\"width\":0.5}},\"name\":\"TOYOTA\",\"text\":[\"TOYOTA\",\"TOYOTA\",\"TOYOTA\",\"TOYOTA\",\"TOYOTA\",\"TOYOTA\",\"TOYOTA\",\"TOYOTA\",\"TOYOTA\",\"TOYOTA\",\"TOYOTA\",\"TOYOTA\"],\"x\":[2012,2013,2014,2015,2016,2017,2018,2019,2020,2021,2022],\"y\":[107774,107622,112746,112511,116192,105077,104621,117384,123180,126799,15859],\"type\":\"bar\"},{\"marker\":{\"color\":\"rgba(255, 174, 255, 40)\",\"line\":{\"color\":\"rgb(0,0,0)\",\"width\":0.5}},\"name\":\"VOLVO\",\"text\":[\"VOLVO\",\"VOLVO\",\"VOLVO\",\"VOLVO\",\"VOLVO\",\"VOLVO\",\"VOLVO\",\"VOLVO\",\"VOLVO\",\"VOLVO\",\"VOLVO\",\"VOLVO\"],\"x\":[2012,2013,2014,2015,2016,2017,2018,2019,2020,2021,2022],\"y\":[3530,3694,3769,4189,3497,3855,4904,5295,5717,6974,564],\"type\":\"bar\"},{\"marker\":{\"color\":\"rgba(255, 174, 255, 40)\",\"line\":{\"color\":\"rgb(0,0,0)\",\"width\":0.5}},\"name\":\"VW\",\"text\":[\"VW\",\"VW\",\"VW\",\"VW\",\"VW\",\"VW\",\"VW\",\"VW\",\"VW\",\"VW\",\"VW\",\"VW\"],\"x\":[2012,2013,2014,2015,2016,2017,2018,2019,2020,2021,2022],\"y\":[11287,8416,11038,9141,8368,10626,13338,11936,10886,10479,1261],\"type\":\"bar\"}],                        {\"barmode\":\"stack\",\"height\":800,\"template\":{\"data\":{\"barpolar\":[{\"marker\":{\"line\":{\"color\":\"#E5ECF6\",\"width\":0.5},\"pattern\":{\"fillmode\":\"overlay\",\"size\":10,\"solidity\":0.2}},\"type\":\"barpolar\"}],\"bar\":[{\"error_x\":{\"color\":\"#2a3f5f\"},\"error_y\":{\"color\":\"#2a3f5f\"},\"marker\":{\"line\":{\"color\":\"#E5ECF6\",\"width\":0.5},\"pattern\":{\"fillmode\":\"overlay\",\"size\":10,\"solidity\":0.2}},\"type\":\"bar\"}],\"carpet\":[{\"aaxis\":{\"endlinecolor\":\"#2a3f5f\",\"gridcolor\":\"white\",\"linecolor\":\"white\",\"minorgridcolor\":\"white\",\"startlinecolor\":\"#2a3f5f\"},\"baxis\":{\"endlinecolor\":\"#2a3f5f\",\"gridcolor\":\"white\",\"linecolor\":\"white\",\"minorgridcolor\":\"white\",\"startlinecolor\":\"#2a3f5f\"},\"type\":\"carpet\"}],\"choropleth\":[{\"colorbar\":{\"outlinewidth\":0,\"ticks\":\"\"},\"type\":\"choropleth\"}],\"contourcarpet\":[{\"colorbar\":{\"outlinewidth\":0,\"ticks\":\"\"},\"type\":\"contourcarpet\"}],\"contour\":[{\"colorbar\":{\"outlinewidth\":0,\"ticks\":\"\"},\"colorscale\":[[0.0,\"#0d0887\"],[0.1111111111111111,\"#46039f\"],[0.2222222222222222,\"#7201a8\"],[0.3333333333333333,\"#9c179e\"],[0.4444444444444444,\"#bd3786\"],[0.5555555555555556,\"#d8576b\"],[0.6666666666666666,\"#ed7953\"],[0.7777777777777778,\"#fb9f3a\"],[0.8888888888888888,\"#fdca26\"],[1.0,\"#f0f921\"]],\"type\":\"contour\"}],\"heatmapgl\":[{\"colorbar\":{\"outlinewidth\":0,\"ticks\":\"\"},\"colorscale\":[[0.0,\"#0d0887\"],[0.1111111111111111,\"#46039f\"],[0.2222222222222222,\"#7201a8\"],[0.3333333333333333,\"#9c179e\"],[0.4444444444444444,\"#bd3786\"],[0.5555555555555556,\"#d8576b\"],[0.6666666666666666,\"#ed7953\"],[0.7777777777777778,\"#fb9f3a\"],[0.8888888888888888,\"#fdca26\"],[1.0,\"#f0f921\"]],\"type\":\"heatmapgl\"}],\"heatmap\":[{\"colorbar\":{\"outlinewidth\":0,\"ticks\":\"\"},\"colorscale\":[[0.0,\"#0d0887\"],[0.1111111111111111,\"#46039f\"],[0.2222222222222222,\"#7201a8\"],[0.3333333333333333,\"#9c179e\"],[0.4444444444444444,\"#bd3786\"],[0.5555555555555556,\"#d8576b\"],[0.6666666666666666,\"#ed7953\"],[0.7777777777777778,\"#fb9f3a\"],[0.8888888888888888,\"#fdca26\"],[1.0,\"#f0f921\"]],\"type\":\"heatmap\"}],\"histogram2dcontour\":[{\"colorbar\":{\"outlinewidth\":0,\"ticks\":\"\"},\"colorscale\":[[0.0,\"#0d0887\"],[0.1111111111111111,\"#46039f\"],[0.2222222222222222,\"#7201a8\"],[0.3333333333333333,\"#9c179e\"],[0.4444444444444444,\"#bd3786\"],[0.5555555555555556,\"#d8576b\"],[0.6666666666666666,\"#ed7953\"],[0.7777777777777778,\"#fb9f3a\"],[0.8888888888888888,\"#fdca26\"],[1.0,\"#f0f921\"]],\"type\":\"histogram2dcontour\"}],\"histogram2d\":[{\"colorbar\":{\"outlinewidth\":0,\"ticks\":\"\"},\"colorscale\":[[0.0,\"#0d0887\"],[0.1111111111111111,\"#46039f\"],[0.2222222222222222,\"#7201a8\"],[0.3333333333333333,\"#9c179e\"],[0.4444444444444444,\"#bd3786\"],[0.5555555555555556,\"#d8576b\"],[0.6666666666666666,\"#ed7953\"],[0.7777777777777778,\"#fb9f3a\"],[0.8888888888888888,\"#fdca26\"],[1.0,\"#f0f921\"]],\"type\":\"histogram2d\"}],\"histogram\":[{\"marker\":{\"pattern\":{\"fillmode\":\"overlay\",\"size\":10,\"solidity\":0.2}},\"type\":\"histogram\"}],\"mesh3d\":[{\"colorbar\":{\"outlinewidth\":0,\"ticks\":\"\"},\"type\":\"mesh3d\"}],\"parcoords\":[{\"line\":{\"colorbar\":{\"outlinewidth\":0,\"ticks\":\"\"}},\"type\":\"parcoords\"}],\"pie\":[{\"automargin\":true,\"type\":\"pie\"}],\"scatter3d\":[{\"line\":{\"colorbar\":{\"outlinewidth\":0,\"ticks\":\"\"}},\"marker\":{\"colorbar\":{\"outlinewidth\":0,\"ticks\":\"\"}},\"type\":\"scatter3d\"}],\"scattercarpet\":[{\"marker\":{\"colorbar\":{\"outlinewidth\":0,\"ticks\":\"\"}},\"type\":\"scattercarpet\"}],\"scattergeo\":[{\"marker\":{\"colorbar\":{\"outlinewidth\":0,\"ticks\":\"\"}},\"type\":\"scattergeo\"}],\"scattergl\":[{\"marker\":{\"colorbar\":{\"outlinewidth\":0,\"ticks\":\"\"}},\"type\":\"scattergl\"}],\"scattermapbox\":[{\"marker\":{\"colorbar\":{\"outlinewidth\":0,\"ticks\":\"\"}},\"type\":\"scattermapbox\"}],\"scatterpolargl\":[{\"marker\":{\"colorbar\":{\"outlinewidth\":0,\"ticks\":\"\"}},\"type\":\"scatterpolargl\"}],\"scatterpolar\":[{\"marker\":{\"colorbar\":{\"outlinewidth\":0,\"ticks\":\"\"}},\"type\":\"scatterpolar\"}],\"scatter\":[{\"marker\":{\"colorbar\":{\"outlinewidth\":0,\"ticks\":\"\"}},\"type\":\"scatter\"}],\"scatterternary\":[{\"marker\":{\"colorbar\":{\"outlinewidth\":0,\"ticks\":\"\"}},\"type\":\"scatterternary\"}],\"surface\":[{\"colorbar\":{\"outlinewidth\":0,\"ticks\":\"\"},\"colorscale\":[[0.0,\"#0d0887\"],[0.1111111111111111,\"#46039f\"],[0.2222222222222222,\"#7201a8\"],[0.3333333333333333,\"#9c179e\"],[0.4444444444444444,\"#bd3786\"],[0.5555555555555556,\"#d8576b\"],[0.6666666666666666,\"#ed7953\"],[0.7777777777777778,\"#fb9f3a\"],[0.8888888888888888,\"#fdca26\"],[1.0,\"#f0f921\"]],\"type\":\"surface\"}],\"table\":[{\"cells\":{\"fill\":{\"color\":\"#EBF0F8\"},\"line\":{\"color\":\"white\"}},\"header\":{\"fill\":{\"color\":\"#C8D4E3\"},\"line\":{\"color\":\"white\"}},\"type\":\"table\"}]},\"layout\":{\"annotationdefaults\":{\"arrowcolor\":\"#2a3f5f\",\"arrowhead\":0,\"arrowwidth\":1},\"autotypenumbers\":\"strict\",\"coloraxis\":{\"colorbar\":{\"outlinewidth\":0,\"ticks\":\"\"}},\"colorscale\":{\"diverging\":[[0,\"#8e0152\"],[0.1,\"#c51b7d\"],[0.2,\"#de77ae\"],[0.3,\"#f1b6da\"],[0.4,\"#fde0ef\"],[0.5,\"#f7f7f7\"],[0.6,\"#e6f5d0\"],[0.7,\"#b8e186\"],[0.8,\"#7fbc41\"],[0.9,\"#4d9221\"],[1,\"#276419\"]],\"sequential\":[[0.0,\"#0d0887\"],[0.1111111111111111,\"#46039f\"],[0.2222222222222222,\"#7201a8\"],[0.3333333333333333,\"#9c179e\"],[0.4444444444444444,\"#bd3786\"],[0.5555555555555556,\"#d8576b\"],[0.6666666666666666,\"#ed7953\"],[0.7777777777777778,\"#fb9f3a\"],[0.8888888888888888,\"#fdca26\"],[1.0,\"#f0f921\"]],\"sequentialminus\":[[0.0,\"#0d0887\"],[0.1111111111111111,\"#46039f\"],[0.2222222222222222,\"#7201a8\"],[0.3333333333333333,\"#9c179e\"],[0.4444444444444444,\"#bd3786\"],[0.5555555555555556,\"#d8576b\"],[0.6666666666666666,\"#ed7953\"],[0.7777777777777778,\"#fb9f3a\"],[0.8888888888888888,\"#fdca26\"],[1.0,\"#f0f921\"]]},\"colorway\":[\"#636efa\",\"#EF553B\",\"#00cc96\",\"#ab63fa\",\"#FFA15A\",\"#19d3f3\",\"#FF6692\",\"#B6E880\",\"#FF97FF\",\"#FECB52\"],\"font\":{\"color\":\"#2a3f5f\"},\"geo\":{\"bgcolor\":\"white\",\"lakecolor\":\"white\",\"landcolor\":\"#E5ECF6\",\"showlakes\":true,\"showland\":true,\"subunitcolor\":\"white\"},\"hoverlabel\":{\"align\":\"left\"},\"hovermode\":\"closest\",\"mapbox\":{\"style\":\"light\"},\"paper_bgcolor\":\"white\",\"plot_bgcolor\":\"#E5ECF6\",\"polar\":{\"angularaxis\":{\"gridcolor\":\"white\",\"linecolor\":\"white\",\"ticks\":\"\"},\"bgcolor\":\"#E5ECF6\",\"radialaxis\":{\"gridcolor\":\"white\",\"linecolor\":\"white\",\"ticks\":\"\"}},\"scene\":{\"xaxis\":{\"backgroundcolor\":\"#E5ECF6\",\"gridcolor\":\"white\",\"gridwidth\":2,\"linecolor\":\"white\",\"showbackground\":true,\"ticks\":\"\",\"zerolinecolor\":\"white\"},\"yaxis\":{\"backgroundcolor\":\"#E5ECF6\",\"gridcolor\":\"white\",\"gridwidth\":2,\"linecolor\":\"white\",\"showbackground\":true,\"ticks\":\"\",\"zerolinecolor\":\"white\"},\"zaxis\":{\"backgroundcolor\":\"#E5ECF6\",\"gridcolor\":\"white\",\"gridwidth\":2,\"linecolor\":\"white\",\"showbackground\":true,\"ticks\":\"\",\"zerolinecolor\":\"white\"}},\"shapedefaults\":{\"line\":{\"color\":\"#2a3f5f\"}},\"ternary\":{\"aaxis\":{\"gridcolor\":\"white\",\"linecolor\":\"white\",\"ticks\":\"\"},\"baxis\":{\"gridcolor\":\"white\",\"linecolor\":\"white\",\"ticks\":\"\"},\"bgcolor\":\"#E5ECF6\",\"caxis\":{\"gridcolor\":\"white\",\"linecolor\":\"white\",\"ticks\":\"\"}},\"title\":{\"x\":0.05},\"xaxis\":{\"automargin\":true,\"gridcolor\":\"white\",\"linecolor\":\"white\",\"ticks\":\"\",\"title\":{\"standoff\":15},\"zerolinecolor\":\"white\",\"zerolinewidth\":2},\"yaxis\":{\"automargin\":true,\"gridcolor\":\"white\",\"linecolor\":\"white\",\"ticks\":\"\",\"title\":{\"standoff\":15},\"zerolinecolor\":\"white\",\"zerolinewidth\":2}}},\"width\":1000},                        {\"responsive\": true}                    ).then(function(){\n",
       "                            \n",
       "var gd = document.getElementById('5cbdc2e7-8c19-4a88-b499-f9d86277dbac');\n",
       "var x = new MutationObserver(function (mutations, observer) {{\n",
       "        var display = window.getComputedStyle(gd).display;\n",
       "        if (!display || display === 'none') {{\n",
       "            console.log([gd, 'removed!']);\n",
       "            Plotly.purge(gd);\n",
       "            observer.disconnect();\n",
       "        }}\n",
       "}});\n",
       "\n",
       "// Listen for the removal of the full notebook cells\n",
       "var notebookContainer = gd.closest('#notebook-container');\n",
       "if (notebookContainer) {{\n",
       "    x.observe(notebookContainer, {childList: true});\n",
       "}}\n",
       "\n",
       "// Listen for the clearing of the current output cell\n",
       "var outputEl = gd.closest('.output');\n",
       "if (outputEl) {{\n",
       "    x.observe(outputEl, {childList: true});\n",
       "}}\n",
       "\n",
       "                        })                };                });            </script>        </div>"
      ]
     },
     "metadata": {},
     "output_type": "display_data"
    }
   ],
   "source": [
    "audi = go.Bar(\n",
    "                x = brand_year_df[brand_year_df['brand'] == 'AUDI'].groupby('year')[1].sum().index,\n",
    "                y = brand_year_df[brand_year_df['brand'] == 'AUDI'].groupby('year')[1].sum(),\n",
    "                marker = dict(color = 'rgba(5, 174, 250, 0.5)',\n",
    "                             line=dict(color='rgb(0,0,0)',width=0.5))\n",
    "                ,text = brand_year_df[brand_year_df['brand']=='AUDI']['brand']\n",
    "                ,name = \"AUDI\")\n",
    "\n",
    "benz = go.Bar(\n",
    "                x = brand_year_df[brand_year_df['brand'] == 'BENZ'].groupby('year')[1].sum().index,\n",
    "                y = brand_year_df[brand_year_df['brand'] == 'BENZ'].groupby('year')[1].sum(),\n",
    "                marker = dict(color = 'rgba(1000, 174, 255, 0.5)',\n",
    "                             line=dict(color='rgb(0,0,0)',width=0.5))\n",
    "                ,text = brand_year_df[brand_year_df['brand']=='BENZ']['brand'],name = 'BENZ')\n",
    "bmw = go.Bar(\n",
    "                x = brand_year_df[brand_year_df['brand'] == 'BMW'].groupby('year')[1].sum().index,\n",
    "                y = brand_year_df[brand_year_df['brand'] == 'BMW'].groupby('year')[1].sum(),\n",
    "                marker = dict(color = 'rgba(80, 400, 255, 0.5)',\n",
    "                             line=dict(color='rgb(0,0,0)',width=0.5))\n",
    "                ,text = brand_year_df[brand_year_df['brand']=='BMW']['brand'],name = 'BMW')\n",
    "honda = go.Bar(\n",
    "                x = brand_year_df[brand_year_df['brand'] == 'HONDA'].groupby('year')[1].sum().index,\n",
    "                y = brand_year_df[brand_year_df['brand'] == 'HONDA'].groupby('year')[1].sum(),\n",
    "                marker = dict(color = 'rgba(255, 1, 255, 0.5)',\n",
    "                             line=dict(color='rgb(0,0,0)',width=0.5))\n",
    "                ,text = brand_year_df[brand_year_df['brand']=='HONDA']['brand'],name = \"HONDA\")\n",
    "hyundai = go.Bar(\n",
    "                x =brand_year_df[brand_year_df['brand'] == 'HYUNDAI'].groupby('year')[1].sum().index,\n",
    "                y = brand_year_df[brand_year_df['brand'] == 'HYUNDAI'].groupby('year')[1].sum(),\n",
    "                marker = dict(color = 'rgba(255, 174, 20, 0.5)',\n",
    "                             line=dict(color='rgb(0,0,0)',width=0.5))\n",
    "                ,text = brand_year_df[brand_year_df['brand']=='HYUNDAI']['brand'],name = \"HYUNDAI\")\n",
    "jaguar = go.Bar(\n",
    "                x = brand_year_df[brand_year_df['brand'] == 'JAGUAR'].groupby('year')[1].sum().index,\n",
    "                y = brand_year_df[brand_year_df['brand'] == 'JAGUAR'].groupby('year')[1].sum(),\n",
    "                marker = dict(color = 'rgba(255, 174, 255, 14)',\n",
    "                             line=dict(color='rgb(0,0,0)',width=0.5))\n",
    "                ,text = brand_year_df[brand_year_df['brand']=='JAGUAR']['brand'],name = 'JAUGAR')\n",
    "landrover = go.Bar(\n",
    "                x = brand_year_df[brand_year_df['brand'] == 'LAND ROVER'].groupby('year')[1].sum().index,\n",
    "                y = brand_year_df[brand_year_df['brand'] == 'LAND ROVER'].groupby('year')[1].sum(),\n",
    "                marker = dict(color = 'rgba(99, 174, 255, 0.5)',\n",
    "                             line=dict(color='rgb(0,0,0)',width=0.5))\n",
    "                ,text = brand_year_df[brand_year_df['brand']=='LAND ROVER']['brand'],name = 'LAND ROVER')\n",
    "mazada = go.Bar(\n",
    "                x = brand_year_df[brand_year_df['brand'] == 'MAZADA'].groupby('year')[1].sum().index,\n",
    "                y = brand_year_df[brand_year_df['brand'] == 'MAZADA'].groupby('year')[1].sum(),\n",
    "                marker = dict(color = 'rgba(255, 174,130, 0.5)',\n",
    "                             line=dict(color='rgb(0,0,0)',width=0.5))\n",
    "                ,text = brand_year_df[brand_year_df['brand']=='MAZADA']['brand'],name = \"MAZADA\")\n",
    "nissan = go.Bar(\n",
    "                x = brand_year_df[brand_year_df['brand'] == 'NISSAN'].groupby('year')[1].sum().index,\n",
    "                y = brand_year_df[brand_year_df['brand'] == 'NISSAN'].groupby('year')[1].sum(),\n",
    "                marker = dict(color = 'rgba(255, 100, 155, 15)',\n",
    "                             line=dict(color='rgb(0,0,0)',width=0.5))\n",
    "                ,text = brand_year_df[brand_year_df['brand']=='NISSAN']['brand'],name = 'NISSAN')\n",
    "mitsubishi = go.Bar(\n",
    "                x = brand_year_df[brand_year_df['brand'] == 'MITSUBISHI'].groupby('year')[1].sum().index,\n",
    "                y = brand_year_df[brand_year_df['brand'] == 'MITSUBISHI'].groupby('year')[1].sum(),\n",
    "                marker = dict(color = 'rgba(2, 174, 255, 500)',\n",
    "                             line=dict(color='rgb(0,0,0)',width=0.5))\n",
    "                ,text = brand_year_df[brand_year_df['brand']=='MITSUBISHI']['brand'],name = 'MITSUBISHI')\n",
    "porsche = go.Bar(\n",
    "                x = brand_year_df[brand_year_df['brand'] == 'PORSCHE'].groupby('year')[1].sum().index,\n",
    "                y = brand_year_df[brand_year_df['brand'] == 'PORSCHE'].groupby('year')[1].sum(),\n",
    "                marker = dict(color = 'rgba(255, 1, 255, 450)',\n",
    "                             line=dict(color='rgb(0,0,0)',width=0.5))\n",
    "                ,text = brand_year_df[brand_year_df['brand']=='PORSCHE']['brand'],name = 'PORSCHE')\n",
    "skoda = go.Bar(\n",
    "                x = brand_year_df[brand_year_df['brand'] == 'SKODA'].groupby('year')[1].sum().index,\n",
    "                y = brand_year_df[brand_year_df['brand'] == 'SKODA'].groupby('year')[1].sum(),\n",
    "                marker = dict(color = 'rgba(5, 14, 5, 40)',\n",
    "                             line=dict(color='rgb(0,0,0)',width=0.5))\n",
    "                ,text = brand_year_df[brand_year_df['brand']=='SKODA']['brand'],name = 'SKODA')\n",
    "subaru = go.Bar(\n",
    "                x = brand_year_df[brand_year_df['brand'] == 'SUBARU'].groupby('year')[1].sum().index,\n",
    "                y = brand_year_df[brand_year_df['brand'] == 'SUBARU'].groupby('year')[1].sum(),\n",
    "                marker = dict(color = 'rgba(75, 174, 255, 940)',\n",
    "                             line=dict(color='rgb(0,0,0)',width=0.5))\n",
    "                ,text = brand_year_df[brand_year_df['brand']=='SUBARU']['brand'],name = 'SUBARU')\n",
    "suzuki = go.Bar(\n",
    "                x = brand_year_df[brand_year_df['brand'] == 'SUZUKI'].groupby('year')[1].sum().index,\n",
    "                y = brand_year_df[brand_year_df['brand'] == 'SUZUKI'].groupby('year')[1].sum(),\n",
    "                marker = dict(color = 'rgba(255, 1, 5, 400)',\n",
    "                             line=dict(color='rgb(0,0,0)',width=0.5))\n",
    "                ,text = brand_year_df[brand_year_df['brand']=='SUZUKI']['brand'],name = 'SUZUKI')\n",
    "TESLA = go.Bar(\n",
    "                x = brand_year_df[brand_year_df['brand'] == 'TESLA'].groupby('year')[1].sum().index,\n",
    "                y = brand_year_df[brand_year_df['brand'] == 'TESLA'].groupby('year')[1].sum(),\n",
    "                marker = dict(color = 'rgba(500, 400, 55, 40)',\n",
    "                             line=dict(color='rgb(0,0,0)',width=0.5))\n",
    "                ,text = brand_year_df[brand_year_df['brand']=='TESLA']['brand'],name = 'TESLA')\n",
    "TOYOTA = go.Bar(\n",
    "                x = brand_year_df[brand_year_df['brand'] == 'TOYOTA'].groupby('year')[1].sum().index,\n",
    "                y = brand_year_df[brand_year_df['brand'] == 'TOYOTA'].groupby('year')[1].sum(),\n",
    "                marker = dict(color = 'rgba(5, 40, 50, 4)',\n",
    "                             line=dict(color='rgb(0,0,0)',width=0.5))\n",
    "                ,text = brand_year_df[brand_year_df['brand']=='TOYOTA']['brand'],name = 'TOYOTA')\n",
    "VOLVO = go.Bar(\n",
    "                x = brand_year_df[brand_year_df['brand'] == 'VOLVO'].groupby('year')[1].sum().index,\n",
    "                y = brand_year_df[brand_year_df['brand'] == 'VOLVO'].groupby('year')[1].sum(),\n",
    "                marker = dict(color = 'rgba(255, 174, 255, 40)',\n",
    "                             line=dict(color='rgb(0,0,0)',width=0.5))\n",
    "                ,text = brand_year_df[brand_year_df['brand']=='VOLVO']['brand'],name = 'VOLVO')\n",
    "VW = go.Bar(\n",
    "                x = brand_year_df[brand_year_df['brand'] == 'VW'].groupby('year')[1].sum().index,\n",
    "                y = brand_year_df[brand_year_df['brand'] == 'VW'].groupby('year')[1].sum(),\n",
    "                marker = dict(color = 'rgba(255, 174, 255, 40)',\n",
    "                             line=dict(color='rgb(0,0,0)',width=0.5))\n",
    "                ,text = brand_year_df[brand_year_df['brand']=='VW']['brand'],name = 'VW')\n",
    "\n",
    "data = [audi,benz,bmw,honda,hyundai,jaguar,landrover,mazada,mitsubishi,porsche,skoda,subaru,suzuki,TESLA,TOYOTA,VOLVO,VW]\n",
    "#layout = go.Layout(barmode = \"group\")   \n",
    "layout = go.Layout(width = 1000, height = 800,barmode = \"stack\")  \n",
    "fig = go.Figure(data = data, layout = layout)\n",
    "iplot(fig)"
   ]
  },
  {
   "cell_type": "code",
   "execution_count": 14,
   "id": "b70f16f9",
   "metadata": {},
   "outputs": [
    {
     "data": {
      "application/vnd.plotly.v1+json": {
       "config": {
        "plotlyServerURL": "https://plot.ly"
       },
       "data": [
        {
         "domain": {
          "x": [
           0,
           1
          ],
          "y": [
           0,
           1
          ]
         },
         "hovertemplate": "brand=%{label}<br>1=%{value}<extra></extra>",
         "labels": [
          "ABARTH",
          "ALFA",
          "ASTON MARTIN",
          "AUDI",
          "BENTLEY",
          "BENZ",
          "BMW",
          "BRABUS",
          "CADILLAC",
          "CHEVROLET",
          "CHRYSLER",
          "CITROEN",
          "DODGE",
          "FERRARI",
          "FIAT",
          "FORD",
          "HONDA",
          "HYMER",
          "HYUNDAI",
          "ISUZU",
          "JAGUAR",
          "KIA",
          "LAMBORGHINI",
          "LAND ROVER",
          "LOTUS",
          "LUXGEN",
          "MASERATI",
          "MAZDA",
          "MCLAREN",
          "MINI",
          "MITSUBISHI",
          "NISSAN",
          "PEUGEOT",
          "PORSCHE",
          "ROLLSROYCE",
          "SAAB",
          "SKODA",
          "SSANGYONG",
          "SUBARU",
          "SUZUKI",
          "TESLA",
          "TOYOTA",
          "VOLVO",
          "VW",
          "東風小康"
         ],
         "legendgroup": "",
         "name": "",
         "showlegend": true,
         "textinfo": "percent+label",
         "textposition": "inside",
         "title": {
          "text": "year2022"
         },
         "type": "pie",
         "values": [
          3,
          9,
          4,
          540,
          8,
          3243,
          1834,
          4,
          1,
          3,
          25,
          13,
          3,
          19,
          7,
          2199,
          2935,
          1,
          1580,
          285,
          25,
          187,
          10,
          158,
          4,
          225,
          46,
          1506,
          4,
          143,
          4075,
          3408,
          55,
          517,
          4,
          1,
          461,
          2,
          67,
          232,
          148,
          15859,
          564,
          1261,
          127
         ]
        }
       ],
       "layout": {
        "legend": {
         "tracegroupgap": 0
        },
        "margin": {
         "t": 60
        },
        "template": {
         "data": {
          "bar": [
           {
            "error_x": {
             "color": "#2a3f5f"
            },
            "error_y": {
             "color": "#2a3f5f"
            },
            "marker": {
             "line": {
              "color": "#E5ECF6",
              "width": 0.5
             },
             "pattern": {
              "fillmode": "overlay",
              "size": 10,
              "solidity": 0.2
             }
            },
            "type": "bar"
           }
          ],
          "barpolar": [
           {
            "marker": {
             "line": {
              "color": "#E5ECF6",
              "width": 0.5
             },
             "pattern": {
              "fillmode": "overlay",
              "size": 10,
              "solidity": 0.2
             }
            },
            "type": "barpolar"
           }
          ],
          "carpet": [
           {
            "aaxis": {
             "endlinecolor": "#2a3f5f",
             "gridcolor": "white",
             "linecolor": "white",
             "minorgridcolor": "white",
             "startlinecolor": "#2a3f5f"
            },
            "baxis": {
             "endlinecolor": "#2a3f5f",
             "gridcolor": "white",
             "linecolor": "white",
             "minorgridcolor": "white",
             "startlinecolor": "#2a3f5f"
            },
            "type": "carpet"
           }
          ],
          "choropleth": [
           {
            "colorbar": {
             "outlinewidth": 0,
             "ticks": ""
            },
            "type": "choropleth"
           }
          ],
          "contour": [
           {
            "colorbar": {
             "outlinewidth": 0,
             "ticks": ""
            },
            "colorscale": [
             [
              0,
              "#0d0887"
             ],
             [
              0.1111111111111111,
              "#46039f"
             ],
             [
              0.2222222222222222,
              "#7201a8"
             ],
             [
              0.3333333333333333,
              "#9c179e"
             ],
             [
              0.4444444444444444,
              "#bd3786"
             ],
             [
              0.5555555555555556,
              "#d8576b"
             ],
             [
              0.6666666666666666,
              "#ed7953"
             ],
             [
              0.7777777777777778,
              "#fb9f3a"
             ],
             [
              0.8888888888888888,
              "#fdca26"
             ],
             [
              1,
              "#f0f921"
             ]
            ],
            "type": "contour"
           }
          ],
          "contourcarpet": [
           {
            "colorbar": {
             "outlinewidth": 0,
             "ticks": ""
            },
            "type": "contourcarpet"
           }
          ],
          "heatmap": [
           {
            "colorbar": {
             "outlinewidth": 0,
             "ticks": ""
            },
            "colorscale": [
             [
              0,
              "#0d0887"
             ],
             [
              0.1111111111111111,
              "#46039f"
             ],
             [
              0.2222222222222222,
              "#7201a8"
             ],
             [
              0.3333333333333333,
              "#9c179e"
             ],
             [
              0.4444444444444444,
              "#bd3786"
             ],
             [
              0.5555555555555556,
              "#d8576b"
             ],
             [
              0.6666666666666666,
              "#ed7953"
             ],
             [
              0.7777777777777778,
              "#fb9f3a"
             ],
             [
              0.8888888888888888,
              "#fdca26"
             ],
             [
              1,
              "#f0f921"
             ]
            ],
            "type": "heatmap"
           }
          ],
          "heatmapgl": [
           {
            "colorbar": {
             "outlinewidth": 0,
             "ticks": ""
            },
            "colorscale": [
             [
              0,
              "#0d0887"
             ],
             [
              0.1111111111111111,
              "#46039f"
             ],
             [
              0.2222222222222222,
              "#7201a8"
             ],
             [
              0.3333333333333333,
              "#9c179e"
             ],
             [
              0.4444444444444444,
              "#bd3786"
             ],
             [
              0.5555555555555556,
              "#d8576b"
             ],
             [
              0.6666666666666666,
              "#ed7953"
             ],
             [
              0.7777777777777778,
              "#fb9f3a"
             ],
             [
              0.8888888888888888,
              "#fdca26"
             ],
             [
              1,
              "#f0f921"
             ]
            ],
            "type": "heatmapgl"
           }
          ],
          "histogram": [
           {
            "marker": {
             "pattern": {
              "fillmode": "overlay",
              "size": 10,
              "solidity": 0.2
             }
            },
            "type": "histogram"
           }
          ],
          "histogram2d": [
           {
            "colorbar": {
             "outlinewidth": 0,
             "ticks": ""
            },
            "colorscale": [
             [
              0,
              "#0d0887"
             ],
             [
              0.1111111111111111,
              "#46039f"
             ],
             [
              0.2222222222222222,
              "#7201a8"
             ],
             [
              0.3333333333333333,
              "#9c179e"
             ],
             [
              0.4444444444444444,
              "#bd3786"
             ],
             [
              0.5555555555555556,
              "#d8576b"
             ],
             [
              0.6666666666666666,
              "#ed7953"
             ],
             [
              0.7777777777777778,
              "#fb9f3a"
             ],
             [
              0.8888888888888888,
              "#fdca26"
             ],
             [
              1,
              "#f0f921"
             ]
            ],
            "type": "histogram2d"
           }
          ],
          "histogram2dcontour": [
           {
            "colorbar": {
             "outlinewidth": 0,
             "ticks": ""
            },
            "colorscale": [
             [
              0,
              "#0d0887"
             ],
             [
              0.1111111111111111,
              "#46039f"
             ],
             [
              0.2222222222222222,
              "#7201a8"
             ],
             [
              0.3333333333333333,
              "#9c179e"
             ],
             [
              0.4444444444444444,
              "#bd3786"
             ],
             [
              0.5555555555555556,
              "#d8576b"
             ],
             [
              0.6666666666666666,
              "#ed7953"
             ],
             [
              0.7777777777777778,
              "#fb9f3a"
             ],
             [
              0.8888888888888888,
              "#fdca26"
             ],
             [
              1,
              "#f0f921"
             ]
            ],
            "type": "histogram2dcontour"
           }
          ],
          "mesh3d": [
           {
            "colorbar": {
             "outlinewidth": 0,
             "ticks": ""
            },
            "type": "mesh3d"
           }
          ],
          "parcoords": [
           {
            "line": {
             "colorbar": {
              "outlinewidth": 0,
              "ticks": ""
             }
            },
            "type": "parcoords"
           }
          ],
          "pie": [
           {
            "automargin": true,
            "type": "pie"
           }
          ],
          "scatter": [
           {
            "marker": {
             "colorbar": {
              "outlinewidth": 0,
              "ticks": ""
             }
            },
            "type": "scatter"
           }
          ],
          "scatter3d": [
           {
            "line": {
             "colorbar": {
              "outlinewidth": 0,
              "ticks": ""
             }
            },
            "marker": {
             "colorbar": {
              "outlinewidth": 0,
              "ticks": ""
             }
            },
            "type": "scatter3d"
           }
          ],
          "scattercarpet": [
           {
            "marker": {
             "colorbar": {
              "outlinewidth": 0,
              "ticks": ""
             }
            },
            "type": "scattercarpet"
           }
          ],
          "scattergeo": [
           {
            "marker": {
             "colorbar": {
              "outlinewidth": 0,
              "ticks": ""
             }
            },
            "type": "scattergeo"
           }
          ],
          "scattergl": [
           {
            "marker": {
             "colorbar": {
              "outlinewidth": 0,
              "ticks": ""
             }
            },
            "type": "scattergl"
           }
          ],
          "scattermapbox": [
           {
            "marker": {
             "colorbar": {
              "outlinewidth": 0,
              "ticks": ""
             }
            },
            "type": "scattermapbox"
           }
          ],
          "scatterpolar": [
           {
            "marker": {
             "colorbar": {
              "outlinewidth": 0,
              "ticks": ""
             }
            },
            "type": "scatterpolar"
           }
          ],
          "scatterpolargl": [
           {
            "marker": {
             "colorbar": {
              "outlinewidth": 0,
              "ticks": ""
             }
            },
            "type": "scatterpolargl"
           }
          ],
          "scatterternary": [
           {
            "marker": {
             "colorbar": {
              "outlinewidth": 0,
              "ticks": ""
             }
            },
            "type": "scatterternary"
           }
          ],
          "surface": [
           {
            "colorbar": {
             "outlinewidth": 0,
             "ticks": ""
            },
            "colorscale": [
             [
              0,
              "#0d0887"
             ],
             [
              0.1111111111111111,
              "#46039f"
             ],
             [
              0.2222222222222222,
              "#7201a8"
             ],
             [
              0.3333333333333333,
              "#9c179e"
             ],
             [
              0.4444444444444444,
              "#bd3786"
             ],
             [
              0.5555555555555556,
              "#d8576b"
             ],
             [
              0.6666666666666666,
              "#ed7953"
             ],
             [
              0.7777777777777778,
              "#fb9f3a"
             ],
             [
              0.8888888888888888,
              "#fdca26"
             ],
             [
              1,
              "#f0f921"
             ]
            ],
            "type": "surface"
           }
          ],
          "table": [
           {
            "cells": {
             "fill": {
              "color": "#EBF0F8"
             },
             "line": {
              "color": "white"
             }
            },
            "header": {
             "fill": {
              "color": "#C8D4E3"
             },
             "line": {
              "color": "white"
             }
            },
            "type": "table"
           }
          ]
         },
         "layout": {
          "annotationdefaults": {
           "arrowcolor": "#2a3f5f",
           "arrowhead": 0,
           "arrowwidth": 1
          },
          "autotypenumbers": "strict",
          "coloraxis": {
           "colorbar": {
            "outlinewidth": 0,
            "ticks": ""
           }
          },
          "colorscale": {
           "diverging": [
            [
             0,
             "#8e0152"
            ],
            [
             0.1,
             "#c51b7d"
            ],
            [
             0.2,
             "#de77ae"
            ],
            [
             0.3,
             "#f1b6da"
            ],
            [
             0.4,
             "#fde0ef"
            ],
            [
             0.5,
             "#f7f7f7"
            ],
            [
             0.6,
             "#e6f5d0"
            ],
            [
             0.7,
             "#b8e186"
            ],
            [
             0.8,
             "#7fbc41"
            ],
            [
             0.9,
             "#4d9221"
            ],
            [
             1,
             "#276419"
            ]
           ],
           "sequential": [
            [
             0,
             "#0d0887"
            ],
            [
             0.1111111111111111,
             "#46039f"
            ],
            [
             0.2222222222222222,
             "#7201a8"
            ],
            [
             0.3333333333333333,
             "#9c179e"
            ],
            [
             0.4444444444444444,
             "#bd3786"
            ],
            [
             0.5555555555555556,
             "#d8576b"
            ],
            [
             0.6666666666666666,
             "#ed7953"
            ],
            [
             0.7777777777777778,
             "#fb9f3a"
            ],
            [
             0.8888888888888888,
             "#fdca26"
            ],
            [
             1,
             "#f0f921"
            ]
           ],
           "sequentialminus": [
            [
             0,
             "#0d0887"
            ],
            [
             0.1111111111111111,
             "#46039f"
            ],
            [
             0.2222222222222222,
             "#7201a8"
            ],
            [
             0.3333333333333333,
             "#9c179e"
            ],
            [
             0.4444444444444444,
             "#bd3786"
            ],
            [
             0.5555555555555556,
             "#d8576b"
            ],
            [
             0.6666666666666666,
             "#ed7953"
            ],
            [
             0.7777777777777778,
             "#fb9f3a"
            ],
            [
             0.8888888888888888,
             "#fdca26"
            ],
            [
             1,
             "#f0f921"
            ]
           ]
          },
          "colorway": [
           "#636efa",
           "#EF553B",
           "#00cc96",
           "#ab63fa",
           "#FFA15A",
           "#19d3f3",
           "#FF6692",
           "#B6E880",
           "#FF97FF",
           "#FECB52"
          ],
          "font": {
           "color": "#2a3f5f"
          },
          "geo": {
           "bgcolor": "white",
           "lakecolor": "white",
           "landcolor": "#E5ECF6",
           "showlakes": true,
           "showland": true,
           "subunitcolor": "white"
          },
          "hoverlabel": {
           "align": "left"
          },
          "hovermode": "closest",
          "mapbox": {
           "style": "light"
          },
          "paper_bgcolor": "white",
          "plot_bgcolor": "#E5ECF6",
          "polar": {
           "angularaxis": {
            "gridcolor": "white",
            "linecolor": "white",
            "ticks": ""
           },
           "bgcolor": "#E5ECF6",
           "radialaxis": {
            "gridcolor": "white",
            "linecolor": "white",
            "ticks": ""
           }
          },
          "scene": {
           "xaxis": {
            "backgroundcolor": "#E5ECF6",
            "gridcolor": "white",
            "gridwidth": 2,
            "linecolor": "white",
            "showbackground": true,
            "ticks": "",
            "zerolinecolor": "white"
           },
           "yaxis": {
            "backgroundcolor": "#E5ECF6",
            "gridcolor": "white",
            "gridwidth": 2,
            "linecolor": "white",
            "showbackground": true,
            "ticks": "",
            "zerolinecolor": "white"
           },
           "zaxis": {
            "backgroundcolor": "#E5ECF6",
            "gridcolor": "white",
            "gridwidth": 2,
            "linecolor": "white",
            "showbackground": true,
            "ticks": "",
            "zerolinecolor": "white"
           }
          },
          "shapedefaults": {
           "line": {
            "color": "#2a3f5f"
           }
          },
          "ternary": {
           "aaxis": {
            "gridcolor": "white",
            "linecolor": "white",
            "ticks": ""
           },
           "baxis": {
            "gridcolor": "white",
            "linecolor": "white",
            "ticks": ""
           },
           "bgcolor": "#E5ECF6",
           "caxis": {
            "gridcolor": "white",
            "linecolor": "white",
            "ticks": ""
           }
          },
          "title": {
           "x": 0.05
          },
          "xaxis": {
           "automargin": true,
           "gridcolor": "white",
           "linecolor": "white",
           "ticks": "",
           "title": {
            "standoff": 15
           },
           "zerolinecolor": "white",
           "zerolinewidth": 2
          },
          "yaxis": {
           "automargin": true,
           "gridcolor": "white",
           "linecolor": "white",
           "ticks": "",
           "title": {
            "standoff": 15
           },
           "zerolinecolor": "white",
           "zerolinewidth": 2
          }
         }
        },
        "width": 1000
       }
      },
      "text/html": [
       "<div>                            <div id=\"053f374f-aeec-4512-a2f8-a2ada421eadf\" class=\"plotly-graph-div\" style=\"height:525px; width:1000px;\"></div>            <script type=\"text/javascript\">                require([\"plotly\"], function(Plotly) {                    window.PLOTLYENV=window.PLOTLYENV || {};                                    if (document.getElementById(\"053f374f-aeec-4512-a2f8-a2ada421eadf\")) {                    Plotly.newPlot(                        \"053f374f-aeec-4512-a2f8-a2ada421eadf\",                        [{\"domain\":{\"x\":[0.0,1.0],\"y\":[0.0,1.0]},\"hovertemplate\":\"brand=%{label}<br>1=%{value}<extra></extra>\",\"labels\":[\"ABARTH\",\"ALFA\",\"ASTON MARTIN\",\"AUDI\",\"BENTLEY\",\"BENZ\",\"BMW\",\"BRABUS\",\"CADILLAC\",\"CHEVROLET\",\"CHRYSLER\",\"CITROEN\",\"DODGE\",\"FERRARI\",\"FIAT\",\"FORD\",\"HONDA\",\"HYMER\",\"HYUNDAI\",\"ISUZU\",\"JAGUAR\",\"KIA\",\"LAMBORGHINI\",\"LAND ROVER\",\"LOTUS\",\"LUXGEN\",\"MASERATI\",\"MAZDA\",\"MCLAREN\",\"MINI\",\"MITSUBISHI\",\"NISSAN\",\"PEUGEOT\",\"PORSCHE\",\"ROLLSROYCE\",\"SAAB\",\"SKODA\",\"SSANGYONG\",\"SUBARU\",\"SUZUKI\",\"TESLA\",\"TOYOTA\",\"VOLVO\",\"VW\",\"\\u6771\\u98a8\\u5c0f\\u5eb7\"],\"legendgroup\":\"\",\"name\":\"\",\"showlegend\":true,\"values\":[3,9,4,540,8,3243,1834,4,1,3,25,13,3,19,7,2199,2935,1,1580,285,25,187,10,158,4,225,46,1506,4,143,4075,3408,55,517,4,1,461,2,67,232,148,15859,564,1261,127],\"type\":\"pie\",\"textinfo\":\"percent+label\",\"textposition\":\"inside\",\"title\":{\"text\":\"year2022\"}}],                        {\"template\":{\"data\":{\"bar\":[{\"error_x\":{\"color\":\"#2a3f5f\"},\"error_y\":{\"color\":\"#2a3f5f\"},\"marker\":{\"line\":{\"color\":\"#E5ECF6\",\"width\":0.5},\"pattern\":{\"fillmode\":\"overlay\",\"size\":10,\"solidity\":0.2}},\"type\":\"bar\"}],\"barpolar\":[{\"marker\":{\"line\":{\"color\":\"#E5ECF6\",\"width\":0.5},\"pattern\":{\"fillmode\":\"overlay\",\"size\":10,\"solidity\":0.2}},\"type\":\"barpolar\"}],\"carpet\":[{\"aaxis\":{\"endlinecolor\":\"#2a3f5f\",\"gridcolor\":\"white\",\"linecolor\":\"white\",\"minorgridcolor\":\"white\",\"startlinecolor\":\"#2a3f5f\"},\"baxis\":{\"endlinecolor\":\"#2a3f5f\",\"gridcolor\":\"white\",\"linecolor\":\"white\",\"minorgridcolor\":\"white\",\"startlinecolor\":\"#2a3f5f\"},\"type\":\"carpet\"}],\"choropleth\":[{\"colorbar\":{\"outlinewidth\":0,\"ticks\":\"\"},\"type\":\"choropleth\"}],\"contour\":[{\"colorbar\":{\"outlinewidth\":0,\"ticks\":\"\"},\"colorscale\":[[0.0,\"#0d0887\"],[0.1111111111111111,\"#46039f\"],[0.2222222222222222,\"#7201a8\"],[0.3333333333333333,\"#9c179e\"],[0.4444444444444444,\"#bd3786\"],[0.5555555555555556,\"#d8576b\"],[0.6666666666666666,\"#ed7953\"],[0.7777777777777778,\"#fb9f3a\"],[0.8888888888888888,\"#fdca26\"],[1.0,\"#f0f921\"]],\"type\":\"contour\"}],\"contourcarpet\":[{\"colorbar\":{\"outlinewidth\":0,\"ticks\":\"\"},\"type\":\"contourcarpet\"}],\"heatmap\":[{\"colorbar\":{\"outlinewidth\":0,\"ticks\":\"\"},\"colorscale\":[[0.0,\"#0d0887\"],[0.1111111111111111,\"#46039f\"],[0.2222222222222222,\"#7201a8\"],[0.3333333333333333,\"#9c179e\"],[0.4444444444444444,\"#bd3786\"],[0.5555555555555556,\"#d8576b\"],[0.6666666666666666,\"#ed7953\"],[0.7777777777777778,\"#fb9f3a\"],[0.8888888888888888,\"#fdca26\"],[1.0,\"#f0f921\"]],\"type\":\"heatmap\"}],\"heatmapgl\":[{\"colorbar\":{\"outlinewidth\":0,\"ticks\":\"\"},\"colorscale\":[[0.0,\"#0d0887\"],[0.1111111111111111,\"#46039f\"],[0.2222222222222222,\"#7201a8\"],[0.3333333333333333,\"#9c179e\"],[0.4444444444444444,\"#bd3786\"],[0.5555555555555556,\"#d8576b\"],[0.6666666666666666,\"#ed7953\"],[0.7777777777777778,\"#fb9f3a\"],[0.8888888888888888,\"#fdca26\"],[1.0,\"#f0f921\"]],\"type\":\"heatmapgl\"}],\"histogram\":[{\"marker\":{\"pattern\":{\"fillmode\":\"overlay\",\"size\":10,\"solidity\":0.2}},\"type\":\"histogram\"}],\"histogram2d\":[{\"colorbar\":{\"outlinewidth\":0,\"ticks\":\"\"},\"colorscale\":[[0.0,\"#0d0887\"],[0.1111111111111111,\"#46039f\"],[0.2222222222222222,\"#7201a8\"],[0.3333333333333333,\"#9c179e\"],[0.4444444444444444,\"#bd3786\"],[0.5555555555555556,\"#d8576b\"],[0.6666666666666666,\"#ed7953\"],[0.7777777777777778,\"#fb9f3a\"],[0.8888888888888888,\"#fdca26\"],[1.0,\"#f0f921\"]],\"type\":\"histogram2d\"}],\"histogram2dcontour\":[{\"colorbar\":{\"outlinewidth\":0,\"ticks\":\"\"},\"colorscale\":[[0.0,\"#0d0887\"],[0.1111111111111111,\"#46039f\"],[0.2222222222222222,\"#7201a8\"],[0.3333333333333333,\"#9c179e\"],[0.4444444444444444,\"#bd3786\"],[0.5555555555555556,\"#d8576b\"],[0.6666666666666666,\"#ed7953\"],[0.7777777777777778,\"#fb9f3a\"],[0.8888888888888888,\"#fdca26\"],[1.0,\"#f0f921\"]],\"type\":\"histogram2dcontour\"}],\"mesh3d\":[{\"colorbar\":{\"outlinewidth\":0,\"ticks\":\"\"},\"type\":\"mesh3d\"}],\"parcoords\":[{\"line\":{\"colorbar\":{\"outlinewidth\":0,\"ticks\":\"\"}},\"type\":\"parcoords\"}],\"pie\":[{\"automargin\":true,\"type\":\"pie\"}],\"scatter\":[{\"marker\":{\"colorbar\":{\"outlinewidth\":0,\"ticks\":\"\"}},\"type\":\"scatter\"}],\"scatter3d\":[{\"line\":{\"colorbar\":{\"outlinewidth\":0,\"ticks\":\"\"}},\"marker\":{\"colorbar\":{\"outlinewidth\":0,\"ticks\":\"\"}},\"type\":\"scatter3d\"}],\"scattercarpet\":[{\"marker\":{\"colorbar\":{\"outlinewidth\":0,\"ticks\":\"\"}},\"type\":\"scattercarpet\"}],\"scattergeo\":[{\"marker\":{\"colorbar\":{\"outlinewidth\":0,\"ticks\":\"\"}},\"type\":\"scattergeo\"}],\"scattergl\":[{\"marker\":{\"colorbar\":{\"outlinewidth\":0,\"ticks\":\"\"}},\"type\":\"scattergl\"}],\"scattermapbox\":[{\"marker\":{\"colorbar\":{\"outlinewidth\":0,\"ticks\":\"\"}},\"type\":\"scattermapbox\"}],\"scatterpolar\":[{\"marker\":{\"colorbar\":{\"outlinewidth\":0,\"ticks\":\"\"}},\"type\":\"scatterpolar\"}],\"scatterpolargl\":[{\"marker\":{\"colorbar\":{\"outlinewidth\":0,\"ticks\":\"\"}},\"type\":\"scatterpolargl\"}],\"scatterternary\":[{\"marker\":{\"colorbar\":{\"outlinewidth\":0,\"ticks\":\"\"}},\"type\":\"scatterternary\"}],\"surface\":[{\"colorbar\":{\"outlinewidth\":0,\"ticks\":\"\"},\"colorscale\":[[0.0,\"#0d0887\"],[0.1111111111111111,\"#46039f\"],[0.2222222222222222,\"#7201a8\"],[0.3333333333333333,\"#9c179e\"],[0.4444444444444444,\"#bd3786\"],[0.5555555555555556,\"#d8576b\"],[0.6666666666666666,\"#ed7953\"],[0.7777777777777778,\"#fb9f3a\"],[0.8888888888888888,\"#fdca26\"],[1.0,\"#f0f921\"]],\"type\":\"surface\"}],\"table\":[{\"cells\":{\"fill\":{\"color\":\"#EBF0F8\"},\"line\":{\"color\":\"white\"}},\"header\":{\"fill\":{\"color\":\"#C8D4E3\"},\"line\":{\"color\":\"white\"}},\"type\":\"table\"}]},\"layout\":{\"annotationdefaults\":{\"arrowcolor\":\"#2a3f5f\",\"arrowhead\":0,\"arrowwidth\":1},\"autotypenumbers\":\"strict\",\"coloraxis\":{\"colorbar\":{\"outlinewidth\":0,\"ticks\":\"\"}},\"colorscale\":{\"diverging\":[[0,\"#8e0152\"],[0.1,\"#c51b7d\"],[0.2,\"#de77ae\"],[0.3,\"#f1b6da\"],[0.4,\"#fde0ef\"],[0.5,\"#f7f7f7\"],[0.6,\"#e6f5d0\"],[0.7,\"#b8e186\"],[0.8,\"#7fbc41\"],[0.9,\"#4d9221\"],[1,\"#276419\"]],\"sequential\":[[0.0,\"#0d0887\"],[0.1111111111111111,\"#46039f\"],[0.2222222222222222,\"#7201a8\"],[0.3333333333333333,\"#9c179e\"],[0.4444444444444444,\"#bd3786\"],[0.5555555555555556,\"#d8576b\"],[0.6666666666666666,\"#ed7953\"],[0.7777777777777778,\"#fb9f3a\"],[0.8888888888888888,\"#fdca26\"],[1.0,\"#f0f921\"]],\"sequentialminus\":[[0.0,\"#0d0887\"],[0.1111111111111111,\"#46039f\"],[0.2222222222222222,\"#7201a8\"],[0.3333333333333333,\"#9c179e\"],[0.4444444444444444,\"#bd3786\"],[0.5555555555555556,\"#d8576b\"],[0.6666666666666666,\"#ed7953\"],[0.7777777777777778,\"#fb9f3a\"],[0.8888888888888888,\"#fdca26\"],[1.0,\"#f0f921\"]]},\"colorway\":[\"#636efa\",\"#EF553B\",\"#00cc96\",\"#ab63fa\",\"#FFA15A\",\"#19d3f3\",\"#FF6692\",\"#B6E880\",\"#FF97FF\",\"#FECB52\"],\"font\":{\"color\":\"#2a3f5f\"},\"geo\":{\"bgcolor\":\"white\",\"lakecolor\":\"white\",\"landcolor\":\"#E5ECF6\",\"showlakes\":true,\"showland\":true,\"subunitcolor\":\"white\"},\"hoverlabel\":{\"align\":\"left\"},\"hovermode\":\"closest\",\"mapbox\":{\"style\":\"light\"},\"paper_bgcolor\":\"white\",\"plot_bgcolor\":\"#E5ECF6\",\"polar\":{\"angularaxis\":{\"gridcolor\":\"white\",\"linecolor\":\"white\",\"ticks\":\"\"},\"bgcolor\":\"#E5ECF6\",\"radialaxis\":{\"gridcolor\":\"white\",\"linecolor\":\"white\",\"ticks\":\"\"}},\"scene\":{\"xaxis\":{\"backgroundcolor\":\"#E5ECF6\",\"gridcolor\":\"white\",\"gridwidth\":2,\"linecolor\":\"white\",\"showbackground\":true,\"ticks\":\"\",\"zerolinecolor\":\"white\"},\"yaxis\":{\"backgroundcolor\":\"#E5ECF6\",\"gridcolor\":\"white\",\"gridwidth\":2,\"linecolor\":\"white\",\"showbackground\":true,\"ticks\":\"\",\"zerolinecolor\":\"white\"},\"zaxis\":{\"backgroundcolor\":\"#E5ECF6\",\"gridcolor\":\"white\",\"gridwidth\":2,\"linecolor\":\"white\",\"showbackground\":true,\"ticks\":\"\",\"zerolinecolor\":\"white\"}},\"shapedefaults\":{\"line\":{\"color\":\"#2a3f5f\"}},\"ternary\":{\"aaxis\":{\"gridcolor\":\"white\",\"linecolor\":\"white\",\"ticks\":\"\"},\"baxis\":{\"gridcolor\":\"white\",\"linecolor\":\"white\",\"ticks\":\"\"},\"bgcolor\":\"#E5ECF6\",\"caxis\":{\"gridcolor\":\"white\",\"linecolor\":\"white\",\"ticks\":\"\"}},\"title\":{\"x\":0.05},\"xaxis\":{\"automargin\":true,\"gridcolor\":\"white\",\"linecolor\":\"white\",\"ticks\":\"\",\"title\":{\"standoff\":15},\"zerolinecolor\":\"white\",\"zerolinewidth\":2},\"yaxis\":{\"automargin\":true,\"gridcolor\":\"white\",\"linecolor\":\"white\",\"ticks\":\"\",\"title\":{\"standoff\":15},\"zerolinecolor\":\"white\",\"zerolinewidth\":2}}},\"legend\":{\"tracegroupgap\":0},\"margin\":{\"t\":60},\"width\":1000},                        {\"responsive\": true}                    ).then(function(){\n",
       "                            \n",
       "var gd = document.getElementById('053f374f-aeec-4512-a2f8-a2ada421eadf');\n",
       "var x = new MutationObserver(function (mutations, observer) {{\n",
       "        var display = window.getComputedStyle(gd).display;\n",
       "        if (!display || display === 'none') {{\n",
       "            console.log([gd, 'removed!']);\n",
       "            Plotly.purge(gd);\n",
       "            observer.disconnect();\n",
       "        }}\n",
       "}});\n",
       "\n",
       "// Listen for the removal of the full notebook cells\n",
       "var notebookContainer = gd.closest('#notebook-container');\n",
       "if (notebookContainer) {{\n",
       "    x.observe(notebookContainer, {childList: true});\n",
       "}}\n",
       "\n",
       "// Listen for the clearing of the current output cell\n",
       "var outputEl = gd.closest('.output');\n",
       "if (outputEl) {{\n",
       "    x.observe(outputEl, {childList: true});\n",
       "}}\n",
       "\n",
       "                        })                };                });            </script>        </div>"
      ]
     },
     "metadata": {},
     "output_type": "display_data"
    }
   ],
   "source": [
    "\n",
    "fig = px.pie(brand_year_df[brand_year_df['year'] == 2022],names = 'brand', values = 1,width = 1000)\n",
    "fig.update_traces(textposition='inside', \n",
    "                      textinfo='percent+label',\n",
    "                        title = 'year2022'\n",
    "                  )"
   ]
  },
  {
   "cell_type": "code",
   "execution_count": 15,
   "id": "cce85d16",
   "metadata": {},
   "outputs": [
    {
     "name": "stderr",
     "output_type": "stream",
     "text": [
      "/Users/xuzhejia/opt/anaconda3/lib/python3.9/site-packages/plotly/graph_objs/_deprecations.py:378: DeprecationWarning:\n",
      "\n",
      "plotly.graph_objs.Line is deprecated.\n",
      "Please replace it with one of the following more specific types\n",
      "  - plotly.graph_objs.scatter.Line\n",
      "  - plotly.graph_objs.layout.shape.Line\n",
      "  - etc.\n",
      "\n",
      "\n"
     ]
    },
    {
     "data": {
      "application/vnd.plotly.v1+json": {
       "config": {
        "linkText": "Export to plot.ly",
        "plotlyServerURL": "https://plot.ly",
        "showLink": false
       },
       "data": [
        {
         "marker": {
          "color": "rgba(5, 174, 250, 0.5)",
          "line": {
           "color": "rgb(0,0,0)",
           "width": 0.5
          }
         },
         "name": "AUDI",
         "text": [
          "AUDI",
          "AUDI",
          "AUDI",
          "AUDI",
          "AUDI",
          "AUDI",
          "AUDI",
          "AUDI",
          "AUDI",
          "AUDI",
          "AUDI",
          "AUDI"
         ],
         "type": "scatter",
         "x": [
          2012,
          2013,
          2014,
          2015,
          2016,
          2017,
          2018,
          2019,
          2020,
          2021,
          2022
         ],
         "y": [
          3387,
          3393,
          3856,
          4335,
          3883,
          3623,
          2952,
          2075,
          2524,
          2667,
          540
         ]
        },
        {
         "marker": {
          "color": "rgba(1000, 174, 255, 0.5)",
          "line": {
           "color": "rgb(0,0,0)",
           "width": 0.5
          }
         },
         "name": "BENZ",
         "text": [
          "BENZ",
          "BENZ",
          "BENZ",
          "BENZ",
          "BENZ",
          "BENZ",
          "BENZ",
          "BENZ",
          "BENZ",
          "BENZ",
          "BENZ",
          "BENZ"
         ],
         "type": "scatter",
         "x": [
          2012,
          2013,
          2014,
          2015,
          2016,
          2017,
          2018,
          2019,
          2020,
          2021,
          2022
         ],
         "y": [
          11657,
          14183,
          15554,
          17957,
          21418,
          23486,
          25421,
          24463,
          24123,
          23072,
          3243
         ]
        },
        {
         "marker": {
          "color": "rgba(80, 400, 255, 0.5)",
          "line": {
           "color": "rgb(0,0,0)",
           "width": 0.5
          }
         },
         "name": "BMW",
         "text": [
          "BMW",
          "BMW",
          "BMW",
          "BMW",
          "BMW",
          "BMW",
          "BMW",
          "BMW",
          "BMW",
          "BMW",
          "BMW",
          "BMW"
         ],
         "type": "scatter",
         "x": [
          2012,
          2013,
          2014,
          2015,
          2016,
          2017,
          2018,
          2019,
          2020,
          2021,
          2022
         ],
         "y": [
          10864,
          11975,
          13356,
          16093,
          15657,
          14922,
          13915,
          14170,
          15137,
          14927,
          1834
         ]
        },
        {
         "marker": {
          "color": "rgba(255, 1, 255, 0.5)",
          "line": {
           "color": "rgb(0,0,0)",
           "width": 0.5
          }
         },
         "name": "HONDA",
         "text": [
          "HONDA",
          "HONDA",
          "HONDA",
          "HONDA",
          "HONDA",
          "HONDA",
          "HONDA",
          "HONDA",
          "HONDA",
          "HONDA",
          "HONDA",
          "HONDA"
         ],
         "type": "scatter",
         "x": [
          2012,
          2013,
          2014,
          2015,
          2016,
          2017,
          2018,
          2019,
          2020,
          2021,
          2022
         ],
         "y": [
          15711,
          20932,
          19394,
          22375,
          22172,
          27349,
          32098,
          26468,
          24424,
          22916,
          2935
         ]
        },
        {
         "marker": {
          "color": "rgba(255, 174, 20, 0.5)",
          "line": {
           "color": "rgb(0,0,0)",
           "width": 0.5
          }
         },
         "name": "HYUNDAI",
         "text": [
          "HYUNDAI",
          "HYUNDAI",
          "HYUNDAI",
          "HYUNDAI",
          "HYUNDAI",
          "HYUNDAI",
          "HYUNDAI",
          "HYUNDAI",
          "HYUNDAI",
          "HYUNDAI",
          "HYUNDAI",
          "HYUNDAI"
         ],
         "type": "scatter",
         "x": [
          2012,
          2013,
          2014,
          2015,
          2016,
          2017,
          2018,
          2019,
          2020,
          2021,
          2022
         ],
         "y": [
          13104,
          12204,
          12320,
          10791,
          10801,
          9629,
          9980,
          8954,
          9865,
          11028,
          1580
         ]
        },
        {
         "marker": {
          "color": "rgba(255, 174, 255, 14)",
          "line": {
           "color": "rgb(0,0,0)",
           "width": 0.5
          }
         },
         "name": "JAUGAR",
         "text": [
          "JAGUAR",
          "JAGUAR",
          "JAGUAR",
          "JAGUAR",
          "JAGUAR",
          "JAGUAR",
          "JAGUAR",
          "JAGUAR",
          "JAGUAR",
          "JAGUAR",
          "JAGUAR",
          "JAGUAR"
         ],
         "type": "scatter",
         "x": [
          2012,
          2013,
          2014,
          2015,
          2016,
          2017,
          2018,
          2019,
          2020,
          2021,
          2022
         ],
         "y": [
          165,
          87,
          131,
          184,
          224,
          376,
          319,
          470,
          378,
          271,
          25
         ]
        },
        {
         "marker": {
          "color": "rgba(99, 174, 255, 0.5)",
          "line": {
           "color": "rgb(0,0,0)",
           "width": 0.5
          }
         },
         "name": "LAND ROVER",
         "text": [
          "LAND ROVER",
          "LAND ROVER",
          "LAND ROVER",
          "LAND ROVER",
          "LAND ROVER",
          "LAND ROVER",
          "LAND ROVER",
          "LAND ROVER",
          "LAND ROVER",
          "LAND ROVER",
          "LAND ROVER",
          "LAND ROVER"
         ],
         "type": "scatter",
         "x": [
          2012,
          2013,
          2014,
          2015,
          2016,
          2017,
          2018,
          2019,
          2020,
          2021,
          2022
         ],
         "y": [
          431,
          269,
          388,
          442,
          389,
          452,
          626,
          893,
          1434,
          1493,
          158
         ]
        },
        {
         "marker": {
          "color": "rgba(255, 174,130, 0.5)",
          "line": {
           "color": "rgb(0,0,0)",
           "width": 0.5
          }
         },
         "name": "MAZADA",
         "text": [],
         "type": "scatter",
         "x": [],
         "y": []
        },
        {
         "marker": {
          "color": "rgba(2, 174, 255, 500)",
          "line": {
           "color": "rgb(0,0,0)",
           "width": 0.5
          }
         },
         "name": "MITSUBISHI",
         "text": [
          "MITSUBISHI",
          "MITSUBISHI",
          "MITSUBISHI",
          "MITSUBISHI",
          "MITSUBISHI",
          "MITSUBISHI",
          "MITSUBISHI",
          "MITSUBISHI",
          "MITSUBISHI",
          "MITSUBISHI",
          "MITSUBISHI",
          "MITSUBISHI"
         ],
         "type": "scatter",
         "x": [
          2012,
          2013,
          2014,
          2015,
          2016,
          2017,
          2018,
          2019,
          2020,
          2021,
          2022
         ],
         "y": [
          41796,
          34927,
          33784,
          36088,
          38257,
          38738,
          41602,
          38573,
          40072,
          39563,
          4075
         ]
        },
        {
         "marker": {
          "color": "rgba(255, 1, 255, 450)",
          "line": {
           "color": "rgb(0,0,0)",
           "width": 0.5
          }
         },
         "name": "PORSCHE",
         "text": [
          "PORSCHE",
          "PORSCHE",
          "PORSCHE",
          "PORSCHE",
          "PORSCHE",
          "PORSCHE",
          "PORSCHE",
          "PORSCHE",
          "PORSCHE",
          "PORSCHE",
          "PORSCHE",
          "PORSCHE"
         ],
         "type": "scatter",
         "x": [
          2012,
          2013,
          2014,
          2015,
          2016,
          2017,
          2018,
          2019,
          2020,
          2021,
          2022
         ],
         "y": [
          1694,
          1838,
          2620,
          3100,
          2888,
          2682,
          2985,
          3026,
          3430,
          3991,
          517
         ]
        },
        {
         "marker": {
          "color": "rgba(5, 14, 5, 40)",
          "line": {
           "color": "rgb(0,0,0)",
           "width": 0.5
          }
         },
         "name": "SKODA",
         "text": [
          "SKODA",
          "SKODA",
          "SKODA",
          "SKODA",
          "SKODA",
          "SKODA",
          "SKODA",
          "SKODA",
          "SKODA",
          "SKODA",
          "SKODA",
          "SKODA"
         ],
         "type": "scatter",
         "x": [
          2012,
          2013,
          2014,
          2015,
          2016,
          2017,
          2018,
          2019,
          2020,
          2021,
          2022
         ],
         "y": [
          1678,
          1521,
          1773,
          2334,
          3453,
          3881,
          4986,
          4463,
          5562,
          5869,
          461
         ]
        },
        {
         "marker": {
          "color": "rgba(75, 174, 255, 940)",
          "line": {
           "color": "rgb(0,0,0)",
           "width": 0.5
          }
         },
         "name": "SUBARU",
         "text": [
          "SUBARU",
          "SUBARU",
          "SUBARU",
          "SUBARU",
          "SUBARU",
          "SUBARU",
          "SUBARU",
          "SUBARU",
          "SUBARU",
          "SUBARU",
          "SUBARU",
          "SUBARU"
         ],
         "type": "scatter",
         "x": [
          2012,
          2013,
          2014,
          2015,
          2016,
          2017,
          2018,
          2019,
          2020,
          2021,
          2022
         ],
         "y": [
          1347,
          3180,
          4351,
          5639,
          6090,
          6157,
          6673,
          4967,
          3039,
          2856,
          67
         ]
        },
        {
         "marker": {
          "color": "rgba(255, 1, 5, 400)",
          "line": {
           "color": "rgb(0,0,0)",
           "width": 0.5
          }
         },
         "name": "SUZUKI",
         "text": [
          "SUZUKI",
          "SUZUKI",
          "SUZUKI",
          "SUZUKI",
          "SUZUKI",
          "SUZUKI",
          "SUZUKI",
          "SUZUKI",
          "SUZUKI",
          "SUZUKI",
          "SUZUKI",
          "SUZUKI"
         ],
         "type": "scatter",
         "x": [
          2012,
          2013,
          2014,
          2015,
          2016,
          2017,
          2018,
          2019,
          2020,
          2021,
          2022
         ],
         "y": [
          3359,
          4234,
          4600,
          4516,
          5167,
          7874,
          8148,
          6490,
          8004,
          6007,
          232
         ]
        },
        {
         "marker": {
          "color": "rgba(500, 400, 55, 40)",
          "line": {
           "color": "rgb(0,0,0)",
           "width": 0.5
          }
         },
         "name": "TESLA",
         "text": [
          "TESLA",
          "TESLA",
          "TESLA",
          "TESLA",
          "TESLA",
          "TESLA",
          "TESLA",
          "TESLA",
          "TESLA",
          "TESLA",
          "TESLA"
         ],
         "type": "scatter",
         "x": [
          2013,
          2014,
          2015,
          2016,
          2017,
          2018,
          2019,
          2020,
          2021,
          2022
         ],
         "y": [
          1,
          9,
          6,
          6,
          503,
          423,
          2406,
          4381,
          4385,
          148
         ]
        },
        {
         "marker": {
          "color": "rgba(5, 40, 50, 4)",
          "line": {
           "color": "rgb(0,0,0)",
           "width": 0.5
          }
         },
         "name": "TOYOTA",
         "text": [
          "TOYOTA",
          "TOYOTA",
          "TOYOTA",
          "TOYOTA",
          "TOYOTA",
          "TOYOTA",
          "TOYOTA",
          "TOYOTA",
          "TOYOTA",
          "TOYOTA",
          "TOYOTA",
          "TOYOTA"
         ],
         "type": "scatter",
         "x": [
          2012,
          2013,
          2014,
          2015,
          2016,
          2017,
          2018,
          2019,
          2020,
          2021,
          2022
         ],
         "y": [
          107774,
          107622,
          112746,
          112511,
          116192,
          105077,
          104621,
          117384,
          123180,
          126799,
          15859
         ]
        },
        {
         "marker": {
          "color": "rgba(255, 174, 255, 40)",
          "line": {
           "color": "rgb(0,0,0)",
           "width": 0.5
          }
         },
         "name": "VOLVO",
         "text": [
          "VOLVO",
          "VOLVO",
          "VOLVO",
          "VOLVO",
          "VOLVO",
          "VOLVO",
          "VOLVO",
          "VOLVO",
          "VOLVO",
          "VOLVO",
          "VOLVO",
          "VOLVO"
         ],
         "type": "scatter",
         "x": [
          2012,
          2013,
          2014,
          2015,
          2016,
          2017,
          2018,
          2019,
          2020,
          2021,
          2022
         ],
         "y": [
          3530,
          3694,
          3769,
          4189,
          3497,
          3855,
          4904,
          5295,
          5717,
          6974,
          564
         ]
        },
        {
         "marker": {
          "color": "rgba(255, 174, 255, 40)",
          "line": {
           "color": "rgb(0,0,0)",
           "width": 0.5
          }
         },
         "name": "VW",
         "text": [
          "VW",
          "VW",
          "VW",
          "VW",
          "VW",
          "VW",
          "VW",
          "VW",
          "VW",
          "VW",
          "VW",
          "VW"
         ],
         "type": "scatter",
         "x": [
          2012,
          2013,
          2014,
          2015,
          2016,
          2017,
          2018,
          2019,
          2020,
          2021,
          2022
         ],
         "y": [
          11287,
          8416,
          11038,
          9141,
          8368,
          10626,
          13338,
          11936,
          10886,
          10479,
          1261
         ]
        }
       ],
       "layout": {
        "barmode": "stack",
        "height": 800,
        "template": {
         "data": {
          "bar": [
           {
            "error_x": {
             "color": "#2a3f5f"
            },
            "error_y": {
             "color": "#2a3f5f"
            },
            "marker": {
             "line": {
              "color": "#E5ECF6",
              "width": 0.5
             },
             "pattern": {
              "fillmode": "overlay",
              "size": 10,
              "solidity": 0.2
             }
            },
            "type": "bar"
           }
          ],
          "barpolar": [
           {
            "marker": {
             "line": {
              "color": "#E5ECF6",
              "width": 0.5
             },
             "pattern": {
              "fillmode": "overlay",
              "size": 10,
              "solidity": 0.2
             }
            },
            "type": "barpolar"
           }
          ],
          "carpet": [
           {
            "aaxis": {
             "endlinecolor": "#2a3f5f",
             "gridcolor": "white",
             "linecolor": "white",
             "minorgridcolor": "white",
             "startlinecolor": "#2a3f5f"
            },
            "baxis": {
             "endlinecolor": "#2a3f5f",
             "gridcolor": "white",
             "linecolor": "white",
             "minorgridcolor": "white",
             "startlinecolor": "#2a3f5f"
            },
            "type": "carpet"
           }
          ],
          "choropleth": [
           {
            "colorbar": {
             "outlinewidth": 0,
             "ticks": ""
            },
            "type": "choropleth"
           }
          ],
          "contour": [
           {
            "colorbar": {
             "outlinewidth": 0,
             "ticks": ""
            },
            "colorscale": [
             [
              0,
              "#0d0887"
             ],
             [
              0.1111111111111111,
              "#46039f"
             ],
             [
              0.2222222222222222,
              "#7201a8"
             ],
             [
              0.3333333333333333,
              "#9c179e"
             ],
             [
              0.4444444444444444,
              "#bd3786"
             ],
             [
              0.5555555555555556,
              "#d8576b"
             ],
             [
              0.6666666666666666,
              "#ed7953"
             ],
             [
              0.7777777777777778,
              "#fb9f3a"
             ],
             [
              0.8888888888888888,
              "#fdca26"
             ],
             [
              1,
              "#f0f921"
             ]
            ],
            "type": "contour"
           }
          ],
          "contourcarpet": [
           {
            "colorbar": {
             "outlinewidth": 0,
             "ticks": ""
            },
            "type": "contourcarpet"
           }
          ],
          "heatmap": [
           {
            "colorbar": {
             "outlinewidth": 0,
             "ticks": ""
            },
            "colorscale": [
             [
              0,
              "#0d0887"
             ],
             [
              0.1111111111111111,
              "#46039f"
             ],
             [
              0.2222222222222222,
              "#7201a8"
             ],
             [
              0.3333333333333333,
              "#9c179e"
             ],
             [
              0.4444444444444444,
              "#bd3786"
             ],
             [
              0.5555555555555556,
              "#d8576b"
             ],
             [
              0.6666666666666666,
              "#ed7953"
             ],
             [
              0.7777777777777778,
              "#fb9f3a"
             ],
             [
              0.8888888888888888,
              "#fdca26"
             ],
             [
              1,
              "#f0f921"
             ]
            ],
            "type": "heatmap"
           }
          ],
          "heatmapgl": [
           {
            "colorbar": {
             "outlinewidth": 0,
             "ticks": ""
            },
            "colorscale": [
             [
              0,
              "#0d0887"
             ],
             [
              0.1111111111111111,
              "#46039f"
             ],
             [
              0.2222222222222222,
              "#7201a8"
             ],
             [
              0.3333333333333333,
              "#9c179e"
             ],
             [
              0.4444444444444444,
              "#bd3786"
             ],
             [
              0.5555555555555556,
              "#d8576b"
             ],
             [
              0.6666666666666666,
              "#ed7953"
             ],
             [
              0.7777777777777778,
              "#fb9f3a"
             ],
             [
              0.8888888888888888,
              "#fdca26"
             ],
             [
              1,
              "#f0f921"
             ]
            ],
            "type": "heatmapgl"
           }
          ],
          "histogram": [
           {
            "marker": {
             "pattern": {
              "fillmode": "overlay",
              "size": 10,
              "solidity": 0.2
             }
            },
            "type": "histogram"
           }
          ],
          "histogram2d": [
           {
            "colorbar": {
             "outlinewidth": 0,
             "ticks": ""
            },
            "colorscale": [
             [
              0,
              "#0d0887"
             ],
             [
              0.1111111111111111,
              "#46039f"
             ],
             [
              0.2222222222222222,
              "#7201a8"
             ],
             [
              0.3333333333333333,
              "#9c179e"
             ],
             [
              0.4444444444444444,
              "#bd3786"
             ],
             [
              0.5555555555555556,
              "#d8576b"
             ],
             [
              0.6666666666666666,
              "#ed7953"
             ],
             [
              0.7777777777777778,
              "#fb9f3a"
             ],
             [
              0.8888888888888888,
              "#fdca26"
             ],
             [
              1,
              "#f0f921"
             ]
            ],
            "type": "histogram2d"
           }
          ],
          "histogram2dcontour": [
           {
            "colorbar": {
             "outlinewidth": 0,
             "ticks": ""
            },
            "colorscale": [
             [
              0,
              "#0d0887"
             ],
             [
              0.1111111111111111,
              "#46039f"
             ],
             [
              0.2222222222222222,
              "#7201a8"
             ],
             [
              0.3333333333333333,
              "#9c179e"
             ],
             [
              0.4444444444444444,
              "#bd3786"
             ],
             [
              0.5555555555555556,
              "#d8576b"
             ],
             [
              0.6666666666666666,
              "#ed7953"
             ],
             [
              0.7777777777777778,
              "#fb9f3a"
             ],
             [
              0.8888888888888888,
              "#fdca26"
             ],
             [
              1,
              "#f0f921"
             ]
            ],
            "type": "histogram2dcontour"
           }
          ],
          "mesh3d": [
           {
            "colorbar": {
             "outlinewidth": 0,
             "ticks": ""
            },
            "type": "mesh3d"
           }
          ],
          "parcoords": [
           {
            "line": {
             "colorbar": {
              "outlinewidth": 0,
              "ticks": ""
             }
            },
            "type": "parcoords"
           }
          ],
          "pie": [
           {
            "automargin": true,
            "type": "pie"
           }
          ],
          "scatter": [
           {
            "marker": {
             "colorbar": {
              "outlinewidth": 0,
              "ticks": ""
             }
            },
            "type": "scatter"
           }
          ],
          "scatter3d": [
           {
            "line": {
             "colorbar": {
              "outlinewidth": 0,
              "ticks": ""
             }
            },
            "marker": {
             "colorbar": {
              "outlinewidth": 0,
              "ticks": ""
             }
            },
            "type": "scatter3d"
           }
          ],
          "scattercarpet": [
           {
            "marker": {
             "colorbar": {
              "outlinewidth": 0,
              "ticks": ""
             }
            },
            "type": "scattercarpet"
           }
          ],
          "scattergeo": [
           {
            "marker": {
             "colorbar": {
              "outlinewidth": 0,
              "ticks": ""
             }
            },
            "type": "scattergeo"
           }
          ],
          "scattergl": [
           {
            "marker": {
             "colorbar": {
              "outlinewidth": 0,
              "ticks": ""
             }
            },
            "type": "scattergl"
           }
          ],
          "scattermapbox": [
           {
            "marker": {
             "colorbar": {
              "outlinewidth": 0,
              "ticks": ""
             }
            },
            "type": "scattermapbox"
           }
          ],
          "scatterpolar": [
           {
            "marker": {
             "colorbar": {
              "outlinewidth": 0,
              "ticks": ""
             }
            },
            "type": "scatterpolar"
           }
          ],
          "scatterpolargl": [
           {
            "marker": {
             "colorbar": {
              "outlinewidth": 0,
              "ticks": ""
             }
            },
            "type": "scatterpolargl"
           }
          ],
          "scatterternary": [
           {
            "marker": {
             "colorbar": {
              "outlinewidth": 0,
              "ticks": ""
             }
            },
            "type": "scatterternary"
           }
          ],
          "surface": [
           {
            "colorbar": {
             "outlinewidth": 0,
             "ticks": ""
            },
            "colorscale": [
             [
              0,
              "#0d0887"
             ],
             [
              0.1111111111111111,
              "#46039f"
             ],
             [
              0.2222222222222222,
              "#7201a8"
             ],
             [
              0.3333333333333333,
              "#9c179e"
             ],
             [
              0.4444444444444444,
              "#bd3786"
             ],
             [
              0.5555555555555556,
              "#d8576b"
             ],
             [
              0.6666666666666666,
              "#ed7953"
             ],
             [
              0.7777777777777778,
              "#fb9f3a"
             ],
             [
              0.8888888888888888,
              "#fdca26"
             ],
             [
              1,
              "#f0f921"
             ]
            ],
            "type": "surface"
           }
          ],
          "table": [
           {
            "cells": {
             "fill": {
              "color": "#EBF0F8"
             },
             "line": {
              "color": "white"
             }
            },
            "header": {
             "fill": {
              "color": "#C8D4E3"
             },
             "line": {
              "color": "white"
             }
            },
            "type": "table"
           }
          ]
         },
         "layout": {
          "annotationdefaults": {
           "arrowcolor": "#2a3f5f",
           "arrowhead": 0,
           "arrowwidth": 1
          },
          "autotypenumbers": "strict",
          "coloraxis": {
           "colorbar": {
            "outlinewidth": 0,
            "ticks": ""
           }
          },
          "colorscale": {
           "diverging": [
            [
             0,
             "#8e0152"
            ],
            [
             0.1,
             "#c51b7d"
            ],
            [
             0.2,
             "#de77ae"
            ],
            [
             0.3,
             "#f1b6da"
            ],
            [
             0.4,
             "#fde0ef"
            ],
            [
             0.5,
             "#f7f7f7"
            ],
            [
             0.6,
             "#e6f5d0"
            ],
            [
             0.7,
             "#b8e186"
            ],
            [
             0.8,
             "#7fbc41"
            ],
            [
             0.9,
             "#4d9221"
            ],
            [
             1,
             "#276419"
            ]
           ],
           "sequential": [
            [
             0,
             "#0d0887"
            ],
            [
             0.1111111111111111,
             "#46039f"
            ],
            [
             0.2222222222222222,
             "#7201a8"
            ],
            [
             0.3333333333333333,
             "#9c179e"
            ],
            [
             0.4444444444444444,
             "#bd3786"
            ],
            [
             0.5555555555555556,
             "#d8576b"
            ],
            [
             0.6666666666666666,
             "#ed7953"
            ],
            [
             0.7777777777777778,
             "#fb9f3a"
            ],
            [
             0.8888888888888888,
             "#fdca26"
            ],
            [
             1,
             "#f0f921"
            ]
           ],
           "sequentialminus": [
            [
             0,
             "#0d0887"
            ],
            [
             0.1111111111111111,
             "#46039f"
            ],
            [
             0.2222222222222222,
             "#7201a8"
            ],
            [
             0.3333333333333333,
             "#9c179e"
            ],
            [
             0.4444444444444444,
             "#bd3786"
            ],
            [
             0.5555555555555556,
             "#d8576b"
            ],
            [
             0.6666666666666666,
             "#ed7953"
            ],
            [
             0.7777777777777778,
             "#fb9f3a"
            ],
            [
             0.8888888888888888,
             "#fdca26"
            ],
            [
             1,
             "#f0f921"
            ]
           ]
          },
          "colorway": [
           "#636efa",
           "#EF553B",
           "#00cc96",
           "#ab63fa",
           "#FFA15A",
           "#19d3f3",
           "#FF6692",
           "#B6E880",
           "#FF97FF",
           "#FECB52"
          ],
          "font": {
           "color": "#2a3f5f"
          },
          "geo": {
           "bgcolor": "white",
           "lakecolor": "white",
           "landcolor": "#E5ECF6",
           "showlakes": true,
           "showland": true,
           "subunitcolor": "white"
          },
          "hoverlabel": {
           "align": "left"
          },
          "hovermode": "closest",
          "mapbox": {
           "style": "light"
          },
          "paper_bgcolor": "white",
          "plot_bgcolor": "#E5ECF6",
          "polar": {
           "angularaxis": {
            "gridcolor": "white",
            "linecolor": "white",
            "ticks": ""
           },
           "bgcolor": "#E5ECF6",
           "radialaxis": {
            "gridcolor": "white",
            "linecolor": "white",
            "ticks": ""
           }
          },
          "scene": {
           "xaxis": {
            "backgroundcolor": "#E5ECF6",
            "gridcolor": "white",
            "gridwidth": 2,
            "linecolor": "white",
            "showbackground": true,
            "ticks": "",
            "zerolinecolor": "white"
           },
           "yaxis": {
            "backgroundcolor": "#E5ECF6",
            "gridcolor": "white",
            "gridwidth": 2,
            "linecolor": "white",
            "showbackground": true,
            "ticks": "",
            "zerolinecolor": "white"
           },
           "zaxis": {
            "backgroundcolor": "#E5ECF6",
            "gridcolor": "white",
            "gridwidth": 2,
            "linecolor": "white",
            "showbackground": true,
            "ticks": "",
            "zerolinecolor": "white"
           }
          },
          "shapedefaults": {
           "line": {
            "color": "#2a3f5f"
           }
          },
          "ternary": {
           "aaxis": {
            "gridcolor": "white",
            "linecolor": "white",
            "ticks": ""
           },
           "baxis": {
            "gridcolor": "white",
            "linecolor": "white",
            "ticks": ""
           },
           "bgcolor": "#E5ECF6",
           "caxis": {
            "gridcolor": "white",
            "linecolor": "white",
            "ticks": ""
           }
          },
          "title": {
           "x": 0.05
          },
          "xaxis": {
           "automargin": true,
           "gridcolor": "white",
           "linecolor": "white",
           "ticks": "",
           "title": {
            "standoff": 15
           },
           "zerolinecolor": "white",
           "zerolinewidth": 2
          },
          "yaxis": {
           "automargin": true,
           "gridcolor": "white",
           "linecolor": "white",
           "ticks": "",
           "title": {
            "standoff": 15
           },
           "zerolinecolor": "white",
           "zerolinewidth": 2
          }
         }
        },
        "width": 1000
       }
      },
      "text/html": [
       "<div>                            <div id=\"0b75a5b8-b6b7-4f1e-b830-cc7becb0eb2e\" class=\"plotly-graph-div\" style=\"height:800px; width:1000px;\"></div>            <script type=\"text/javascript\">                require([\"plotly\"], function(Plotly) {                    window.PLOTLYENV=window.PLOTLYENV || {};                                    if (document.getElementById(\"0b75a5b8-b6b7-4f1e-b830-cc7becb0eb2e\")) {                    Plotly.newPlot(                        \"0b75a5b8-b6b7-4f1e-b830-cc7becb0eb2e\",                        [{\"marker\":{\"color\":\"rgba(5, 174, 250, 0.5)\",\"line\":{\"color\":\"rgb(0,0,0)\",\"width\":0.5}},\"name\":\"AUDI\",\"text\":[\"AUDI\",\"AUDI\",\"AUDI\",\"AUDI\",\"AUDI\",\"AUDI\",\"AUDI\",\"AUDI\",\"AUDI\",\"AUDI\",\"AUDI\",\"AUDI\"],\"x\":[2012,2013,2014,2015,2016,2017,2018,2019,2020,2021,2022],\"y\":[3387,3393,3856,4335,3883,3623,2952,2075,2524,2667,540],\"type\":\"scatter\"},{\"marker\":{\"color\":\"rgba(1000, 174, 255, 0.5)\",\"line\":{\"color\":\"rgb(0,0,0)\",\"width\":0.5}},\"name\":\"BENZ\",\"text\":[\"BENZ\",\"BENZ\",\"BENZ\",\"BENZ\",\"BENZ\",\"BENZ\",\"BENZ\",\"BENZ\",\"BENZ\",\"BENZ\",\"BENZ\",\"BENZ\"],\"x\":[2012,2013,2014,2015,2016,2017,2018,2019,2020,2021,2022],\"y\":[11657,14183,15554,17957,21418,23486,25421,24463,24123,23072,3243],\"type\":\"scatter\"},{\"marker\":{\"color\":\"rgba(80, 400, 255, 0.5)\",\"line\":{\"color\":\"rgb(0,0,0)\",\"width\":0.5}},\"name\":\"BMW\",\"text\":[\"BMW\",\"BMW\",\"BMW\",\"BMW\",\"BMW\",\"BMW\",\"BMW\",\"BMW\",\"BMW\",\"BMW\",\"BMW\",\"BMW\"],\"x\":[2012,2013,2014,2015,2016,2017,2018,2019,2020,2021,2022],\"y\":[10864,11975,13356,16093,15657,14922,13915,14170,15137,14927,1834],\"type\":\"scatter\"},{\"marker\":{\"color\":\"rgba(255, 1, 255, 0.5)\",\"line\":{\"color\":\"rgb(0,0,0)\",\"width\":0.5}},\"name\":\"HONDA\",\"text\":[\"HONDA\",\"HONDA\",\"HONDA\",\"HONDA\",\"HONDA\",\"HONDA\",\"HONDA\",\"HONDA\",\"HONDA\",\"HONDA\",\"HONDA\",\"HONDA\"],\"x\":[2012,2013,2014,2015,2016,2017,2018,2019,2020,2021,2022],\"y\":[15711,20932,19394,22375,22172,27349,32098,26468,24424,22916,2935],\"type\":\"scatter\"},{\"marker\":{\"color\":\"rgba(255, 174, 20, 0.5)\",\"line\":{\"color\":\"rgb(0,0,0)\",\"width\":0.5}},\"name\":\"HYUNDAI\",\"text\":[\"HYUNDAI\",\"HYUNDAI\",\"HYUNDAI\",\"HYUNDAI\",\"HYUNDAI\",\"HYUNDAI\",\"HYUNDAI\",\"HYUNDAI\",\"HYUNDAI\",\"HYUNDAI\",\"HYUNDAI\",\"HYUNDAI\"],\"x\":[2012,2013,2014,2015,2016,2017,2018,2019,2020,2021,2022],\"y\":[13104,12204,12320,10791,10801,9629,9980,8954,9865,11028,1580],\"type\":\"scatter\"},{\"marker\":{\"color\":\"rgba(255, 174, 255, 14)\",\"line\":{\"color\":\"rgb(0,0,0)\",\"width\":0.5}},\"name\":\"JAUGAR\",\"text\":[\"JAGUAR\",\"JAGUAR\",\"JAGUAR\",\"JAGUAR\",\"JAGUAR\",\"JAGUAR\",\"JAGUAR\",\"JAGUAR\",\"JAGUAR\",\"JAGUAR\",\"JAGUAR\",\"JAGUAR\"],\"x\":[2012,2013,2014,2015,2016,2017,2018,2019,2020,2021,2022],\"y\":[165,87,131,184,224,376,319,470,378,271,25],\"type\":\"scatter\"},{\"marker\":{\"color\":\"rgba(99, 174, 255, 0.5)\",\"line\":{\"color\":\"rgb(0,0,0)\",\"width\":0.5}},\"name\":\"LAND ROVER\",\"text\":[\"LAND ROVER\",\"LAND ROVER\",\"LAND ROVER\",\"LAND ROVER\",\"LAND ROVER\",\"LAND ROVER\",\"LAND ROVER\",\"LAND ROVER\",\"LAND ROVER\",\"LAND ROVER\",\"LAND ROVER\",\"LAND ROVER\"],\"x\":[2012,2013,2014,2015,2016,2017,2018,2019,2020,2021,2022],\"y\":[431,269,388,442,389,452,626,893,1434,1493,158],\"type\":\"scatter\"},{\"marker\":{\"color\":\"rgba(255, 174,130, 0.5)\",\"line\":{\"color\":\"rgb(0,0,0)\",\"width\":0.5}},\"name\":\"MAZADA\",\"text\":[],\"x\":[],\"y\":[],\"type\":\"scatter\"},{\"marker\":{\"color\":\"rgba(2, 174, 255, 500)\",\"line\":{\"color\":\"rgb(0,0,0)\",\"width\":0.5}},\"name\":\"MITSUBISHI\",\"text\":[\"MITSUBISHI\",\"MITSUBISHI\",\"MITSUBISHI\",\"MITSUBISHI\",\"MITSUBISHI\",\"MITSUBISHI\",\"MITSUBISHI\",\"MITSUBISHI\",\"MITSUBISHI\",\"MITSUBISHI\",\"MITSUBISHI\",\"MITSUBISHI\"],\"x\":[2012,2013,2014,2015,2016,2017,2018,2019,2020,2021,2022],\"y\":[41796,34927,33784,36088,38257,38738,41602,38573,40072,39563,4075],\"type\":\"scatter\"},{\"marker\":{\"color\":\"rgba(255, 1, 255, 450)\",\"line\":{\"color\":\"rgb(0,0,0)\",\"width\":0.5}},\"name\":\"PORSCHE\",\"text\":[\"PORSCHE\",\"PORSCHE\",\"PORSCHE\",\"PORSCHE\",\"PORSCHE\",\"PORSCHE\",\"PORSCHE\",\"PORSCHE\",\"PORSCHE\",\"PORSCHE\",\"PORSCHE\",\"PORSCHE\"],\"x\":[2012,2013,2014,2015,2016,2017,2018,2019,2020,2021,2022],\"y\":[1694,1838,2620,3100,2888,2682,2985,3026,3430,3991,517],\"type\":\"scatter\"},{\"marker\":{\"color\":\"rgba(5, 14, 5, 40)\",\"line\":{\"color\":\"rgb(0,0,0)\",\"width\":0.5}},\"name\":\"SKODA\",\"text\":[\"SKODA\",\"SKODA\",\"SKODA\",\"SKODA\",\"SKODA\",\"SKODA\",\"SKODA\",\"SKODA\",\"SKODA\",\"SKODA\",\"SKODA\",\"SKODA\"],\"x\":[2012,2013,2014,2015,2016,2017,2018,2019,2020,2021,2022],\"y\":[1678,1521,1773,2334,3453,3881,4986,4463,5562,5869,461],\"type\":\"scatter\"},{\"marker\":{\"color\":\"rgba(75, 174, 255, 940)\",\"line\":{\"color\":\"rgb(0,0,0)\",\"width\":0.5}},\"name\":\"SUBARU\",\"text\":[\"SUBARU\",\"SUBARU\",\"SUBARU\",\"SUBARU\",\"SUBARU\",\"SUBARU\",\"SUBARU\",\"SUBARU\",\"SUBARU\",\"SUBARU\",\"SUBARU\",\"SUBARU\"],\"x\":[2012,2013,2014,2015,2016,2017,2018,2019,2020,2021,2022],\"y\":[1347,3180,4351,5639,6090,6157,6673,4967,3039,2856,67],\"type\":\"scatter\"},{\"marker\":{\"color\":\"rgba(255, 1, 5, 400)\",\"line\":{\"color\":\"rgb(0,0,0)\",\"width\":0.5}},\"name\":\"SUZUKI\",\"text\":[\"SUZUKI\",\"SUZUKI\",\"SUZUKI\",\"SUZUKI\",\"SUZUKI\",\"SUZUKI\",\"SUZUKI\",\"SUZUKI\",\"SUZUKI\",\"SUZUKI\",\"SUZUKI\",\"SUZUKI\"],\"x\":[2012,2013,2014,2015,2016,2017,2018,2019,2020,2021,2022],\"y\":[3359,4234,4600,4516,5167,7874,8148,6490,8004,6007,232],\"type\":\"scatter\"},{\"marker\":{\"color\":\"rgba(500, 400, 55, 40)\",\"line\":{\"color\":\"rgb(0,0,0)\",\"width\":0.5}},\"name\":\"TESLA\",\"text\":[\"TESLA\",\"TESLA\",\"TESLA\",\"TESLA\",\"TESLA\",\"TESLA\",\"TESLA\",\"TESLA\",\"TESLA\",\"TESLA\",\"TESLA\"],\"x\":[2013,2014,2015,2016,2017,2018,2019,2020,2021,2022],\"y\":[1,9,6,6,503,423,2406,4381,4385,148],\"type\":\"scatter\"},{\"marker\":{\"color\":\"rgba(5, 40, 50, 4)\",\"line\":{\"color\":\"rgb(0,0,0)\",\"width\":0.5}},\"name\":\"TOYOTA\",\"text\":[\"TOYOTA\",\"TOYOTA\",\"TOYOTA\",\"TOYOTA\",\"TOYOTA\",\"TOYOTA\",\"TOYOTA\",\"TOYOTA\",\"TOYOTA\",\"TOYOTA\",\"TOYOTA\",\"TOYOTA\"],\"x\":[2012,2013,2014,2015,2016,2017,2018,2019,2020,2021,2022],\"y\":[107774,107622,112746,112511,116192,105077,104621,117384,123180,126799,15859],\"type\":\"scatter\"},{\"marker\":{\"color\":\"rgba(255, 174, 255, 40)\",\"line\":{\"color\":\"rgb(0,0,0)\",\"width\":0.5}},\"name\":\"VOLVO\",\"text\":[\"VOLVO\",\"VOLVO\",\"VOLVO\",\"VOLVO\",\"VOLVO\",\"VOLVO\",\"VOLVO\",\"VOLVO\",\"VOLVO\",\"VOLVO\",\"VOLVO\",\"VOLVO\"],\"x\":[2012,2013,2014,2015,2016,2017,2018,2019,2020,2021,2022],\"y\":[3530,3694,3769,4189,3497,3855,4904,5295,5717,6974,564],\"type\":\"scatter\"},{\"marker\":{\"color\":\"rgba(255, 174, 255, 40)\",\"line\":{\"color\":\"rgb(0,0,0)\",\"width\":0.5}},\"name\":\"VW\",\"text\":[\"VW\",\"VW\",\"VW\",\"VW\",\"VW\",\"VW\",\"VW\",\"VW\",\"VW\",\"VW\",\"VW\",\"VW\"],\"x\":[2012,2013,2014,2015,2016,2017,2018,2019,2020,2021,2022],\"y\":[11287,8416,11038,9141,8368,10626,13338,11936,10886,10479,1261],\"type\":\"scatter\"}],                        {\"barmode\":\"stack\",\"height\":800,\"template\":{\"data\":{\"barpolar\":[{\"marker\":{\"line\":{\"color\":\"#E5ECF6\",\"width\":0.5},\"pattern\":{\"fillmode\":\"overlay\",\"size\":10,\"solidity\":0.2}},\"type\":\"barpolar\"}],\"bar\":[{\"error_x\":{\"color\":\"#2a3f5f\"},\"error_y\":{\"color\":\"#2a3f5f\"},\"marker\":{\"line\":{\"color\":\"#E5ECF6\",\"width\":0.5},\"pattern\":{\"fillmode\":\"overlay\",\"size\":10,\"solidity\":0.2}},\"type\":\"bar\"}],\"carpet\":[{\"aaxis\":{\"endlinecolor\":\"#2a3f5f\",\"gridcolor\":\"white\",\"linecolor\":\"white\",\"minorgridcolor\":\"white\",\"startlinecolor\":\"#2a3f5f\"},\"baxis\":{\"endlinecolor\":\"#2a3f5f\",\"gridcolor\":\"white\",\"linecolor\":\"white\",\"minorgridcolor\":\"white\",\"startlinecolor\":\"#2a3f5f\"},\"type\":\"carpet\"}],\"choropleth\":[{\"colorbar\":{\"outlinewidth\":0,\"ticks\":\"\"},\"type\":\"choropleth\"}],\"contourcarpet\":[{\"colorbar\":{\"outlinewidth\":0,\"ticks\":\"\"},\"type\":\"contourcarpet\"}],\"contour\":[{\"colorbar\":{\"outlinewidth\":0,\"ticks\":\"\"},\"colorscale\":[[0.0,\"#0d0887\"],[0.1111111111111111,\"#46039f\"],[0.2222222222222222,\"#7201a8\"],[0.3333333333333333,\"#9c179e\"],[0.4444444444444444,\"#bd3786\"],[0.5555555555555556,\"#d8576b\"],[0.6666666666666666,\"#ed7953\"],[0.7777777777777778,\"#fb9f3a\"],[0.8888888888888888,\"#fdca26\"],[1.0,\"#f0f921\"]],\"type\":\"contour\"}],\"heatmapgl\":[{\"colorbar\":{\"outlinewidth\":0,\"ticks\":\"\"},\"colorscale\":[[0.0,\"#0d0887\"],[0.1111111111111111,\"#46039f\"],[0.2222222222222222,\"#7201a8\"],[0.3333333333333333,\"#9c179e\"],[0.4444444444444444,\"#bd3786\"],[0.5555555555555556,\"#d8576b\"],[0.6666666666666666,\"#ed7953\"],[0.7777777777777778,\"#fb9f3a\"],[0.8888888888888888,\"#fdca26\"],[1.0,\"#f0f921\"]],\"type\":\"heatmapgl\"}],\"heatmap\":[{\"colorbar\":{\"outlinewidth\":0,\"ticks\":\"\"},\"colorscale\":[[0.0,\"#0d0887\"],[0.1111111111111111,\"#46039f\"],[0.2222222222222222,\"#7201a8\"],[0.3333333333333333,\"#9c179e\"],[0.4444444444444444,\"#bd3786\"],[0.5555555555555556,\"#d8576b\"],[0.6666666666666666,\"#ed7953\"],[0.7777777777777778,\"#fb9f3a\"],[0.8888888888888888,\"#fdca26\"],[1.0,\"#f0f921\"]],\"type\":\"heatmap\"}],\"histogram2dcontour\":[{\"colorbar\":{\"outlinewidth\":0,\"ticks\":\"\"},\"colorscale\":[[0.0,\"#0d0887\"],[0.1111111111111111,\"#46039f\"],[0.2222222222222222,\"#7201a8\"],[0.3333333333333333,\"#9c179e\"],[0.4444444444444444,\"#bd3786\"],[0.5555555555555556,\"#d8576b\"],[0.6666666666666666,\"#ed7953\"],[0.7777777777777778,\"#fb9f3a\"],[0.8888888888888888,\"#fdca26\"],[1.0,\"#f0f921\"]],\"type\":\"histogram2dcontour\"}],\"histogram2d\":[{\"colorbar\":{\"outlinewidth\":0,\"ticks\":\"\"},\"colorscale\":[[0.0,\"#0d0887\"],[0.1111111111111111,\"#46039f\"],[0.2222222222222222,\"#7201a8\"],[0.3333333333333333,\"#9c179e\"],[0.4444444444444444,\"#bd3786\"],[0.5555555555555556,\"#d8576b\"],[0.6666666666666666,\"#ed7953\"],[0.7777777777777778,\"#fb9f3a\"],[0.8888888888888888,\"#fdca26\"],[1.0,\"#f0f921\"]],\"type\":\"histogram2d\"}],\"histogram\":[{\"marker\":{\"pattern\":{\"fillmode\":\"overlay\",\"size\":10,\"solidity\":0.2}},\"type\":\"histogram\"}],\"mesh3d\":[{\"colorbar\":{\"outlinewidth\":0,\"ticks\":\"\"},\"type\":\"mesh3d\"}],\"parcoords\":[{\"line\":{\"colorbar\":{\"outlinewidth\":0,\"ticks\":\"\"}},\"type\":\"parcoords\"}],\"pie\":[{\"automargin\":true,\"type\":\"pie\"}],\"scatter3d\":[{\"line\":{\"colorbar\":{\"outlinewidth\":0,\"ticks\":\"\"}},\"marker\":{\"colorbar\":{\"outlinewidth\":0,\"ticks\":\"\"}},\"type\":\"scatter3d\"}],\"scattercarpet\":[{\"marker\":{\"colorbar\":{\"outlinewidth\":0,\"ticks\":\"\"}},\"type\":\"scattercarpet\"}],\"scattergeo\":[{\"marker\":{\"colorbar\":{\"outlinewidth\":0,\"ticks\":\"\"}},\"type\":\"scattergeo\"}],\"scattergl\":[{\"marker\":{\"colorbar\":{\"outlinewidth\":0,\"ticks\":\"\"}},\"type\":\"scattergl\"}],\"scattermapbox\":[{\"marker\":{\"colorbar\":{\"outlinewidth\":0,\"ticks\":\"\"}},\"type\":\"scattermapbox\"}],\"scatterpolargl\":[{\"marker\":{\"colorbar\":{\"outlinewidth\":0,\"ticks\":\"\"}},\"type\":\"scatterpolargl\"}],\"scatterpolar\":[{\"marker\":{\"colorbar\":{\"outlinewidth\":0,\"ticks\":\"\"}},\"type\":\"scatterpolar\"}],\"scatter\":[{\"marker\":{\"colorbar\":{\"outlinewidth\":0,\"ticks\":\"\"}},\"type\":\"scatter\"}],\"scatterternary\":[{\"marker\":{\"colorbar\":{\"outlinewidth\":0,\"ticks\":\"\"}},\"type\":\"scatterternary\"}],\"surface\":[{\"colorbar\":{\"outlinewidth\":0,\"ticks\":\"\"},\"colorscale\":[[0.0,\"#0d0887\"],[0.1111111111111111,\"#46039f\"],[0.2222222222222222,\"#7201a8\"],[0.3333333333333333,\"#9c179e\"],[0.4444444444444444,\"#bd3786\"],[0.5555555555555556,\"#d8576b\"],[0.6666666666666666,\"#ed7953\"],[0.7777777777777778,\"#fb9f3a\"],[0.8888888888888888,\"#fdca26\"],[1.0,\"#f0f921\"]],\"type\":\"surface\"}],\"table\":[{\"cells\":{\"fill\":{\"color\":\"#EBF0F8\"},\"line\":{\"color\":\"white\"}},\"header\":{\"fill\":{\"color\":\"#C8D4E3\"},\"line\":{\"color\":\"white\"}},\"type\":\"table\"}]},\"layout\":{\"annotationdefaults\":{\"arrowcolor\":\"#2a3f5f\",\"arrowhead\":0,\"arrowwidth\":1},\"autotypenumbers\":\"strict\",\"coloraxis\":{\"colorbar\":{\"outlinewidth\":0,\"ticks\":\"\"}},\"colorscale\":{\"diverging\":[[0,\"#8e0152\"],[0.1,\"#c51b7d\"],[0.2,\"#de77ae\"],[0.3,\"#f1b6da\"],[0.4,\"#fde0ef\"],[0.5,\"#f7f7f7\"],[0.6,\"#e6f5d0\"],[0.7,\"#b8e186\"],[0.8,\"#7fbc41\"],[0.9,\"#4d9221\"],[1,\"#276419\"]],\"sequential\":[[0.0,\"#0d0887\"],[0.1111111111111111,\"#46039f\"],[0.2222222222222222,\"#7201a8\"],[0.3333333333333333,\"#9c179e\"],[0.4444444444444444,\"#bd3786\"],[0.5555555555555556,\"#d8576b\"],[0.6666666666666666,\"#ed7953\"],[0.7777777777777778,\"#fb9f3a\"],[0.8888888888888888,\"#fdca26\"],[1.0,\"#f0f921\"]],\"sequentialminus\":[[0.0,\"#0d0887\"],[0.1111111111111111,\"#46039f\"],[0.2222222222222222,\"#7201a8\"],[0.3333333333333333,\"#9c179e\"],[0.4444444444444444,\"#bd3786\"],[0.5555555555555556,\"#d8576b\"],[0.6666666666666666,\"#ed7953\"],[0.7777777777777778,\"#fb9f3a\"],[0.8888888888888888,\"#fdca26\"],[1.0,\"#f0f921\"]]},\"colorway\":[\"#636efa\",\"#EF553B\",\"#00cc96\",\"#ab63fa\",\"#FFA15A\",\"#19d3f3\",\"#FF6692\",\"#B6E880\",\"#FF97FF\",\"#FECB52\"],\"font\":{\"color\":\"#2a3f5f\"},\"geo\":{\"bgcolor\":\"white\",\"lakecolor\":\"white\",\"landcolor\":\"#E5ECF6\",\"showlakes\":true,\"showland\":true,\"subunitcolor\":\"white\"},\"hoverlabel\":{\"align\":\"left\"},\"hovermode\":\"closest\",\"mapbox\":{\"style\":\"light\"},\"paper_bgcolor\":\"white\",\"plot_bgcolor\":\"#E5ECF6\",\"polar\":{\"angularaxis\":{\"gridcolor\":\"white\",\"linecolor\":\"white\",\"ticks\":\"\"},\"bgcolor\":\"#E5ECF6\",\"radialaxis\":{\"gridcolor\":\"white\",\"linecolor\":\"white\",\"ticks\":\"\"}},\"scene\":{\"xaxis\":{\"backgroundcolor\":\"#E5ECF6\",\"gridcolor\":\"white\",\"gridwidth\":2,\"linecolor\":\"white\",\"showbackground\":true,\"ticks\":\"\",\"zerolinecolor\":\"white\"},\"yaxis\":{\"backgroundcolor\":\"#E5ECF6\",\"gridcolor\":\"white\",\"gridwidth\":2,\"linecolor\":\"white\",\"showbackground\":true,\"ticks\":\"\",\"zerolinecolor\":\"white\"},\"zaxis\":{\"backgroundcolor\":\"#E5ECF6\",\"gridcolor\":\"white\",\"gridwidth\":2,\"linecolor\":\"white\",\"showbackground\":true,\"ticks\":\"\",\"zerolinecolor\":\"white\"}},\"shapedefaults\":{\"line\":{\"color\":\"#2a3f5f\"}},\"ternary\":{\"aaxis\":{\"gridcolor\":\"white\",\"linecolor\":\"white\",\"ticks\":\"\"},\"baxis\":{\"gridcolor\":\"white\",\"linecolor\":\"white\",\"ticks\":\"\"},\"bgcolor\":\"#E5ECF6\",\"caxis\":{\"gridcolor\":\"white\",\"linecolor\":\"white\",\"ticks\":\"\"}},\"title\":{\"x\":0.05},\"xaxis\":{\"automargin\":true,\"gridcolor\":\"white\",\"linecolor\":\"white\",\"ticks\":\"\",\"title\":{\"standoff\":15},\"zerolinecolor\":\"white\",\"zerolinewidth\":2},\"yaxis\":{\"automargin\":true,\"gridcolor\":\"white\",\"linecolor\":\"white\",\"ticks\":\"\",\"title\":{\"standoff\":15},\"zerolinecolor\":\"white\",\"zerolinewidth\":2}}},\"width\":1000},                        {\"responsive\": true}                    ).then(function(){\n",
       "                            \n",
       "var gd = document.getElementById('0b75a5b8-b6b7-4f1e-b830-cc7becb0eb2e');\n",
       "var x = new MutationObserver(function (mutations, observer) {{\n",
       "        var display = window.getComputedStyle(gd).display;\n",
       "        if (!display || display === 'none') {{\n",
       "            console.log([gd, 'removed!']);\n",
       "            Plotly.purge(gd);\n",
       "            observer.disconnect();\n",
       "        }}\n",
       "}});\n",
       "\n",
       "// Listen for the removal of the full notebook cells\n",
       "var notebookContainer = gd.closest('#notebook-container');\n",
       "if (notebookContainer) {{\n",
       "    x.observe(notebookContainer, {childList: true});\n",
       "}}\n",
       "\n",
       "// Listen for the clearing of the current output cell\n",
       "var outputEl = gd.closest('.output');\n",
       "if (outputEl) {{\n",
       "    x.observe(outputEl, {childList: true});\n",
       "}}\n",
       "\n",
       "                        })                };                });            </script>        </div>"
      ]
     },
     "metadata": {},
     "output_type": "display_data"
    }
   ],
   "source": [
    "audi = go.Line(\n",
    "                x = brand_year_df[brand_year_df['brand'] == 'AUDI'].groupby('year')[1].sum().index,\n",
    "                y = brand_year_df[brand_year_df['brand'] == 'AUDI'].groupby('year')[1].sum(),\n",
    "                marker = dict(color = 'rgba(5, 174, 250, 0.5)',\n",
    "                             line=dict(color='rgb(0,0,0)',width=0.5))\n",
    "                ,text = brand_year_df[brand_year_df['brand']=='AUDI']['brand']\n",
    "                ,name = \"AUDI\")\n",
    "\n",
    "benz = go.Line(\n",
    "                x = brand_year_df[brand_year_df['brand'] == 'BENZ'].groupby('year')[1].sum().index,\n",
    "                y = brand_year_df[brand_year_df['brand'] == 'BENZ'].groupby('year')[1].sum(),\n",
    "                marker = dict(color = 'rgba(1000, 174, 255, 0.5)',\n",
    "                             line=dict(color='rgb(0,0,0)',width=0.5))\n",
    "                ,text = brand_year_df[brand_year_df['brand']=='BENZ']['brand'],name = 'BENZ')\n",
    "bmw = go.Line(\n",
    "                x = brand_year_df[brand_year_df['brand'] == 'BMW'].groupby('year')[1].sum().index,\n",
    "                y = brand_year_df[brand_year_df['brand'] == 'BMW'].groupby('year')[1].sum(),\n",
    "                marker = dict(color = 'rgba(80, 400, 255, 0.5)',\n",
    "                             line=dict(color='rgb(0,0,0)',width=0.5))\n",
    "                ,text = brand_year_df[brand_year_df['brand']=='BMW']['brand'],name = 'BMW')\n",
    "honda = go.Line(\n",
    "                x = brand_year_df[brand_year_df['brand'] == 'HONDA'].groupby('year')[1].sum().index,\n",
    "                y = brand_year_df[brand_year_df['brand'] == 'HONDA'].groupby('year')[1].sum(),\n",
    "                marker = dict(color = 'rgba(255, 1, 255, 0.5)',\n",
    "                             line=dict(color='rgb(0,0,0)',width=0.5))\n",
    "                ,text = brand_year_df[brand_year_df['brand']=='HONDA']['brand'],name = \"HONDA\")\n",
    "hyundai = go.Line(\n",
    "                x =brand_year_df[brand_year_df['brand'] == 'HYUNDAI'].groupby('year')[1].sum().index,\n",
    "                y = brand_year_df[brand_year_df['brand'] == 'HYUNDAI'].groupby('year')[1].sum(),\n",
    "                marker = dict(color = 'rgba(255, 174, 20, 0.5)',\n",
    "                             line=dict(color='rgb(0,0,0)',width=0.5))\n",
    "                ,text = brand_year_df[brand_year_df['brand']=='HYUNDAI']['brand'],name = \"HYUNDAI\")\n",
    "jaguar = go.Line(\n",
    "                x = brand_year_df[brand_year_df['brand'] == 'JAGUAR'].groupby('year')[1].sum().index,\n",
    "                y = brand_year_df[brand_year_df['brand'] == 'JAGUAR'].groupby('year')[1].sum(),\n",
    "                marker = dict(color = 'rgba(255, 174, 255, 14)',\n",
    "                             line=dict(color='rgb(0,0,0)',width=0.5))\n",
    "                ,text = brand_year_df[brand_year_df['brand']=='JAGUAR']['brand'],name = 'JAUGAR')\n",
    "landrover = go.Line(\n",
    "                x = brand_year_df[brand_year_df['brand'] == 'LAND ROVER'].groupby('year')[1].sum().index,\n",
    "                y = brand_year_df[brand_year_df['brand'] == 'LAND ROVER'].groupby('year')[1].sum(),\n",
    "                marker = dict(color = 'rgba(99, 174, 255, 0.5)',\n",
    "                             line=dict(color='rgb(0,0,0)',width=0.5))\n",
    "                ,text = brand_year_df[brand_year_df['brand']=='LAND ROVER']['brand'],name = 'LAND ROVER')\n",
    "mazada = go.Line(\n",
    "                x = brand_year_df[brand_year_df['brand'] == 'MAZADA'].groupby('year')[1].sum().index,\n",
    "                y = brand_year_df[brand_year_df['brand'] == 'MAZADA'].groupby('year')[1].sum(),\n",
    "                marker = dict(color = 'rgba(255, 174,130, 0.5)',\n",
    "                             line=dict(color='rgb(0,0,0)',width=0.5))\n",
    "                ,text = brand_year_df[brand_year_df['brand']=='MAZADA']['brand'],name = \"MAZADA\")\n",
    "nissan = go.Line(\n",
    "                x = brand_year_df[brand_year_df['brand'] == 'NISSAN'].groupby('year')[1].sum().index,\n",
    "                y = brand_year_df[brand_year_df['brand'] == 'NISSAN'].groupby('year')[1].sum(),\n",
    "                marker = dict(color = 'rgba(255, 100, 155, 15)',\n",
    "                             line=dict(color='rgb(0,0,0)',width=0.5))\n",
    "                ,text = brand_year_df[brand_year_df['brand']=='NISSAN']['brand'],name = 'NISSAN')\n",
    "mitsubishi = go.Line(\n",
    "                x = brand_year_df[brand_year_df['brand'] == 'MITSUBISHI'].groupby('year')[1].sum().index,\n",
    "                y = brand_year_df[brand_year_df['brand'] == 'MITSUBISHI'].groupby('year')[1].sum(),\n",
    "                marker = dict(color = 'rgba(2, 174, 255, 500)',\n",
    "                             line=dict(color='rgb(0,0,0)',width=0.5))\n",
    "                ,text = brand_year_df[brand_year_df['brand']=='MITSUBISHI']['brand'],name = 'MITSUBISHI')\n",
    "porsche = go.Line(\n",
    "                x = brand_year_df[brand_year_df['brand'] == 'PORSCHE'].groupby('year')[1].sum().index,\n",
    "                y = brand_year_df[brand_year_df['brand'] == 'PORSCHE'].groupby('year')[1].sum(),\n",
    "                marker = dict(color = 'rgba(255, 1, 255, 450)',\n",
    "                             line=dict(color='rgb(0,0,0)',width=0.5))\n",
    "                ,text = brand_year_df[brand_year_df['brand']=='PORSCHE']['brand'],name = 'PORSCHE')\n",
    "skoda = go.Line(\n",
    "                x = brand_year_df[brand_year_df['brand'] == 'SKODA'].groupby('year')[1].sum().index,\n",
    "                y = brand_year_df[brand_year_df['brand'] == 'SKODA'].groupby('year')[1].sum(),\n",
    "                marker = dict(color = 'rgba(5, 14, 5, 40)',\n",
    "                             line=dict(color='rgb(0,0,0)',width=0.5))\n",
    "                ,text = brand_year_df[brand_year_df['brand']=='SKODA']['brand'],name = 'SKODA')\n",
    "subaru = go.Line(\n",
    "                x = brand_year_df[brand_year_df['brand'] == 'SUBARU'].groupby('year')[1].sum().index,\n",
    "                y = brand_year_df[brand_year_df['brand'] == 'SUBARU'].groupby('year')[1].sum(),\n",
    "                marker = dict(color = 'rgba(75, 174, 255, 940)',\n",
    "                             line=dict(color='rgb(0,0,0)',width=0.5))\n",
    "                ,text = brand_year_df[brand_year_df['brand']=='SUBARU']['brand'],name = 'SUBARU')\n",
    "suzuki = go.Line(\n",
    "                x = brand_year_df[brand_year_df['brand'] == 'SUZUKI'].groupby('year')[1].sum().index,\n",
    "                y = brand_year_df[brand_year_df['brand'] == 'SUZUKI'].groupby('year')[1].sum(),\n",
    "                marker = dict(color = 'rgba(255, 1, 5, 400)',\n",
    "                             line=dict(color='rgb(0,0,0)',width=0.5))\n",
    "                ,text = brand_year_df[brand_year_df['brand']=='SUZUKI']['brand'],name = 'SUZUKI')\n",
    "TESLA = go.Line(\n",
    "                x = brand_year_df[brand_year_df['brand'] == 'TESLA'].groupby('year')[1].sum().index,\n",
    "                y = brand_year_df[brand_year_df['brand'] == 'TESLA'].groupby('year')[1].sum(),\n",
    "                marker = dict(color = 'rgba(500, 400, 55, 40)',\n",
    "                             line=dict(color='rgb(0,0,0)',width=0.5))\n",
    "                ,text = brand_year_df[brand_year_df['brand']=='TESLA']['brand'],name = 'TESLA')\n",
    "TOYOTA = go.Line(\n",
    "                x = brand_year_df[brand_year_df['brand'] == 'TOYOTA'].groupby('year')[1].sum().index,\n",
    "                y = brand_year_df[brand_year_df['brand'] == 'TOYOTA'].groupby('year')[1].sum(),\n",
    "                marker = dict(color = 'rgba(5, 40, 50, 4)',\n",
    "                             line=dict(color='rgb(0,0,0)',width=0.5))\n",
    "                ,text = brand_year_df[brand_year_df['brand']=='TOYOTA']['brand'],name = 'TOYOTA')\n",
    "VOLVO = go.Line(\n",
    "                x = brand_year_df[brand_year_df['brand'] == 'VOLVO'].groupby('year')[1].sum().index,\n",
    "                y = brand_year_df[brand_year_df['brand'] == 'VOLVO'].groupby('year')[1].sum(),\n",
    "                marker = dict(color = 'rgba(255, 174, 255, 40)',\n",
    "                             line=dict(color='rgb(0,0,0)',width=0.5))\n",
    "                ,text = brand_year_df[brand_year_df['brand']=='VOLVO']['brand'],name = 'VOLVO')\n",
    "VW = go.Line(\n",
    "                x = brand_year_df[brand_year_df['brand'] == 'VW'].groupby('year')[1].sum().index,\n",
    "                y = brand_year_df[brand_year_df['brand'] == 'VW'].groupby('year')[1].sum(),\n",
    "                marker = dict(color = 'rgba(255, 174, 255, 40)',\n",
    "                             line=dict(color='rgb(0,0,0)',width=0.5))\n",
    "                ,text = brand_year_df[brand_year_df['brand']=='VW']['brand'],name = 'VW')\n",
    "\n",
    "data = [audi,benz,bmw,honda,hyundai,jaguar,landrover,mazada,mitsubishi,porsche,skoda,subaru,suzuki,TESLA,TOYOTA,VOLVO,VW]\n",
    "#layout = go.Layout(barmode = \"group\")   \n",
    "layout = go.Layout(width = 1000, height = 800,barmode = \"stack\")  \n",
    "fig = go.Figure(data = data, layout = layout)\n",
    "iplot(fig)\n"
   ]
  },
  {
   "cell_type": "code",
   "execution_count": 16,
   "id": "8415ba92",
   "metadata": {
    "collapsed": true
   },
   "outputs": [
    {
     "data": {
      "text/plain": [
       "[('ABARTH', 2016, 12),\n",
       " ('ABARTH', 2017, 3),\n",
       " ('ABARTH', 2017, 4),\n",
       " ('ABARTH', 2017, 6),\n",
       " ('ABARTH', 2017, 7),\n",
       " ('ABARTH', 2017, 8),\n",
       " ('ABARTH', 2017, 9),\n",
       " ('ABARTH', 2017, 10),\n",
       " ('ABARTH', 2017, 11),\n",
       " ('ABARTH', 2017, 12),\n",
       " ('ABARTH', 2018, 1),\n",
       " ('ABARTH', 2018, 2),\n",
       " ('ABARTH', 2018, 3),\n",
       " ('ABARTH', 2018, 4),\n",
       " ('ABARTH', 2018, 5),\n",
       " ('ABARTH', 2018, 6),\n",
       " ('ABARTH', 2018, 7),\n",
       " ('ABARTH', 2018, 8),\n",
       " ('ABARTH', 2018, 9),\n",
       " ('ABARTH', 2018, 11),\n",
       " ('ABARTH', 2018, 12),\n",
       " ('ABARTH', 2019, 1),\n",
       " ('ABARTH', 2019, 3),\n",
       " ('ABARTH', 2019, 4),\n",
       " ('ABARTH', 2019, 5),\n",
       " ('ABARTH', 2019, 6),\n",
       " ('ABARTH', 2019, 8),\n",
       " ('ABARTH', 2019, 10),\n",
       " ('ABARTH', 2019, 11),\n",
       " ('ABARTH', 2019, 12),\n",
       " ('ABARTH', 2020, 1),\n",
       " ('ABARTH', 2020, 2),\n",
       " ('ABARTH', 2020, 4),\n",
       " ('ABARTH', 2020, 5),\n",
       " ('ABARTH', 2020, 6),\n",
       " ('ABARTH', 2020, 7),\n",
       " ('ABARTH', 2020, 9),\n",
       " ('ABARTH', 2020, 10),\n",
       " ('ABARTH', 2020, 11),\n",
       " ('ABARTH', 2020, 12),\n",
       " ('ABARTH', 2021, 1),\n",
       " ('ABARTH', 2021, 3),\n",
       " ('ABARTH', 2021, 5),\n",
       " ('ABARTH', 2021, 6),\n",
       " ('ABARTH', 2021, 7),\n",
       " ('ABARTH', 2021, 8),\n",
       " ('ABARTH', 2021, 9),\n",
       " ('ABARTH', 2021, 12),\n",
       " ('ABARTH', 2022, 1),\n",
       " ('ABARTH', 2022, 2),\n",
       " ('ABARTH', '2012', '1'),\n",
       " ('ABARTH', '2012', '4'),\n",
       " ('ABARTH', '2012', '6'),\n",
       " ('ABARTH', '2013', '1'),\n",
       " ('ABARTH', '2013', '7'),\n",
       " ('ABARTH', '2014', '5'),\n",
       " ('ABARTH', '2015', '10'),\n",
       " ('ABARTH', '2015', '2'),\n",
       " ('ABARTH', '2015', '4'),\n",
       " ('ABARTH', '2015', '7'),\n",
       " ('ACURA', 2018, 5),\n",
       " ('ACURA', 2018, 9),\n",
       " ('ACURA', 2018, 10),\n",
       " ('ACURA', 2019, 4),\n",
       " ('ACURA', 2019, 6),\n",
       " ('ACURA', 2019, 11),\n",
       " ('ACURA', 2021, 3),\n",
       " ('ACURA', 2021, 8),\n",
       " ('ACURA', 2021, 9),\n",
       " ('ACURA', 2021, 10),\n",
       " ('ACURA', 2021, 11),\n",
       " ('ACURA', '2013', '3'),\n",
       " ('ACURA', '2014', '10'),\n",
       " ('ACURA', '2014', '11'),\n",
       " ('ACURA', '2014', '2'),\n",
       " ('ACURA', '2015', '12'),\n",
       " ('ACURA', '2015', '2'),\n",
       " ('ACURA', '2015', '8'),\n",
       " ('ACURA', '2016', '4'),\n",
       " ('ALFA', 2016, 10),\n",
       " ('ALFA', 2016, 12),\n",
       " ('ALFA', 2017, 1),\n",
       " ('ALFA', 2017, 2),\n",
       " ('ALFA', 2017, 3),\n",
       " ('ALFA', 2017, 5),\n",
       " ('ALFA', 2017, 6),\n",
       " ('ALFA', 2017, 7),\n",
       " ('ALFA', 2017, 8),\n",
       " ('ALFA', 2017, 9),\n",
       " ('ALFA', 2017, 10),\n",
       " ('ALFA', 2017, 11),\n",
       " ('ALFA', 2017, 12),\n",
       " ('ALFA', 2018, 1),\n",
       " ('ALFA', 2018, 2),\n",
       " ('ALFA', 2018, 3),\n",
       " ('ALFA', 2018, 4),\n",
       " ('ALFA', 2018, 5),\n",
       " ('ALFA', 2018, 6),\n",
       " ('ALFA', 2018, 7),\n",
       " ('ALFA', 2018, 8),\n",
       " ('ALFA', 2018, 9),\n",
       " ('ALFA', 2018, 10),\n",
       " ('ALFA', 2018, 11),\n",
       " ('ALFA', 2018, 12),\n",
       " ('ALFA', 2019, 1),\n",
       " ('ALFA', 2019, 2),\n",
       " ('ALFA', 2019, 3),\n",
       " ('ALFA', 2019, 5),\n",
       " ('ALFA', 2019, 6),\n",
       " ('ALFA', 2019, 7),\n",
       " ('ALFA', 2019, 8),\n",
       " ('ALFA', 2019, 9),\n",
       " ('ALFA', 2019, 10),\n",
       " ('ALFA', 2019, 11),\n",
       " ('ALFA', 2019, 12),\n",
       " ('ALFA', 2020, 1),\n",
       " ('ALFA', 2020, 2),\n",
       " ('ALFA', 2020, 3),\n",
       " ('ALFA', 2020, 4),\n",
       " ('ALFA', 2020, 5),\n",
       " ('ALFA', 2020, 6),\n",
       " ('ALFA', 2020, 7),\n",
       " ('ALFA', 2020, 8),\n",
       " ('ALFA', 2020, 9),\n",
       " ('ALFA', 2020, 10),\n",
       " ('ALFA', 2020, 11),\n",
       " ('ALFA', 2020, 12),\n",
       " ('ALFA', 2021, 1),\n",
       " ('ALFA', 2021, 2),\n",
       " ('ALFA', 2021, 3),\n",
       " ('ALFA', 2021, 4),\n",
       " ('ALFA', 2021, 5),\n",
       " ('ALFA', 2021, 6),\n",
       " ('ALFA', 2021, 7),\n",
       " ('ALFA', 2021, 8),\n",
       " ('ALFA', 2021, 9),\n",
       " ('ALFA', 2021, 10),\n",
       " ('ALFA', 2021, 11),\n",
       " ('ALFA', 2021, 12),\n",
       " ('ALFA', 2022, 1),\n",
       " ('ALFA', 2022, 2),\n",
       " ('ALFA', '2012', '10'),\n",
       " ('ALFA', '2012', '12'),\n",
       " ('ALFA', '2013', '12'),\n",
       " ('ALFA', '2013', '6'),\n",
       " ('ALFA', '2014', '1'),\n",
       " ('ALFA', '2014', '12'),\n",
       " ('ALFA', '2014', '3'),\n",
       " ('ALFA', '2014', '9'),\n",
       " ('ALFA', '2015', '1'),\n",
       " ('ALFA', '2015', '10'),\n",
       " ('ALFA', '2015', '11'),\n",
       " ('ALFA', '2015', '12'),\n",
       " ('ALFA', '2015', '2'),\n",
       " ('ALFA', '2015', '3'),\n",
       " ('ALFA', '2015', '6'),\n",
       " ('ALFA', '2015', '7'),\n",
       " ('ALFA', '2015', '9'),\n",
       " ('ALFA', '2016', '1'),\n",
       " ('ALFA', '2016', '3'),\n",
       " ('ALFA', '2016', '4'),\n",
       " ('ALFA', '2016', '5'),\n",
       " ('ALFA', '2016', '6'),\n",
       " ('ALFA', '2016', '7'),\n",
       " ('ALFA', '2016', '8'),\n",
       " ('ALPINA', 2016, 10),\n",
       " ('ALPINA', 2017, 3),\n",
       " ('ALPINA', 2017, 9),\n",
       " ('ALPINA', 2017, 11),\n",
       " ('ALPINA', 2017, 12),\n",
       " ('ALPINA', 2018, 5),\n",
       " ('ALPINA', 2018, 7),\n",
       " ('ALPINA', 2018, 11),\n",
       " ('ALPINA', 2019, 1),\n",
       " ('ALPINA', 2019, 5),\n",
       " ('ALPINA', 2019, 7),\n",
       " ('ALPINA', 2019, 9),\n",
       " ('ALPINA', 2019, 10),\n",
       " ('ALPINA', 2020, 3),\n",
       " ('ALPINA', 2020, 6),\n",
       " ('ALPINA', 2020, 7),\n",
       " ('ALPINA', 2020, 8),\n",
       " ('ALPINA', 2020, 9),\n",
       " ('ALPINA', 2020, 10),\n",
       " ('ALPINA', 2020, 11),\n",
       " ('ALPINA', 2021, 1),\n",
       " ('ALPINA', 2021, 3),\n",
       " ('ALPINA', 2021, 4),\n",
       " ('ALPINA', 2021, 5),\n",
       " ('ALPINA', 2021, 6),\n",
       " ('ALPINA', 2021, 8),\n",
       " ('ALPINA', 2021, 9),\n",
       " ('ALPINA', 2021, 10),\n",
       " ('ALPINA', '2012', '12'),\n",
       " ('ALPINA', '2012', '9'),\n",
       " ('ALPINA', '2013', '12'),\n",
       " ('ALPINA', '2014', '12'),\n",
       " ('ALPINA', '2014', '3'),\n",
       " ('ALPINA', '2014', '5'),\n",
       " ('ALPINA', '2014', '6'),\n",
       " ('ALPINA', '2014', '7'),\n",
       " ('ALPINA', '2015', '4'),\n",
       " ('ALPINA', '2015', '5'),\n",
       " ('ALPINA', '2015', '8'),\n",
       " ('ALPINA', '2016', '2'),\n",
       " ('ALPINA', '2016', '5'),\n",
       " ('ALPINA', '2016', '6'),\n",
       " ('ASTON MARTIN', 2016, 10),\n",
       " ('ASTON MARTIN', 2016, 11),\n",
       " ('ASTON MARTIN', 2016, 12),\n",
       " ('ASTON MARTIN', 2017, 1),\n",
       " ('ASTON MARTIN', 2017, 2),\n",
       " ('ASTON MARTIN', 2017, 3),\n",
       " ('ASTON MARTIN', 2017, 4),\n",
       " ('ASTON MARTIN', 2017, 5),\n",
       " ('ASTON MARTIN', 2017, 6),\n",
       " ('ASTON MARTIN', 2017, 7),\n",
       " ('ASTON MARTIN', 2017, 8),\n",
       " ('ASTON MARTIN', 2017, 9),\n",
       " ('ASTON MARTIN', 2017, 10),\n",
       " ('ASTON MARTIN', 2017, 12),\n",
       " ('ASTON MARTIN', 2018, 1),\n",
       " ('ASTON MARTIN', 2018, 2),\n",
       " ('ASTON MARTIN', 2018, 3),\n",
       " ('ASTON MARTIN', 2018, 4),\n",
       " ('ASTON MARTIN', 2018, 5),\n",
       " ('ASTON MARTIN', 2018, 6),\n",
       " ('ASTON MARTIN', 2018, 7),\n",
       " ('ASTON MARTIN', 2018, 8),\n",
       " ('ASTON MARTIN', 2018, 9),\n",
       " ('ASTON MARTIN', 2018, 10),\n",
       " ('ASTON MARTIN', 2018, 11),\n",
       " ('ASTON MARTIN', 2018, 12),\n",
       " ('ASTON MARTIN', 2019, 1),\n",
       " ('ASTON MARTIN', 2019, 2),\n",
       " ('ASTON MARTIN', 2019, 3),\n",
       " ('ASTON MARTIN', 2019, 4),\n",
       " ('ASTON MARTIN', 2019, 5),\n",
       " ('ASTON MARTIN', 2019, 6),\n",
       " ('ASTON MARTIN', 2019, 7),\n",
       " ('ASTON MARTIN', 2019, 8),\n",
       " ('ASTON MARTIN', 2019, 9),\n",
       " ('ASTON MARTIN', 2019, 10),\n",
       " ('ASTON MARTIN', 2019, 11),\n",
       " ('ASTON MARTIN', 2019, 12),\n",
       " ('ASTON MARTIN', 2020, 1),\n",
       " ('ASTON MARTIN', 2020, 2),\n",
       " ('ASTON MARTIN', 2020, 3),\n",
       " ('ASTON MARTIN', 2020, 4),\n",
       " ('ASTON MARTIN', 2020, 5),\n",
       " ('ASTON MARTIN', 2020, 6),\n",
       " ('ASTON MARTIN', 2020, 7),\n",
       " ('ASTON MARTIN', 2020, 8),\n",
       " ('ASTON MARTIN', 2020, 10),\n",
       " ('ASTON MARTIN', 2020, 11),\n",
       " ('ASTON MARTIN', 2020, 12),\n",
       " ('ASTON MARTIN', 2021, 1),\n",
       " ('ASTON MARTIN', 2021, 2),\n",
       " ('ASTON MARTIN', 2021, 3),\n",
       " ('ASTON MARTIN', 2021, 4),\n",
       " ('ASTON MARTIN', 2021, 5),\n",
       " ('ASTON MARTIN', 2021, 6),\n",
       " ('ASTON MARTIN', 2021, 7),\n",
       " ('ASTON MARTIN', 2021, 8),\n",
       " ('ASTON MARTIN', 2021, 9),\n",
       " ('ASTON MARTIN', 2021, 10),\n",
       " ('ASTON MARTIN', 2021, 11),\n",
       " ('ASTON MARTIN', 2021, 12),\n",
       " ('ASTON MARTIN', 2022, 1),\n",
       " ('ASTON MARTIN', 2022, 2),\n",
       " ('ASTON MARTIN', '2012', '1'),\n",
       " ('ASTON MARTIN', '2012', '10'),\n",
       " ('ASTON MARTIN', '2012', '11'),\n",
       " ('ASTON MARTIN', '2012', '12'),\n",
       " ('ASTON MARTIN', '2012', '2'),\n",
       " ('ASTON MARTIN', '2012', '4'),\n",
       " ('ASTON MARTIN', '2012', '5'),\n",
       " ('ASTON MARTIN', '2012', '6'),\n",
       " ('ASTON MARTIN', '2012', '7'),\n",
       " ('ASTON MARTIN', '2012', '8'),\n",
       " ('ASTON MARTIN', '2012', '9'),\n",
       " ('ASTON MARTIN', '2013', '1'),\n",
       " ('ASTON MARTIN', '2013', '10'),\n",
       " ('ASTON MARTIN', '2013', '11'),\n",
       " ('ASTON MARTIN', '2013', '12'),\n",
       " ('ASTON MARTIN', '2013', '2'),\n",
       " ('ASTON MARTIN', '2013', '3'),\n",
       " ('ASTON MARTIN', '2013', '4'),\n",
       " ('ASTON MARTIN', '2013', '5'),\n",
       " ('ASTON MARTIN', '2013', '6'),\n",
       " ('ASTON MARTIN', '2013', '7'),\n",
       " ('ASTON MARTIN', '2013', '8'),\n",
       " ('ASTON MARTIN', '2013', '9'),\n",
       " ('ASTON MARTIN', '2014', '1'),\n",
       " ('ASTON MARTIN', '2014', '10'),\n",
       " ('ASTON MARTIN', '2014', '11'),\n",
       " ('ASTON MARTIN', '2014', '12'),\n",
       " ('ASTON MARTIN', '2014', '2'),\n",
       " ('ASTON MARTIN', '2014', '3'),\n",
       " ('ASTON MARTIN', '2014', '4'),\n",
       " ('ASTON MARTIN', '2014', '5'),\n",
       " ('ASTON MARTIN', '2014', '6'),\n",
       " ('ASTON MARTIN', '2014', '7'),\n",
       " ('ASTON MARTIN', '2014', '8'),\n",
       " ('ASTON MARTIN', '2014', '9'),\n",
       " ('ASTON MARTIN', '2015', '1'),\n",
       " ('ASTON MARTIN', '2015', '10'),\n",
       " ('ASTON MARTIN', '2015', '11'),\n",
       " ('ASTON MARTIN', '2015', '2'),\n",
       " ('ASTON MARTIN', '2015', '3'),\n",
       " ('ASTON MARTIN', '2015', '4'),\n",
       " ('ASTON MARTIN', '2015', '5'),\n",
       " ('ASTON MARTIN', '2015', '7'),\n",
       " ('ASTON MARTIN', '2015', '8'),\n",
       " ('ASTON MARTIN', '2015', '9'),\n",
       " ('ASTON MARTIN', '2016', '1'),\n",
       " ('ASTON MARTIN', '2016', '3'),\n",
       " ('ASTON MARTIN', '2016', '4'),\n",
       " ('ASTON MARTIN', '2016', '5'),\n",
       " ('ASTON MARTIN', '2016', '6'),\n",
       " ('ASTON MARTIN', '2016', '7'),\n",
       " ('ASTON MARTIN', '2016', '8'),\n",
       " ('ASTON MARTIN', '2016', '9'),\n",
       " ('AUDI', 2016, 10),\n",
       " ('AUDI', 2016, 11),\n",
       " ('AUDI', 2016, 12),\n",
       " ('AUDI', 2017, 1),\n",
       " ('AUDI', 2017, 2),\n",
       " ('AUDI', 2017, 3),\n",
       " ('AUDI', 2017, 4),\n",
       " ('AUDI', 2017, 5),\n",
       " ('AUDI', 2017, 6),\n",
       " ('AUDI', 2017, 7),\n",
       " ('AUDI', 2017, 8),\n",
       " ('AUDI', 2017, 9),\n",
       " ('AUDI', 2017, 10),\n",
       " ('AUDI', 2017, 11),\n",
       " ('AUDI', 2017, 12),\n",
       " ('AUDI', 2018, 1),\n",
       " ('AUDI', 2018, 2),\n",
       " ('AUDI', 2018, 3),\n",
       " ('AUDI', 2018, 4),\n",
       " ('AUDI', 2018, 5),\n",
       " ('AUDI', 2018, 6),\n",
       " ('AUDI', 2018, 7),\n",
       " ('AUDI', 2018, 8),\n",
       " ('AUDI', 2018, 9),\n",
       " ('AUDI', 2018, 10),\n",
       " ('AUDI', 2018, 11),\n",
       " ('AUDI', 2018, 12),\n",
       " ('AUDI', 2019, 1),\n",
       " ('AUDI', 2019, 2),\n",
       " ('AUDI', 2019, 3),\n",
       " ('AUDI', 2019, 4),\n",
       " ('AUDI', 2019, 5),\n",
       " ('AUDI', 2019, 6),\n",
       " ('AUDI', 2019, 7),\n",
       " ('AUDI', 2019, 8),\n",
       " ('AUDI', 2019, 9),\n",
       " ('AUDI', 2019, 10),\n",
       " ('AUDI', 2019, 11),\n",
       " ('AUDI', 2019, 12),\n",
       " ('AUDI', 2020, 1),\n",
       " ('AUDI', 2020, 2),\n",
       " ('AUDI', 2020, 3),\n",
       " ('AUDI', 2020, 4),\n",
       " ('AUDI', 2020, 5),\n",
       " ('AUDI', 2020, 6),\n",
       " ('AUDI', 2020, 7),\n",
       " ('AUDI', 2020, 8),\n",
       " ('AUDI', 2020, 9),\n",
       " ('AUDI', 2020, 10),\n",
       " ('AUDI', 2020, 11),\n",
       " ('AUDI', 2020, 12),\n",
       " ('AUDI', 2021, 1),\n",
       " ('AUDI', 2021, 2),\n",
       " ('AUDI', 2021, 3),\n",
       " ('AUDI', 2021, 4),\n",
       " ('AUDI', 2021, 5),\n",
       " ('AUDI', 2021, 6),\n",
       " ('AUDI', 2021, 7),\n",
       " ('AUDI', 2021, 8),\n",
       " ('AUDI', 2021, 9),\n",
       " ('AUDI', 2021, 10),\n",
       " ('AUDI', 2021, 11),\n",
       " ('AUDI', 2021, 12),\n",
       " ('AUDI', 2022, 1),\n",
       " ('AUDI', 2022, 2),\n",
       " ('AUDI', '2012', '1'),\n",
       " ('AUDI', '2012', '10'),\n",
       " ('AUDI', '2012', '11'),\n",
       " ('AUDI', '2012', '12'),\n",
       " ('AUDI', '2012', '2'),\n",
       " ('AUDI', '2012', '3'),\n",
       " ('AUDI', '2012', '4'),\n",
       " ('AUDI', '2012', '5'),\n",
       " ('AUDI', '2012', '6'),\n",
       " ('AUDI', '2012', '7'),\n",
       " ('AUDI', '2012', '8'),\n",
       " ('AUDI', '2012', '9'),\n",
       " ('AUDI', '2013', '1'),\n",
       " ('AUDI', '2013', '10'),\n",
       " ('AUDI', '2013', '11'),\n",
       " ('AUDI', '2013', '12'),\n",
       " ('AUDI', '2013', '2'),\n",
       " ('AUDI', '2013', '3'),\n",
       " ('AUDI', '2013', '4'),\n",
       " ('AUDI', '2013', '5'),\n",
       " ('AUDI', '2013', '6'),\n",
       " ('AUDI', '2013', '7'),\n",
       " ('AUDI', '2013', '8'),\n",
       " ('AUDI', '2013', '9'),\n",
       " ('AUDI', '2014', '1'),\n",
       " ('AUDI', '2014', '10'),\n",
       " ('AUDI', '2014', '11'),\n",
       " ('AUDI', '2014', '12'),\n",
       " ('AUDI', '2014', '2'),\n",
       " ('AUDI', '2014', '3'),\n",
       " ('AUDI', '2014', '4'),\n",
       " ('AUDI', '2014', '5'),\n",
       " ('AUDI', '2014', '6'),\n",
       " ('AUDI', '2014', '7'),\n",
       " ('AUDI', '2014', '8'),\n",
       " ('AUDI', '2014', '9'),\n",
       " ('AUDI', '2015', '1'),\n",
       " ('AUDI', '2015', '10'),\n",
       " ('AUDI', '2015', '11'),\n",
       " ('AUDI', '2015', '12'),\n",
       " ('AUDI', '2015', '2'),\n",
       " ('AUDI', '2015', '3'),\n",
       " ('AUDI', '2015', '4'),\n",
       " ('AUDI', '2015', '5'),\n",
       " ('AUDI', '2015', '6'),\n",
       " ('AUDI', '2015', '7'),\n",
       " ('AUDI', '2015', '8'),\n",
       " ('AUDI', '2015', '9'),\n",
       " ('AUDI', '2016', '1'),\n",
       " ('AUDI', '2016', '2'),\n",
       " ('AUDI', '2016', '3'),\n",
       " ('AUDI', '2016', '4'),\n",
       " ('AUDI', '2016', '5'),\n",
       " ('AUDI', '2016', '6'),\n",
       " ('AUDI', '2016', '7'),\n",
       " ('AUDI', '2016', '8'),\n",
       " ('AUDI', '2016', '9'),\n",
       " ('BENTLEY', 2016, 10),\n",
       " ('BENTLEY', 2016, 11),\n",
       " ('BENTLEY', 2016, 12),\n",
       " ('BENTLEY', 2017, 1),\n",
       " ('BENTLEY', 2017, 2),\n",
       " ('BENTLEY', 2017, 3),\n",
       " ('BENTLEY', 2017, 4),\n",
       " ('BENTLEY', 2017, 5),\n",
       " ('BENTLEY', 2017, 6),\n",
       " ('BENTLEY', 2017, 7),\n",
       " ('BENTLEY', 2017, 8),\n",
       " ('BENTLEY', 2017, 9),\n",
       " ('BENTLEY', 2017, 10),\n",
       " ('BENTLEY', 2017, 11),\n",
       " ('BENTLEY', 2017, 12),\n",
       " ('BENTLEY', 2018, 1),\n",
       " ('BENTLEY', 2018, 2),\n",
       " ('BENTLEY', 2018, 3),\n",
       " ('BENTLEY', 2018, 4),\n",
       " ('BENTLEY', 2018, 5),\n",
       " ('BENTLEY', 2018, 6),\n",
       " ('BENTLEY', 2018, 7),\n",
       " ('BENTLEY', 2018, 8),\n",
       " ('BENTLEY', 2018, 9),\n",
       " ('BENTLEY', 2018, 10),\n",
       " ('BENTLEY', 2018, 11),\n",
       " ('BENTLEY', 2018, 12),\n",
       " ('BENTLEY', 2019, 1),\n",
       " ('BENTLEY', 2019, 2),\n",
       " ('BENTLEY', 2019, 3),\n",
       " ('BENTLEY', 2019, 4),\n",
       " ('BENTLEY', 2019, 5),\n",
       " ('BENTLEY', 2019, 6),\n",
       " ('BENTLEY', 2019, 7),\n",
       " ('BENTLEY', 2019, 8),\n",
       " ('BENTLEY', 2019, 9),\n",
       " ('BENTLEY', 2019, 10),\n",
       " ('BENTLEY', 2019, 11),\n",
       " ('BENTLEY', 2019, 12),\n",
       " ('BENTLEY', 2020, 1),\n",
       " ('BENTLEY', 2020, 2),\n",
       " ('BENTLEY', 2020, 3),\n",
       " ('BENTLEY', 2020, 4),\n",
       " ('BENTLEY', 2020, 5),\n",
       " ('BENTLEY', 2020, 6),\n",
       " ('BENTLEY', 2020, 7),\n",
       " ('BENTLEY', 2020, 8),\n",
       " ('BENTLEY', 2020, 9),\n",
       " ('BENTLEY', 2020, 10),\n",
       " ('BENTLEY', 2020, 11),\n",
       " ('BENTLEY', 2020, 12),\n",
       " ('BENTLEY', 2021, 1),\n",
       " ('BENTLEY', 2021, 2),\n",
       " ('BENTLEY', 2021, 3),\n",
       " ('BENTLEY', 2021, 4),\n",
       " ('BENTLEY', 2021, 5),\n",
       " ('BENTLEY', 2021, 6),\n",
       " ('BENTLEY', 2021, 7),\n",
       " ('BENTLEY', 2021, 8),\n",
       " ('BENTLEY', 2021, 9),\n",
       " ('BENTLEY', 2021, 10),\n",
       " ('BENTLEY', 2021, 11),\n",
       " ('BENTLEY', 2021, 12),\n",
       " ('BENTLEY', 2022, 1),\n",
       " ('BENTLEY', 2022, 2),\n",
       " ('BENTLEY', '2012', '1'),\n",
       " ('BENTLEY', '2012', '10'),\n",
       " ('BENTLEY', '2012', '11'),\n",
       " ('BENTLEY', '2012', '12'),\n",
       " ('BENTLEY', '2012', '2'),\n",
       " ('BENTLEY', '2012', '3'),\n",
       " ('BENTLEY', '2012', '4'),\n",
       " ('BENTLEY', '2012', '5'),\n",
       " ('BENTLEY', '2012', '6'),\n",
       " ('BENTLEY', '2012', '7'),\n",
       " ('BENTLEY', '2012', '8'),\n",
       " ('BENTLEY', '2012', '9'),\n",
       " ('BENTLEY', '2013', '1'),\n",
       " ('BENTLEY', '2013', '10'),\n",
       " ('BENTLEY', '2013', '11'),\n",
       " ('BENTLEY', '2013', '12'),\n",
       " ('BENTLEY', '2013', '2'),\n",
       " ('BENTLEY', '2013', '3'),\n",
       " ('BENTLEY', '2013', '4'),\n",
       " ('BENTLEY', '2013', '5'),\n",
       " ('BENTLEY', '2013', '6'),\n",
       " ('BENTLEY', '2013', '7'),\n",
       " ('BENTLEY', '2013', '8'),\n",
       " ('BENTLEY', '2013', '9'),\n",
       " ('BENTLEY', '2014', '1'),\n",
       " ('BENTLEY', '2014', '10'),\n",
       " ('BENTLEY', '2014', '11'),\n",
       " ('BENTLEY', '2014', '12'),\n",
       " ('BENTLEY', '2014', '2'),\n",
       " ('BENTLEY', '2014', '3'),\n",
       " ('BENTLEY', '2014', '4'),\n",
       " ('BENTLEY', '2014', '5'),\n",
       " ('BENTLEY', '2014', '6'),\n",
       " ('BENTLEY', '2014', '7'),\n",
       " ('BENTLEY', '2014', '8'),\n",
       " ('BENTLEY', '2014', '9'),\n",
       " ('BENTLEY', '2015', '1'),\n",
       " ('BENTLEY', '2015', '10'),\n",
       " ('BENTLEY', '2015', '11'),\n",
       " ('BENTLEY', '2015', '12'),\n",
       " ('BENTLEY', '2015', '2'),\n",
       " ('BENTLEY', '2015', '3'),\n",
       " ('BENTLEY', '2015', '4'),\n",
       " ('BENTLEY', '2015', '5'),\n",
       " ('BENTLEY', '2015', '6'),\n",
       " ('BENTLEY', '2015', '7'),\n",
       " ('BENTLEY', '2015', '8'),\n",
       " ('BENTLEY', '2015', '9'),\n",
       " ('BENTLEY', '2016', '1'),\n",
       " ('BENTLEY', '2016', '2'),\n",
       " ('BENTLEY', '2016', '3'),\n",
       " ('BENTLEY', '2016', '4'),\n",
       " ('BENTLEY', '2016', '5'),\n",
       " ('BENTLEY', '2016', '6'),\n",
       " ('BENTLEY', '2016', '7'),\n",
       " ('BENTLEY', '2016', '8'),\n",
       " ('BENTLEY', '2016', '9'),\n",
       " ('BENZ', 2016, 10),\n",
       " ('BENZ', 2016, 11),\n",
       " ('BENZ', 2016, 12),\n",
       " ('BENZ', 2017, 1),\n",
       " ('BENZ', 2017, 2),\n",
       " ('BENZ', 2017, 3),\n",
       " ('BENZ', 2017, 4),\n",
       " ('BENZ', 2017, 5),\n",
       " ('BENZ', 2017, 6),\n",
       " ('BENZ', 2017, 7),\n",
       " ('BENZ', 2017, 8),\n",
       " ('BENZ', 2017, 9),\n",
       " ('BENZ', 2017, 10),\n",
       " ('BENZ', 2017, 11),\n",
       " ('BENZ', 2017, 12),\n",
       " ('BENZ', 2018, 1),\n",
       " ('BENZ', 2018, 2),\n",
       " ('BENZ', 2018, 3),\n",
       " ('BENZ', 2018, 4),\n",
       " ('BENZ', 2018, 5),\n",
       " ('BENZ', 2018, 6),\n",
       " ('BENZ', 2018, 7),\n",
       " ('BENZ', 2018, 8),\n",
       " ('BENZ', 2018, 9),\n",
       " ('BENZ', 2018, 10),\n",
       " ('BENZ', 2018, 11),\n",
       " ('BENZ', 2018, 12),\n",
       " ('BENZ', 2019, 1),\n",
       " ('BENZ', 2019, 2),\n",
       " ('BENZ', 2019, 3),\n",
       " ('BENZ', 2019, 4),\n",
       " ('BENZ', 2019, 5),\n",
       " ('BENZ', 2019, 6),\n",
       " ('BENZ', 2019, 7),\n",
       " ('BENZ', 2019, 8),\n",
       " ('BENZ', 2019, 9),\n",
       " ('BENZ', 2019, 10),\n",
       " ('BENZ', 2019, 11),\n",
       " ('BENZ', 2019, 12),\n",
       " ('BENZ', 2020, 1),\n",
       " ('BENZ', 2020, 2),\n",
       " ('BENZ', 2020, 3),\n",
       " ('BENZ', 2020, 4),\n",
       " ('BENZ', 2020, 5),\n",
       " ('BENZ', 2020, 6),\n",
       " ('BENZ', 2020, 7),\n",
       " ('BENZ', 2020, 8),\n",
       " ('BENZ', 2020, 9),\n",
       " ('BENZ', 2020, 10),\n",
       " ('BENZ', 2020, 11),\n",
       " ('BENZ', 2020, 12),\n",
       " ('BENZ', 2021, 1),\n",
       " ('BENZ', 2021, 2),\n",
       " ('BENZ', 2021, 3),\n",
       " ('BENZ', 2021, 4),\n",
       " ('BENZ', 2021, 5),\n",
       " ('BENZ', 2021, 6),\n",
       " ('BENZ', 2021, 7),\n",
       " ('BENZ', 2021, 8),\n",
       " ('BENZ', 2021, 9),\n",
       " ('BENZ', 2021, 10),\n",
       " ('BENZ', 2021, 11),\n",
       " ('BENZ', 2021, 12),\n",
       " ('BENZ', 2022, 1),\n",
       " ('BENZ', 2022, 2),\n",
       " ('BENZ', '2012', '1'),\n",
       " ('BENZ', '2012', '10'),\n",
       " ('BENZ', '2012', '11'),\n",
       " ('BENZ', '2012', '12'),\n",
       " ('BENZ', '2012', '2'),\n",
       " ('BENZ', '2012', '3'),\n",
       " ('BENZ', '2012', '4'),\n",
       " ('BENZ', '2012', '5'),\n",
       " ('BENZ', '2012', '6'),\n",
       " ('BENZ', '2012', '7'),\n",
       " ('BENZ', '2012', '8'),\n",
       " ('BENZ', '2012', '9'),\n",
       " ('BENZ', '2013', '1'),\n",
       " ('BENZ', '2013', '10'),\n",
       " ('BENZ', '2013', '11'),\n",
       " ('BENZ', '2013', '12'),\n",
       " ('BENZ', '2013', '2'),\n",
       " ('BENZ', '2013', '3'),\n",
       " ('BENZ', '2013', '4'),\n",
       " ('BENZ', '2013', '5'),\n",
       " ('BENZ', '2013', '6'),\n",
       " ('BENZ', '2013', '7'),\n",
       " ('BENZ', '2013', '8'),\n",
       " ('BENZ', '2013', '9'),\n",
       " ('BENZ', '2014', '1'),\n",
       " ('BENZ', '2014', '10'),\n",
       " ('BENZ', '2014', '11'),\n",
       " ('BENZ', '2014', '12'),\n",
       " ('BENZ', '2014', '2'),\n",
       " ('BENZ', '2014', '3'),\n",
       " ('BENZ', '2014', '4'),\n",
       " ('BENZ', '2014', '5'),\n",
       " ('BENZ', '2014', '6'),\n",
       " ('BENZ', '2014', '7'),\n",
       " ('BENZ', '2014', '8'),\n",
       " ('BENZ', '2014', '9'),\n",
       " ('BENZ', '2015', '1'),\n",
       " ('BENZ', '2015', '10'),\n",
       " ('BENZ', '2015', '11'),\n",
       " ('BENZ', '2015', '12'),\n",
       " ('BENZ', '2015', '2'),\n",
       " ('BENZ', '2015', '3'),\n",
       " ('BENZ', '2015', '4'),\n",
       " ('BENZ', '2015', '5'),\n",
       " ('BENZ', '2015', '6'),\n",
       " ('BENZ', '2015', '7'),\n",
       " ('BENZ', '2015', '8'),\n",
       " ('BENZ', '2015', '9'),\n",
       " ('BENZ', '2016', '1'),\n",
       " ('BENZ', '2016', '2'),\n",
       " ('BENZ', '2016', '3'),\n",
       " ('BENZ', '2016', '4'),\n",
       " ('BENZ', '2016', '5'),\n",
       " ('BENZ', '2016', '6'),\n",
       " ('BENZ', '2016', '7'),\n",
       " ('BENZ', '2016', '8'),\n",
       " ('BENZ', '2016', '9'),\n",
       " ('BMW', 2016, 9),\n",
       " ('BMW', 2016, 10),\n",
       " ('BMW', 2016, 11),\n",
       " ('BMW', 2016, 12),\n",
       " ('BMW', 2017, 1),\n",
       " ('BMW', 2017, 2),\n",
       " ('BMW', 2017, 3),\n",
       " ('BMW', 2017, 4),\n",
       " ('BMW', 2017, 5),\n",
       " ('BMW', 2017, 6),\n",
       " ('BMW', 2017, 7),\n",
       " ('BMW', 2017, 8),\n",
       " ('BMW', 2017, 9),\n",
       " ('BMW', 2017, 10),\n",
       " ('BMW', 2017, 11),\n",
       " ('BMW', 2017, 12),\n",
       " ('BMW', 2018, 1),\n",
       " ('BMW', 2018, 2),\n",
       " ('BMW', 2018, 3),\n",
       " ('BMW', 2018, 4),\n",
       " ('BMW', 2018, 5),\n",
       " ('BMW', 2018, 6),\n",
       " ('BMW', 2018, 7),\n",
       " ('BMW', 2018, 8),\n",
       " ('BMW', 2018, 9),\n",
       " ('BMW', 2018, 10),\n",
       " ('BMW', 2018, 11),\n",
       " ('BMW', 2018, 12),\n",
       " ('BMW', 2019, 1),\n",
       " ('BMW', 2019, 2),\n",
       " ('BMW', 2019, 3),\n",
       " ('BMW', 2019, 4),\n",
       " ('BMW', 2019, 5),\n",
       " ('BMW', 2019, 6),\n",
       " ('BMW', 2019, 7),\n",
       " ('BMW', 2019, 8),\n",
       " ('BMW', 2019, 9),\n",
       " ('BMW', 2019, 10),\n",
       " ('BMW', 2019, 11),\n",
       " ('BMW', 2019, 12),\n",
       " ('BMW', 2020, 1),\n",
       " ('BMW', 2020, 2),\n",
       " ('BMW', 2020, 3),\n",
       " ('BMW', 2020, 4),\n",
       " ('BMW', 2020, 5),\n",
       " ('BMW', 2020, 6),\n",
       " ('BMW', 2020, 7),\n",
       " ('BMW', 2020, 8),\n",
       " ('BMW', 2020, 9),\n",
       " ('BMW', 2020, 10),\n",
       " ('BMW', 2020, 11),\n",
       " ('BMW', 2020, 12),\n",
       " ('BMW', 2021, 1),\n",
       " ('BMW', 2021, 2),\n",
       " ('BMW', 2021, 3),\n",
       " ('BMW', 2021, 4),\n",
       " ('BMW', 2021, 5),\n",
       " ('BMW', 2021, 6),\n",
       " ('BMW', 2021, 7),\n",
       " ('BMW', 2021, 8),\n",
       " ('BMW', 2021, 9),\n",
       " ('BMW', 2021, 10),\n",
       " ('BMW', 2021, 11),\n",
       " ('BMW', 2021, 12),\n",
       " ('BMW', 2022, 1),\n",
       " ('BMW', 2022, 2),\n",
       " ('BMW', '2012', '1'),\n",
       " ('BMW', '2012', '10'),\n",
       " ('BMW', '2012', '11'),\n",
       " ('BMW', '2012', '12'),\n",
       " ('BMW', '2012', '2'),\n",
       " ('BMW', '2012', '3'),\n",
       " ('BMW', '2012', '4'),\n",
       " ('BMW', '2012', '5'),\n",
       " ('BMW', '2012', '6'),\n",
       " ('BMW', '2012', '7'),\n",
       " ('BMW', '2012', '8'),\n",
       " ('BMW', '2012', '9'),\n",
       " ('BMW', '2013', '1'),\n",
       " ('BMW', '2013', '10'),\n",
       " ('BMW', '2013', '11'),\n",
       " ('BMW', '2013', '12'),\n",
       " ('BMW', '2013', '2'),\n",
       " ('BMW', '2013', '3'),\n",
       " ('BMW', '2013', '4'),\n",
       " ('BMW', '2013', '5'),\n",
       " ('BMW', '2013', '6'),\n",
       " ('BMW', '2013', '7'),\n",
       " ('BMW', '2013', '8'),\n",
       " ('BMW', '2013', '9'),\n",
       " ('BMW', '2014', '1'),\n",
       " ('BMW', '2014', '10'),\n",
       " ('BMW', '2014', '11'),\n",
       " ('BMW', '2014', '12'),\n",
       " ('BMW', '2014', '2'),\n",
       " ('BMW', '2014', '3'),\n",
       " ('BMW', '2014', '4'),\n",
       " ('BMW', '2014', '5'),\n",
       " ('BMW', '2014', '6'),\n",
       " ('BMW', '2014', '7'),\n",
       " ('BMW', '2014', '8'),\n",
       " ('BMW', '2014', '9'),\n",
       " ('BMW', '2015', '1'),\n",
       " ('BMW', '2015', '10'),\n",
       " ('BMW', '2015', '11'),\n",
       " ('BMW', '2015', '12'),\n",
       " ('BMW', '2015', '2'),\n",
       " ('BMW', '2015', '3'),\n",
       " ('BMW', '2015', '4'),\n",
       " ('BMW', '2015', '5'),\n",
       " ('BMW', '2015', '6'),\n",
       " ('BMW', '2015', '7'),\n",
       " ('BMW', '2015', '8'),\n",
       " ('BMW', '2015', '9'),\n",
       " ('BMW', '2016', '1'),\n",
       " ('BMW', '2016', '2'),\n",
       " ('BMW', '2016', '3'),\n",
       " ('BMW', '2016', '4'),\n",
       " ('BMW', '2016', '5'),\n",
       " ('BMW', '2016', '6'),\n",
       " ('BMW', '2016', '7'),\n",
       " ('BMW', '2016', '8'),\n",
       " ('BMW', '2016', '9'),\n",
       " ('BRABUS', 2018, 1),\n",
       " ('BRABUS', 2018, 2),\n",
       " ('BRABUS', 2018, 10),\n",
       " ('BRABUS', 2020, 1),\n",
       " ('BRABUS', 2020, 2),\n",
       " ('BRABUS', 2020, 3),\n",
       " ('BRABUS', 2020, 4),\n",
       " ('BRABUS', 2020, 5),\n",
       " ('BRABUS', 2020, 6),\n",
       " ('BRABUS', 2020, 7),\n",
       " ('BRABUS', 2020, 8),\n",
       " ('BRABUS', 2020, 9),\n",
       " ('BRABUS', 2020, 10),\n",
       " ('BRABUS', 2020, 11),\n",
       " ('BRABUS', 2021, 3),\n",
       " ('BRABUS', 2021, 4),\n",
       " ('BRABUS', 2021, 7),\n",
       " ('BRABUS', 2021, 8),\n",
       " ('BRABUS', 2022, 1),\n",
       " ('BRABUS', 2022, 2),\n",
       " ('BRABUS', '2014', '4'),\n",
       " ('BRABUS', '2016', '6'),\n",
       " ('BUICK', '2012', '2'),\n",
       " ('CADILLAC', 2016, 10),\n",
       " ('CADILLAC', 2016, 11),\n",
       " ('CADILLAC', 2016, 12),\n",
       " ('CADILLAC', 2017, 1),\n",
       " ('CADILLAC', 2017, 5),\n",
       " ('CADILLAC', 2017, 6),\n",
       " ('CADILLAC', 2017, 7),\n",
       " ('CADILLAC', 2017, 8),\n",
       " ('CADILLAC', 2017, 11),\n",
       " ('CADILLAC', 2017, 12),\n",
       " ('CADILLAC', 2018, 4),\n",
       " ('CADILLAC', 2018, 6),\n",
       " ('CADILLAC', 2018, 8),\n",
       " ('CADILLAC', 2018, 11),\n",
       " ('CADILLAC', 2019, 1),\n",
       " ('CADILLAC', 2019, 2),\n",
       " ('CADILLAC', 2019, 4),\n",
       " ('CADILLAC', 2019, 6),\n",
       " ('CADILLAC', 2019, 8),\n",
       " ('CADILLAC', 2019, 9),\n",
       " ('CADILLAC', 2020, 6),\n",
       " ('CADILLAC', 2020, 8),\n",
       " ('CADILLAC', 2020, 11),\n",
       " ('CADILLAC', 2021, 1),\n",
       " ('CADILLAC', 2021, 2),\n",
       " ('CADILLAC', 2021, 4),\n",
       " ('CADILLAC', 2021, 5),\n",
       " ('CADILLAC', 2021, 6),\n",
       " ('CADILLAC', 2021, 7),\n",
       " ('CADILLAC', 2021, 9),\n",
       " ('CADILLAC', 2022, 1),\n",
       " ('CADILLAC', '2012', '10'),\n",
       " ('CADILLAC', '2012', '11'),\n",
       " ('CADILLAC', '2012', '2'),\n",
       " ('CADILLAC', '2012', '6'),\n",
       " ('CADILLAC', '2013', '12'),\n",
       " ('CADILLAC', '2013', '2'),\n",
       " ('CADILLAC', '2013', '3'),\n",
       " ('CADILLAC', '2013', '7'),\n",
       " ('CADILLAC', '2013', '8'),\n",
       " ('CADILLAC', '2013', '9'),\n",
       " ('CADILLAC', '2014', '1'),\n",
       " ('CADILLAC', '2014', '10'),\n",
       " ('CADILLAC', '2014', '11'),\n",
       " ('CADILLAC', '2014', '12'),\n",
       " ('CADILLAC', '2014', '3'),\n",
       " ('CADILLAC', '2014', '5'),\n",
       " ('CADILLAC', '2015', '10'),\n",
       " ('CADILLAC', '2015', '11'),\n",
       " ('CADILLAC', '2015', '2'),\n",
       " ('CADILLAC', '2015', '3'),\n",
       " ('CADILLAC', '2015', '4'),\n",
       " ('CADILLAC', '2016', '2'),\n",
       " ('CADILLAC', '2016', '3'),\n",
       " ('CADILLAC', '2016', '5'),\n",
       " ('CADILLAC', '2016', '9'),\n",
       " ('CATERHAM', 2016, 10),\n",
       " ('CATERHAM', 2016, 11),\n",
       " ('CATERHAM', 2016, 12),\n",
       " ('CATERHAM', 2017, 10),\n",
       " ('CATERHAM', 2018, 1),\n",
       " ('CATERHAM', 2018, 7),\n",
       " ('CATERHAM', 2018, 9),\n",
       " ('CATERHAM', 2018, 12),\n",
       " ('CATERHAM', 2019, 1),\n",
       " ('CATERHAM', 2019, 5),\n",
       " ('CATERHAM', 2019, 6),\n",
       " ('CATERHAM', 2019, 7),\n",
       " ('CATERHAM', 2019, 9),\n",
       " ('CATERHAM', 2019, 11),\n",
       " ('CATERHAM', 2019, 12),\n",
       " ('CATERHAM', 2020, 1),\n",
       " ('CATERHAM', 2020, 2),\n",
       " ('CATERHAM', 2020, 3),\n",
       " ('CATERHAM', 2020, 4),\n",
       " ('CATERHAM', 2020, 5),\n",
       " ('CATERHAM', 2020, 6),\n",
       " ('CATERHAM', 2020, 9),\n",
       " ('CATERHAM', 2020, 12),\n",
       " ('CATERHAM', 2021, 1),\n",
       " ('CATERHAM', 2021, 4),\n",
       " ('CATERHAM', 2021, 7),\n",
       " ('CATERHAM', 2021, 8),\n",
       " ('CATERHAM', 2021, 9),\n",
       " ('CATERHAM', 2021, 10),\n",
       " ('CATERHAM', '2014', '11'),\n",
       " ('CATERHAM', '2015', '1'),\n",
       " ('CATERHAM', '2016', '3'),\n",
       " ('CATERHAM', '2016', '8'),\n",
       " ('CHERY', '2012', '1'),\n",
       " ('CHERY', '2012', '10'),\n",
       " ('CHERY', '2012', '11'),\n",
       " ('CHERY', '2012', '12'),\n",
       " ('CHERY', '2012', '2'),\n",
       " ('CHERY', '2012', '3'),\n",
       " ('CHERY', '2012', '4'),\n",
       " ('CHERY', '2012', '5'),\n",
       " ('CHERY', '2012', '6'),\n",
       " ('CHERY', '2012', '7'),\n",
       " ('CHERY', '2012', '8'),\n",
       " ('CHERY', '2012', '9'),\n",
       " ('CHERY', '2013', '1'),\n",
       " ('CHERY', '2013', '10'),\n",
       " ('CHERY', '2013', '11'),\n",
       " ('CHERY', '2013', '12'),\n",
       " ('CHERY', '2013', '2'),\n",
       " ('CHERY', '2013', '3'),\n",
       " ('CHERY', '2013', '4'),\n",
       " ('CHERY', '2013', '5'),\n",
       " ('CHERY', '2013', '6'),\n",
       " ('CHERY', '2013', '7'),\n",
       " ('CHERY', '2013', '8'),\n",
       " ('CHERY', '2013', '9'),\n",
       " ('CHERY', '2014', '1'),\n",
       " ('CHEVROLET', 2016, 12),\n",
       " ('CHEVROLET', 2017, 1),\n",
       " ('CHEVROLET', 2017, 5),\n",
       " ('CHEVROLET', 2017, 6),\n",
       " ('CHEVROLET', 2017, 7),\n",
       " ('CHEVROLET', 2017, 8),\n",
       " ('CHEVROLET', 2017, 9),\n",
       " ('CHEVROLET', 2017, 10),\n",
       " ('CHEVROLET', 2017, 11),\n",
       " ('CHEVROLET', 2017, 12),\n",
       " ('CHEVROLET', 2018, 1),\n",
       " ('CHEVROLET', 2018, 2),\n",
       " ('CHEVROLET', 2018, 3),\n",
       " ('CHEVROLET', 2018, 4),\n",
       " ('CHEVROLET', 2018, 5),\n",
       " ('CHEVROLET', 2018, 6),\n",
       " ('CHEVROLET', 2018, 7),\n",
       " ('CHEVROLET', 2018, 8),\n",
       " ('CHEVROLET', 2018, 9),\n",
       " ('CHEVROLET', 2018, 10),\n",
       " ('CHEVROLET', 2018, 11),\n",
       " ('CHEVROLET', 2019, 1),\n",
       " ('CHEVROLET', 2019, 2),\n",
       " ('CHEVROLET', 2019, 3),\n",
       " ('CHEVROLET', 2019, 5),\n",
       " ('CHEVROLET', 2019, 6),\n",
       " ('CHEVROLET', 2019, 11),\n",
       " ('CHEVROLET', 2019, 12),\n",
       " ('CHEVROLET', 2020, 2),\n",
       " ('CHEVROLET', 2020, 3),\n",
       " ('CHEVROLET', 2020, 4),\n",
       " ('CHEVROLET', 2020, 6),\n",
       " ('CHEVROLET', 2020, 8),\n",
       " ('CHEVROLET', 2020, 9),\n",
       " ('CHEVROLET', 2020, 10),\n",
       " ('CHEVROLET', 2020, 11),\n",
       " ('CHEVROLET', 2021, 1),\n",
       " ('CHEVROLET', 2021, 2),\n",
       " ('CHEVROLET', 2021, 3),\n",
       " ('CHEVROLET', 2021, 5),\n",
       " ('CHEVROLET', 2021, 7),\n",
       " ('CHEVROLET', 2021, 8),\n",
       " ('CHEVROLET', 2021, 9),\n",
       " ('CHEVROLET', 2021, 10),\n",
       " ('CHEVROLET', 2021, 11),\n",
       " ('CHEVROLET', 2022, 1),\n",
       " ('CHEVROLET', 2022, 2),\n",
       " ('CHEVROLET', '2012', '1'),\n",
       " ('CHEVROLET', '2012', '10'),\n",
       " ('CHEVROLET', '2012', '12'),\n",
       " ('CHEVROLET', '2012', '2'),\n",
       " ...]"
      ]
     },
     "execution_count": 16,
     "metadata": {},
     "output_type": "execute_result"
    }
   ],
   "source": [
    "brand_year_month = csv.groupby(['品牌','年','月'])\n",
    "group_year_month = []\n",
    "for x,y in brand_year_month:\n",
    "    group_year_month.append(x)\n",
    "group_year_month"
   ]
  },
  {
   "cell_type": "code",
   "execution_count": 17,
   "id": "9d98cbfb",
   "metadata": {},
   "outputs": [],
   "source": [
    "group_year_month_sum =[]\n",
    "for x in group_year_month:\n",
    "    group_year_month_sum.append(brand_year_month.get_group(x)['合計'].sum())"
   ]
  },
  {
   "cell_type": "code",
   "execution_count": 18,
   "id": "f480e5d2",
   "metadata": {},
   "outputs": [
    {
     "data": {
      "text/html": [
       "<div>\n",
       "<style scoped>\n",
       "    .dataframe tbody tr th:only-of-type {\n",
       "        vertical-align: middle;\n",
       "    }\n",
       "\n",
       "    .dataframe tbody tr th {\n",
       "        vertical-align: top;\n",
       "    }\n",
       "\n",
       "    .dataframe thead th {\n",
       "        text-align: right;\n",
       "    }\n",
       "</style>\n",
       "<table border=\"1\" class=\"dataframe\">\n",
       "  <thead>\n",
       "    <tr style=\"text-align: right;\">\n",
       "      <th></th>\n",
       "      <th>0</th>\n",
       "      <th>1</th>\n",
       "    </tr>\n",
       "  </thead>\n",
       "  <tbody>\n",
       "    <tr>\n",
       "      <th>0</th>\n",
       "      <td>1</td>\n",
       "      <td>(ABARTH, 2016, 12)</td>\n",
       "    </tr>\n",
       "    <tr>\n",
       "      <th>1</th>\n",
       "      <td>1</td>\n",
       "      <td>(ABARTH, 2017, 3)</td>\n",
       "    </tr>\n",
       "    <tr>\n",
       "      <th>2</th>\n",
       "      <td>2</td>\n",
       "      <td>(ABARTH, 2017, 4)</td>\n",
       "    </tr>\n",
       "    <tr>\n",
       "      <th>3</th>\n",
       "      <td>3</td>\n",
       "      <td>(ABARTH, 2017, 6)</td>\n",
       "    </tr>\n",
       "    <tr>\n",
       "      <th>4</th>\n",
       "      <td>2</td>\n",
       "      <td>(ABARTH, 2017, 7)</td>\n",
       "    </tr>\n",
       "    <tr>\n",
       "      <th>...</th>\n",
       "      <td>...</td>\n",
       "      <td>...</td>\n",
       "    </tr>\n",
       "    <tr>\n",
       "      <th>5287</th>\n",
       "      <td>5</td>\n",
       "      <td>(福田, 2016, 5)</td>\n",
       "    </tr>\n",
       "    <tr>\n",
       "      <th>5288</th>\n",
       "      <td>7</td>\n",
       "      <td>(福田, 2016, 6)</td>\n",
       "    </tr>\n",
       "    <tr>\n",
       "      <th>5289</th>\n",
       "      <td>5</td>\n",
       "      <td>(福田, 2016, 7)</td>\n",
       "    </tr>\n",
       "    <tr>\n",
       "      <th>5290</th>\n",
       "      <td>5</td>\n",
       "      <td>(福田, 2016, 8)</td>\n",
       "    </tr>\n",
       "    <tr>\n",
       "      <th>5291</th>\n",
       "      <td>3</td>\n",
       "      <td>(福田, 2016, 9)</td>\n",
       "    </tr>\n",
       "  </tbody>\n",
       "</table>\n",
       "<p>5292 rows × 2 columns</p>\n",
       "</div>"
      ],
      "text/plain": [
       "      0                   1\n",
       "0     1  (ABARTH, 2016, 12)\n",
       "1     1   (ABARTH, 2017, 3)\n",
       "2     2   (ABARTH, 2017, 4)\n",
       "3     3   (ABARTH, 2017, 6)\n",
       "4     2   (ABARTH, 2017, 7)\n",
       "...  ..                 ...\n",
       "5287  5       (福田, 2016, 5)\n",
       "5288  7       (福田, 2016, 6)\n",
       "5289  5       (福田, 2016, 7)\n",
       "5290  5       (福田, 2016, 8)\n",
       "5291  3       (福田, 2016, 9)\n",
       "\n",
       "[5292 rows x 2 columns]"
      ]
     },
     "execution_count": 18,
     "metadata": {},
     "output_type": "execute_result"
    }
   ],
   "source": [
    "df = pd.DataFrame([group_year_month_sum,group_year_month]).T\n",
    "df"
   ]
  },
  {
   "cell_type": "code",
   "execution_count": 19,
   "id": "fd563228",
   "metadata": {},
   "outputs": [],
   "source": [
    "df['brand'] = df[1].apply(lambda x:x[0])\n",
    "df['time'] = df[1].apply(lambda x:str(x[1]) + '/' + str(x[2]))"
   ]
  },
  {
   "cell_type": "code",
   "execution_count": 20,
   "id": "844fa7c3",
   "metadata": {},
   "outputs": [],
   "source": [
    "df['time_strptime'] = df['time'].apply(lambda x:datetime.strptime(x,\"%Y/%m\"))\n"
   ]
  },
  {
   "cell_type": "code",
   "execution_count": 21,
   "id": "174b0304",
   "metadata": {},
   "outputs": [
    {
     "data": {
      "text/html": [
       "<div>\n",
       "<style scoped>\n",
       "    .dataframe tbody tr th:only-of-type {\n",
       "        vertical-align: middle;\n",
       "    }\n",
       "\n",
       "    .dataframe tbody tr th {\n",
       "        vertical-align: top;\n",
       "    }\n",
       "\n",
       "    .dataframe thead th {\n",
       "        text-align: right;\n",
       "    }\n",
       "</style>\n",
       "<table border=\"1\" class=\"dataframe\">\n",
       "  <thead>\n",
       "    <tr style=\"text-align: right;\">\n",
       "      <th></th>\n",
       "      <th>0</th>\n",
       "      <th>1</th>\n",
       "      <th>brand</th>\n",
       "      <th>time</th>\n",
       "      <th>time_strptime</th>\n",
       "    </tr>\n",
       "  </thead>\n",
       "  <tbody>\n",
       "    <tr>\n",
       "      <th>11</th>\n",
       "      <td>1</td>\n",
       "      <td>(ABARTH, 2018, 2)</td>\n",
       "      <td>ABARTH</td>\n",
       "      <td>2018/2</td>\n",
       "      <td>2018-02-01</td>\n",
       "    </tr>\n",
       "    <tr>\n",
       "      <th>12</th>\n",
       "      <td>1</td>\n",
       "      <td>(ABARTH, 2018, 3)</td>\n",
       "      <td>ABARTH</td>\n",
       "      <td>2018/3</td>\n",
       "      <td>2018-03-01</td>\n",
       "    </tr>\n",
       "    <tr>\n",
       "      <th>13</th>\n",
       "      <td>3</td>\n",
       "      <td>(ABARTH, 2018, 4)</td>\n",
       "      <td>ABARTH</td>\n",
       "      <td>2018/4</td>\n",
       "      <td>2018-04-01</td>\n",
       "    </tr>\n",
       "    <tr>\n",
       "      <th>14</th>\n",
       "      <td>1</td>\n",
       "      <td>(ABARTH, 2018, 5)</td>\n",
       "      <td>ABARTH</td>\n",
       "      <td>2018/5</td>\n",
       "      <td>2018-05-01</td>\n",
       "    </tr>\n",
       "    <tr>\n",
       "      <th>15</th>\n",
       "      <td>3</td>\n",
       "      <td>(ABARTH, 2018, 6)</td>\n",
       "      <td>ABARTH</td>\n",
       "      <td>2018/6</td>\n",
       "      <td>2018-06-01</td>\n",
       "    </tr>\n",
       "    <tr>\n",
       "      <th>...</th>\n",
       "      <td>...</td>\n",
       "      <td>...</td>\n",
       "      <td>...</td>\n",
       "      <td>...</td>\n",
       "      <td>...</td>\n",
       "    </tr>\n",
       "    <tr>\n",
       "      <th>5248</th>\n",
       "      <td>1</td>\n",
       "      <td>(福田, 2019, 4)</td>\n",
       "      <td>福田</td>\n",
       "      <td>2019/4</td>\n",
       "      <td>2019-04-01</td>\n",
       "    </tr>\n",
       "    <tr>\n",
       "      <th>5249</th>\n",
       "      <td>1</td>\n",
       "      <td>(福田, 2019, 5)</td>\n",
       "      <td>福田</td>\n",
       "      <td>2019/5</td>\n",
       "      <td>2019-05-01</td>\n",
       "    </tr>\n",
       "    <tr>\n",
       "      <th>5250</th>\n",
       "      <td>1</td>\n",
       "      <td>(福田, 2019, 8)</td>\n",
       "      <td>福田</td>\n",
       "      <td>2019/8</td>\n",
       "      <td>2019-08-01</td>\n",
       "    </tr>\n",
       "    <tr>\n",
       "      <th>5251</th>\n",
       "      <td>1</td>\n",
       "      <td>(福田, 2019, 9)</td>\n",
       "      <td>福田</td>\n",
       "      <td>2019/9</td>\n",
       "      <td>2019-09-01</td>\n",
       "    </tr>\n",
       "    <tr>\n",
       "      <th>5252</th>\n",
       "      <td>1</td>\n",
       "      <td>(福田, 2020, 1)</td>\n",
       "      <td>福田</td>\n",
       "      <td>2020/1</td>\n",
       "      <td>2020-01-01</td>\n",
       "    </tr>\n",
       "  </tbody>\n",
       "</table>\n",
       "<p>2169 rows × 5 columns</p>\n",
       "</div>"
      ],
      "text/plain": [
       "      0                  1   brand    time time_strptime\n",
       "11    1  (ABARTH, 2018, 2)  ABARTH  2018/2    2018-02-01\n",
       "12    1  (ABARTH, 2018, 3)  ABARTH  2018/3    2018-03-01\n",
       "13    3  (ABARTH, 2018, 4)  ABARTH  2018/4    2018-04-01\n",
       "14    1  (ABARTH, 2018, 5)  ABARTH  2018/5    2018-05-01\n",
       "15    3  (ABARTH, 2018, 6)  ABARTH  2018/6    2018-06-01\n",
       "...  ..                ...     ...     ...           ...\n",
       "5248  1      (福田, 2019, 4)      福田  2019/4    2019-04-01\n",
       "5249  1      (福田, 2019, 5)      福田  2019/5    2019-05-01\n",
       "5250  1      (福田, 2019, 8)      福田  2019/8    2019-08-01\n",
       "5251  1      (福田, 2019, 9)      福田  2019/9    2019-09-01\n",
       "5252  1      (福田, 2020, 1)      福田  2020/1    2020-01-01\n",
       "\n",
       "[2169 rows x 5 columns]"
      ]
     },
     "execution_count": 21,
     "metadata": {},
     "output_type": "execute_result"
    }
   ],
   "source": [
    "df_time = df[df['time_strptime'] > datetime.strptime('2018-01-01','%Y-%m-%d')]\n",
    "df_time"
   ]
  },
  {
   "cell_type": "code",
   "execution_count": 22,
   "id": "4c0515ff",
   "metadata": {},
   "outputs": [
    {
     "name": "stderr",
     "output_type": "stream",
     "text": [
      "/Users/xuzhejia/opt/anaconda3/lib/python3.9/site-packages/plotly/graph_objs/_deprecations.py:378: DeprecationWarning:\n",
      "\n",
      "plotly.graph_objs.Line is deprecated.\n",
      "Please replace it with one of the following more specific types\n",
      "  - plotly.graph_objs.scatter.Line\n",
      "  - plotly.graph_objs.layout.shape.Line\n",
      "  - etc.\n",
      "\n",
      "\n"
     ]
    },
    {
     "data": {
      "application/vnd.plotly.v1+json": {
       "config": {
        "linkText": "Export to plot.ly",
        "plotlyServerURL": "https://plot.ly",
        "showLink": false
       },
       "data": [
        {
         "name": "AUDI",
         "type": "scatter",
         "x": [
          "2018-02-01T00:00:00",
          "2018-03-01T00:00:00",
          "2018-04-01T00:00:00",
          "2018-05-01T00:00:00",
          "2018-06-01T00:00:00",
          "2018-07-01T00:00:00",
          "2018-08-01T00:00:00",
          "2018-09-01T00:00:00",
          "2018-10-01T00:00:00",
          "2018-11-01T00:00:00",
          "2018-12-01T00:00:00",
          "2019-01-01T00:00:00",
          "2019-02-01T00:00:00",
          "2019-03-01T00:00:00",
          "2019-04-01T00:00:00",
          "2019-05-01T00:00:00",
          "2019-06-01T00:00:00",
          "2019-07-01T00:00:00",
          "2019-08-01T00:00:00",
          "2019-09-01T00:00:00",
          "2019-10-01T00:00:00",
          "2019-11-01T00:00:00",
          "2019-12-01T00:00:00",
          "2020-01-01T00:00:00",
          "2020-02-01T00:00:00",
          "2020-03-01T00:00:00",
          "2020-04-01T00:00:00",
          "2020-05-01T00:00:00",
          "2020-06-01T00:00:00",
          "2020-07-01T00:00:00",
          "2020-08-01T00:00:00",
          "2020-09-01T00:00:00",
          "2020-10-01T00:00:00",
          "2020-11-01T00:00:00",
          "2020-12-01T00:00:00",
          "2021-01-01T00:00:00",
          "2021-02-01T00:00:00",
          "2021-03-01T00:00:00",
          "2021-04-01T00:00:00",
          "2021-05-01T00:00:00",
          "2021-06-01T00:00:00",
          "2021-07-01T00:00:00",
          "2021-08-01T00:00:00",
          "2021-09-01T00:00:00",
          "2021-10-01T00:00:00",
          "2021-11-01T00:00:00",
          "2021-12-01T00:00:00",
          "2022-01-01T00:00:00",
          "2022-02-01T00:00:00"
         ],
         "y": [
          283,
          270,
          423,
          139,
          143,
          273,
          199,
          185,
          183,
          208,
          241,
          159,
          79,
          111,
          85,
          146,
          196,
          114,
          170,
          184,
          272,
          248,
          311,
          190,
          141,
          121,
          129,
          187,
          203,
          210,
          198,
          218,
          334,
          316,
          277,
          228,
          155,
          273,
          316,
          239,
          232,
          244,
          266,
          342,
          216,
          96,
          60,
          508,
          32
         ]
        },
        {
         "name": "BMW",
         "type": "scatter",
         "x": [
          "2018-02-01T00:00:00",
          "2018-03-01T00:00:00",
          "2018-04-01T00:00:00",
          "2018-05-01T00:00:00",
          "2018-06-01T00:00:00",
          "2018-07-01T00:00:00",
          "2018-08-01T00:00:00",
          "2018-09-01T00:00:00",
          "2018-10-01T00:00:00",
          "2018-11-01T00:00:00",
          "2018-12-01T00:00:00",
          "2019-01-01T00:00:00",
          "2019-02-01T00:00:00",
          "2019-03-01T00:00:00",
          "2019-04-01T00:00:00",
          "2019-05-01T00:00:00",
          "2019-06-01T00:00:00",
          "2019-07-01T00:00:00",
          "2019-08-01T00:00:00",
          "2019-09-01T00:00:00",
          "2019-10-01T00:00:00",
          "2019-11-01T00:00:00",
          "2019-12-01T00:00:00",
          "2020-01-01T00:00:00",
          "2020-02-01T00:00:00",
          "2020-03-01T00:00:00",
          "2020-04-01T00:00:00",
          "2020-05-01T00:00:00",
          "2020-06-01T00:00:00",
          "2020-07-01T00:00:00",
          "2020-08-01T00:00:00",
          "2020-09-01T00:00:00",
          "2020-10-01T00:00:00",
          "2020-11-01T00:00:00",
          "2020-12-01T00:00:00",
          "2021-01-01T00:00:00",
          "2021-02-01T00:00:00",
          "2021-03-01T00:00:00",
          "2021-04-01T00:00:00",
          "2021-05-01T00:00:00",
          "2021-06-01T00:00:00",
          "2021-07-01T00:00:00",
          "2021-08-01T00:00:00",
          "2021-09-01T00:00:00",
          "2021-10-01T00:00:00",
          "2021-11-01T00:00:00",
          "2021-12-01T00:00:00",
          "2022-01-01T00:00:00",
          "2022-02-01T00:00:00"
         ],
         "y": [
          839,
          1201,
          1045,
          1011,
          1308,
          1145,
          952,
          1359,
          967,
          1439,
          1220,
          1360,
          508,
          1051,
          1021,
          1247,
          1388,
          1357,
          964,
          929,
          1410,
          1266,
          1669,
          1195,
          923,
          1082,
          873,
          1333,
          1279,
          1087,
          1500,
          1239,
          1498,
          1512,
          1616,
          1672,
          673,
          1283,
          1347,
          1353,
          1059,
          1180,
          1156,
          1471,
          1345,
          1369,
          1019,
          1627,
          207
         ]
        },
        {
         "name": "TOYOTA",
         "type": "scatter",
         "x": [
          "2018-02-01T00:00:00",
          "2018-03-01T00:00:00",
          "2018-04-01T00:00:00",
          "2018-05-01T00:00:00",
          "2018-06-01T00:00:00",
          "2018-07-01T00:00:00",
          "2018-08-01T00:00:00",
          "2018-09-01T00:00:00",
          "2018-10-01T00:00:00",
          "2018-11-01T00:00:00",
          "2018-12-01T00:00:00",
          "2019-01-01T00:00:00",
          "2019-02-01T00:00:00",
          "2019-03-01T00:00:00",
          "2019-04-01T00:00:00",
          "2019-05-01T00:00:00",
          "2019-06-01T00:00:00",
          "2019-07-01T00:00:00",
          "2019-08-01T00:00:00",
          "2019-09-01T00:00:00",
          "2019-10-01T00:00:00",
          "2019-11-01T00:00:00",
          "2019-12-01T00:00:00",
          "2020-01-01T00:00:00",
          "2020-02-01T00:00:00",
          "2020-03-01T00:00:00",
          "2020-04-01T00:00:00",
          "2020-05-01T00:00:00",
          "2020-06-01T00:00:00",
          "2020-07-01T00:00:00",
          "2020-08-01T00:00:00",
          "2020-09-01T00:00:00",
          "2020-10-01T00:00:00",
          "2020-11-01T00:00:00",
          "2020-12-01T00:00:00",
          "2021-01-01T00:00:00",
          "2021-02-01T00:00:00",
          "2021-03-01T00:00:00",
          "2021-04-01T00:00:00",
          "2021-05-01T00:00:00",
          "2021-06-01T00:00:00",
          "2021-07-01T00:00:00",
          "2021-08-01T00:00:00",
          "2021-09-01T00:00:00",
          "2021-10-01T00:00:00",
          "2021-11-01T00:00:00",
          "2021-12-01T00:00:00",
          "2022-01-01T00:00:00",
          "2022-02-01T00:00:00"
         ],
         "y": [
          6853,
          9069,
          8648,
          7516,
          9008,
          12105,
          5976,
          6729,
          8001,
          8265,
          9700,
          11325,
          3997,
          7754,
          9704,
          10398,
          10535,
          13791,
          6179,
          8527,
          11335,
          11981,
          11858,
          13080,
          7090,
          10681,
          8482,
          9830,
          11809,
          12731,
          10676,
          6250,
          11137,
          13003,
          8411,
          17998,
          6045,
          12000,
          11140,
          8623,
          6140,
          11185,
          10159,
          11627,
          10271,
          11551,
          10060,
          11805,
          4054
         ]
        },
        {
         "name": "NISSAN",
         "type": "scatter",
         "x": [
          "2018-02-01T00:00:00",
          "2018-03-01T00:00:00",
          "2018-04-01T00:00:00",
          "2018-05-01T00:00:00",
          "2018-06-01T00:00:00",
          "2018-07-01T00:00:00",
          "2018-08-01T00:00:00",
          "2018-09-01T00:00:00",
          "2018-10-01T00:00:00",
          "2018-11-01T00:00:00",
          "2018-12-01T00:00:00",
          "2019-01-01T00:00:00",
          "2019-02-01T00:00:00",
          "2019-03-01T00:00:00",
          "2019-04-01T00:00:00",
          "2019-05-01T00:00:00",
          "2019-06-01T00:00:00",
          "2019-07-01T00:00:00",
          "2019-08-01T00:00:00",
          "2019-09-01T00:00:00",
          "2019-10-01T00:00:00",
          "2019-11-01T00:00:00",
          "2019-12-01T00:00:00",
          "2020-01-01T00:00:00",
          "2020-02-01T00:00:00",
          "2020-03-01T00:00:00",
          "2020-04-01T00:00:00",
          "2020-05-01T00:00:00",
          "2020-06-01T00:00:00",
          "2020-07-01T00:00:00",
          "2020-08-01T00:00:00",
          "2020-09-01T00:00:00",
          "2020-10-01T00:00:00",
          "2020-11-01T00:00:00",
          "2020-12-01T00:00:00",
          "2021-01-01T00:00:00",
          "2021-02-01T00:00:00",
          "2021-03-01T00:00:00",
          "2021-04-01T00:00:00",
          "2021-05-01T00:00:00",
          "2021-06-01T00:00:00",
          "2021-07-01T00:00:00",
          "2021-08-01T00:00:00",
          "2021-09-01T00:00:00",
          "2021-10-01T00:00:00",
          "2021-11-01T00:00:00",
          "2021-12-01T00:00:00",
          "2022-01-01T00:00:00",
          "2022-02-01T00:00:00"
         ],
         "y": [
          2156,
          2791,
          2630,
          2403,
          3077,
          2225,
          1447,
          2289,
          2912,
          3453,
          3224,
          3127,
          1224,
          2657,
          2299,
          2507,
          2655,
          3212,
          1907,
          2365,
          2666,
          3154,
          3120,
          2632,
          1761,
          2040,
          1700,
          2237,
          2574,
          2808,
          2524,
          1883,
          3050,
          3157,
          3267,
          2998,
          1741,
          2599,
          2435,
          1576,
          1089,
          1837,
          1516,
          1939,
          2131,
          2106,
          2133,
          2679,
          729
         ]
        },
        {
         "name": "BENZ",
         "type": "scatter",
         "x": [
          "2018-02-01T00:00:00",
          "2018-03-01T00:00:00",
          "2018-04-01T00:00:00",
          "2018-05-01T00:00:00",
          "2018-06-01T00:00:00",
          "2018-07-01T00:00:00",
          "2018-08-01T00:00:00",
          "2018-09-01T00:00:00",
          "2018-10-01T00:00:00",
          "2018-11-01T00:00:00",
          "2018-12-01T00:00:00",
          "2019-01-01T00:00:00",
          "2019-02-01T00:00:00",
          "2019-03-01T00:00:00",
          "2019-04-01T00:00:00",
          "2019-05-01T00:00:00",
          "2019-06-01T00:00:00",
          "2019-07-01T00:00:00",
          "2019-08-01T00:00:00",
          "2019-09-01T00:00:00",
          "2019-10-01T00:00:00",
          "2019-11-01T00:00:00",
          "2019-12-01T00:00:00",
          "2020-01-01T00:00:00",
          "2020-02-01T00:00:00",
          "2020-03-01T00:00:00",
          "2020-04-01T00:00:00",
          "2020-05-01T00:00:00",
          "2020-06-01T00:00:00",
          "2020-07-01T00:00:00",
          "2020-08-01T00:00:00",
          "2020-09-01T00:00:00",
          "2020-10-01T00:00:00",
          "2020-11-01T00:00:00",
          "2020-12-01T00:00:00",
          "2021-01-01T00:00:00",
          "2021-02-01T00:00:00",
          "2021-03-01T00:00:00",
          "2021-04-01T00:00:00",
          "2021-05-01T00:00:00",
          "2021-06-01T00:00:00",
          "2021-07-01T00:00:00",
          "2021-08-01T00:00:00",
          "2021-09-01T00:00:00",
          "2021-10-01T00:00:00",
          "2021-11-01T00:00:00",
          "2021-12-01T00:00:00",
          "2022-01-01T00:00:00",
          "2022-02-01T00:00:00"
         ],
         "y": [
          1673,
          2558,
          1985,
          2157,
          2221,
          2265,
          1622,
          2119,
          2196,
          1985,
          2037,
          2524,
          1132,
          2224,
          1815,
          2194,
          2078,
          2030,
          1678,
          1740,
          2477,
          2227,
          2344,
          2024,
          1522,
          2306,
          2041,
          1752,
          1808,
          1709,
          2457,
          2602,
          2111,
          2251,
          1540,
          2754,
          1965,
          2356,
          1855,
          2302,
          1794,
          1770,
          1708,
          2317,
          1644,
          1326,
          1281,
          2458,
          785
         ]
        },
        {
         "name": "HONDA",
         "type": "scatter",
         "x": [
          "2018-02-01T00:00:00",
          "2018-03-01T00:00:00",
          "2018-04-01T00:00:00",
          "2018-05-01T00:00:00",
          "2018-06-01T00:00:00",
          "2018-07-01T00:00:00",
          "2018-08-01T00:00:00",
          "2018-09-01T00:00:00",
          "2018-10-01T00:00:00",
          "2018-11-01T00:00:00",
          "2018-12-01T00:00:00",
          "2019-01-01T00:00:00",
          "2019-02-01T00:00:00",
          "2019-03-01T00:00:00",
          "2019-04-01T00:00:00",
          "2019-05-01T00:00:00",
          "2019-06-01T00:00:00",
          "2019-07-01T00:00:00",
          "2019-08-01T00:00:00",
          "2019-09-01T00:00:00",
          "2019-10-01T00:00:00",
          "2019-11-01T00:00:00",
          "2019-12-01T00:00:00",
          "2020-01-01T00:00:00",
          "2020-02-01T00:00:00",
          "2020-03-01T00:00:00",
          "2020-04-01T00:00:00",
          "2020-05-01T00:00:00",
          "2020-06-01T00:00:00",
          "2020-07-01T00:00:00",
          "2020-08-01T00:00:00",
          "2020-09-01T00:00:00",
          "2020-10-01T00:00:00",
          "2020-11-01T00:00:00",
          "2020-12-01T00:00:00",
          "2021-01-01T00:00:00",
          "2021-02-01T00:00:00",
          "2021-03-01T00:00:00",
          "2021-04-01T00:00:00",
          "2021-05-01T00:00:00",
          "2021-06-01T00:00:00",
          "2021-07-01T00:00:00",
          "2021-08-01T00:00:00",
          "2021-09-01T00:00:00",
          "2021-10-01T00:00:00",
          "2021-11-01T00:00:00",
          "2021-12-01T00:00:00",
          "2022-01-01T00:00:00",
          "2022-02-01T00:00:00"
         ],
         "y": [
          2105,
          3224,
          2357,
          2758,
          3146,
          3356,
          1442,
          2490,
          2225,
          2465,
          3382,
          2628,
          903,
          2302,
          2165,
          2143,
          2627,
          3092,
          831,
          1742,
          1972,
          2509,
          3554,
          1623,
          1363,
          1976,
          1446,
          1927,
          2656,
          2902,
          1109,
          2040,
          2231,
          2612,
          2539,
          1929,
          1212,
          2488,
          1810,
          1632,
          884,
          2164,
          1867,
          2168,
          2175,
          2294,
          2293,
          2350,
          585
         ]
        },
        {
         "name": "HYUNDAI",
         "type": "scatter",
         "x": [
          "2018-02-01T00:00:00",
          "2018-03-01T00:00:00",
          "2018-04-01T00:00:00",
          "2018-05-01T00:00:00",
          "2018-06-01T00:00:00",
          "2018-07-01T00:00:00",
          "2018-08-01T00:00:00",
          "2018-09-01T00:00:00",
          "2018-10-01T00:00:00",
          "2018-11-01T00:00:00",
          "2018-12-01T00:00:00",
          "2019-01-01T00:00:00",
          "2019-02-01T00:00:00",
          "2019-03-01T00:00:00",
          "2019-04-01T00:00:00",
          "2019-05-01T00:00:00",
          "2019-06-01T00:00:00",
          "2019-07-01T00:00:00",
          "2019-08-01T00:00:00",
          "2019-09-01T00:00:00",
          "2019-10-01T00:00:00",
          "2019-11-01T00:00:00",
          "2019-12-01T00:00:00",
          "2020-01-01T00:00:00",
          "2020-02-01T00:00:00",
          "2020-03-01T00:00:00",
          "2020-04-01T00:00:00",
          "2020-05-01T00:00:00",
          "2020-06-01T00:00:00",
          "2020-07-01T00:00:00",
          "2020-08-01T00:00:00",
          "2020-09-01T00:00:00",
          "2020-10-01T00:00:00",
          "2020-11-01T00:00:00",
          "2020-12-01T00:00:00",
          "2021-01-01T00:00:00",
          "2021-02-01T00:00:00",
          "2021-03-01T00:00:00",
          "2021-04-01T00:00:00",
          "2021-05-01T00:00:00",
          "2021-06-01T00:00:00",
          "2021-07-01T00:00:00",
          "2021-08-01T00:00:00",
          "2021-09-01T00:00:00",
          "2021-10-01T00:00:00",
          "2021-11-01T00:00:00",
          "2021-12-01T00:00:00",
          "2022-01-01T00:00:00",
          "2022-02-01T00:00:00"
         ],
         "y": [
          518,
          909,
          755,
          742,
          885,
          1023,
          751,
          785,
          740,
          900,
          996,
          856,
          376,
          674,
          739,
          873,
          792,
          869,
          658,
          726,
          768,
          758,
          865,
          666,
          542,
          661,
          539,
          614,
          714,
          807,
          710,
          981,
          1015,
          1314,
          1302,
          1198,
          515,
          982,
          908,
          744,
          589,
          998,
          712,
          1019,
          982,
          1060,
          1321,
          1247,
          333
         ]
        },
        {
         "name": "JAGUAR",
         "type": "scatter",
         "x": [
          "2018-02-01T00:00:00",
          "2018-03-01T00:00:00",
          "2018-04-01T00:00:00",
          "2018-05-01T00:00:00",
          "2018-06-01T00:00:00",
          "2018-07-01T00:00:00",
          "2018-08-01T00:00:00",
          "2018-09-01T00:00:00",
          "2018-10-01T00:00:00",
          "2018-11-01T00:00:00",
          "2018-12-01T00:00:00",
          "2019-01-01T00:00:00",
          "2019-02-01T00:00:00",
          "2019-03-01T00:00:00",
          "2019-04-01T00:00:00",
          "2019-05-01T00:00:00",
          "2019-06-01T00:00:00",
          "2019-07-01T00:00:00",
          "2019-08-01T00:00:00",
          "2019-09-01T00:00:00",
          "2019-10-01T00:00:00",
          "2019-11-01T00:00:00",
          "2019-12-01T00:00:00",
          "2020-01-01T00:00:00",
          "2020-02-01T00:00:00",
          "2020-03-01T00:00:00",
          "2020-04-01T00:00:00",
          "2020-05-01T00:00:00",
          "2020-06-01T00:00:00",
          "2020-07-01T00:00:00",
          "2020-08-01T00:00:00",
          "2020-09-01T00:00:00",
          "2020-10-01T00:00:00",
          "2020-11-01T00:00:00",
          "2020-12-01T00:00:00",
          "2021-01-01T00:00:00",
          "2021-02-01T00:00:00",
          "2021-03-01T00:00:00",
          "2021-04-01T00:00:00",
          "2021-05-01T00:00:00",
          "2021-06-01T00:00:00",
          "2021-07-01T00:00:00",
          "2021-08-01T00:00:00",
          "2021-09-01T00:00:00",
          "2021-10-01T00:00:00",
          "2021-11-01T00:00:00",
          "2021-12-01T00:00:00",
          "2022-01-01T00:00:00",
          "2022-02-01T00:00:00"
         ],
         "y": [
          33,
          20,
          28,
          12,
          9,
          35,
          29,
          18,
          26,
          11,
          37,
          5,
          1,
          9,
          11,
          116,
          42,
          25,
          40,
          43,
          54,
          51,
          73,
          39,
          50,
          41,
          25,
          22,
          28,
          31,
          24,
          16,
          30,
          35,
          37,
          35,
          18,
          40,
          21,
          30,
          15,
          28,
          11,
          22,
          27,
          16,
          8,
          18,
          7
         ]
        },
        {
         "name": "MAZADA",
         "type": "scatter",
         "x": [],
         "y": []
        },
        {
         "name": "MITSUBISHI",
         "type": "scatter",
         "x": [
          "2018-02-01T00:00:00",
          "2018-03-01T00:00:00",
          "2018-04-01T00:00:00",
          "2018-05-01T00:00:00",
          "2018-06-01T00:00:00",
          "2018-07-01T00:00:00",
          "2018-08-01T00:00:00",
          "2018-09-01T00:00:00",
          "2018-10-01T00:00:00",
          "2018-11-01T00:00:00",
          "2018-12-01T00:00:00",
          "2019-01-01T00:00:00",
          "2019-02-01T00:00:00",
          "2019-03-01T00:00:00",
          "2019-04-01T00:00:00",
          "2019-05-01T00:00:00",
          "2019-06-01T00:00:00",
          "2019-07-01T00:00:00",
          "2019-08-01T00:00:00",
          "2019-09-01T00:00:00",
          "2019-10-01T00:00:00",
          "2019-11-01T00:00:00",
          "2019-12-01T00:00:00",
          "2020-01-01T00:00:00",
          "2020-02-01T00:00:00",
          "2020-03-01T00:00:00",
          "2020-04-01T00:00:00",
          "2020-05-01T00:00:00",
          "2020-06-01T00:00:00",
          "2020-07-01T00:00:00",
          "2020-08-01T00:00:00",
          "2020-09-01T00:00:00",
          "2020-10-01T00:00:00",
          "2020-11-01T00:00:00",
          "2020-12-01T00:00:00",
          "2021-01-01T00:00:00",
          "2021-02-01T00:00:00",
          "2021-03-01T00:00:00",
          "2021-04-01T00:00:00",
          "2021-05-01T00:00:00",
          "2021-06-01T00:00:00",
          "2021-07-01T00:00:00",
          "2021-08-01T00:00:00",
          "2021-09-01T00:00:00",
          "2021-10-01T00:00:00",
          "2021-11-01T00:00:00",
          "2021-12-01T00:00:00",
          "2022-01-01T00:00:00",
          "2022-02-01T00:00:00"
         ],
         "y": [
          2917,
          4100,
          3164,
          3196,
          3552,
          4225,
          2756,
          3293,
          3125,
          3540,
          3178,
          4241,
          1842,
          3200,
          2881,
          3486,
          3751,
          4373,
          1636,
          3063,
          3158,
          3346,
          3596,
          3308,
          2503,
          3188,
          2707,
          3242,
          3724,
          4163,
          3370,
          2815,
          3802,
          4038,
          3212,
          4917,
          1873,
          3369,
          3286,
          3333,
          2506,
          3227,
          2932,
          3736,
          3007,
          3384,
          3993,
          3116,
          959
         ]
        },
        {
         "name": "PORSCHE",
         "type": "scatter",
         "x": [
          "2018-02-01T00:00:00",
          "2018-03-01T00:00:00",
          "2018-04-01T00:00:00",
          "2018-05-01T00:00:00",
          "2018-06-01T00:00:00",
          "2018-07-01T00:00:00",
          "2018-08-01T00:00:00",
          "2018-09-01T00:00:00",
          "2018-10-01T00:00:00",
          "2018-11-01T00:00:00",
          "2018-12-01T00:00:00",
          "2019-01-01T00:00:00",
          "2019-02-01T00:00:00",
          "2019-03-01T00:00:00",
          "2019-04-01T00:00:00",
          "2019-05-01T00:00:00",
          "2019-06-01T00:00:00",
          "2019-07-01T00:00:00",
          "2019-08-01T00:00:00",
          "2019-09-01T00:00:00",
          "2019-10-01T00:00:00",
          "2019-11-01T00:00:00",
          "2019-12-01T00:00:00",
          "2020-01-01T00:00:00",
          "2020-02-01T00:00:00",
          "2020-03-01T00:00:00",
          "2020-04-01T00:00:00",
          "2020-05-01T00:00:00",
          "2020-06-01T00:00:00",
          "2020-07-01T00:00:00",
          "2020-08-01T00:00:00",
          "2020-09-01T00:00:00",
          "2020-10-01T00:00:00",
          "2020-11-01T00:00:00",
          "2020-12-01T00:00:00",
          "2021-01-01T00:00:00",
          "2021-02-01T00:00:00",
          "2021-03-01T00:00:00",
          "2021-04-01T00:00:00",
          "2021-05-01T00:00:00",
          "2021-06-01T00:00:00",
          "2021-07-01T00:00:00",
          "2021-08-01T00:00:00",
          "2021-09-01T00:00:00",
          "2021-10-01T00:00:00",
          "2021-11-01T00:00:00",
          "2021-12-01T00:00:00",
          "2022-01-01T00:00:00",
          "2022-02-01T00:00:00"
         ],
         "y": [
          128,
          156,
          213,
          405,
          362,
          358,
          315,
          314,
          210,
          228,
          180,
          232,
          53,
          159,
          330,
          323,
          229,
          247,
          180,
          298,
          270,
          339,
          366,
          311,
          79,
          389,
          293,
          370,
          199,
          228,
          321,
          483,
          129,
          226,
          402,
          415,
          181,
          433,
          467,
          490,
          335,
          394,
          253,
          311,
          216,
          200,
          296,
          417,
          100
         ]
        },
        {
         "name": "SKODA",
         "type": "scatter",
         "x": [
          "2018-02-01T00:00:00",
          "2018-03-01T00:00:00",
          "2018-04-01T00:00:00",
          "2018-05-01T00:00:00",
          "2018-06-01T00:00:00",
          "2018-07-01T00:00:00",
          "2018-08-01T00:00:00",
          "2018-09-01T00:00:00",
          "2018-10-01T00:00:00",
          "2018-11-01T00:00:00",
          "2018-12-01T00:00:00",
          "2019-01-01T00:00:00",
          "2019-02-01T00:00:00",
          "2019-03-01T00:00:00",
          "2019-04-01T00:00:00",
          "2019-05-01T00:00:00",
          "2019-06-01T00:00:00",
          "2019-07-01T00:00:00",
          "2019-08-01T00:00:00",
          "2019-09-01T00:00:00",
          "2019-10-01T00:00:00",
          "2019-11-01T00:00:00",
          "2019-12-01T00:00:00",
          "2020-01-01T00:00:00",
          "2020-02-01T00:00:00",
          "2020-03-01T00:00:00",
          "2020-04-01T00:00:00",
          "2020-05-01T00:00:00",
          "2020-06-01T00:00:00",
          "2020-07-01T00:00:00",
          "2020-08-01T00:00:00",
          "2020-09-01T00:00:00",
          "2020-10-01T00:00:00",
          "2020-11-01T00:00:00",
          "2020-12-01T00:00:00",
          "2021-01-01T00:00:00",
          "2021-02-01T00:00:00",
          "2021-03-01T00:00:00",
          "2021-04-01T00:00:00",
          "2021-05-01T00:00:00",
          "2021-06-01T00:00:00",
          "2021-07-01T00:00:00",
          "2021-08-01T00:00:00",
          "2021-09-01T00:00:00",
          "2021-10-01T00:00:00",
          "2021-11-01T00:00:00",
          "2021-12-01T00:00:00",
          "2022-01-01T00:00:00",
          "2022-02-01T00:00:00"
         ],
         "y": [
          485,
          535,
          442,
          409,
          438,
          436,
          322,
          466,
          383,
          388,
          282,
          324,
          215,
          272,
          371,
          491,
          462,
          416,
          336,
          349,
          463,
          484,
          280,
          498,
          324,
          452,
          340,
          331,
          299,
          359,
          438,
          520,
          705,
          838,
          458,
          695,
          422,
          618,
          630,
          659,
          425,
          635,
          398,
          537,
          359,
          290,
          201,
          293,
          168
         ]
        },
        {
         "name": "SABARU",
         "type": "scatter",
         "x": [],
         "y": []
        },
        {
         "name": "SUZUKI",
         "type": "scatter",
         "x": [
          "2018-02-01T00:00:00",
          "2018-03-01T00:00:00",
          "2018-04-01T00:00:00",
          "2018-05-01T00:00:00",
          "2018-06-01T00:00:00",
          "2018-07-01T00:00:00",
          "2018-08-01T00:00:00",
          "2018-09-01T00:00:00",
          "2018-10-01T00:00:00",
          "2018-11-01T00:00:00",
          "2018-12-01T00:00:00",
          "2019-01-01T00:00:00",
          "2019-02-01T00:00:00",
          "2019-03-01T00:00:00",
          "2019-04-01T00:00:00",
          "2019-05-01T00:00:00",
          "2019-06-01T00:00:00",
          "2019-07-01T00:00:00",
          "2019-08-01T00:00:00",
          "2019-09-01T00:00:00",
          "2019-10-01T00:00:00",
          "2019-11-01T00:00:00",
          "2019-12-01T00:00:00",
          "2020-01-01T00:00:00",
          "2020-02-01T00:00:00",
          "2020-03-01T00:00:00",
          "2020-04-01T00:00:00",
          "2020-05-01T00:00:00",
          "2020-06-01T00:00:00",
          "2020-07-01T00:00:00",
          "2020-08-01T00:00:00",
          "2020-09-01T00:00:00",
          "2020-10-01T00:00:00",
          "2020-11-01T00:00:00",
          "2020-12-01T00:00:00",
          "2021-01-01T00:00:00",
          "2021-02-01T00:00:00",
          "2021-03-01T00:00:00",
          "2021-04-01T00:00:00",
          "2021-05-01T00:00:00",
          "2021-06-01T00:00:00",
          "2021-07-01T00:00:00",
          "2021-08-01T00:00:00",
          "2021-09-01T00:00:00",
          "2021-10-01T00:00:00",
          "2021-11-01T00:00:00",
          "2021-12-01T00:00:00",
          "2022-01-01T00:00:00",
          "2022-02-01T00:00:00"
         ],
         "y": [
          660,
          718,
          766,
          616,
          719,
          784,
          598,
          706,
          652,
          501,
          661,
          530,
          229,
          422,
          412,
          453,
          492,
          491,
          607,
          598,
          465,
          966,
          825,
          498,
          560,
          769,
          471,
          605,
          694,
          589,
          690,
          590,
          698,
          770,
          1070,
          864,
          355,
          622,
          789,
          575,
          414,
          305,
          291,
          363,
          415,
          486,
          528,
          136,
          96
         ]
        },
        {
         "name": "TESLA",
         "type": "scatter",
         "x": [
          "2018-02-01T00:00:00",
          "2018-03-01T00:00:00",
          "2018-04-01T00:00:00",
          "2018-05-01T00:00:00",
          "2018-06-01T00:00:00",
          "2018-07-01T00:00:00",
          "2018-08-01T00:00:00",
          "2018-09-01T00:00:00",
          "2018-10-01T00:00:00",
          "2018-11-01T00:00:00",
          "2018-12-01T00:00:00",
          "2019-01-01T00:00:00",
          "2019-02-01T00:00:00",
          "2019-03-01T00:00:00",
          "2019-04-01T00:00:00",
          "2019-05-01T00:00:00",
          "2019-06-01T00:00:00",
          "2019-07-01T00:00:00",
          "2019-08-01T00:00:00",
          "2019-09-01T00:00:00",
          "2019-10-01T00:00:00",
          "2019-11-01T00:00:00",
          "2019-12-01T00:00:00",
          "2020-01-01T00:00:00",
          "2020-02-01T00:00:00",
          "2020-03-01T00:00:00",
          "2020-04-01T00:00:00",
          "2020-05-01T00:00:00",
          "2020-06-01T00:00:00",
          "2020-07-01T00:00:00",
          "2020-08-01T00:00:00",
          "2020-09-01T00:00:00",
          "2020-10-01T00:00:00",
          "2020-11-01T00:00:00",
          "2020-12-01T00:00:00",
          "2021-01-01T00:00:00",
          "2021-02-01T00:00:00",
          "2021-03-01T00:00:00",
          "2021-05-01T00:00:00",
          "2021-06-01T00:00:00",
          "2021-07-01T00:00:00",
          "2021-08-01T00:00:00",
          "2021-09-01T00:00:00",
          "2021-10-01T00:00:00",
          "2021-11-01T00:00:00",
          "2021-12-01T00:00:00",
          "2022-01-01T00:00:00",
          "2022-02-01T00:00:00"
         ],
         "y": [
          34,
          64,
          13,
          25,
          53,
          7,
          25,
          75,
          4,
          31,
          61,
          21,
          12,
          60,
          5,
          297,
          371,
          29,
          53,
          326,
          53,
          316,
          863,
          107,
          85,
          1256,
          75,
          59,
          145,
          19,
          652,
          797,
          16,
          198,
          972,
          132,
          123,
          678,
          734,
          546,
          17,
          245,
          612,
          17,
          1022,
          259,
          1,
          147
         ]
        },
        {
         "name": "VOLVO",
         "type": "scatter",
         "x": [
          "2018-02-01T00:00:00",
          "2018-03-01T00:00:00",
          "2018-04-01T00:00:00",
          "2018-05-01T00:00:00",
          "2018-06-01T00:00:00",
          "2018-07-01T00:00:00",
          "2018-08-01T00:00:00",
          "2018-09-01T00:00:00",
          "2018-10-01T00:00:00",
          "2018-11-01T00:00:00",
          "2018-12-01T00:00:00",
          "2019-01-01T00:00:00",
          "2019-02-01T00:00:00",
          "2019-03-01T00:00:00",
          "2019-04-01T00:00:00",
          "2019-05-01T00:00:00",
          "2019-06-01T00:00:00",
          "2019-07-01T00:00:00",
          "2019-08-01T00:00:00",
          "2019-09-01T00:00:00",
          "2019-10-01T00:00:00",
          "2019-11-01T00:00:00",
          "2019-12-01T00:00:00",
          "2020-01-01T00:00:00",
          "2020-02-01T00:00:00",
          "2020-03-01T00:00:00",
          "2020-04-01T00:00:00",
          "2020-05-01T00:00:00",
          "2020-06-01T00:00:00",
          "2020-07-01T00:00:00",
          "2020-08-01T00:00:00",
          "2020-09-01T00:00:00",
          "2020-10-01T00:00:00",
          "2020-11-01T00:00:00",
          "2020-12-01T00:00:00",
          "2021-01-01T00:00:00",
          "2021-02-01T00:00:00",
          "2021-03-01T00:00:00",
          "2021-04-01T00:00:00",
          "2021-05-01T00:00:00",
          "2021-06-01T00:00:00",
          "2021-07-01T00:00:00",
          "2021-08-01T00:00:00",
          "2021-09-01T00:00:00",
          "2021-10-01T00:00:00",
          "2021-11-01T00:00:00",
          "2021-12-01T00:00:00",
          "2022-01-01T00:00:00",
          "2022-02-01T00:00:00"
         ],
         "y": [
          346,
          423,
          378,
          326,
          407,
          403,
          378,
          395,
          383,
          573,
          528,
          488,
          224,
          439,
          319,
          444,
          432,
          464,
          495,
          462,
          525,
          420,
          583,
          356,
          247,
          452,
          364,
          404,
          506,
          520,
          513,
          476,
          520,
          666,
          693,
          462,
          120,
          684,
          719,
          695,
          243,
          522,
          591,
          805,
          562,
          630,
          941,
          469,
          95
         ]
        },
        {
         "name": "VW",
         "type": "scatter",
         "x": [
          "2018-02-01T00:00:00",
          "2018-03-01T00:00:00",
          "2018-04-01T00:00:00",
          "2018-05-01T00:00:00",
          "2018-06-01T00:00:00",
          "2018-07-01T00:00:00",
          "2018-08-01T00:00:00",
          "2018-09-01T00:00:00",
          "2018-10-01T00:00:00",
          "2018-11-01T00:00:00",
          "2018-12-01T00:00:00",
          "2019-01-01T00:00:00",
          "2019-02-01T00:00:00",
          "2019-03-01T00:00:00",
          "2019-04-01T00:00:00",
          "2019-05-01T00:00:00",
          "2019-06-01T00:00:00",
          "2019-07-01T00:00:00",
          "2019-08-01T00:00:00",
          "2019-09-01T00:00:00",
          "2019-10-01T00:00:00",
          "2019-11-01T00:00:00",
          "2019-12-01T00:00:00",
          "2020-01-01T00:00:00",
          "2020-02-01T00:00:00",
          "2020-03-01T00:00:00",
          "2020-04-01T00:00:00",
          "2020-05-01T00:00:00",
          "2020-06-01T00:00:00",
          "2020-07-01T00:00:00",
          "2020-08-01T00:00:00",
          "2020-09-01T00:00:00",
          "2020-10-01T00:00:00",
          "2020-11-01T00:00:00",
          "2020-12-01T00:00:00",
          "2021-01-01T00:00:00",
          "2021-02-01T00:00:00",
          "2021-03-01T00:00:00",
          "2021-04-01T00:00:00",
          "2021-05-01T00:00:00",
          "2021-06-01T00:00:00",
          "2021-07-01T00:00:00",
          "2021-08-01T00:00:00",
          "2021-09-01T00:00:00",
          "2021-10-01T00:00:00",
          "2021-11-01T00:00:00",
          "2021-12-01T00:00:00",
          "2022-01-01T00:00:00",
          "2022-02-01T00:00:00"
         ],
         "y": [
          925,
          1052,
          1009,
          774,
          1131,
          1319,
          1149,
          1356,
          1019,
          1197,
          1117,
          998,
          579,
          920,
          946,
          1012,
          1041,
          1217,
          965,
          911,
          950,
          1084,
          1313,
          1097,
          870,
          926,
          787,
          1056,
          1114,
          1207,
          1106,
          661,
          793,
          825,
          444,
          766,
          385,
          678,
          830,
          1091,
          753,
          1435,
          1101,
          1201,
          812,
          823,
          604,
          1042,
          219
         ]
        }
       ],
       "layout": {
        "barmode": "group",
        "height": 600,
        "template": {
         "data": {
          "bar": [
           {
            "error_x": {
             "color": "#2a3f5f"
            },
            "error_y": {
             "color": "#2a3f5f"
            },
            "marker": {
             "line": {
              "color": "#E5ECF6",
              "width": 0.5
             },
             "pattern": {
              "fillmode": "overlay",
              "size": 10,
              "solidity": 0.2
             }
            },
            "type": "bar"
           }
          ],
          "barpolar": [
           {
            "marker": {
             "line": {
              "color": "#E5ECF6",
              "width": 0.5
             },
             "pattern": {
              "fillmode": "overlay",
              "size": 10,
              "solidity": 0.2
             }
            },
            "type": "barpolar"
           }
          ],
          "carpet": [
           {
            "aaxis": {
             "endlinecolor": "#2a3f5f",
             "gridcolor": "white",
             "linecolor": "white",
             "minorgridcolor": "white",
             "startlinecolor": "#2a3f5f"
            },
            "baxis": {
             "endlinecolor": "#2a3f5f",
             "gridcolor": "white",
             "linecolor": "white",
             "minorgridcolor": "white",
             "startlinecolor": "#2a3f5f"
            },
            "type": "carpet"
           }
          ],
          "choropleth": [
           {
            "colorbar": {
             "outlinewidth": 0,
             "ticks": ""
            },
            "type": "choropleth"
           }
          ],
          "contour": [
           {
            "colorbar": {
             "outlinewidth": 0,
             "ticks": ""
            },
            "colorscale": [
             [
              0,
              "#0d0887"
             ],
             [
              0.1111111111111111,
              "#46039f"
             ],
             [
              0.2222222222222222,
              "#7201a8"
             ],
             [
              0.3333333333333333,
              "#9c179e"
             ],
             [
              0.4444444444444444,
              "#bd3786"
             ],
             [
              0.5555555555555556,
              "#d8576b"
             ],
             [
              0.6666666666666666,
              "#ed7953"
             ],
             [
              0.7777777777777778,
              "#fb9f3a"
             ],
             [
              0.8888888888888888,
              "#fdca26"
             ],
             [
              1,
              "#f0f921"
             ]
            ],
            "type": "contour"
           }
          ],
          "contourcarpet": [
           {
            "colorbar": {
             "outlinewidth": 0,
             "ticks": ""
            },
            "type": "contourcarpet"
           }
          ],
          "heatmap": [
           {
            "colorbar": {
             "outlinewidth": 0,
             "ticks": ""
            },
            "colorscale": [
             [
              0,
              "#0d0887"
             ],
             [
              0.1111111111111111,
              "#46039f"
             ],
             [
              0.2222222222222222,
              "#7201a8"
             ],
             [
              0.3333333333333333,
              "#9c179e"
             ],
             [
              0.4444444444444444,
              "#bd3786"
             ],
             [
              0.5555555555555556,
              "#d8576b"
             ],
             [
              0.6666666666666666,
              "#ed7953"
             ],
             [
              0.7777777777777778,
              "#fb9f3a"
             ],
             [
              0.8888888888888888,
              "#fdca26"
             ],
             [
              1,
              "#f0f921"
             ]
            ],
            "type": "heatmap"
           }
          ],
          "heatmapgl": [
           {
            "colorbar": {
             "outlinewidth": 0,
             "ticks": ""
            },
            "colorscale": [
             [
              0,
              "#0d0887"
             ],
             [
              0.1111111111111111,
              "#46039f"
             ],
             [
              0.2222222222222222,
              "#7201a8"
             ],
             [
              0.3333333333333333,
              "#9c179e"
             ],
             [
              0.4444444444444444,
              "#bd3786"
             ],
             [
              0.5555555555555556,
              "#d8576b"
             ],
             [
              0.6666666666666666,
              "#ed7953"
             ],
             [
              0.7777777777777778,
              "#fb9f3a"
             ],
             [
              0.8888888888888888,
              "#fdca26"
             ],
             [
              1,
              "#f0f921"
             ]
            ],
            "type": "heatmapgl"
           }
          ],
          "histogram": [
           {
            "marker": {
             "pattern": {
              "fillmode": "overlay",
              "size": 10,
              "solidity": 0.2
             }
            },
            "type": "histogram"
           }
          ],
          "histogram2d": [
           {
            "colorbar": {
             "outlinewidth": 0,
             "ticks": ""
            },
            "colorscale": [
             [
              0,
              "#0d0887"
             ],
             [
              0.1111111111111111,
              "#46039f"
             ],
             [
              0.2222222222222222,
              "#7201a8"
             ],
             [
              0.3333333333333333,
              "#9c179e"
             ],
             [
              0.4444444444444444,
              "#bd3786"
             ],
             [
              0.5555555555555556,
              "#d8576b"
             ],
             [
              0.6666666666666666,
              "#ed7953"
             ],
             [
              0.7777777777777778,
              "#fb9f3a"
             ],
             [
              0.8888888888888888,
              "#fdca26"
             ],
             [
              1,
              "#f0f921"
             ]
            ],
            "type": "histogram2d"
           }
          ],
          "histogram2dcontour": [
           {
            "colorbar": {
             "outlinewidth": 0,
             "ticks": ""
            },
            "colorscale": [
             [
              0,
              "#0d0887"
             ],
             [
              0.1111111111111111,
              "#46039f"
             ],
             [
              0.2222222222222222,
              "#7201a8"
             ],
             [
              0.3333333333333333,
              "#9c179e"
             ],
             [
              0.4444444444444444,
              "#bd3786"
             ],
             [
              0.5555555555555556,
              "#d8576b"
             ],
             [
              0.6666666666666666,
              "#ed7953"
             ],
             [
              0.7777777777777778,
              "#fb9f3a"
             ],
             [
              0.8888888888888888,
              "#fdca26"
             ],
             [
              1,
              "#f0f921"
             ]
            ],
            "type": "histogram2dcontour"
           }
          ],
          "mesh3d": [
           {
            "colorbar": {
             "outlinewidth": 0,
             "ticks": ""
            },
            "type": "mesh3d"
           }
          ],
          "parcoords": [
           {
            "line": {
             "colorbar": {
              "outlinewidth": 0,
              "ticks": ""
             }
            },
            "type": "parcoords"
           }
          ],
          "pie": [
           {
            "automargin": true,
            "type": "pie"
           }
          ],
          "scatter": [
           {
            "marker": {
             "colorbar": {
              "outlinewidth": 0,
              "ticks": ""
             }
            },
            "type": "scatter"
           }
          ],
          "scatter3d": [
           {
            "line": {
             "colorbar": {
              "outlinewidth": 0,
              "ticks": ""
             }
            },
            "marker": {
             "colorbar": {
              "outlinewidth": 0,
              "ticks": ""
             }
            },
            "type": "scatter3d"
           }
          ],
          "scattercarpet": [
           {
            "marker": {
             "colorbar": {
              "outlinewidth": 0,
              "ticks": ""
             }
            },
            "type": "scattercarpet"
           }
          ],
          "scattergeo": [
           {
            "marker": {
             "colorbar": {
              "outlinewidth": 0,
              "ticks": ""
             }
            },
            "type": "scattergeo"
           }
          ],
          "scattergl": [
           {
            "marker": {
             "colorbar": {
              "outlinewidth": 0,
              "ticks": ""
             }
            },
            "type": "scattergl"
           }
          ],
          "scattermapbox": [
           {
            "marker": {
             "colorbar": {
              "outlinewidth": 0,
              "ticks": ""
             }
            },
            "type": "scattermapbox"
           }
          ],
          "scatterpolar": [
           {
            "marker": {
             "colorbar": {
              "outlinewidth": 0,
              "ticks": ""
             }
            },
            "type": "scatterpolar"
           }
          ],
          "scatterpolargl": [
           {
            "marker": {
             "colorbar": {
              "outlinewidth": 0,
              "ticks": ""
             }
            },
            "type": "scatterpolargl"
           }
          ],
          "scatterternary": [
           {
            "marker": {
             "colorbar": {
              "outlinewidth": 0,
              "ticks": ""
             }
            },
            "type": "scatterternary"
           }
          ],
          "surface": [
           {
            "colorbar": {
             "outlinewidth": 0,
             "ticks": ""
            },
            "colorscale": [
             [
              0,
              "#0d0887"
             ],
             [
              0.1111111111111111,
              "#46039f"
             ],
             [
              0.2222222222222222,
              "#7201a8"
             ],
             [
              0.3333333333333333,
              "#9c179e"
             ],
             [
              0.4444444444444444,
              "#bd3786"
             ],
             [
              0.5555555555555556,
              "#d8576b"
             ],
             [
              0.6666666666666666,
              "#ed7953"
             ],
             [
              0.7777777777777778,
              "#fb9f3a"
             ],
             [
              0.8888888888888888,
              "#fdca26"
             ],
             [
              1,
              "#f0f921"
             ]
            ],
            "type": "surface"
           }
          ],
          "table": [
           {
            "cells": {
             "fill": {
              "color": "#EBF0F8"
             },
             "line": {
              "color": "white"
             }
            },
            "header": {
             "fill": {
              "color": "#C8D4E3"
             },
             "line": {
              "color": "white"
             }
            },
            "type": "table"
           }
          ]
         },
         "layout": {
          "annotationdefaults": {
           "arrowcolor": "#2a3f5f",
           "arrowhead": 0,
           "arrowwidth": 1
          },
          "autotypenumbers": "strict",
          "coloraxis": {
           "colorbar": {
            "outlinewidth": 0,
            "ticks": ""
           }
          },
          "colorscale": {
           "diverging": [
            [
             0,
             "#8e0152"
            ],
            [
             0.1,
             "#c51b7d"
            ],
            [
             0.2,
             "#de77ae"
            ],
            [
             0.3,
             "#f1b6da"
            ],
            [
             0.4,
             "#fde0ef"
            ],
            [
             0.5,
             "#f7f7f7"
            ],
            [
             0.6,
             "#e6f5d0"
            ],
            [
             0.7,
             "#b8e186"
            ],
            [
             0.8,
             "#7fbc41"
            ],
            [
             0.9,
             "#4d9221"
            ],
            [
             1,
             "#276419"
            ]
           ],
           "sequential": [
            [
             0,
             "#0d0887"
            ],
            [
             0.1111111111111111,
             "#46039f"
            ],
            [
             0.2222222222222222,
             "#7201a8"
            ],
            [
             0.3333333333333333,
             "#9c179e"
            ],
            [
             0.4444444444444444,
             "#bd3786"
            ],
            [
             0.5555555555555556,
             "#d8576b"
            ],
            [
             0.6666666666666666,
             "#ed7953"
            ],
            [
             0.7777777777777778,
             "#fb9f3a"
            ],
            [
             0.8888888888888888,
             "#fdca26"
            ],
            [
             1,
             "#f0f921"
            ]
           ],
           "sequentialminus": [
            [
             0,
             "#0d0887"
            ],
            [
             0.1111111111111111,
             "#46039f"
            ],
            [
             0.2222222222222222,
             "#7201a8"
            ],
            [
             0.3333333333333333,
             "#9c179e"
            ],
            [
             0.4444444444444444,
             "#bd3786"
            ],
            [
             0.5555555555555556,
             "#d8576b"
            ],
            [
             0.6666666666666666,
             "#ed7953"
            ],
            [
             0.7777777777777778,
             "#fb9f3a"
            ],
            [
             0.8888888888888888,
             "#fdca26"
            ],
            [
             1,
             "#f0f921"
            ]
           ]
          },
          "colorway": [
           "#636efa",
           "#EF553B",
           "#00cc96",
           "#ab63fa",
           "#FFA15A",
           "#19d3f3",
           "#FF6692",
           "#B6E880",
           "#FF97FF",
           "#FECB52"
          ],
          "font": {
           "color": "#2a3f5f"
          },
          "geo": {
           "bgcolor": "white",
           "lakecolor": "white",
           "landcolor": "#E5ECF6",
           "showlakes": true,
           "showland": true,
           "subunitcolor": "white"
          },
          "hoverlabel": {
           "align": "left"
          },
          "hovermode": "closest",
          "mapbox": {
           "style": "light"
          },
          "paper_bgcolor": "white",
          "plot_bgcolor": "#E5ECF6",
          "polar": {
           "angularaxis": {
            "gridcolor": "white",
            "linecolor": "white",
            "ticks": ""
           },
           "bgcolor": "#E5ECF6",
           "radialaxis": {
            "gridcolor": "white",
            "linecolor": "white",
            "ticks": ""
           }
          },
          "scene": {
           "xaxis": {
            "backgroundcolor": "#E5ECF6",
            "gridcolor": "white",
            "gridwidth": 2,
            "linecolor": "white",
            "showbackground": true,
            "ticks": "",
            "zerolinecolor": "white"
           },
           "yaxis": {
            "backgroundcolor": "#E5ECF6",
            "gridcolor": "white",
            "gridwidth": 2,
            "linecolor": "white",
            "showbackground": true,
            "ticks": "",
            "zerolinecolor": "white"
           },
           "zaxis": {
            "backgroundcolor": "#E5ECF6",
            "gridcolor": "white",
            "gridwidth": 2,
            "linecolor": "white",
            "showbackground": true,
            "ticks": "",
            "zerolinecolor": "white"
           }
          },
          "shapedefaults": {
           "line": {
            "color": "#2a3f5f"
           }
          },
          "ternary": {
           "aaxis": {
            "gridcolor": "white",
            "linecolor": "white",
            "ticks": ""
           },
           "baxis": {
            "gridcolor": "white",
            "linecolor": "white",
            "ticks": ""
           },
           "bgcolor": "#E5ECF6",
           "caxis": {
            "gridcolor": "white",
            "linecolor": "white",
            "ticks": ""
           }
          },
          "title": {
           "x": 0.05
          },
          "xaxis": {
           "automargin": true,
           "gridcolor": "white",
           "linecolor": "white",
           "ticks": "",
           "title": {
            "standoff": 15
           },
           "zerolinecolor": "white",
           "zerolinewidth": 2
          },
          "yaxis": {
           "automargin": true,
           "gridcolor": "white",
           "linecolor": "white",
           "ticks": "",
           "title": {
            "standoff": 15
           },
           "zerolinecolor": "white",
           "zerolinewidth": 2
          }
         }
        },
        "width": 1000
       }
      },
      "text/html": [
       "<div>                            <div id=\"31b7f994-4bee-495e-b96e-d29849ab4c10\" class=\"plotly-graph-div\" style=\"height:600px; width:1000px;\"></div>            <script type=\"text/javascript\">                require([\"plotly\"], function(Plotly) {                    window.PLOTLYENV=window.PLOTLYENV || {};                                    if (document.getElementById(\"31b7f994-4bee-495e-b96e-d29849ab4c10\")) {                    Plotly.newPlot(                        \"31b7f994-4bee-495e-b96e-d29849ab4c10\",                        [{\"name\":\"AUDI\",\"x\":[\"2018-02-01T00:00:00\",\"2018-03-01T00:00:00\",\"2018-04-01T00:00:00\",\"2018-05-01T00:00:00\",\"2018-06-01T00:00:00\",\"2018-07-01T00:00:00\",\"2018-08-01T00:00:00\",\"2018-09-01T00:00:00\",\"2018-10-01T00:00:00\",\"2018-11-01T00:00:00\",\"2018-12-01T00:00:00\",\"2019-01-01T00:00:00\",\"2019-02-01T00:00:00\",\"2019-03-01T00:00:00\",\"2019-04-01T00:00:00\",\"2019-05-01T00:00:00\",\"2019-06-01T00:00:00\",\"2019-07-01T00:00:00\",\"2019-08-01T00:00:00\",\"2019-09-01T00:00:00\",\"2019-10-01T00:00:00\",\"2019-11-01T00:00:00\",\"2019-12-01T00:00:00\",\"2020-01-01T00:00:00\",\"2020-02-01T00:00:00\",\"2020-03-01T00:00:00\",\"2020-04-01T00:00:00\",\"2020-05-01T00:00:00\",\"2020-06-01T00:00:00\",\"2020-07-01T00:00:00\",\"2020-08-01T00:00:00\",\"2020-09-01T00:00:00\",\"2020-10-01T00:00:00\",\"2020-11-01T00:00:00\",\"2020-12-01T00:00:00\",\"2021-01-01T00:00:00\",\"2021-02-01T00:00:00\",\"2021-03-01T00:00:00\",\"2021-04-01T00:00:00\",\"2021-05-01T00:00:00\",\"2021-06-01T00:00:00\",\"2021-07-01T00:00:00\",\"2021-08-01T00:00:00\",\"2021-09-01T00:00:00\",\"2021-10-01T00:00:00\",\"2021-11-01T00:00:00\",\"2021-12-01T00:00:00\",\"2022-01-01T00:00:00\",\"2022-02-01T00:00:00\"],\"y\":[283,270,423,139,143,273,199,185,183,208,241,159,79,111,85,146,196,114,170,184,272,248,311,190,141,121,129,187,203,210,198,218,334,316,277,228,155,273,316,239,232,244,266,342,216,96,60,508,32],\"type\":\"scatter\"},{\"name\":\"BMW\",\"x\":[\"2018-02-01T00:00:00\",\"2018-03-01T00:00:00\",\"2018-04-01T00:00:00\",\"2018-05-01T00:00:00\",\"2018-06-01T00:00:00\",\"2018-07-01T00:00:00\",\"2018-08-01T00:00:00\",\"2018-09-01T00:00:00\",\"2018-10-01T00:00:00\",\"2018-11-01T00:00:00\",\"2018-12-01T00:00:00\",\"2019-01-01T00:00:00\",\"2019-02-01T00:00:00\",\"2019-03-01T00:00:00\",\"2019-04-01T00:00:00\",\"2019-05-01T00:00:00\",\"2019-06-01T00:00:00\",\"2019-07-01T00:00:00\",\"2019-08-01T00:00:00\",\"2019-09-01T00:00:00\",\"2019-10-01T00:00:00\",\"2019-11-01T00:00:00\",\"2019-12-01T00:00:00\",\"2020-01-01T00:00:00\",\"2020-02-01T00:00:00\",\"2020-03-01T00:00:00\",\"2020-04-01T00:00:00\",\"2020-05-01T00:00:00\",\"2020-06-01T00:00:00\",\"2020-07-01T00:00:00\",\"2020-08-01T00:00:00\",\"2020-09-01T00:00:00\",\"2020-10-01T00:00:00\",\"2020-11-01T00:00:00\",\"2020-12-01T00:00:00\",\"2021-01-01T00:00:00\",\"2021-02-01T00:00:00\",\"2021-03-01T00:00:00\",\"2021-04-01T00:00:00\",\"2021-05-01T00:00:00\",\"2021-06-01T00:00:00\",\"2021-07-01T00:00:00\",\"2021-08-01T00:00:00\",\"2021-09-01T00:00:00\",\"2021-10-01T00:00:00\",\"2021-11-01T00:00:00\",\"2021-12-01T00:00:00\",\"2022-01-01T00:00:00\",\"2022-02-01T00:00:00\"],\"y\":[839,1201,1045,1011,1308,1145,952,1359,967,1439,1220,1360,508,1051,1021,1247,1388,1357,964,929,1410,1266,1669,1195,923,1082,873,1333,1279,1087,1500,1239,1498,1512,1616,1672,673,1283,1347,1353,1059,1180,1156,1471,1345,1369,1019,1627,207],\"type\":\"scatter\"},{\"name\":\"TOYOTA\",\"x\":[\"2018-02-01T00:00:00\",\"2018-03-01T00:00:00\",\"2018-04-01T00:00:00\",\"2018-05-01T00:00:00\",\"2018-06-01T00:00:00\",\"2018-07-01T00:00:00\",\"2018-08-01T00:00:00\",\"2018-09-01T00:00:00\",\"2018-10-01T00:00:00\",\"2018-11-01T00:00:00\",\"2018-12-01T00:00:00\",\"2019-01-01T00:00:00\",\"2019-02-01T00:00:00\",\"2019-03-01T00:00:00\",\"2019-04-01T00:00:00\",\"2019-05-01T00:00:00\",\"2019-06-01T00:00:00\",\"2019-07-01T00:00:00\",\"2019-08-01T00:00:00\",\"2019-09-01T00:00:00\",\"2019-10-01T00:00:00\",\"2019-11-01T00:00:00\",\"2019-12-01T00:00:00\",\"2020-01-01T00:00:00\",\"2020-02-01T00:00:00\",\"2020-03-01T00:00:00\",\"2020-04-01T00:00:00\",\"2020-05-01T00:00:00\",\"2020-06-01T00:00:00\",\"2020-07-01T00:00:00\",\"2020-08-01T00:00:00\",\"2020-09-01T00:00:00\",\"2020-10-01T00:00:00\",\"2020-11-01T00:00:00\",\"2020-12-01T00:00:00\",\"2021-01-01T00:00:00\",\"2021-02-01T00:00:00\",\"2021-03-01T00:00:00\",\"2021-04-01T00:00:00\",\"2021-05-01T00:00:00\",\"2021-06-01T00:00:00\",\"2021-07-01T00:00:00\",\"2021-08-01T00:00:00\",\"2021-09-01T00:00:00\",\"2021-10-01T00:00:00\",\"2021-11-01T00:00:00\",\"2021-12-01T00:00:00\",\"2022-01-01T00:00:00\",\"2022-02-01T00:00:00\"],\"y\":[6853,9069,8648,7516,9008,12105,5976,6729,8001,8265,9700,11325,3997,7754,9704,10398,10535,13791,6179,8527,11335,11981,11858,13080,7090,10681,8482,9830,11809,12731,10676,6250,11137,13003,8411,17998,6045,12000,11140,8623,6140,11185,10159,11627,10271,11551,10060,11805,4054],\"type\":\"scatter\"},{\"name\":\"NISSAN\",\"x\":[\"2018-02-01T00:00:00\",\"2018-03-01T00:00:00\",\"2018-04-01T00:00:00\",\"2018-05-01T00:00:00\",\"2018-06-01T00:00:00\",\"2018-07-01T00:00:00\",\"2018-08-01T00:00:00\",\"2018-09-01T00:00:00\",\"2018-10-01T00:00:00\",\"2018-11-01T00:00:00\",\"2018-12-01T00:00:00\",\"2019-01-01T00:00:00\",\"2019-02-01T00:00:00\",\"2019-03-01T00:00:00\",\"2019-04-01T00:00:00\",\"2019-05-01T00:00:00\",\"2019-06-01T00:00:00\",\"2019-07-01T00:00:00\",\"2019-08-01T00:00:00\",\"2019-09-01T00:00:00\",\"2019-10-01T00:00:00\",\"2019-11-01T00:00:00\",\"2019-12-01T00:00:00\",\"2020-01-01T00:00:00\",\"2020-02-01T00:00:00\",\"2020-03-01T00:00:00\",\"2020-04-01T00:00:00\",\"2020-05-01T00:00:00\",\"2020-06-01T00:00:00\",\"2020-07-01T00:00:00\",\"2020-08-01T00:00:00\",\"2020-09-01T00:00:00\",\"2020-10-01T00:00:00\",\"2020-11-01T00:00:00\",\"2020-12-01T00:00:00\",\"2021-01-01T00:00:00\",\"2021-02-01T00:00:00\",\"2021-03-01T00:00:00\",\"2021-04-01T00:00:00\",\"2021-05-01T00:00:00\",\"2021-06-01T00:00:00\",\"2021-07-01T00:00:00\",\"2021-08-01T00:00:00\",\"2021-09-01T00:00:00\",\"2021-10-01T00:00:00\",\"2021-11-01T00:00:00\",\"2021-12-01T00:00:00\",\"2022-01-01T00:00:00\",\"2022-02-01T00:00:00\"],\"y\":[2156,2791,2630,2403,3077,2225,1447,2289,2912,3453,3224,3127,1224,2657,2299,2507,2655,3212,1907,2365,2666,3154,3120,2632,1761,2040,1700,2237,2574,2808,2524,1883,3050,3157,3267,2998,1741,2599,2435,1576,1089,1837,1516,1939,2131,2106,2133,2679,729],\"type\":\"scatter\"},{\"name\":\"BENZ\",\"x\":[\"2018-02-01T00:00:00\",\"2018-03-01T00:00:00\",\"2018-04-01T00:00:00\",\"2018-05-01T00:00:00\",\"2018-06-01T00:00:00\",\"2018-07-01T00:00:00\",\"2018-08-01T00:00:00\",\"2018-09-01T00:00:00\",\"2018-10-01T00:00:00\",\"2018-11-01T00:00:00\",\"2018-12-01T00:00:00\",\"2019-01-01T00:00:00\",\"2019-02-01T00:00:00\",\"2019-03-01T00:00:00\",\"2019-04-01T00:00:00\",\"2019-05-01T00:00:00\",\"2019-06-01T00:00:00\",\"2019-07-01T00:00:00\",\"2019-08-01T00:00:00\",\"2019-09-01T00:00:00\",\"2019-10-01T00:00:00\",\"2019-11-01T00:00:00\",\"2019-12-01T00:00:00\",\"2020-01-01T00:00:00\",\"2020-02-01T00:00:00\",\"2020-03-01T00:00:00\",\"2020-04-01T00:00:00\",\"2020-05-01T00:00:00\",\"2020-06-01T00:00:00\",\"2020-07-01T00:00:00\",\"2020-08-01T00:00:00\",\"2020-09-01T00:00:00\",\"2020-10-01T00:00:00\",\"2020-11-01T00:00:00\",\"2020-12-01T00:00:00\",\"2021-01-01T00:00:00\",\"2021-02-01T00:00:00\",\"2021-03-01T00:00:00\",\"2021-04-01T00:00:00\",\"2021-05-01T00:00:00\",\"2021-06-01T00:00:00\",\"2021-07-01T00:00:00\",\"2021-08-01T00:00:00\",\"2021-09-01T00:00:00\",\"2021-10-01T00:00:00\",\"2021-11-01T00:00:00\",\"2021-12-01T00:00:00\",\"2022-01-01T00:00:00\",\"2022-02-01T00:00:00\"],\"y\":[1673,2558,1985,2157,2221,2265,1622,2119,2196,1985,2037,2524,1132,2224,1815,2194,2078,2030,1678,1740,2477,2227,2344,2024,1522,2306,2041,1752,1808,1709,2457,2602,2111,2251,1540,2754,1965,2356,1855,2302,1794,1770,1708,2317,1644,1326,1281,2458,785],\"type\":\"scatter\"},{\"name\":\"HONDA\",\"x\":[\"2018-02-01T00:00:00\",\"2018-03-01T00:00:00\",\"2018-04-01T00:00:00\",\"2018-05-01T00:00:00\",\"2018-06-01T00:00:00\",\"2018-07-01T00:00:00\",\"2018-08-01T00:00:00\",\"2018-09-01T00:00:00\",\"2018-10-01T00:00:00\",\"2018-11-01T00:00:00\",\"2018-12-01T00:00:00\",\"2019-01-01T00:00:00\",\"2019-02-01T00:00:00\",\"2019-03-01T00:00:00\",\"2019-04-01T00:00:00\",\"2019-05-01T00:00:00\",\"2019-06-01T00:00:00\",\"2019-07-01T00:00:00\",\"2019-08-01T00:00:00\",\"2019-09-01T00:00:00\",\"2019-10-01T00:00:00\",\"2019-11-01T00:00:00\",\"2019-12-01T00:00:00\",\"2020-01-01T00:00:00\",\"2020-02-01T00:00:00\",\"2020-03-01T00:00:00\",\"2020-04-01T00:00:00\",\"2020-05-01T00:00:00\",\"2020-06-01T00:00:00\",\"2020-07-01T00:00:00\",\"2020-08-01T00:00:00\",\"2020-09-01T00:00:00\",\"2020-10-01T00:00:00\",\"2020-11-01T00:00:00\",\"2020-12-01T00:00:00\",\"2021-01-01T00:00:00\",\"2021-02-01T00:00:00\",\"2021-03-01T00:00:00\",\"2021-04-01T00:00:00\",\"2021-05-01T00:00:00\",\"2021-06-01T00:00:00\",\"2021-07-01T00:00:00\",\"2021-08-01T00:00:00\",\"2021-09-01T00:00:00\",\"2021-10-01T00:00:00\",\"2021-11-01T00:00:00\",\"2021-12-01T00:00:00\",\"2022-01-01T00:00:00\",\"2022-02-01T00:00:00\"],\"y\":[2105,3224,2357,2758,3146,3356,1442,2490,2225,2465,3382,2628,903,2302,2165,2143,2627,3092,831,1742,1972,2509,3554,1623,1363,1976,1446,1927,2656,2902,1109,2040,2231,2612,2539,1929,1212,2488,1810,1632,884,2164,1867,2168,2175,2294,2293,2350,585],\"type\":\"scatter\"},{\"name\":\"HYUNDAI\",\"x\":[\"2018-02-01T00:00:00\",\"2018-03-01T00:00:00\",\"2018-04-01T00:00:00\",\"2018-05-01T00:00:00\",\"2018-06-01T00:00:00\",\"2018-07-01T00:00:00\",\"2018-08-01T00:00:00\",\"2018-09-01T00:00:00\",\"2018-10-01T00:00:00\",\"2018-11-01T00:00:00\",\"2018-12-01T00:00:00\",\"2019-01-01T00:00:00\",\"2019-02-01T00:00:00\",\"2019-03-01T00:00:00\",\"2019-04-01T00:00:00\",\"2019-05-01T00:00:00\",\"2019-06-01T00:00:00\",\"2019-07-01T00:00:00\",\"2019-08-01T00:00:00\",\"2019-09-01T00:00:00\",\"2019-10-01T00:00:00\",\"2019-11-01T00:00:00\",\"2019-12-01T00:00:00\",\"2020-01-01T00:00:00\",\"2020-02-01T00:00:00\",\"2020-03-01T00:00:00\",\"2020-04-01T00:00:00\",\"2020-05-01T00:00:00\",\"2020-06-01T00:00:00\",\"2020-07-01T00:00:00\",\"2020-08-01T00:00:00\",\"2020-09-01T00:00:00\",\"2020-10-01T00:00:00\",\"2020-11-01T00:00:00\",\"2020-12-01T00:00:00\",\"2021-01-01T00:00:00\",\"2021-02-01T00:00:00\",\"2021-03-01T00:00:00\",\"2021-04-01T00:00:00\",\"2021-05-01T00:00:00\",\"2021-06-01T00:00:00\",\"2021-07-01T00:00:00\",\"2021-08-01T00:00:00\",\"2021-09-01T00:00:00\",\"2021-10-01T00:00:00\",\"2021-11-01T00:00:00\",\"2021-12-01T00:00:00\",\"2022-01-01T00:00:00\",\"2022-02-01T00:00:00\"],\"y\":[518,909,755,742,885,1023,751,785,740,900,996,856,376,674,739,873,792,869,658,726,768,758,865,666,542,661,539,614,714,807,710,981,1015,1314,1302,1198,515,982,908,744,589,998,712,1019,982,1060,1321,1247,333],\"type\":\"scatter\"},{\"name\":\"JAGUAR\",\"x\":[\"2018-02-01T00:00:00\",\"2018-03-01T00:00:00\",\"2018-04-01T00:00:00\",\"2018-05-01T00:00:00\",\"2018-06-01T00:00:00\",\"2018-07-01T00:00:00\",\"2018-08-01T00:00:00\",\"2018-09-01T00:00:00\",\"2018-10-01T00:00:00\",\"2018-11-01T00:00:00\",\"2018-12-01T00:00:00\",\"2019-01-01T00:00:00\",\"2019-02-01T00:00:00\",\"2019-03-01T00:00:00\",\"2019-04-01T00:00:00\",\"2019-05-01T00:00:00\",\"2019-06-01T00:00:00\",\"2019-07-01T00:00:00\",\"2019-08-01T00:00:00\",\"2019-09-01T00:00:00\",\"2019-10-01T00:00:00\",\"2019-11-01T00:00:00\",\"2019-12-01T00:00:00\",\"2020-01-01T00:00:00\",\"2020-02-01T00:00:00\",\"2020-03-01T00:00:00\",\"2020-04-01T00:00:00\",\"2020-05-01T00:00:00\",\"2020-06-01T00:00:00\",\"2020-07-01T00:00:00\",\"2020-08-01T00:00:00\",\"2020-09-01T00:00:00\",\"2020-10-01T00:00:00\",\"2020-11-01T00:00:00\",\"2020-12-01T00:00:00\",\"2021-01-01T00:00:00\",\"2021-02-01T00:00:00\",\"2021-03-01T00:00:00\",\"2021-04-01T00:00:00\",\"2021-05-01T00:00:00\",\"2021-06-01T00:00:00\",\"2021-07-01T00:00:00\",\"2021-08-01T00:00:00\",\"2021-09-01T00:00:00\",\"2021-10-01T00:00:00\",\"2021-11-01T00:00:00\",\"2021-12-01T00:00:00\",\"2022-01-01T00:00:00\",\"2022-02-01T00:00:00\"],\"y\":[33,20,28,12,9,35,29,18,26,11,37,5,1,9,11,116,42,25,40,43,54,51,73,39,50,41,25,22,28,31,24,16,30,35,37,35,18,40,21,30,15,28,11,22,27,16,8,18,7],\"type\":\"scatter\"},{\"name\":\"MAZADA\",\"x\":[],\"y\":[],\"type\":\"scatter\"},{\"name\":\"MITSUBISHI\",\"x\":[\"2018-02-01T00:00:00\",\"2018-03-01T00:00:00\",\"2018-04-01T00:00:00\",\"2018-05-01T00:00:00\",\"2018-06-01T00:00:00\",\"2018-07-01T00:00:00\",\"2018-08-01T00:00:00\",\"2018-09-01T00:00:00\",\"2018-10-01T00:00:00\",\"2018-11-01T00:00:00\",\"2018-12-01T00:00:00\",\"2019-01-01T00:00:00\",\"2019-02-01T00:00:00\",\"2019-03-01T00:00:00\",\"2019-04-01T00:00:00\",\"2019-05-01T00:00:00\",\"2019-06-01T00:00:00\",\"2019-07-01T00:00:00\",\"2019-08-01T00:00:00\",\"2019-09-01T00:00:00\",\"2019-10-01T00:00:00\",\"2019-11-01T00:00:00\",\"2019-12-01T00:00:00\",\"2020-01-01T00:00:00\",\"2020-02-01T00:00:00\",\"2020-03-01T00:00:00\",\"2020-04-01T00:00:00\",\"2020-05-01T00:00:00\",\"2020-06-01T00:00:00\",\"2020-07-01T00:00:00\",\"2020-08-01T00:00:00\",\"2020-09-01T00:00:00\",\"2020-10-01T00:00:00\",\"2020-11-01T00:00:00\",\"2020-12-01T00:00:00\",\"2021-01-01T00:00:00\",\"2021-02-01T00:00:00\",\"2021-03-01T00:00:00\",\"2021-04-01T00:00:00\",\"2021-05-01T00:00:00\",\"2021-06-01T00:00:00\",\"2021-07-01T00:00:00\",\"2021-08-01T00:00:00\",\"2021-09-01T00:00:00\",\"2021-10-01T00:00:00\",\"2021-11-01T00:00:00\",\"2021-12-01T00:00:00\",\"2022-01-01T00:00:00\",\"2022-02-01T00:00:00\"],\"y\":[2917,4100,3164,3196,3552,4225,2756,3293,3125,3540,3178,4241,1842,3200,2881,3486,3751,4373,1636,3063,3158,3346,3596,3308,2503,3188,2707,3242,3724,4163,3370,2815,3802,4038,3212,4917,1873,3369,3286,3333,2506,3227,2932,3736,3007,3384,3993,3116,959],\"type\":\"scatter\"},{\"name\":\"PORSCHE\",\"x\":[\"2018-02-01T00:00:00\",\"2018-03-01T00:00:00\",\"2018-04-01T00:00:00\",\"2018-05-01T00:00:00\",\"2018-06-01T00:00:00\",\"2018-07-01T00:00:00\",\"2018-08-01T00:00:00\",\"2018-09-01T00:00:00\",\"2018-10-01T00:00:00\",\"2018-11-01T00:00:00\",\"2018-12-01T00:00:00\",\"2019-01-01T00:00:00\",\"2019-02-01T00:00:00\",\"2019-03-01T00:00:00\",\"2019-04-01T00:00:00\",\"2019-05-01T00:00:00\",\"2019-06-01T00:00:00\",\"2019-07-01T00:00:00\",\"2019-08-01T00:00:00\",\"2019-09-01T00:00:00\",\"2019-10-01T00:00:00\",\"2019-11-01T00:00:00\",\"2019-12-01T00:00:00\",\"2020-01-01T00:00:00\",\"2020-02-01T00:00:00\",\"2020-03-01T00:00:00\",\"2020-04-01T00:00:00\",\"2020-05-01T00:00:00\",\"2020-06-01T00:00:00\",\"2020-07-01T00:00:00\",\"2020-08-01T00:00:00\",\"2020-09-01T00:00:00\",\"2020-10-01T00:00:00\",\"2020-11-01T00:00:00\",\"2020-12-01T00:00:00\",\"2021-01-01T00:00:00\",\"2021-02-01T00:00:00\",\"2021-03-01T00:00:00\",\"2021-04-01T00:00:00\",\"2021-05-01T00:00:00\",\"2021-06-01T00:00:00\",\"2021-07-01T00:00:00\",\"2021-08-01T00:00:00\",\"2021-09-01T00:00:00\",\"2021-10-01T00:00:00\",\"2021-11-01T00:00:00\",\"2021-12-01T00:00:00\",\"2022-01-01T00:00:00\",\"2022-02-01T00:00:00\"],\"y\":[128,156,213,405,362,358,315,314,210,228,180,232,53,159,330,323,229,247,180,298,270,339,366,311,79,389,293,370,199,228,321,483,129,226,402,415,181,433,467,490,335,394,253,311,216,200,296,417,100],\"type\":\"scatter\"},{\"name\":\"SKODA\",\"x\":[\"2018-02-01T00:00:00\",\"2018-03-01T00:00:00\",\"2018-04-01T00:00:00\",\"2018-05-01T00:00:00\",\"2018-06-01T00:00:00\",\"2018-07-01T00:00:00\",\"2018-08-01T00:00:00\",\"2018-09-01T00:00:00\",\"2018-10-01T00:00:00\",\"2018-11-01T00:00:00\",\"2018-12-01T00:00:00\",\"2019-01-01T00:00:00\",\"2019-02-01T00:00:00\",\"2019-03-01T00:00:00\",\"2019-04-01T00:00:00\",\"2019-05-01T00:00:00\",\"2019-06-01T00:00:00\",\"2019-07-01T00:00:00\",\"2019-08-01T00:00:00\",\"2019-09-01T00:00:00\",\"2019-10-01T00:00:00\",\"2019-11-01T00:00:00\",\"2019-12-01T00:00:00\",\"2020-01-01T00:00:00\",\"2020-02-01T00:00:00\",\"2020-03-01T00:00:00\",\"2020-04-01T00:00:00\",\"2020-05-01T00:00:00\",\"2020-06-01T00:00:00\",\"2020-07-01T00:00:00\",\"2020-08-01T00:00:00\",\"2020-09-01T00:00:00\",\"2020-10-01T00:00:00\",\"2020-11-01T00:00:00\",\"2020-12-01T00:00:00\",\"2021-01-01T00:00:00\",\"2021-02-01T00:00:00\",\"2021-03-01T00:00:00\",\"2021-04-01T00:00:00\",\"2021-05-01T00:00:00\",\"2021-06-01T00:00:00\",\"2021-07-01T00:00:00\",\"2021-08-01T00:00:00\",\"2021-09-01T00:00:00\",\"2021-10-01T00:00:00\",\"2021-11-01T00:00:00\",\"2021-12-01T00:00:00\",\"2022-01-01T00:00:00\",\"2022-02-01T00:00:00\"],\"y\":[485,535,442,409,438,436,322,466,383,388,282,324,215,272,371,491,462,416,336,349,463,484,280,498,324,452,340,331,299,359,438,520,705,838,458,695,422,618,630,659,425,635,398,537,359,290,201,293,168],\"type\":\"scatter\"},{\"name\":\"SABARU\",\"x\":[],\"y\":[],\"type\":\"scatter\"},{\"name\":\"SUZUKI\",\"x\":[\"2018-02-01T00:00:00\",\"2018-03-01T00:00:00\",\"2018-04-01T00:00:00\",\"2018-05-01T00:00:00\",\"2018-06-01T00:00:00\",\"2018-07-01T00:00:00\",\"2018-08-01T00:00:00\",\"2018-09-01T00:00:00\",\"2018-10-01T00:00:00\",\"2018-11-01T00:00:00\",\"2018-12-01T00:00:00\",\"2019-01-01T00:00:00\",\"2019-02-01T00:00:00\",\"2019-03-01T00:00:00\",\"2019-04-01T00:00:00\",\"2019-05-01T00:00:00\",\"2019-06-01T00:00:00\",\"2019-07-01T00:00:00\",\"2019-08-01T00:00:00\",\"2019-09-01T00:00:00\",\"2019-10-01T00:00:00\",\"2019-11-01T00:00:00\",\"2019-12-01T00:00:00\",\"2020-01-01T00:00:00\",\"2020-02-01T00:00:00\",\"2020-03-01T00:00:00\",\"2020-04-01T00:00:00\",\"2020-05-01T00:00:00\",\"2020-06-01T00:00:00\",\"2020-07-01T00:00:00\",\"2020-08-01T00:00:00\",\"2020-09-01T00:00:00\",\"2020-10-01T00:00:00\",\"2020-11-01T00:00:00\",\"2020-12-01T00:00:00\",\"2021-01-01T00:00:00\",\"2021-02-01T00:00:00\",\"2021-03-01T00:00:00\",\"2021-04-01T00:00:00\",\"2021-05-01T00:00:00\",\"2021-06-01T00:00:00\",\"2021-07-01T00:00:00\",\"2021-08-01T00:00:00\",\"2021-09-01T00:00:00\",\"2021-10-01T00:00:00\",\"2021-11-01T00:00:00\",\"2021-12-01T00:00:00\",\"2022-01-01T00:00:00\",\"2022-02-01T00:00:00\"],\"y\":[660,718,766,616,719,784,598,706,652,501,661,530,229,422,412,453,492,491,607,598,465,966,825,498,560,769,471,605,694,589,690,590,698,770,1070,864,355,622,789,575,414,305,291,363,415,486,528,136,96],\"type\":\"scatter\"},{\"name\":\"TESLA\",\"x\":[\"2018-02-01T00:00:00\",\"2018-03-01T00:00:00\",\"2018-04-01T00:00:00\",\"2018-05-01T00:00:00\",\"2018-06-01T00:00:00\",\"2018-07-01T00:00:00\",\"2018-08-01T00:00:00\",\"2018-09-01T00:00:00\",\"2018-10-01T00:00:00\",\"2018-11-01T00:00:00\",\"2018-12-01T00:00:00\",\"2019-01-01T00:00:00\",\"2019-02-01T00:00:00\",\"2019-03-01T00:00:00\",\"2019-04-01T00:00:00\",\"2019-05-01T00:00:00\",\"2019-06-01T00:00:00\",\"2019-07-01T00:00:00\",\"2019-08-01T00:00:00\",\"2019-09-01T00:00:00\",\"2019-10-01T00:00:00\",\"2019-11-01T00:00:00\",\"2019-12-01T00:00:00\",\"2020-01-01T00:00:00\",\"2020-02-01T00:00:00\",\"2020-03-01T00:00:00\",\"2020-04-01T00:00:00\",\"2020-05-01T00:00:00\",\"2020-06-01T00:00:00\",\"2020-07-01T00:00:00\",\"2020-08-01T00:00:00\",\"2020-09-01T00:00:00\",\"2020-10-01T00:00:00\",\"2020-11-01T00:00:00\",\"2020-12-01T00:00:00\",\"2021-01-01T00:00:00\",\"2021-02-01T00:00:00\",\"2021-03-01T00:00:00\",\"2021-05-01T00:00:00\",\"2021-06-01T00:00:00\",\"2021-07-01T00:00:00\",\"2021-08-01T00:00:00\",\"2021-09-01T00:00:00\",\"2021-10-01T00:00:00\",\"2021-11-01T00:00:00\",\"2021-12-01T00:00:00\",\"2022-01-01T00:00:00\",\"2022-02-01T00:00:00\"],\"y\":[34,64,13,25,53,7,25,75,4,31,61,21,12,60,5,297,371,29,53,326,53,316,863,107,85,1256,75,59,145,19,652,797,16,198,972,132,123,678,734,546,17,245,612,17,1022,259,1,147],\"type\":\"scatter\"},{\"name\":\"VOLVO\",\"x\":[\"2018-02-01T00:00:00\",\"2018-03-01T00:00:00\",\"2018-04-01T00:00:00\",\"2018-05-01T00:00:00\",\"2018-06-01T00:00:00\",\"2018-07-01T00:00:00\",\"2018-08-01T00:00:00\",\"2018-09-01T00:00:00\",\"2018-10-01T00:00:00\",\"2018-11-01T00:00:00\",\"2018-12-01T00:00:00\",\"2019-01-01T00:00:00\",\"2019-02-01T00:00:00\",\"2019-03-01T00:00:00\",\"2019-04-01T00:00:00\",\"2019-05-01T00:00:00\",\"2019-06-01T00:00:00\",\"2019-07-01T00:00:00\",\"2019-08-01T00:00:00\",\"2019-09-01T00:00:00\",\"2019-10-01T00:00:00\",\"2019-11-01T00:00:00\",\"2019-12-01T00:00:00\",\"2020-01-01T00:00:00\",\"2020-02-01T00:00:00\",\"2020-03-01T00:00:00\",\"2020-04-01T00:00:00\",\"2020-05-01T00:00:00\",\"2020-06-01T00:00:00\",\"2020-07-01T00:00:00\",\"2020-08-01T00:00:00\",\"2020-09-01T00:00:00\",\"2020-10-01T00:00:00\",\"2020-11-01T00:00:00\",\"2020-12-01T00:00:00\",\"2021-01-01T00:00:00\",\"2021-02-01T00:00:00\",\"2021-03-01T00:00:00\",\"2021-04-01T00:00:00\",\"2021-05-01T00:00:00\",\"2021-06-01T00:00:00\",\"2021-07-01T00:00:00\",\"2021-08-01T00:00:00\",\"2021-09-01T00:00:00\",\"2021-10-01T00:00:00\",\"2021-11-01T00:00:00\",\"2021-12-01T00:00:00\",\"2022-01-01T00:00:00\",\"2022-02-01T00:00:00\"],\"y\":[346,423,378,326,407,403,378,395,383,573,528,488,224,439,319,444,432,464,495,462,525,420,583,356,247,452,364,404,506,520,513,476,520,666,693,462,120,684,719,695,243,522,591,805,562,630,941,469,95],\"type\":\"scatter\"},{\"name\":\"VW\",\"x\":[\"2018-02-01T00:00:00\",\"2018-03-01T00:00:00\",\"2018-04-01T00:00:00\",\"2018-05-01T00:00:00\",\"2018-06-01T00:00:00\",\"2018-07-01T00:00:00\",\"2018-08-01T00:00:00\",\"2018-09-01T00:00:00\",\"2018-10-01T00:00:00\",\"2018-11-01T00:00:00\",\"2018-12-01T00:00:00\",\"2019-01-01T00:00:00\",\"2019-02-01T00:00:00\",\"2019-03-01T00:00:00\",\"2019-04-01T00:00:00\",\"2019-05-01T00:00:00\",\"2019-06-01T00:00:00\",\"2019-07-01T00:00:00\",\"2019-08-01T00:00:00\",\"2019-09-01T00:00:00\",\"2019-10-01T00:00:00\",\"2019-11-01T00:00:00\",\"2019-12-01T00:00:00\",\"2020-01-01T00:00:00\",\"2020-02-01T00:00:00\",\"2020-03-01T00:00:00\",\"2020-04-01T00:00:00\",\"2020-05-01T00:00:00\",\"2020-06-01T00:00:00\",\"2020-07-01T00:00:00\",\"2020-08-01T00:00:00\",\"2020-09-01T00:00:00\",\"2020-10-01T00:00:00\",\"2020-11-01T00:00:00\",\"2020-12-01T00:00:00\",\"2021-01-01T00:00:00\",\"2021-02-01T00:00:00\",\"2021-03-01T00:00:00\",\"2021-04-01T00:00:00\",\"2021-05-01T00:00:00\",\"2021-06-01T00:00:00\",\"2021-07-01T00:00:00\",\"2021-08-01T00:00:00\",\"2021-09-01T00:00:00\",\"2021-10-01T00:00:00\",\"2021-11-01T00:00:00\",\"2021-12-01T00:00:00\",\"2022-01-01T00:00:00\",\"2022-02-01T00:00:00\"],\"y\":[925,1052,1009,774,1131,1319,1149,1356,1019,1197,1117,998,579,920,946,1012,1041,1217,965,911,950,1084,1313,1097,870,926,787,1056,1114,1207,1106,661,793,825,444,766,385,678,830,1091,753,1435,1101,1201,812,823,604,1042,219],\"type\":\"scatter\"}],                        {\"barmode\":\"group\",\"height\":600,\"template\":{\"data\":{\"barpolar\":[{\"marker\":{\"line\":{\"color\":\"#E5ECF6\",\"width\":0.5},\"pattern\":{\"fillmode\":\"overlay\",\"size\":10,\"solidity\":0.2}},\"type\":\"barpolar\"}],\"bar\":[{\"error_x\":{\"color\":\"#2a3f5f\"},\"error_y\":{\"color\":\"#2a3f5f\"},\"marker\":{\"line\":{\"color\":\"#E5ECF6\",\"width\":0.5},\"pattern\":{\"fillmode\":\"overlay\",\"size\":10,\"solidity\":0.2}},\"type\":\"bar\"}],\"carpet\":[{\"aaxis\":{\"endlinecolor\":\"#2a3f5f\",\"gridcolor\":\"white\",\"linecolor\":\"white\",\"minorgridcolor\":\"white\",\"startlinecolor\":\"#2a3f5f\"},\"baxis\":{\"endlinecolor\":\"#2a3f5f\",\"gridcolor\":\"white\",\"linecolor\":\"white\",\"minorgridcolor\":\"white\",\"startlinecolor\":\"#2a3f5f\"},\"type\":\"carpet\"}],\"choropleth\":[{\"colorbar\":{\"outlinewidth\":0,\"ticks\":\"\"},\"type\":\"choropleth\"}],\"contourcarpet\":[{\"colorbar\":{\"outlinewidth\":0,\"ticks\":\"\"},\"type\":\"contourcarpet\"}],\"contour\":[{\"colorbar\":{\"outlinewidth\":0,\"ticks\":\"\"},\"colorscale\":[[0.0,\"#0d0887\"],[0.1111111111111111,\"#46039f\"],[0.2222222222222222,\"#7201a8\"],[0.3333333333333333,\"#9c179e\"],[0.4444444444444444,\"#bd3786\"],[0.5555555555555556,\"#d8576b\"],[0.6666666666666666,\"#ed7953\"],[0.7777777777777778,\"#fb9f3a\"],[0.8888888888888888,\"#fdca26\"],[1.0,\"#f0f921\"]],\"type\":\"contour\"}],\"heatmapgl\":[{\"colorbar\":{\"outlinewidth\":0,\"ticks\":\"\"},\"colorscale\":[[0.0,\"#0d0887\"],[0.1111111111111111,\"#46039f\"],[0.2222222222222222,\"#7201a8\"],[0.3333333333333333,\"#9c179e\"],[0.4444444444444444,\"#bd3786\"],[0.5555555555555556,\"#d8576b\"],[0.6666666666666666,\"#ed7953\"],[0.7777777777777778,\"#fb9f3a\"],[0.8888888888888888,\"#fdca26\"],[1.0,\"#f0f921\"]],\"type\":\"heatmapgl\"}],\"heatmap\":[{\"colorbar\":{\"outlinewidth\":0,\"ticks\":\"\"},\"colorscale\":[[0.0,\"#0d0887\"],[0.1111111111111111,\"#46039f\"],[0.2222222222222222,\"#7201a8\"],[0.3333333333333333,\"#9c179e\"],[0.4444444444444444,\"#bd3786\"],[0.5555555555555556,\"#d8576b\"],[0.6666666666666666,\"#ed7953\"],[0.7777777777777778,\"#fb9f3a\"],[0.8888888888888888,\"#fdca26\"],[1.0,\"#f0f921\"]],\"type\":\"heatmap\"}],\"histogram2dcontour\":[{\"colorbar\":{\"outlinewidth\":0,\"ticks\":\"\"},\"colorscale\":[[0.0,\"#0d0887\"],[0.1111111111111111,\"#46039f\"],[0.2222222222222222,\"#7201a8\"],[0.3333333333333333,\"#9c179e\"],[0.4444444444444444,\"#bd3786\"],[0.5555555555555556,\"#d8576b\"],[0.6666666666666666,\"#ed7953\"],[0.7777777777777778,\"#fb9f3a\"],[0.8888888888888888,\"#fdca26\"],[1.0,\"#f0f921\"]],\"type\":\"histogram2dcontour\"}],\"histogram2d\":[{\"colorbar\":{\"outlinewidth\":0,\"ticks\":\"\"},\"colorscale\":[[0.0,\"#0d0887\"],[0.1111111111111111,\"#46039f\"],[0.2222222222222222,\"#7201a8\"],[0.3333333333333333,\"#9c179e\"],[0.4444444444444444,\"#bd3786\"],[0.5555555555555556,\"#d8576b\"],[0.6666666666666666,\"#ed7953\"],[0.7777777777777778,\"#fb9f3a\"],[0.8888888888888888,\"#fdca26\"],[1.0,\"#f0f921\"]],\"type\":\"histogram2d\"}],\"histogram\":[{\"marker\":{\"pattern\":{\"fillmode\":\"overlay\",\"size\":10,\"solidity\":0.2}},\"type\":\"histogram\"}],\"mesh3d\":[{\"colorbar\":{\"outlinewidth\":0,\"ticks\":\"\"},\"type\":\"mesh3d\"}],\"parcoords\":[{\"line\":{\"colorbar\":{\"outlinewidth\":0,\"ticks\":\"\"}},\"type\":\"parcoords\"}],\"pie\":[{\"automargin\":true,\"type\":\"pie\"}],\"scatter3d\":[{\"line\":{\"colorbar\":{\"outlinewidth\":0,\"ticks\":\"\"}},\"marker\":{\"colorbar\":{\"outlinewidth\":0,\"ticks\":\"\"}},\"type\":\"scatter3d\"}],\"scattercarpet\":[{\"marker\":{\"colorbar\":{\"outlinewidth\":0,\"ticks\":\"\"}},\"type\":\"scattercarpet\"}],\"scattergeo\":[{\"marker\":{\"colorbar\":{\"outlinewidth\":0,\"ticks\":\"\"}},\"type\":\"scattergeo\"}],\"scattergl\":[{\"marker\":{\"colorbar\":{\"outlinewidth\":0,\"ticks\":\"\"}},\"type\":\"scattergl\"}],\"scattermapbox\":[{\"marker\":{\"colorbar\":{\"outlinewidth\":0,\"ticks\":\"\"}},\"type\":\"scattermapbox\"}],\"scatterpolargl\":[{\"marker\":{\"colorbar\":{\"outlinewidth\":0,\"ticks\":\"\"}},\"type\":\"scatterpolargl\"}],\"scatterpolar\":[{\"marker\":{\"colorbar\":{\"outlinewidth\":0,\"ticks\":\"\"}},\"type\":\"scatterpolar\"}],\"scatter\":[{\"marker\":{\"colorbar\":{\"outlinewidth\":0,\"ticks\":\"\"}},\"type\":\"scatter\"}],\"scatterternary\":[{\"marker\":{\"colorbar\":{\"outlinewidth\":0,\"ticks\":\"\"}},\"type\":\"scatterternary\"}],\"surface\":[{\"colorbar\":{\"outlinewidth\":0,\"ticks\":\"\"},\"colorscale\":[[0.0,\"#0d0887\"],[0.1111111111111111,\"#46039f\"],[0.2222222222222222,\"#7201a8\"],[0.3333333333333333,\"#9c179e\"],[0.4444444444444444,\"#bd3786\"],[0.5555555555555556,\"#d8576b\"],[0.6666666666666666,\"#ed7953\"],[0.7777777777777778,\"#fb9f3a\"],[0.8888888888888888,\"#fdca26\"],[1.0,\"#f0f921\"]],\"type\":\"surface\"}],\"table\":[{\"cells\":{\"fill\":{\"color\":\"#EBF0F8\"},\"line\":{\"color\":\"white\"}},\"header\":{\"fill\":{\"color\":\"#C8D4E3\"},\"line\":{\"color\":\"white\"}},\"type\":\"table\"}]},\"layout\":{\"annotationdefaults\":{\"arrowcolor\":\"#2a3f5f\",\"arrowhead\":0,\"arrowwidth\":1},\"autotypenumbers\":\"strict\",\"coloraxis\":{\"colorbar\":{\"outlinewidth\":0,\"ticks\":\"\"}},\"colorscale\":{\"diverging\":[[0,\"#8e0152\"],[0.1,\"#c51b7d\"],[0.2,\"#de77ae\"],[0.3,\"#f1b6da\"],[0.4,\"#fde0ef\"],[0.5,\"#f7f7f7\"],[0.6,\"#e6f5d0\"],[0.7,\"#b8e186\"],[0.8,\"#7fbc41\"],[0.9,\"#4d9221\"],[1,\"#276419\"]],\"sequential\":[[0.0,\"#0d0887\"],[0.1111111111111111,\"#46039f\"],[0.2222222222222222,\"#7201a8\"],[0.3333333333333333,\"#9c179e\"],[0.4444444444444444,\"#bd3786\"],[0.5555555555555556,\"#d8576b\"],[0.6666666666666666,\"#ed7953\"],[0.7777777777777778,\"#fb9f3a\"],[0.8888888888888888,\"#fdca26\"],[1.0,\"#f0f921\"]],\"sequentialminus\":[[0.0,\"#0d0887\"],[0.1111111111111111,\"#46039f\"],[0.2222222222222222,\"#7201a8\"],[0.3333333333333333,\"#9c179e\"],[0.4444444444444444,\"#bd3786\"],[0.5555555555555556,\"#d8576b\"],[0.6666666666666666,\"#ed7953\"],[0.7777777777777778,\"#fb9f3a\"],[0.8888888888888888,\"#fdca26\"],[1.0,\"#f0f921\"]]},\"colorway\":[\"#636efa\",\"#EF553B\",\"#00cc96\",\"#ab63fa\",\"#FFA15A\",\"#19d3f3\",\"#FF6692\",\"#B6E880\",\"#FF97FF\",\"#FECB52\"],\"font\":{\"color\":\"#2a3f5f\"},\"geo\":{\"bgcolor\":\"white\",\"lakecolor\":\"white\",\"landcolor\":\"#E5ECF6\",\"showlakes\":true,\"showland\":true,\"subunitcolor\":\"white\"},\"hoverlabel\":{\"align\":\"left\"},\"hovermode\":\"closest\",\"mapbox\":{\"style\":\"light\"},\"paper_bgcolor\":\"white\",\"plot_bgcolor\":\"#E5ECF6\",\"polar\":{\"angularaxis\":{\"gridcolor\":\"white\",\"linecolor\":\"white\",\"ticks\":\"\"},\"bgcolor\":\"#E5ECF6\",\"radialaxis\":{\"gridcolor\":\"white\",\"linecolor\":\"white\",\"ticks\":\"\"}},\"scene\":{\"xaxis\":{\"backgroundcolor\":\"#E5ECF6\",\"gridcolor\":\"white\",\"gridwidth\":2,\"linecolor\":\"white\",\"showbackground\":true,\"ticks\":\"\",\"zerolinecolor\":\"white\"},\"yaxis\":{\"backgroundcolor\":\"#E5ECF6\",\"gridcolor\":\"white\",\"gridwidth\":2,\"linecolor\":\"white\",\"showbackground\":true,\"ticks\":\"\",\"zerolinecolor\":\"white\"},\"zaxis\":{\"backgroundcolor\":\"#E5ECF6\",\"gridcolor\":\"white\",\"gridwidth\":2,\"linecolor\":\"white\",\"showbackground\":true,\"ticks\":\"\",\"zerolinecolor\":\"white\"}},\"shapedefaults\":{\"line\":{\"color\":\"#2a3f5f\"}},\"ternary\":{\"aaxis\":{\"gridcolor\":\"white\",\"linecolor\":\"white\",\"ticks\":\"\"},\"baxis\":{\"gridcolor\":\"white\",\"linecolor\":\"white\",\"ticks\":\"\"},\"bgcolor\":\"#E5ECF6\",\"caxis\":{\"gridcolor\":\"white\",\"linecolor\":\"white\",\"ticks\":\"\"}},\"title\":{\"x\":0.05},\"xaxis\":{\"automargin\":true,\"gridcolor\":\"white\",\"linecolor\":\"white\",\"ticks\":\"\",\"title\":{\"standoff\":15},\"zerolinecolor\":\"white\",\"zerolinewidth\":2},\"yaxis\":{\"automargin\":true,\"gridcolor\":\"white\",\"linecolor\":\"white\",\"ticks\":\"\",\"title\":{\"standoff\":15},\"zerolinecolor\":\"white\",\"zerolinewidth\":2}}},\"width\":1000},                        {\"responsive\": true}                    ).then(function(){\n",
       "                            \n",
       "var gd = document.getElementById('31b7f994-4bee-495e-b96e-d29849ab4c10');\n",
       "var x = new MutationObserver(function (mutations, observer) {{\n",
       "        var display = window.getComputedStyle(gd).display;\n",
       "        if (!display || display === 'none') {{\n",
       "            console.log([gd, 'removed!']);\n",
       "            Plotly.purge(gd);\n",
       "            observer.disconnect();\n",
       "        }}\n",
       "}});\n",
       "\n",
       "// Listen for the removal of the full notebook cells\n",
       "var notebookContainer = gd.closest('#notebook-container');\n",
       "if (notebookContainer) {{\n",
       "    x.observe(notebookContainer, {childList: true});\n",
       "}}\n",
       "\n",
       "// Listen for the clearing of the current output cell\n",
       "var outputEl = gd.closest('.output');\n",
       "if (outputEl) {{\n",
       "    x.observe(outputEl, {childList: true});\n",
       "}}\n",
       "\n",
       "                        })                };                });            </script>        </div>"
      ]
     },
     "metadata": {},
     "output_type": "display_data"
    }
   ],
   "source": [
    "audi = go.Line(x = df_time[df_time['brand'] == 'AUDI'].time_strptime,y = df_time[df_time['brand']=='AUDI'][0],name = 'AUDI')\n",
    "bmw = go.Line(x = df_time[df_time['brand'] == 'BMW'].time_strptime,y = df_time[df_time['brand']=='BMW'][0],name = 'BMW')\n",
    "toyota = go.Line(x = df_time[df_time['brand'] == 'TOYOTA'].time_strptime,y = df_time[df_time['brand']=='TOYOTA'][0],name = 'TOYOTA')\n",
    "nissan = go.Line(x = df_time[df_time['brand'] == 'NISSAN'].time_strptime,y = df_time[df_time['brand']=='NISSAN'][0],name = 'NISSAN')\n",
    "benz = go.Line(x = df_time[df_time['brand'] == 'BENZ'].time_strptime,y = df_time[df_time['brand']=='BENZ'][0],name = 'BENZ')\n",
    "honda = go.Line(x = df_time[df_time['brand'] == 'HONDA'].time_strptime,y = df_time[df_time['brand']=='HONDA'][0],name = 'HONDA')\n",
    "hyundai = go.Line(x = df_time[df_time['brand'] == 'HYUNDAI'].time_strptime,y = df_time[df_time['brand'] == 'HYUNDAI'][0],name = 'HYUNDAI')\n",
    "jaguar = go.Line(x = df_time[df_time['brand'] == 'JAGUAR'].time_strptime,y = df_time[df_time['brand']=='JAGUAR'][0],name = 'JAGUAR')\n",
    "mazada = go.Line(x = df_time[df_time['brand'] == 'MAZADA'].time_strptime,y = df_time[df_time['brand']=='MAZADA'][0],name = 'MAZADA')\n",
    "mitsubishi = go.Line(x = df_time[df_time['brand'] == 'MITSUBISHI'].time_strptime,y = df_time[df_time['brand']=='MITSUBISHI'][0],name = 'MITSUBISHI')\n",
    "porsche = go.Line(x = df_time[df_time['brand'] == 'PORSCHE'].time_strptime,y = df_time[df_time['brand']=='PORSCHE'][0],name = 'PORSCHE')\n",
    "skoda = go.Line(x = df_time[df_time['brand'] == 'SKODA'].time_strptime,y = df_time[df_time['brand']=='SKODA'][0],name = 'SKODA')\n",
    "sabaru = go.Line(x = df_time[df_time['brand'] == 'SABARU'].time_strptime,y = df_time[df_time['brand']=='SABARU'][0],name = 'SABARU')\n",
    "suzuki = go.Line(x = df_time[df_time['brand'] == 'SUZUKI'].time_strptime,y = df_time[df_time['brand']=='SUZUKI'][0],name = 'SUZUKI')\n",
    "tesla = go.Line(x = df_time[df_time['brand'] == 'TESLA'].time_strptime,y = df_time[df_time['brand']=='TESLA'][0],name = 'TESLA')\n",
    "volvo = go.Line(x = df_time[df_time['brand'] == 'VOLVO'].time_strptime,y = df_time[df_time['brand']=='VOLVO'][0],name = 'VOLVO')\n",
    "vw = go.Line(x = df_time[df_time['brand'] == 'VW'].time_strptime,y = df_time[df_time['brand']=='VW'][0],name = 'VW')\n",
    "data = [audi,bmw,toyota,nissan,benz,honda,hyundai,jaguar,mazada,mitsubishi,porsche,skoda,sabaru,suzuki,tesla,volvo,vw]\n",
    "layout = go.Layout(width = 1000, height = 600,barmode = \"group\")  \n",
    "fig = go.Figure(data = data, layout = layout)\n",
    "iplot(fig)"
   ]
  },
  {
   "cell_type": "code",
   "execution_count": 128,
   "id": "d2f53863",
   "metadata": {},
   "outputs": [],
   "source": [
    "brand_year_df_2012 = brand_year_df[brand_year_df['year'] == 2012].iloc[:,[1,2,3]]\n",
    "brand_year_df_2013 = brand_year_df[brand_year_df['year'] == 2013].iloc[:,[1,2,3]]\n",
    "brand_year_df_2014 = brand_year_df[brand_year_df['year'] == 2014].iloc[:,[1,2,3]]\n",
    "brand_year_df_2015 = brand_year_df[brand_year_df['year'] == 2015].iloc[:,[1,2,3]]\n",
    "brand_year_df_2016 = brand_year_df[brand_year_df['year'] == 2016].iloc[:,[1,2,3]]\n",
    "brand_year_df_2017 = brand_year_df[brand_year_df['year'] == 2017].iloc[:,[1,2,3]]\n",
    "brand_year_df_2018 = brand_year_df[brand_year_df['year'] == 2018].iloc[:,[1,2,3]]\n",
    "brand_year_df_2019 = brand_year_df[brand_year_df['year'] == 2019].iloc[:,[1,2,3]]\n",
    "brand_year_df_2020 = brand_year_df[brand_year_df['year'] == 2020].iloc[:,[1,2,3]]\n",
    "brand_year_df_2021 = brand_year_df[brand_year_df['year'] == 2021].iloc[:,[1,2,3]]\n",
    "brand_year_df_2022 = brand_year_df[brand_year_df['year'] == 2022].iloc[:,[1,2,3]]"
   ]
  },
  {
   "cell_type": "code",
   "execution_count": 129,
   "id": "a5ba5297",
   "metadata": {},
   "outputs": [],
   "source": [
    "brand_year_df_2012['pro'] = brand_year_df_2012[1].apply(lambda x:x/sum(brand_year_df_2012[1]))\n",
    "brand_year_df_2013['pro'] = brand_year_df_2013[1].apply(lambda x:x/sum(brand_year_df_2013[1]))\n",
    "brand_year_df_2014['pro'] = brand_year_df_2014[1].apply(lambda x:x/sum(brand_year_df_2014[1]))\n",
    "brand_year_df_2015['pro'] = brand_year_df_2015[1].apply(lambda x:x/sum(brand_year_df_2015[1]))\n",
    "#brand_year_df_2016['pro'] = brand_year_df_2016[1].apply(lambda x:x/sum(brand_year_df_2016[1]))\n",
    "brand_year_df_2017['pro'] = brand_year_df_2017[1].apply(lambda x:x/sum(brand_year_df_2017[1]))\n",
    "brand_year_df_2018['pro'] = brand_year_df_2018[1].apply(lambda x:x/sum(brand_year_df_2018[1]))\n",
    "brand_year_df_2019['pro'] = brand_year_df_2019[1].apply(lambda x:x/sum(brand_year_df_2019[1]))\n",
    "brand_year_df_2020['pro'] = brand_year_df_2020[1].apply(lambda x:x/sum(brand_year_df_2020[1]))\n",
    "brand_year_df_2021['pro'] = brand_year_df_2021[1].apply(lambda x:x/sum(brand_year_df_2021[1]))\n",
    "brand_year_df_2022['pro'] = brand_year_df_2022[1].apply(lambda x:x/sum(brand_year_df_2022[1]))"
   ]
  },
  {
   "cell_type": "code",
   "execution_count": 130,
   "id": "8099b776",
   "metadata": {},
   "outputs": [
    {
     "data": {
      "text/html": [
       "<div>\n",
       "<style scoped>\n",
       "    .dataframe tbody tr th:only-of-type {\n",
       "        vertical-align: middle;\n",
       "    }\n",
       "\n",
       "    .dataframe tbody tr th {\n",
       "        vertical-align: top;\n",
       "    }\n",
       "\n",
       "    .dataframe thead th {\n",
       "        text-align: right;\n",
       "    }\n",
       "</style>\n",
       "<table border=\"1\" class=\"dataframe\">\n",
       "  <thead>\n",
       "    <tr style=\"text-align: right;\">\n",
       "      <th></th>\n",
       "      <th>1</th>\n",
       "      <th>brand</th>\n",
       "      <th>year</th>\n",
       "      <th>pro</th>\n",
       "    </tr>\n",
       "  </thead>\n",
       "  <tbody>\n",
       "    <tr>\n",
       "      <th>7</th>\n",
       "      <td>4</td>\n",
       "      <td>ABARTH</td>\n",
       "      <td>2012</td>\n",
       "      <td>0.000013</td>\n",
       "    </tr>\n",
       "    <tr>\n",
       "      <th>25</th>\n",
       "      <td>2</td>\n",
       "      <td>ALFA</td>\n",
       "      <td>2012</td>\n",
       "      <td>0.000007</td>\n",
       "    </tr>\n",
       "    <tr>\n",
       "      <th>36</th>\n",
       "      <td>2</td>\n",
       "      <td>ALPINA</td>\n",
       "      <td>2012</td>\n",
       "      <td>0.000007</td>\n",
       "    </tr>\n",
       "    <tr>\n",
       "      <th>48</th>\n",
       "      <td>34</td>\n",
       "      <td>ASTON MARTIN</td>\n",
       "      <td>2012</td>\n",
       "      <td>0.000112</td>\n",
       "    </tr>\n",
       "    <tr>\n",
       "      <th>60</th>\n",
       "      <td>3387</td>\n",
       "      <td>AUDI</td>\n",
       "      <td>2012</td>\n",
       "      <td>0.011135</td>\n",
       "    </tr>\n",
       "    <tr>\n",
       "      <th>...</th>\n",
       "      <td>...</td>\n",
       "      <td>...</td>\n",
       "      <td>...</td>\n",
       "      <td>...</td>\n",
       "    </tr>\n",
       "    <tr>\n",
       "      <th>584</th>\n",
       "      <td>148</td>\n",
       "      <td>TESLA</td>\n",
       "      <td>2022</td>\n",
       "      <td>0.003540</td>\n",
       "    </tr>\n",
       "    <tr>\n",
       "      <th>598</th>\n",
       "      <td>15859</td>\n",
       "      <td>TOYOTA</td>\n",
       "      <td>2022</td>\n",
       "      <td>0.379357</td>\n",
       "    </tr>\n",
       "    <tr>\n",
       "      <th>610</th>\n",
       "      <td>564</td>\n",
       "      <td>VOLVO</td>\n",
       "      <td>2022</td>\n",
       "      <td>0.013491</td>\n",
       "    </tr>\n",
       "    <tr>\n",
       "      <th>622</th>\n",
       "      <td>1261</td>\n",
       "      <td>VW</td>\n",
       "      <td>2022</td>\n",
       "      <td>0.030164</td>\n",
       "    </tr>\n",
       "    <tr>\n",
       "      <th>638</th>\n",
       "      <td>127</td>\n",
       "      <td>東風小康</td>\n",
       "      <td>2022</td>\n",
       "      <td>0.003038</td>\n",
       "    </tr>\n",
       "  </tbody>\n",
       "</table>\n",
       "<p>539 rows × 4 columns</p>\n",
       "</div>"
      ],
      "text/plain": [
       "         1         brand  year       pro\n",
       "7        4        ABARTH  2012  0.000013\n",
       "25       2          ALFA  2012  0.000007\n",
       "36       2        ALPINA  2012  0.000007\n",
       "48      34  ASTON MARTIN  2012  0.000112\n",
       "60    3387          AUDI  2012  0.011135\n",
       "..     ...           ...   ...       ...\n",
       "584    148         TESLA  2022  0.003540\n",
       "598  15859        TOYOTA  2022  0.379357\n",
       "610    564         VOLVO  2022  0.013491\n",
       "622   1261            VW  2022  0.030164\n",
       "638    127          東風小康  2022  0.003038\n",
       "\n",
       "[539 rows x 4 columns]"
      ]
     },
     "execution_count": 130,
     "metadata": {},
     "output_type": "execute_result"
    }
   ],
   "source": [
    "pro = pd.concat([brand_year_df_2012,brand_year_df_2013,brand_year_df_2014,brand_year_df_2015,brand_year_df_2017,brand_year_df_2018\n",
    "      ,brand_year_df_2019,brand_year_df_2020,brand_year_df_2021,brand_year_df_2022])\n",
    "pro"
   ]
  },
  {
   "cell_type": "code",
   "execution_count": 131,
   "id": "e58defff",
   "metadata": {},
   "outputs": [
    {
     "data": {
      "text/html": [
       "<div>\n",
       "<style scoped>\n",
       "    .dataframe tbody tr th:only-of-type {\n",
       "        vertical-align: middle;\n",
       "    }\n",
       "\n",
       "    .dataframe tbody tr th {\n",
       "        vertical-align: top;\n",
       "    }\n",
       "\n",
       "    .dataframe thead th {\n",
       "        text-align: right;\n",
       "    }\n",
       "</style>\n",
       "<table border=\"1\" class=\"dataframe\">\n",
       "  <thead>\n",
       "    <tr style=\"text-align: right;\">\n",
       "      <th></th>\n",
       "      <th>1</th>\n",
       "      <th>brand</th>\n",
       "      <th>year</th>\n",
       "      <th>pro</th>\n",
       "    </tr>\n",
       "  </thead>\n",
       "  <tbody>\n",
       "    <tr>\n",
       "      <th>215</th>\n",
       "      <td>15963</td>\n",
       "      <td>FORD</td>\n",
       "      <td>2012</td>\n",
       "      <td>0.052481</td>\n",
       "    </tr>\n",
       "    <tr>\n",
       "      <th>233</th>\n",
       "      <td>15711</td>\n",
       "      <td>HONDA</td>\n",
       "      <td>2012</td>\n",
       "      <td>0.051652</td>\n",
       "    </tr>\n",
       "    <tr>\n",
       "      <th>428</th>\n",
       "      <td>41796</td>\n",
       "      <td>MITSUBISHI</td>\n",
       "      <td>2012</td>\n",
       "      <td>0.137410</td>\n",
       "    </tr>\n",
       "    <tr>\n",
       "      <th>451</th>\n",
       "      <td>37122</td>\n",
       "      <td>NISSAN</td>\n",
       "      <td>2012</td>\n",
       "      <td>0.122044</td>\n",
       "    </tr>\n",
       "    <tr>\n",
       "      <th>599</th>\n",
       "      <td>107774</td>\n",
       "      <td>TOYOTA</td>\n",
       "      <td>2012</td>\n",
       "      <td>0.354323</td>\n",
       "    </tr>\n",
       "    <tr>\n",
       "      <th>...</th>\n",
       "      <td>...</td>\n",
       "      <td>...</td>\n",
       "      <td>...</td>\n",
       "      <td>...</td>\n",
       "    </tr>\n",
       "    <tr>\n",
       "      <th>214</th>\n",
       "      <td>2199</td>\n",
       "      <td>FORD</td>\n",
       "      <td>2022</td>\n",
       "      <td>0.052601</td>\n",
       "    </tr>\n",
       "    <tr>\n",
       "      <th>232</th>\n",
       "      <td>2935</td>\n",
       "      <td>HONDA</td>\n",
       "      <td>2022</td>\n",
       "      <td>0.070207</td>\n",
       "    </tr>\n",
       "    <tr>\n",
       "      <th>427</th>\n",
       "      <td>4075</td>\n",
       "      <td>MITSUBISHI</td>\n",
       "      <td>2022</td>\n",
       "      <td>0.097476</td>\n",
       "    </tr>\n",
       "    <tr>\n",
       "      <th>450</th>\n",
       "      <td>3408</td>\n",
       "      <td>NISSAN</td>\n",
       "      <td>2022</td>\n",
       "      <td>0.081521</td>\n",
       "    </tr>\n",
       "    <tr>\n",
       "      <th>598</th>\n",
       "      <td>15859</td>\n",
       "      <td>TOYOTA</td>\n",
       "      <td>2022</td>\n",
       "      <td>0.379357</td>\n",
       "    </tr>\n",
       "  </tbody>\n",
       "</table>\n",
       "<p>62 rows × 4 columns</p>\n",
       "</div>"
      ],
      "text/plain": [
       "          1       brand  year       pro\n",
       "215   15963        FORD  2012  0.052481\n",
       "233   15711       HONDA  2012  0.051652\n",
       "428   41796  MITSUBISHI  2012  0.137410\n",
       "451   37122      NISSAN  2012  0.122044\n",
       "599  107774      TOYOTA  2012  0.354323\n",
       "..      ...         ...   ...       ...\n",
       "214    2199        FORD  2022  0.052601\n",
       "232    2935       HONDA  2022  0.070207\n",
       "427    4075  MITSUBISHI  2022  0.097476\n",
       "450    3408      NISSAN  2022  0.081521\n",
       "598   15859      TOYOTA  2022  0.379357\n",
       "\n",
       "[62 rows x 4 columns]"
      ]
     },
     "execution_count": 131,
     "metadata": {},
     "output_type": "execute_result"
    }
   ],
   "source": [
    "pro_1 = pro[pro['pro'] > 0.045]\n",
    "pro_1"
   ]
  },
  {
   "cell_type": "code",
   "execution_count": 134,
   "id": "385bfbd4",
   "metadata": {},
   "outputs": [
    {
     "data": {
      "text/plain": [
       "<pandas.core.groupby.generic.DataFrameGroupBy object at 0x7f9a8bcfe490>"
      ]
     },
     "execution_count": 134,
     "metadata": {},
     "output_type": "execute_result"
    }
   ],
   "source": [
    "brand_year_df_2016.groupby(\"brand\")"
   ]
  },
  {
   "cell_type": "code",
   "execution_count": 137,
   "id": "1fcaba56",
   "metadata": {
    "collapsed": true
   },
   "outputs": [
    {
     "data": {
      "text/plain": [
       "[[1],\n",
       " [1],\n",
       " [4, 16],\n",
       " [1, 7],\n",
       " [9, 30],\n",
       " [996, 2887],\n",
       " [30, 78],\n",
       " [5390, 16028],\n",
       " [4447, 11210],\n",
       " [1],\n",
       " [3, 4],\n",
       " [3, 3],\n",
       " [2, 3],\n",
       " [1],\n",
       " [9, 15],\n",
       " [11, 37],\n",
       " [218],\n",
       " [4],\n",
       " [12, 62],\n",
       " [6, 19],\n",
       " [5040, 11111],\n",
       " [7128, 15044],\n",
       " [1, 2],\n",
       " [3108, 7693],\n",
       " [306, 776],\n",
       " [46, 131],\n",
       " [56, 168],\n",
       " [797, 1569],\n",
       " [11, 40],\n",
       " [98, 291],\n",
       " [1],\n",
       " [1, 8],\n",
       " [3535, 9263],\n",
       " [10, 4],\n",
       " [96, 215],\n",
       " [6148, 13164],\n",
       " [9, 29],\n",
       " [474, 1012],\n",
       " [10408, 27849],\n",
       " [1],\n",
       " [1, 3],\n",
       " [9887, 26667],\n",
       " [1],\n",
       " [1],\n",
       " [316, 509],\n",
       " [876, 2012],\n",
       " [1],\n",
       " [9, 17],\n",
       " [1],\n",
       " [1, 1],\n",
       " [2, 5],\n",
       " [906, 2547],\n",
       " [25, 91],\n",
       " [1675, 4415],\n",
       " [1827, 3340],\n",
       " [2, 4],\n",
       " [35598, 80594],\n",
       " [1150, 2347],\n",
       " [2854, 5514],\n",
       " [87, 184],\n",
       " [5, 54]]"
      ]
     },
     "execution_count": 137,
     "metadata": {},
     "output_type": "execute_result"
    }
   ],
   "source": [
    "num = []\n",
    "for x in brand_year_df_2016['brand'].unique():\n",
    "    num_1 = []\n",
    "    for y in range(0,len(brand_year_df_2016)):\n",
    "        if brand_year_df_2016.iloc[y,1] == x:\n",
    "            num_1.append(brand_year_df_2016.iloc[y,0])\n",
    "    num.append(num_1)\n",
    "num"
   ]
  },
  {
   "cell_type": "code",
   "execution_count": 144,
   "id": "0c59a82b",
   "metadata": {},
   "outputs": [
    {
     "data": {
      "text/html": [
       "<div>\n",
       "<style scoped>\n",
       "    .dataframe tbody tr th:only-of-type {\n",
       "        vertical-align: middle;\n",
       "    }\n",
       "\n",
       "    .dataframe tbody tr th {\n",
       "        vertical-align: top;\n",
       "    }\n",
       "\n",
       "    .dataframe thead th {\n",
       "        text-align: right;\n",
       "    }\n",
       "</style>\n",
       "<table border=\"1\" class=\"dataframe\">\n",
       "  <thead>\n",
       "    <tr style=\"text-align: right;\">\n",
       "      <th></th>\n",
       "      <th>0</th>\n",
       "      <th>1</th>\n",
       "      <th>pro</th>\n",
       "      <th>year</th>\n",
       "    </tr>\n",
       "  </thead>\n",
       "  <tbody>\n",
       "    <tr>\n",
       "      <th>0</th>\n",
       "      <td>ABARTH</td>\n",
       "      <td>1</td>\n",
       "      <td>0.000003</td>\n",
       "      <td>2016</td>\n",
       "    </tr>\n",
       "    <tr>\n",
       "      <th>1</th>\n",
       "      <td>ACURA</td>\n",
       "      <td>1</td>\n",
       "      <td>0.000003</td>\n",
       "      <td>2016</td>\n",
       "    </tr>\n",
       "    <tr>\n",
       "      <th>2</th>\n",
       "      <td>ALFA</td>\n",
       "      <td>20</td>\n",
       "      <td>0.000057</td>\n",
       "      <td>2016</td>\n",
       "    </tr>\n",
       "    <tr>\n",
       "      <th>3</th>\n",
       "      <td>ALPINA</td>\n",
       "      <td>8</td>\n",
       "      <td>0.000023</td>\n",
       "      <td>2016</td>\n",
       "    </tr>\n",
       "    <tr>\n",
       "      <th>4</th>\n",
       "      <td>ASTON MARTIN</td>\n",
       "      <td>39</td>\n",
       "      <td>0.000111</td>\n",
       "      <td>2016</td>\n",
       "    </tr>\n",
       "    <tr>\n",
       "      <th>...</th>\n",
       "      <td>...</td>\n",
       "      <td>...</td>\n",
       "      <td>...</td>\n",
       "      <td>...</td>\n",
       "    </tr>\n",
       "    <tr>\n",
       "      <th>56</th>\n",
       "      <td>TOYOTA</td>\n",
       "      <td>116192</td>\n",
       "      <td>0.331296</td>\n",
       "      <td>2016</td>\n",
       "    </tr>\n",
       "    <tr>\n",
       "      <th>57</th>\n",
       "      <td>VOLVO</td>\n",
       "      <td>3497</td>\n",
       "      <td>0.009971</td>\n",
       "      <td>2016</td>\n",
       "    </tr>\n",
       "    <tr>\n",
       "      <th>58</th>\n",
       "      <td>VW</td>\n",
       "      <td>8368</td>\n",
       "      <td>0.023859</td>\n",
       "      <td>2016</td>\n",
       "    </tr>\n",
       "    <tr>\n",
       "      <th>59</th>\n",
       "      <td>東風小康</td>\n",
       "      <td>271</td>\n",
       "      <td>0.000773</td>\n",
       "      <td>2016</td>\n",
       "    </tr>\n",
       "    <tr>\n",
       "      <th>60</th>\n",
       "      <td>福田</td>\n",
       "      <td>59</td>\n",
       "      <td>0.000168</td>\n",
       "      <td>2016</td>\n",
       "    </tr>\n",
       "  </tbody>\n",
       "</table>\n",
       "<p>61 rows × 4 columns</p>\n",
       "</div>"
      ],
      "text/plain": [
       "               0       1       pro  year\n",
       "0         ABARTH       1  0.000003  2016\n",
       "1          ACURA       1  0.000003  2016\n",
       "2           ALFA      20  0.000057  2016\n",
       "3         ALPINA       8  0.000023  2016\n",
       "4   ASTON MARTIN      39  0.000111  2016\n",
       "..           ...     ...       ...   ...\n",
       "56        TOYOTA  116192  0.331296  2016\n",
       "57         VOLVO    3497  0.009971  2016\n",
       "58            VW    8368  0.023859  2016\n",
       "59          東風小康     271  0.000773  2016\n",
       "60            福田      59  0.000168  2016\n",
       "\n",
       "[61 rows x 4 columns]"
      ]
     },
     "execution_count": 144,
     "metadata": {},
     "output_type": "execute_result"
    }
   ],
   "source": [
    "num_2 = []\n",
    "year = []\n",
    "for x in num:\n",
    "    num_2.append(sum(x))\n",
    "year_2016 = pd.DataFrame([brand_year_df_2016['brand'].unique(),num_2]).T\n",
    "year_2016['pro'] = year_2016[1].apply(lambda x:x/year_2016[1].sum())\n",
    "for x in range(61):\n",
    "    year.append(\"2016\")\n",
    "year_2016['year'] = year\n",
    "year_2016"
   ]
  },
  {
   "cell_type": "code",
   "execution_count": 139,
   "id": "770e72a5",
   "metadata": {
    "scrolled": false
   },
   "outputs": [
    {
     "data": {
      "text/html": [
       "<div>\n",
       "<style scoped>\n",
       "    .dataframe tbody tr th:only-of-type {\n",
       "        vertical-align: middle;\n",
       "    }\n",
       "\n",
       "    .dataframe tbody tr th {\n",
       "        vertical-align: top;\n",
       "    }\n",
       "\n",
       "    .dataframe thead th {\n",
       "        text-align: right;\n",
       "    }\n",
       "</style>\n",
       "<table border=\"1\" class=\"dataframe\">\n",
       "  <thead>\n",
       "    <tr style=\"text-align: right;\">\n",
       "      <th></th>\n",
       "      <th>1</th>\n",
       "      <th>brand</th>\n",
       "      <th>year</th>\n",
       "      <th>pro</th>\n",
       "    </tr>\n",
       "  </thead>\n",
       "  <tbody>\n",
       "    <tr>\n",
       "      <th>215</th>\n",
       "      <td>15963</td>\n",
       "      <td>FORD</td>\n",
       "      <td>2012</td>\n",
       "      <td>0.052481</td>\n",
       "    </tr>\n",
       "    <tr>\n",
       "      <th>233</th>\n",
       "      <td>15711</td>\n",
       "      <td>HONDA</td>\n",
       "      <td>2012</td>\n",
       "      <td>0.051652</td>\n",
       "    </tr>\n",
       "    <tr>\n",
       "      <th>428</th>\n",
       "      <td>41796</td>\n",
       "      <td>MITSUBISHI</td>\n",
       "      <td>2012</td>\n",
       "      <td>0.137410</td>\n",
       "    </tr>\n",
       "    <tr>\n",
       "      <th>451</th>\n",
       "      <td>37122</td>\n",
       "      <td>NISSAN</td>\n",
       "      <td>2012</td>\n",
       "      <td>0.122044</td>\n",
       "    </tr>\n",
       "    <tr>\n",
       "      <th>599</th>\n",
       "      <td>107774</td>\n",
       "      <td>TOYOTA</td>\n",
       "      <td>2012</td>\n",
       "      <td>0.354323</td>\n",
       "    </tr>\n",
       "    <tr>\n",
       "      <th>...</th>\n",
       "      <td>...</td>\n",
       "      <td>...</td>\n",
       "      <td>...</td>\n",
       "      <td>...</td>\n",
       "    </tr>\n",
       "    <tr>\n",
       "      <th>214</th>\n",
       "      <td>2199</td>\n",
       "      <td>FORD</td>\n",
       "      <td>2022</td>\n",
       "      <td>0.052601</td>\n",
       "    </tr>\n",
       "    <tr>\n",
       "      <th>232</th>\n",
       "      <td>2935</td>\n",
       "      <td>HONDA</td>\n",
       "      <td>2022</td>\n",
       "      <td>0.070207</td>\n",
       "    </tr>\n",
       "    <tr>\n",
       "      <th>427</th>\n",
       "      <td>4075</td>\n",
       "      <td>MITSUBISHI</td>\n",
       "      <td>2022</td>\n",
       "      <td>0.097476</td>\n",
       "    </tr>\n",
       "    <tr>\n",
       "      <th>450</th>\n",
       "      <td>3408</td>\n",
       "      <td>NISSAN</td>\n",
       "      <td>2022</td>\n",
       "      <td>0.081521</td>\n",
       "    </tr>\n",
       "    <tr>\n",
       "      <th>598</th>\n",
       "      <td>15859</td>\n",
       "      <td>TOYOTA</td>\n",
       "      <td>2022</td>\n",
       "      <td>0.379357</td>\n",
       "    </tr>\n",
       "  </tbody>\n",
       "</table>\n",
       "<p>62 rows × 4 columns</p>\n",
       "</div>"
      ],
      "text/plain": [
       "          1       brand  year       pro\n",
       "215   15963        FORD  2012  0.052481\n",
       "233   15711       HONDA  2012  0.051652\n",
       "428   41796  MITSUBISHI  2012  0.137410\n",
       "451   37122      NISSAN  2012  0.122044\n",
       "599  107774      TOYOTA  2012  0.354323\n",
       "..      ...         ...   ...       ...\n",
       "214    2199        FORD  2022  0.052601\n",
       "232    2935       HONDA  2022  0.070207\n",
       "427    4075  MITSUBISHI  2022  0.097476\n",
       "450    3408      NISSAN  2022  0.081521\n",
       "598   15859      TOYOTA  2022  0.379357\n",
       "\n",
       "[62 rows x 4 columns]"
      ]
     },
     "execution_count": 139,
     "metadata": {},
     "output_type": "execute_result"
    }
   ],
   "source": [
    "pro_1"
   ]
  },
  {
   "cell_type": "code",
   "execution_count": 145,
   "id": "c07b5a6d",
   "metadata": {},
   "outputs": [],
   "source": [
    "year_2016.columns = ['brand',1,'pro','year']"
   ]
  },
  {
   "cell_type": "code",
   "execution_count": 148,
   "id": "689fa5da",
   "metadata": {},
   "outputs": [],
   "source": [
    "pro_final = pd.concat([pro_1,year_2016])"
   ]
  },
  {
   "cell_type": "code",
   "execution_count": 158,
   "id": "48ec9cf9",
   "metadata": {},
   "outputs": [
    {
     "data": {
      "text/html": [
       "<div>\n",
       "<style scoped>\n",
       "    .dataframe tbody tr th:only-of-type {\n",
       "        vertical-align: middle;\n",
       "    }\n",
       "\n",
       "    .dataframe tbody tr th {\n",
       "        vertical-align: top;\n",
       "    }\n",
       "\n",
       "    .dataframe thead th {\n",
       "        text-align: right;\n",
       "    }\n",
       "</style>\n",
       "<table border=\"1\" class=\"dataframe\">\n",
       "  <thead>\n",
       "    <tr style=\"text-align: right;\">\n",
       "      <th></th>\n",
       "      <th>1</th>\n",
       "      <th>brand</th>\n",
       "      <th>year</th>\n",
       "      <th>pro</th>\n",
       "      <th>year_strptime</th>\n",
       "    </tr>\n",
       "  </thead>\n",
       "  <tbody>\n",
       "    <tr>\n",
       "      <th>215</th>\n",
       "      <td>15963</td>\n",
       "      <td>FORD</td>\n",
       "      <td>2012</td>\n",
       "      <td>0.052481</td>\n",
       "      <td>2012-01-01</td>\n",
       "    </tr>\n",
       "    <tr>\n",
       "      <th>233</th>\n",
       "      <td>15711</td>\n",
       "      <td>HONDA</td>\n",
       "      <td>2012</td>\n",
       "      <td>0.051652</td>\n",
       "      <td>2012-01-01</td>\n",
       "    </tr>\n",
       "    <tr>\n",
       "      <th>428</th>\n",
       "      <td>41796</td>\n",
       "      <td>MITSUBISHI</td>\n",
       "      <td>2012</td>\n",
       "      <td>0.137410</td>\n",
       "      <td>2012-01-01</td>\n",
       "    </tr>\n",
       "    <tr>\n",
       "      <th>451</th>\n",
       "      <td>37122</td>\n",
       "      <td>NISSAN</td>\n",
       "      <td>2012</td>\n",
       "      <td>0.122044</td>\n",
       "      <td>2012-01-01</td>\n",
       "    </tr>\n",
       "    <tr>\n",
       "      <th>599</th>\n",
       "      <td>107774</td>\n",
       "      <td>TOYOTA</td>\n",
       "      <td>2012</td>\n",
       "      <td>0.354323</td>\n",
       "      <td>2012-01-01</td>\n",
       "    </tr>\n",
       "    <tr>\n",
       "      <th>...</th>\n",
       "      <td>...</td>\n",
       "      <td>...</td>\n",
       "      <td>...</td>\n",
       "      <td>...</td>\n",
       "      <td>...</td>\n",
       "    </tr>\n",
       "    <tr>\n",
       "      <th>56</th>\n",
       "      <td>116192</td>\n",
       "      <td>TOYOTA</td>\n",
       "      <td>2016</td>\n",
       "      <td>0.331296</td>\n",
       "      <td>2016-01-01</td>\n",
       "    </tr>\n",
       "    <tr>\n",
       "      <th>57</th>\n",
       "      <td>3497</td>\n",
       "      <td>VOLVO</td>\n",
       "      <td>2016</td>\n",
       "      <td>0.009971</td>\n",
       "      <td>2016-01-01</td>\n",
       "    </tr>\n",
       "    <tr>\n",
       "      <th>58</th>\n",
       "      <td>8368</td>\n",
       "      <td>VW</td>\n",
       "      <td>2016</td>\n",
       "      <td>0.023859</td>\n",
       "      <td>2016-01-01</td>\n",
       "    </tr>\n",
       "    <tr>\n",
       "      <th>59</th>\n",
       "      <td>271</td>\n",
       "      <td>東風小康</td>\n",
       "      <td>2016</td>\n",
       "      <td>0.000773</td>\n",
       "      <td>2016-01-01</td>\n",
       "    </tr>\n",
       "    <tr>\n",
       "      <th>60</th>\n",
       "      <td>59</td>\n",
       "      <td>福田</td>\n",
       "      <td>2016</td>\n",
       "      <td>0.000168</td>\n",
       "      <td>2016-01-01</td>\n",
       "    </tr>\n",
       "  </tbody>\n",
       "</table>\n",
       "<p>123 rows × 5 columns</p>\n",
       "</div>"
      ],
      "text/plain": [
       "          1       brand  year       pro year_strptime\n",
       "215   15963        FORD  2012  0.052481    2012-01-01\n",
       "233   15711       HONDA  2012  0.051652    2012-01-01\n",
       "428   41796  MITSUBISHI  2012  0.137410    2012-01-01\n",
       "451   37122      NISSAN  2012  0.122044    2012-01-01\n",
       "599  107774      TOYOTA  2012  0.354323    2012-01-01\n",
       "..      ...         ...   ...       ...           ...\n",
       "56   116192      TOYOTA  2016  0.331296    2016-01-01\n",
       "57     3497       VOLVO  2016  0.009971    2016-01-01\n",
       "58     8368          VW  2016  0.023859    2016-01-01\n",
       "59      271        東風小康  2016  0.000773    2016-01-01\n",
       "60       59          福田  2016  0.000168    2016-01-01\n",
       "\n",
       "[123 rows x 5 columns]"
      ]
     },
     "execution_count": 158,
     "metadata": {},
     "output_type": "execute_result"
    }
   ],
   "source": [
    "pro_final['year_strptime'] = pro_final['year'].apply(lambda x:datetime.strptime(str(x),\"%Y\"))\n",
    "pro_final"
   ]
  },
  {
   "cell_type": "code",
   "execution_count": 160,
   "id": "9ed8ad64",
   "metadata": {},
   "outputs": [],
   "source": [
    "pro_final = pro_final.sort_values(\"year_strptime\")"
   ]
  },
  {
   "cell_type": "code",
   "execution_count": 182,
   "id": "f44e7f45",
   "metadata": {},
   "outputs": [
    {
     "data": {
      "text/plain": [
       "<matplotlib.legend.Legend at 0x7f98885c5c40>"
      ]
     },
     "execution_count": 182,
     "metadata": {},
     "output_type": "execute_result"
    },
    {
     "data": {
      "image/png": "[encoded data removed]",
      "text/plain": [
       "<Figure size 1440x432 with 1 Axes>"
      ]
     },
     "metadata": {
      "needs_background": "light"
     },
     "output_type": "display_data"
    }
   ],
   "source": [
    "pro_final_field = pro_final[pro_final['pro'] > 0.04]\n",
    "plt.figure(figsize=(20,6))\n",
    "sns.barplot(x = pro_final_field['year'], y = pro_final_field['pro'],hue = pro_final_field['brand'])\n",
    "plt.xticks(rotation = 45)\n",
    "plt.legend(bbox_to_anchor=(1.05, 1))"
   ]
  },
  {
   "cell_type": "code",
   "execution_count": null,
   "id": "8e6be8b7",
   "metadata": {},
   "outputs": [],
   "source": []
  }
 ],
 "metadata": {
  "kernelspec": {
   "display_name": "Python 3 (ipykernel)",
   "language": "python",
   "name": "python3"
  },
  "language_info": {
   "codemirror_mode": {
    "name": "ipython",
    "version": 3
   },
   "file_extension": ".py",
   "mimetype": "text/x-python",
   "name": "python",
   "nbconvert_exporter": "python",
   "pygments_lexer": "ipython3",
   "version": "3.9.7"
  }
 },
 "nbformat": 4,
 "nbformat_minor": 5
}
