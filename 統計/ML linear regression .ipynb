{
 "cells": [
  {
   "cell_type": "code",
   "execution_count": 1,
   "metadata": {},
   "outputs": [
    {
     "data": {
      "text/plain": [
       "array([0.00000000e+00, 1.03061015e-03, 8.24488122e-03, 2.78264741e-02,\n",
       "       6.59590497e-02, 1.28826269e-01, 2.22611793e-01, 3.53499282e-01,\n",
       "       5.27672398e-01, 7.51314801e-01, 1.03061015e+00, 1.37174211e+00,\n",
       "       1.78089434e+00, 2.26425050e+00, 2.82799426e+00, 3.47830926e+00,\n",
       "       4.22137918e+00, 5.06338768e+00, 6.01051841e+00, 7.06895503e+00,\n",
       "       8.24488122e+00, 9.54448062e+00, 1.09739369e+01, 1.25394337e+01,\n",
       "       1.42471547e+01, 1.61032836e+01, 1.81140040e+01, 2.02854996e+01,\n",
       "       2.26239541e+01, 2.51355510e+01, 2.78264741e+01, 3.07029070e+01,\n",
       "       3.37710335e+01, 3.70370370e+01, 4.05071014e+01, 4.41874103e+01,\n",
       "       4.80841473e+01, 5.22034960e+01, 5.65516403e+01, 6.11347636e+01,\n",
       "       6.59590497e+01, 7.10306823e+01, 7.63558450e+01, 8.19407214e+01,\n",
       "       8.77914952e+01, 9.39143501e+01, 1.00315470e+02, 1.07001038e+02,\n",
       "       1.13977238e+02, 1.21250254e+02, 1.28826269e+02, 1.36711467e+02,\n",
       "       1.44912032e+02, 1.53434148e+02, 1.62283997e+02, 1.71467764e+02,\n",
       "       1.80991632e+02, 1.90861786e+02, 2.01084408e+02, 2.11665682e+02,\n",
       "       2.22611793e+02, 2.33928923e+02, 2.45623256e+02, 2.57700977e+02,\n",
       "       2.70168268e+02, 2.83031313e+02, 2.96296296e+02, 3.09969401e+02,\n",
       "       3.24056811e+02, 3.38564710e+02, 3.53499282e+02, 3.68866710e+02,\n",
       "       3.84673178e+02, 4.00924870e+02, 4.17627968e+02, 4.34788658e+02,\n",
       "       4.52413122e+02, 4.70507545e+02, 4.89078109e+02, 5.08130999e+02,\n",
       "       5.27672398e+02, 5.47708490e+02, 5.68245458e+02, 5.89289487e+02,\n",
       "       6.10846760e+02, 6.32923460e+02, 6.55525771e+02, 6.78659877e+02,\n",
       "       7.02331962e+02, 7.26548208e+02, 7.51314801e+02, 7.76637923e+02,\n",
       "       8.02523758e+02, 8.28978490e+02, 8.56008303e+02, 8.83619379e+02,\n",
       "       9.11817904e+02, 9.40610059e+02, 9.70002030e+02, 1.00000000e+03])"
      ]
     },
     "execution_count": 1,
     "metadata": {},
     "output_type": "execute_result"
    }
   ],
   "source": [
    "import numpy as np\n",
    "a=np.linspace(0,10,100)\n",
    "b=a**3"
   ]
  },
  {
   "cell_type": "code",
   "execution_count": 11,
   "metadata": {},
   "outputs": [
    {
     "data": {
      "text/plain": [
       "[<matplotlib.lines.Line2D at 0x7fef14bde280>]"
      ]
     },
     "execution_count": 11,
     "metadata": {},
     "output_type": "execute_result"
    },
    {
     "data": {
      "image/png": "[encoded data removed]",
      "text/plain": [
       "<Figure size 432x288 with 1 Axes>"
      ]
     },
     "metadata": {
      "needs_background": "light"
     },
     "output_type": "display_data"
    }
   ],
   "source": [
    "import matplotlib.pyplot as plt\n",
    "plt.scatter(a,b)\n",
    "plt.plot(a,simplelinearregression)\n",
    "plt.plot(a,degree2)\n",
    "plt.plot(a,degree3)"
   ]
  },
  {
   "cell_type": "code",
   "execution_count": 4,
   "metadata": {},
   "outputs": [
    {
     "data": {
      "text/plain": [
       "array([-198.97969595, -189.85838386, -180.73707177, -171.61575968,\n",
       "       -162.49444759, -153.3731355 , -144.25182341, -135.13051132,\n",
       "       -126.00919923, -116.88788714, -107.76657505,  -98.64526296,\n",
       "        -89.52395086,  -80.40263877,  -71.28132668,  -62.16001459,\n",
       "        -53.0387025 ,  -43.91739041,  -34.79607832,  -25.67476623,\n",
       "        -16.55345414,   -7.43214205,    1.68917004,   10.81048213,\n",
       "         19.93179422,   29.05310631,   38.1744184 ,   47.29573049,\n",
       "         56.41704258,   65.53835467,   74.65966676,   83.78097885,\n",
       "         92.90229094,  102.02360303,  111.14491512,  120.26622721,\n",
       "        129.3875393 ,  138.5088514 ,  147.63016349,  156.75147558,\n",
       "        165.87278767,  174.99409976,  184.11541185,  193.23672394,\n",
       "        202.35803603,  211.47934812,  220.60066021,  229.7219723 ,\n",
       "        238.84328439,  247.96459648,  257.08590857,  266.20722066,\n",
       "        275.32853275,  284.44984484,  293.57115693,  302.69246902,\n",
       "        311.81378111,  320.9350932 ,  330.05640529,  339.17771738,\n",
       "        348.29902947,  357.42034156,  366.54165366,  375.66296575,\n",
       "        384.78427784,  393.90558993,  403.02690202,  412.14821411,\n",
       "        421.2695262 ,  430.39083829,  439.51215038,  448.63346247,\n",
       "        457.75477456,  466.87608665,  475.99739874,  485.11871083,\n",
       "        494.24002292,  503.36133501,  512.4826471 ,  521.60395919,\n",
       "        530.72527128,  539.84658337,  548.96789546,  558.08920755,\n",
       "        567.21051964,  576.33183173,  585.45314382,  594.57445592,\n",
       "        603.69576801,  612.8170801 ,  621.93839219,  631.05970428,\n",
       "        640.18101637,  649.30232846,  658.42364055,  667.54495264,\n",
       "        676.66626473,  685.78757682,  694.90888891,  704.030201  ])"
      ]
     },
     "execution_count": 4,
     "metadata": {},
     "output_type": "execute_result"
    }
   ],
   "source": [
    "from sklearn.linear_model import LinearRegression\n",
    "lm = LinearRegression()\n",
    "lm.fit(a.reshape(-1,1),b)\n",
    "simplelinearregression = lm.predict(a.reshape(-1,1))\n",
    "simplelinearregression"
   ]
  },
  {
   "cell_type": "code",
   "execution_count": 7,
   "metadata": {},
   "outputs": [
    {
     "data": {
      "text/plain": [
       "array([ 4.84950515e+01,  4.26178941e+01,  3.70468278e+01,  3.17818528e+01,\n",
       "        2.68229690e+01,  2.21701764e+01,  1.78234750e+01,  1.37828649e+01,\n",
       "        1.00483459e+01,  6.61991819e+00,  3.49758167e+00,  6.81336372e-01,\n",
       "       -1.82881771e+00, -4.03288059e+00, -5.93085224e+00, -7.52273268e+00,\n",
       "       -8.80852191e+00, -9.78821992e+00, -1.04618267e+01, -1.08293423e+01,\n",
       "       -1.08907667e+01, -1.06460998e+01, -1.00953417e+01, -9.23849246e+00,\n",
       "       -8.07555197e+00, -6.60652026e+00, -4.83139733e+00, -2.75018319e+00,\n",
       "       -3.62877835e-01,  2.33051874e+00,  5.33000652e+00,  8.63558553e+00,\n",
       "        1.22472557e+01,  1.61650172e+01,  2.03888698e+01,  2.49188137e+01,\n",
       "        2.97548488e+01,  3.48969751e+01,  4.03451926e+01,  4.60995013e+01,\n",
       "        5.21599012e+01,  5.85263924e+01,  6.51989747e+01,  7.21776483e+01,\n",
       "        7.94624131e+01,  8.70532691e+01,  9.49502164e+01,  1.03153255e+02,\n",
       "        1.11662384e+02,  1.20477605e+02,  1.29598917e+02,  1.39026321e+02,\n",
       "        1.48759815e+02,  1.58799401e+02,  1.69145078e+02,  1.79796846e+02,\n",
       "        1.90754706e+02,  2.02018656e+02,  2.13588698e+02,  2.25464831e+02,\n",
       "        2.37647055e+02,  2.50135371e+02,  2.62929777e+02,  2.76030275e+02,\n",
       "        2.89436864e+02,  3.03149545e+02,  3.17168316e+02,  3.31493179e+02,\n",
       "        3.46124133e+02,  3.61061178e+02,  3.76304314e+02,  3.91853542e+02,\n",
       "        4.07708861e+02,  4.23870271e+02,  4.40337772e+02,  4.57111365e+02,\n",
       "        4.74191048e+02,  4.91576823e+02,  5.09268689e+02,  5.27266647e+02,\n",
       "        5.45570695e+02,  5.64180835e+02,  5.83097066e+02,  6.02319388e+02,\n",
       "        6.21847802e+02,  6.41682306e+02,  6.61822902e+02,  6.82269589e+02,\n",
       "        7.03022367e+02,  7.24081237e+02,  7.45446198e+02,  7.67117249e+02,\n",
       "        7.89094393e+02,  8.11377627e+02,  8.33966952e+02,  8.56862369e+02,\n",
       "        8.80063877e+02,  9.03571476e+02,  9.27385167e+02,  9.51504948e+02])"
      ]
     },
     "execution_count": 7,
     "metadata": {},
     "output_type": "execute_result"
    }
   ],
   "source": [
    "from sklearn.preprocessing import PolynomialFeatures\n",
    "poly = PolynomialFeatures(degree = 2)\n",
    "poly2 = poly.fit_transform(a.reshape(-1,1))\n",
    "lm.fit(poly2,b)\n",
    "degree2 = lm.predict(poly2)\n",
    "degree2"
   ]
  },
  {
   "cell_type": "code",
   "execution_count": 10,
   "metadata": {},
   "outputs": [
    {
     "data": {
      "text/plain": [
       "array([-2.50111043e-12,  1.03061015e-03,  8.24488121e-03,  2.78264741e-02,\n",
       "        6.59590497e-02,  1.28826269e-01,  2.22611793e-01,  3.53499282e-01,\n",
       "        5.27672398e-01,  7.51314801e-01,  1.03061015e+00,  1.37174211e+00,\n",
       "        1.78089434e+00,  2.26425050e+00,  2.82799426e+00,  3.47830926e+00,\n",
       "        4.22137918e+00,  5.06338768e+00,  6.01051841e+00,  7.06895503e+00,\n",
       "        8.24488122e+00,  9.54448062e+00,  1.09739369e+01,  1.25394337e+01,\n",
       "        1.42471547e+01,  1.61032836e+01,  1.81140040e+01,  2.02854996e+01,\n",
       "        2.26239541e+01,  2.51355510e+01,  2.78264741e+01,  3.07029070e+01,\n",
       "        3.37710335e+01,  3.70370370e+01,  4.05071014e+01,  4.41874103e+01,\n",
       "        4.80841473e+01,  5.22034960e+01,  5.65516403e+01,  6.11347636e+01,\n",
       "        6.59590497e+01,  7.10306823e+01,  7.63558450e+01,  8.19407214e+01,\n",
       "        8.77914952e+01,  9.39143501e+01,  1.00315470e+02,  1.07001038e+02,\n",
       "        1.13977238e+02,  1.21250254e+02,  1.28826269e+02,  1.36711467e+02,\n",
       "        1.44912032e+02,  1.53434148e+02,  1.62283997e+02,  1.71467764e+02,\n",
       "        1.80991632e+02,  1.90861786e+02,  2.01084408e+02,  2.11665682e+02,\n",
       "        2.22611793e+02,  2.33928923e+02,  2.45623256e+02,  2.57700977e+02,\n",
       "        2.70168268e+02,  2.83031313e+02,  2.96296296e+02,  3.09969401e+02,\n",
       "        3.24056811e+02,  3.38564710e+02,  3.53499282e+02,  3.68866710e+02,\n",
       "        3.84673178e+02,  4.00924870e+02,  4.17627968e+02,  4.34788658e+02,\n",
       "        4.52413122e+02,  4.70507545e+02,  4.89078109e+02,  5.08130999e+02,\n",
       "        5.27672398e+02,  5.47708490e+02,  5.68245458e+02,  5.89289487e+02,\n",
       "        6.10846760e+02,  6.32923460e+02,  6.55525771e+02,  6.78659877e+02,\n",
       "        7.02331962e+02,  7.26548208e+02,  7.51314801e+02,  7.76637923e+02,\n",
       "        8.02523758e+02,  8.28978490e+02,  8.56008303e+02,  8.83619379e+02,\n",
       "        9.11817904e+02,  9.40610059e+02,  9.70002030e+02,  1.00000000e+03])"
      ]
     },
     "execution_count": 10,
     "metadata": {},
     "output_type": "execute_result"
    }
   ],
   "source": [
    "from sklearn.preprocessing import PolynomialFeatures\n",
    "poly = PolynomialFeatures(degree = 3)\n",
    "poly3 = poly.fit_transform(a.reshape(-1,1))\n",
    "lm.fit(poly3,b)\n",
    "degree3 = lm.predict(poly3)\n",
    "degree3"
   ]
  },
  {
   "cell_type": "code",
   "execution_count": 15,
   "metadata": {},
   "outputs": [
    {
     "data": {
      "text/plain": [
       "2.6691028941158746e-22"
      ]
     },
     "execution_count": 15,
     "metadata": {},
     "output_type": "execute_result"
    }
   ],
   "source": [
    "sum((b-degree3)**2)"
   ]
  },
  {
   "cell_type": "code",
   "execution_count": 16,
   "metadata": {},
   "outputs": [
    {
     "data": {
      "text/plain": [
       "37881.09949603373"
      ]
     },
     "execution_count": 16,
     "metadata": {},
     "output_type": "execute_result"
    }
   ],
   "source": [
    "sum((b-degree2)**2)"
   ]
  },
  {
   "cell_type": "code",
   "execution_count": 17,
   "metadata": {},
   "outputs": [
    {
     "data": {
      "text/plain": [
       "1338505.9584312695"
      ]
     },
     "execution_count": 17,
     "metadata": {},
     "output_type": "execute_result"
    }
   ],
   "source": [
    "sum((b-simplelinearregression)**2)"
   ]
  },
  {
   "cell_type": "code",
   "execution_count": null,
   "metadata": {},
   "outputs": [],
   "source": []
  }
 ],
 "metadata": {
  "kernelspec": {
   "display_name": "Python 3",
   "language": "python",
   "name": "python3"
  },
  "language_info": {
   "codemirror_mode": {
    "name": "ipython",
    "version": 3
   },
   "file_extension": ".py",
   "mimetype": "text/x-python",
   "name": "python",
   "nbconvert_exporter": "python",
   "pygments_lexer": "ipython3",
   "version": "3.8.5"
  }
 },
 "nbformat": 4,
 "nbformat_minor": 4
}
