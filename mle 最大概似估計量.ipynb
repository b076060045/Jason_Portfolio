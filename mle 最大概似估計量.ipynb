{
 "cells": [
  {
   "cell_type": "code",
   "execution_count": 1,
   "metadata": {},
   "outputs": [],
   "source": [
    "from scipy.stats import uniform\n",
    "import math\n",
    "import matplotlib.pyplot as plt\n",
    "import seaborn as sns\n",
    "from scipy.stats import binom\n",
    "from scipy.stats import nbinom\n",
    "from scipy.stats import norm\n",
    "from scipy import stats\n",
    "from scipy.stats import norm\n",
    "from scipy.stats import chi2\n",
    "import numpy as np\n",
    "from scipy.stats import t\n",
    "import random\n",
    "from scipy.stats import f\n",
    "from scipy.stats import expon\n",
    "import random\n",
    "from scipy.stats import bernoulli"
   ]
  },
  {
   "cell_type": "code",
   "execution_count": 2,
   "metadata": {},
   "outputs": [],
   "source": [
    "norm1 = norm.rvs(loc = 180 , size = 100 , scale = 5)\n",
    "chi1 = chi2.rvs(df = 20, size = 200)\n",
    "binom1 = binom.rvs(n = 1000,p = 1/3,size = 20)\n",
    "expon1 = expon.rvs(loc = 5,size = 100)"
   ]
  },
  {
   "cell_type": "code",
   "execution_count": 219,
   "metadata": {},
   "outputs": [],
   "source": [
    "#矩陣內相乘def\n",
    "#def multipler(a):\n",
    "#    s = a[0] * a[1]\n",
    "#    m = []\n",
    "#    m.append(s)\n",
    "#    m.extend(a[2:])\n",
    "#    if len(m) == 1:\n",
    "#        return m\n",
    "#    else:\n",
    "#        return multipler(m)"
   ]
  },
  {
   "cell_type": "code",
   "execution_count": 4,
   "metadata": {},
   "outputs": [],
   "source": [
    "# test\n",
    "#矩陣內相乘def\n",
    "#乘法函數\n",
    "def multipler(component):\n",
    "    if len(component) == 1:\n",
    "        return component\n",
    "    else:\n",
    "        ans = component[0] * component[1]\n",
    "        new_component = []\n",
    "        new_component.append(ans)\n",
    "        new_component.extend(component[2:])\n",
    "#        print(m)\n",
    "        return multipler(new_component)"
   ]
  },
  {
   "cell_type": "code",
   "execution_count": 446,
   "metadata": {},
   "outputs": [
    {
     "data": {
      "text/plain": [
       "[24000]"
      ]
     },
     "execution_count": 446,
     "metadata": {},
     "output_type": "execute_result"
    }
   ],
   "source": [
    "multipler([10,10,2,10,3,4])"
   ]
  },
  {
   "cell_type": "markdown",
   "metadata": {},
   "source": [
    "# MLE 抽樣分配"
   ]
  },
  {
   "cell_type": "code",
   "execution_count": 293,
   "metadata": {},
   "outputs": [],
   "source": [
    "m = []\n",
    "for x in range(10000):\n",
    "    m.append(random.choices(norm1,k = 99))"
   ]
  },
  {
   "cell_type": "code",
   "execution_count": 294,
   "metadata": {},
   "outputs": [],
   "source": [
    "pro = []\n",
    "number = []\n",
    "for y in m:\n",
    "    pro_every = []\n",
    "    for x in np.arange(170,185,0.02):\n",
    "        pdfarray = norm.pdf(y,loc = x,scale = 5)\n",
    "        pro_every.append(multipler(pdfarray)[0])\n",
    "        pro.append(pro_every)\n"
   ]
  },
  {
   "cell_type": "code",
   "execution_count": 295,
   "metadata": {},
   "outputs": [],
   "source": [
    "number = []\n",
    "for x in pro:\n",
    "    number.append(np.arange(170,185,0.02)[np.array(x).argmax()])\n",
    "#sns.kdeplot(number)\n"
   ]
  },
  {
   "cell_type": "code",
   "execution_count": 296,
   "metadata": {},
   "outputs": [
    {
     "data": {
      "text/plain": [
       "<AxesSubplot:ylabel='Density'>"
      ]
     },
     "execution_count": 296,
     "metadata": {},
     "output_type": "execute_result"
    },
    {
     "data": {
      "image/png": "[encoded data removed]",
      "text/plain": [
       "<Figure size 432x288 with 1 Axes>"
      ]
     },
     "metadata": {
      "needs_background": "light"
     },
     "output_type": "display_data"
    }
   ],
   "source": [
    "sns.kdeplot(number)\n",
    "sns.kdeplot(norm.rvs(loc = 180.3,scale = 5/math.sqrt(99),size = 5000))"
   ]
  },
  {
   "cell_type": "code",
   "execution_count": 299,
   "metadata": {},
   "outputs": [
    {
     "data": {
      "text/plain": [
       "Power_divergenceResult(statistic=21871.855922710034, pvalue=1.0)"
      ]
     },
     "execution_count": 299,
     "metadata": {},
     "output_type": "execute_result"
    }
   ],
   "source": [
    "scipy.stats.chisquare(np.array(number),sorted(norm.rvs(size = 7500000,loc = 180.3,scale = 5/math.sqrt(99))))"
   ]
  },
  {
   "cell_type": "markdown",
   "metadata": {},
   "source": [
    "# 常態mle"
   ]
  },
  {
   "cell_type": "code",
   "execution_count": 222,
   "metadata": {},
   "outputs": [],
   "source": [
    "pro = []\n",
    "for x in np.arange(170,185,0.05):\n",
    "    pdfarray = norm.pdf(norm1,loc = x,scale = 20)\n",
    "    pro.append(multipler(pdfarray)[0])"
   ]
  },
  {
   "cell_type": "code",
   "execution_count": 223,
   "metadata": {},
   "outputs": [
    {
     "name": "stdout",
     "output_type": "stream",
     "text": [
      "mean 179.54980279492074\n"
     ]
    },
    {
     "data": {
      "image/png": "[encoded data removed]",
      "text/plain": [
       "<Figure size 432x288 with 1 Axes>"
      ]
     },
     "metadata": {
      "needs_background": "light"
     },
     "output_type": "display_data"
    }
   ],
   "source": [
    "plt.bar(np.arange(170,185,0.05),pro,width = 0.05,color = 'darkred')\n",
    "print(\"mean\",np.mean(norm1))"
   ]
  },
  {
   "cell_type": "code",
   "execution_count": 459,
   "metadata": {},
   "outputs": [
    {
     "data": {
      "text/plain": [
       "array([0.0042667 , 0.01994681, 0.00555765, 0.0154308 , 0.01992979,\n",
       "       0.00889187, 0.012763  , 0.01733259, 0.01984512, 0.01251672,\n",
       "       0.01907876, 0.01973141, 0.01957814, 0.01757045, 0.0185036 ,\n",
       "       0.01445218, 0.00731504, 0.01074696, 0.00904389, 0.01905448,\n",
       "       0.01832323, 0.01572741, 0.01915465, 0.01815877, 0.01717934,\n",
       "       0.01644506, 0.01940103, 0.01907735, 0.00081462, 0.01754457,\n",
       "       0.00567828, 0.00444443, 0.00542226, 0.01279873, 0.01355016,\n",
       "       0.01249323, 0.01240488, 0.01370528, 0.01587838, 0.01756482,\n",
       "       0.01839071, 0.01139111, 0.01797415, 0.01993679, 0.01550653,\n",
       "       0.01872866, 0.00367319, 0.01702181, 0.00634166, 0.01286359,\n",
       "       0.01963643, 0.01401238, 0.01803764, 0.01991698, 0.01923525,\n",
       "       0.01426047, 0.01328927, 0.01691508, 0.01906777, 0.01759979,\n",
       "       0.00531934, 0.01991721, 0.01000054, 0.01242789, 0.01481064,\n",
       "       0.01807458, 0.0020973 , 0.01781776, 0.00339041, 0.01737704,\n",
       "       0.01964407, 0.01906792, 0.01621494, 0.0199462 , 0.01922892,\n",
       "       0.01470326, 0.01926457, 0.01327158, 0.01785594, 0.01141962,\n",
       "       0.01813409, 0.00936474, 0.01067193, 0.01753535, 0.01239646,\n",
       "       0.01900094, 0.01700645, 0.01546313, 0.01962267, 0.01273642,\n",
       "       0.01667038, 0.01994663, 0.00422046, 0.00949417, 0.01965214,\n",
       "       0.014032  , 0.00341764, 0.01723938, 0.00203209, 0.01029204])"
      ]
     },
     "execution_count": 459,
     "metadata": {},
     "output_type": "execute_result"
    }
   ],
   "source": [
    "pdfarray"
   ]
  },
  {
   "cell_type": "markdown",
   "metadata": {},
   "source": [
    "# 卡方MLE"
   ]
  },
  {
   "cell_type": "code",
   "execution_count": 275,
   "metadata": {},
   "outputs": [],
   "source": [
    "pro = []\n",
    "for x in range(10,30):\n",
    "    pdfarray = chi2.pdf(chi1,df = x)\n",
    "    pro.append(multipler(pdfarray)[0])"
   ]
  },
  {
   "cell_type": "code",
   "execution_count": 276,
   "metadata": {},
   "outputs": [
    {
     "name": "stdout",
     "output_type": "stream",
     "text": [
      "19.593595406411783\n"
     ]
    },
    {
     "data": {
      "image/png": "[encoded data removed]",
      "text/plain": [
       "<Figure size 432x288 with 1 Axes>"
      ]
     },
     "metadata": {
      "needs_background": "light"
     },
     "output_type": "display_data"
    }
   ],
   "source": [
    "plt.bar(range(10,30),pro)\n",
    "print(np.mean(chi1))"
   ]
  },
  {
   "cell_type": "markdown",
   "metadata": {},
   "source": [
    "# 二項 MLE"
   ]
  },
  {
   "cell_type": "code",
   "execution_count": 278,
   "metadata": {},
   "outputs": [],
   "source": [
    "pro = []\n",
    "for x in range(950,1050):\n",
    "    pdfarray = binom.pmf(binom1,n = x,p = 1/3)\n",
    "    pro.append(multipler(pdfarray)[0])"
   ]
  },
  {
   "cell_type": "code",
   "execution_count": 280,
   "metadata": {},
   "outputs": [
    {
     "name": "stdout",
     "output_type": "stream",
     "text": [
      "992.0999999999999\n"
     ]
    },
    {
     "data": {
      "image/png": "[encoded data removed]",
      "text/plain": [
       "<Figure size 432x288 with 1 Axes>"
      ]
     },
     "metadata": {
      "needs_background": "light"
     },
     "output_type": "display_data"
    }
   ],
   "source": [
    "plt.bar(range(950,1050),pro)\n",
    "print(np.mean(binom1) * 3)"
   ]
  },
  {
   "cell_type": "code",
   "execution_count": 185,
   "metadata": {},
   "outputs": [
    {
     "data": {
      "text/plain": [
       "array([0.02672731, 0.0261728 , 0.00584231, 0.0261728 , 0.02025114,\n",
       "       0.0160142 , 0.00986859, 0.0192239 , 0.01407101, 0.02151166,\n",
       "       0.02305276, 0.01735043, 0.02217649, 0.00986859, 0.01515852,\n",
       "       0.00896512, 0.0258969 , 0.02539517, 0.02672731, 0.02539517])"
      ]
     },
     "execution_count": 185,
     "metadata": {},
     "output_type": "execute_result"
    }
   ],
   "source": [
    "pdfarray"
   ]
  },
  {
   "cell_type": "code",
   "execution_count": 182,
   "metadata": {},
   "outputs": [
    {
     "data": {
      "text/plain": [
       "array([332, 336, 307, 336, 344, 348, 354, 345, 316, 323, 341, 319, 342,\n",
       "       354, 317, 355, 329, 328, 332, 328])"
      ]
     },
     "execution_count": 182,
     "metadata": {},
     "output_type": "execute_result"
    }
   ],
   "source": [
    "binom1"
   ]
  },
  {
   "cell_type": "code",
   "execution_count": 205,
   "metadata": {},
   "outputs": [],
   "source": [
    "pro = []\n",
    "for x in range(0,10):\n",
    "    pro.append(multipler(expon.pdf(loc = x,x = expon1))[0])"
   ]
  },
  {
   "cell_type": "code",
   "execution_count": 206,
   "metadata": {},
   "outputs": [
    {
     "data": {
      "text/plain": [
       "<BarContainer object of 10 artists>"
      ]
     },
     "execution_count": 206,
     "metadata": {},
     "output_type": "execute_result"
    },
    {
     "data": {
      "image/png": "[encoded data removed]",
      "text/plain": [
       "<Figure size 432x288 with 1 Axes>"
      ]
     },
     "metadata": {
      "needs_background": "light"
     },
     "output_type": "display_data"
    }
   ],
   "source": [
    "plt.bar(range(0,10),pro)"
   ]
  },
  {
   "cell_type": "code",
   "execution_count": 328,
   "metadata": {},
   "outputs": [],
   "source": [
    "chi1 = chi2.rvs(df = 3, size = 200000)\n",
    "chi50 = chi2.rvs(df = 5, size = 200000)"
   ]
  },
  {
   "cell_type": "code",
   "execution_count": 420,
   "metadata": {},
   "outputs": [
    {
     "data": {
      "text/plain": [
       "<AxesSubplot:ylabel='Density'>"
      ]
     },
     "execution_count": 420,
     "metadata": {},
     "output_type": "execute_result"
    },
    {
     "data": {
      "image/png": "[encoded data removed]",
      "text/plain": [
       "<Figure size 432x288 with 1 Axes>"
      ]
     },
     "metadata": {
      "needs_background": "light"
     },
     "output_type": "display_data"
    }
   ],
   "source": [
    "e = []\n",
    "for x in range(8000):\n",
    "    z = norm.rvs(loc = 0 , size = 80000 , scale = 1)\n",
    "    e.append(np.sum(z ** 2))\n",
    "fig,ax = plt.subplots(1,1)\n",
    "#ax.set_xlim(0,2)\n",
    "sns.kdeplot(e,ax = ax)"
   ]
  },
  {
   "cell_type": "code",
   "execution_count": 421,
   "metadata": {},
   "outputs": [],
   "source": [
    "q = (np.array(e) - np.mean(e))/np.std(e)"
   ]
  },
  {
   "cell_type": "code",
   "execution_count": 422,
   "metadata": {},
   "outputs": [
    {
     "data": {
      "text/plain": [
       "<AxesSubplot:ylabel='Density'>"
      ]
     },
     "execution_count": 422,
     "metadata": {},
     "output_type": "execute_result"
    },
    {
     "data": {
      "image/png": "[encoded data removed]",
      "text/plain": [
       "<Figure size 432x288 with 1 Axes>"
      ]
     },
     "metadata": {
      "needs_background": "light"
     },
     "output_type": "display_data"
    }
   ],
   "source": [
    "sns.kdeplot(q)"
   ]
  },
  {
   "cell_type": "code",
   "execution_count": 425,
   "metadata": {},
   "outputs": [
    {
     "data": {
      "text/plain": [
       "157309.85331027376"
      ]
     },
     "execution_count": 425,
     "metadata": {},
     "output_type": "execute_result"
    }
   ],
   "source": [
    "np.var(e)"
   ]
  },
  {
   "cell_type": "code",
   "execution_count": 426,
   "metadata": {},
   "outputs": [
    {
     "data": {
      "text/plain": [
       "<AxesSubplot:ylabel='Density'>"
      ]
     },
     "execution_count": 426,
     "metadata": {},
     "output_type": "execute_result"
    },
    {
     "data": {
      "image/png": "[encoded data removed]",
      "text/plain": [
       "<Figure size 432x288 with 1 Axes>"
      ]
     },
     "metadata": {
      "needs_background": "light"
     },
     "output_type": "display_data"
    }
   ],
   "source": [
    "q = (np.array(e) - 8000)/400\n",
    "sns.kdeplot(q)"
   ]
  },
  {
   "cell_type": "code",
   "execution_count": 434,
   "metadata": {},
   "outputs": [
    {
     "data": {
      "text/plain": [
       "0.07014901232116788"
      ]
     },
     "execution_count": 434,
     "metadata": {},
     "output_type": "execute_result"
    }
   ],
   "source": [
    "norm.cdf(2.1828,loc = 0,scale = 1) - norm.cdf(1.3743)"
   ]
  },
  {
   "cell_type": "code",
   "execution_count": 437,
   "metadata": {},
   "outputs": [
    {
     "data": {
      "text/plain": [
       "0.8216052793837149"
      ]
     },
     "execution_count": 437,
     "metadata": {},
     "output_type": "execute_result"
    }
   ],
   "source": [
    "norm.cdf(0.9215)"
   ]
  },
  {
   "cell_type": "code",
   "execution_count": 438,
   "metadata": {},
   "outputs": [
    {
     "data": {
      "text/plain": [
       "0.0"
      ]
     },
     "execution_count": 438,
     "metadata": {},
     "output_type": "execute_result"
    }
   ],
   "source": [
    "norm.ppf(0.5)"
   ]
  },
  {
   "cell_type": "code",
   "execution_count": 513,
   "metadata": {},
   "outputs": [
    {
     "data": {
      "text/plain": [
       "0.23978323889332775"
      ]
     },
     "execution_count": 513,
     "metadata": {},
     "output_type": "execute_result"
    }
   ],
   "source": [
    "norm.cdf(-0.707)"
   ]
  },
  {
   "cell_type": "code",
   "execution_count": 24,
   "metadata": {},
   "outputs": [
    {
     "data": {
      "text/plain": [
       "0.6578877473830365"
      ]
     },
     "execution_count": 24,
     "metadata": {},
     "output_type": "execute_result"
    }
   ],
   "source": [
    "norm.cdf((1.095 - 1)/math.sqrt(0.01),loc = 0, scale = 1) - norm.cdf((0.905 - 1)/math.sqrt(0.01),loc = 0, scale = 1) "
   ]
  },
  {
   "cell_type": "code",
   "execution_count": 6,
   "metadata": {},
   "outputs": [],
   "source": [
    "import math"
   ]
  },
  {
   "cell_type": "code",
   "execution_count": 10,
   "metadata": {},
   "outputs": [
    {
     "data": {
      "text/plain": [
       "0.9824255295282095"
      ]
     },
     "execution_count": 10,
     "metadata": {},
     "output_type": "execute_result"
    }
   ],
   "source": [
    "chi2.cdf(44.773,df = 25) - chi2.cdf(11.31006,df = 25)"
   ]
  },
  {
   "cell_type": "code",
   "execution_count": 18,
   "metadata": {},
   "outputs": [
    {
     "data": {
      "text/plain": [
       "0.09954655567270576"
      ]
     },
     "execution_count": 18,
     "metadata": {},
     "output_type": "execute_result"
    }
   ],
   "source": [
    "1-f.cdf(24,24,1.333)"
   ]
  },
  {
   "cell_type": "code",
   "execution_count": 70,
   "metadata": {},
   "outputs": [
    {
     "data": {
      "text/plain": [
       "0.22484618259715689"
      ]
     },
     "execution_count": 70,
     "metadata": {},
     "output_type": "execute_result"
    }
   ],
   "source": [
    "norm.cdf(-0.755928)"
   ]
  },
  {
   "cell_type": "code",
   "execution_count": 71,
   "metadata": {},
   "outputs": [],
   "source": [
    "from scipy.stats import bernoulli"
   ]
  },
  {
   "cell_type": "code",
   "execution_count": 74,
   "metadata": {},
   "outputs": [
    {
     "data": {
      "text/plain": [
       "array([0, 0, 1, 0, 0, 0, 1, 0, 1, 0])"
      ]
     },
     "execution_count": 74,
     "metadata": {},
     "output_type": "execute_result"
    }
   ],
   "source": [
    "bernoulli.rvs(p = 0.4, size  = 10)"
   ]
  },
  {
   "cell_type": "code",
   "execution_count": 91,
   "metadata": {},
   "outputs": [],
   "source": [
    "e = []\n",
    "for x in range(500):\n",
    "    e.append(bernoulli.rvs(p = 0.4))"
   ]
  },
  {
   "cell_type": "code",
   "execution_count": 92,
   "metadata": {},
   "outputs": [
    {
     "data": {
      "text/plain": [
       "<AxesSubplot:ylabel='Density'>"
      ]
     },
     "execution_count": 92,
     "metadata": {},
     "output_type": "execute_result"
    },
    {
     "data": {
      "image/png": "[encoded data removed]",
      "text/plain": [
       "<Figure size 432x288 with 1 Axes>"
      ]
     },
     "metadata": {
      "needs_background": "light"
     },
     "output_type": "display_data"
    }
   ],
   "source": [
    "q = []\n",
    "for x in e:\n",
    "    q.append(np.mean(x))\n",
    "sns.kdeplot(q)"
   ]
  },
  {
   "cell_type": "code",
   "execution_count": 89,
   "metadata": {},
   "outputs": [],
   "source": [
    "norm2 = norm.rvs(size = 1000000,loc = 100,scale = 2)"
   ]
  },
  {
   "cell_type": "code",
   "execution_count": 90,
   "metadata": {},
   "outputs": [],
   "source": [
    "q = []\n",
    "for x in range(1000):\n",
    "    q.append(((10-1) * (np.std(random.choices(norm2,k = 10),ddof = 1))**2)/np.std(norm2)**2)"
   ]
  },
  {
   "cell_type": "code",
   "execution_count": 91,
   "metadata": {},
   "outputs": [
    {
     "data": {
      "text/plain": [
       "<AxesSubplot:ylabel='Density'>"
      ]
     },
     "execution_count": 91,
     "metadata": {},
     "output_type": "execute_result"
    },
    {
     "data": {
      "image/png": "[encoded data removed]",
      "text/plain": [
       "<Figure size 432x288 with 1 Axes>"
      ]
     },
     "metadata": {
      "needs_background": "light"
     },
     "output_type": "display_data"
    }
   ],
   "source": [
    "sns.kdeplot(q)\n",
    "sns.kdeplot(chi39)"
   ]
  },
  {
   "cell_type": "code",
   "execution_count": 84,
   "metadata": {},
   "outputs": [],
   "source": [
    "chi39 = chi2.rvs(size = 1000,df = 9)"
   ]
  },
  {
   "cell_type": "code",
   "execution_count": 100,
   "metadata": {},
   "outputs": [],
   "source": [
    "#母體平均數已知 樣本變異數\n",
    "sample_std_know = math.sqrt((sum(np.array(random.choices(norm2,k = 10)) - np.mean(norm2)) ** 2) / 10)"
   ]
  },
  {
   "cell_type": "code",
   "execution_count": 162,
   "metadata": {},
   "outputs": [],
   "source": [
    "q = []\n",
    "for x in range(1000):\n",
    "    sample_std_know = math.sqrt((sum((np.array(random.choices(norm2,k = 20)) - np.mean(norm2))**2)) / 20)\n",
    "    q.append((20 * (sample_std_know ** 2))/np.std(norm2)**2)"
   ]
  },
  {
   "cell_type": "code",
   "execution_count": 163,
   "metadata": {},
   "outputs": [
    {
     "data": {
      "text/plain": [
       "<AxesSubplot:ylabel='Density'>"
      ]
     },
     "execution_count": 163,
     "metadata": {},
     "output_type": "execute_result"
    },
    {
     "data": {
      "image/png": "[encoded data removed]",
      "text/plain": [
       "<Figure size 432x288 with 1 Axes>"
      ]
     },
     "metadata": {
      "needs_background": "light"
     },
     "output_type": "display_data"
    }
   ],
   "source": [
    "sns.kdeplot(q,color = \"r\")\n",
    "sns.kdeplot(chi2.rvs(size = 10000,df = 20))"
   ]
  },
  {
   "cell_type": "code",
   "execution_count": 136,
   "metadata": {},
   "outputs": [],
   "source": [
    "import scipy.stats"
   ]
  },
  {
   "cell_type": "code",
   "execution_count": 161,
   "metadata": {},
   "outputs": [
    {
     "data": {
      "text/plain": [
       "Power_divergenceResult(statistic=11.224256182047176, pvalue=1.0)"
      ]
     },
     "execution_count": 161,
     "metadata": {},
     "output_type": "execute_result"
    }
   ],
   "source": [
    "scipy.stats.chisquare(np.array(q),sorted(chi2.rvs(size = 1000,df = 10)))"
   ]
  },
  {
   "cell_type": "code",
   "execution_count": 209,
   "metadata": {},
   "outputs": [
    {
     "data": {
      "text/plain": [
       "5.617256574927964"
      ]
     },
     "execution_count": 209,
     "metadata": {},
     "output_type": "execute_result"
    }
   ],
   "source": [
    "math.sqrt(np.var([140,90,125,130,95,121,85,97],ddof = 1) + np.var([137,87,110,132,96,120,86,90],ddof = 1) - 2 * np.cov([[140,90,125,130,95,121,85,97],[137,87,110,132,96,120,86,90]])[0][1])"
   ]
  },
  {
   "cell_type": "code",
   "execution_count": 207,
   "metadata": {},
   "outputs": [
    {
     "data": {
      "text/plain": [
       "414.0357142857143"
      ]
     },
     "execution_count": 207,
     "metadata": {},
     "output_type": "execute_result"
    }
   ],
   "source": [
    "np.cov([[140,90,125,130,95,121,85,97],[137,87,110,132,96,120,86,90]])[0][1]"
   ]
  },
  {
   "cell_type": "code",
   "execution_count": 203,
   "metadata": {},
   "outputs": [
    {
     "data": {
      "text/plain": [
       "5.6172502169655925"
      ]
     },
     "execution_count": 203,
     "metadata": {},
     "output_type": "execute_result"
    }
   ],
   "source": [
    "np.cov()"
   ]
  },
  {
   "cell_type": "code",
   "execution_count": 315,
   "metadata": {},
   "outputs": [
    {
     "data": {
      "text/plain": [
       "125.0"
      ]
     },
     "execution_count": 315,
     "metadata": {},
     "output_type": "execute_result"
    }
   ],
   "source": [
    "np.var([70,80,60,90,75],ddof = 1)"
   ]
  },
  {
   "cell_type": "code",
   "execution_count": 316,
   "metadata": {},
   "outputs": [
    {
     "data": {
      "text/plain": [
       "0.9544997361036416"
      ]
     },
     "execution_count": 316,
     "metadata": {},
     "output_type": "execute_result"
    }
   ],
   "source": [
    "norm.cdf(2) - norm.cdf(-2)"
   ]
  },
  {
   "cell_type": "code",
   "execution_count": 320,
   "metadata": {},
   "outputs": [
    {
     "data": {
      "text/plain": [
       "0.9250073583227725"
      ]
     },
     "execution_count": 320,
     "metadata": {},
     "output_type": "execute_result"
    }
   ],
   "source": [
    "chi2.cdf(9.488,df = 4) - chi2.cdf(0.4844,df = 4)"
   ]
  },
  {
   "cell_type": "code",
   "execution_count": 323,
   "metadata": {},
   "outputs": [
    {
     "data": {
      "text/plain": [
       "0.8749981053876171"
      ]
     },
     "execution_count": 323,
     "metadata": {},
     "output_type": "execute_result"
    }
   ],
   "source": [
    "t.cdf(1.5332,df = 4) - t.cdf(-2.7764,df = 4)"
   ]
  },
  {
   "cell_type": "code",
   "execution_count": 354,
   "metadata": {},
   "outputs": [
    {
     "data": {
      "text/plain": [
       "0.9027735042633895"
      ]
     },
     "execution_count": 354,
     "metadata": {},
     "output_type": "execute_result"
    }
   ],
   "source": [
    "np.std([1.9,2.4,3,3.5,4.2],ddof =1 )"
   ]
  },
  {
   "cell_type": "code",
   "execution_count": 357,
   "metadata": {},
   "outputs": [
    {
     "data": {
      "text/plain": [
       "0.48310685258899044"
      ]
     },
     "execution_count": 357,
     "metadata": {},
     "output_type": "execute_result"
    }
   ],
   "source": [
    "chi2.cdf(4*0.8125,df = 4)"
   ]
  },
  {
   "cell_type": "code",
   "execution_count": 364,
   "metadata": {},
   "outputs": [
    {
     "data": {
      "text/plain": [
       "1.0334821428571428"
      ]
     },
     "execution_count": 364,
     "metadata": {},
     "output_type": "execute_result"
    }
   ],
   "source": [
    "np.var([7,4,2,-1,3,2,4,-2],ddof = 1)/8"
   ]
  },
  {
   "cell_type": "code",
   "execution_count": 367,
   "metadata": {},
   "outputs": [
    {
     "data": {
      "text/plain": [
       "8.267857142857153"
      ]
     },
     "execution_count": 367,
     "metadata": {},
     "output_type": "execute_result"
    }
   ],
   "source": [
    "np.var([45,61,62,55,57,55,48,50],ddof = 1) + np.var([52,65,64,54,60,57,52,48],ddof = 1) - 2 * np.cov([[45,61,62,55,57,55,48,50],[52,65,64,54,60,57,52,48]])[0][1]"
   ]
  },
  {
   "cell_type": "code",
   "execution_count": 368,
   "metadata": {},
   "outputs": [
    {
     "data": {
      "text/plain": [
       "1.0334821428571441"
      ]
     },
     "execution_count": 368,
     "metadata": {},
     "output_type": "execute_result"
    }
   ],
   "source": [
    "8.267857142857153/8"
   ]
  },
  {
   "cell_type": "code",
   "execution_count": 371,
   "metadata": {},
   "outputs": [
    {
     "data": {
      "text/plain": [
       "0.18967104358246933"
      ]
     },
     "execution_count": 371,
     "metadata": {},
     "output_type": "execute_result"
    }
   ],
   "source": [
    "(1 - f.cdf(2.2564,dfn = 9, dfd= 12)) * 2"
   ]
  },
  {
   "cell_type": "code",
   "execution_count": 378,
   "metadata": {},
   "outputs": [
    {
     "data": {
      "text/plain": [
       "100.0800720309199"
      ]
     },
     "execution_count": 378,
     "metadata": {},
     "output_type": "execute_result"
    }
   ],
   "source": [
    "104 + norm.ppf(0.025) * 2"
   ]
  },
  {
   "cell_type": "code",
   "execution_count": 383,
   "metadata": {},
   "outputs": [
    {
     "data": {
      "text/plain": [
       "0.15865525393145707"
      ]
     },
     "execution_count": 383,
     "metadata": {},
     "output_type": "execute_result"
    }
   ],
   "source": [
    "norm.cdf(-1)"
   ]
  },
  {
   "cell_type": "code",
   "execution_count": 382,
   "metadata": {},
   "outputs": [
    {
     "data": {
      "text/plain": [
       "-1.0"
      ]
     },
     "execution_count": 382,
     "metadata": {},
     "output_type": "execute_result"
    }
   ],
   "source": [
    "(103.29 - 105.29) / 2"
   ]
  },
  {
   "cell_type": "code",
   "execution_count": 385,
   "metadata": {},
   "outputs": [
    {
     "data": {
      "text/plain": [
       "2.8753881725529062"
      ]
     },
     "execution_count": 385,
     "metadata": {},
     "output_type": "execute_result"
    }
   ],
   "source": [
    "np.std([7,4,2,-1,3,2,4,-2],ddof = 1)"
   ]
  },
  {
   "cell_type": "code",
   "execution_count": 386,
   "metadata": {},
   "outputs": [
    {
     "data": {
      "text/plain": [
       "5.617256574927962"
      ]
     },
     "execution_count": 386,
     "metadata": {},
     "output_type": "execute_result"
    }
   ],
   "source": [
    "np.std([3,3,15,-2,-1,1,-1,7],ddof = 1)"
   ]
  },
  {
   "cell_type": "code",
   "execution_count": 390,
   "metadata": {},
   "outputs": [
    {
     "data": {
      "text/plain": [
       "0.9739325330689144"
      ]
     },
     "execution_count": 390,
     "metadata": {},
     "output_type": "execute_result"
    }
   ],
   "source": [
    "t.cdf((np.mean([7,4,2,-1,3,2,4,-2]) - 0)/(np.std([7,4,2,-1,3,2,4,-2],ddof = 1)/math.sqrt(8)),df = 7)"
   ]
  },
  {
   "cell_type": "code",
   "execution_count": 391,
   "metadata": {},
   "outputs": [
    {
     "data": {
      "text/plain": [
       "16836"
      ]
     },
     "execution_count": 391,
     "metadata": {},
     "output_type": "execute_result"
    }
   ],
   "source": [
    "np.sum(np.array([36,26,31,20,34,25,40,29,38,32,39,34,32,18,23,21,33,27])**2)"
   ]
  },
  {
   "cell_type": "code",
   "execution_count": 393,
   "metadata": {},
   "outputs": [
    {
     "data": {
      "text/plain": [
       "293.7777777777778"
      ]
     },
     "execution_count": 393,
     "metadata": {},
     "output_type": "execute_result"
    }
   ],
   "source": [
    "6 * ((172/6 - 538/18) ** 2 + (212/6 - 538/18) ** 2 + (154/6 - 538/18) ** 2)"
   ]
  },
  {
   "cell_type": "code",
   "execution_count": 410,
   "metadata": {
    "scrolled": true
   },
   "outputs": [
    {
     "data": {
      "text/html": [
       "<div>\n",
       "<style scoped>\n",
       "    .dataframe tbody tr th:only-of-type {\n",
       "        vertical-align: middle;\n",
       "    }\n",
       "\n",
       "    .dataframe tbody tr th {\n",
       "        vertical-align: top;\n",
       "    }\n",
       "\n",
       "    .dataframe thead th {\n",
       "        text-align: right;\n",
       "    }\n",
       "</style>\n",
       "<table border=\"1\" class=\"dataframe\">\n",
       "  <thead>\n",
       "    <tr style=\"text-align: right;\">\n",
       "      <th></th>\n",
       "      <th>df</th>\n",
       "      <th>sum_sq</th>\n",
       "      <th>mean_sq</th>\n",
       "      <th>F</th>\n",
       "      <th>PR(&gt;F)</th>\n",
       "    </tr>\n",
       "  </thead>\n",
       "  <tbody>\n",
       "    <tr>\n",
       "      <th>a</th>\n",
       "      <td>2.0</td>\n",
       "      <td>24.0</td>\n",
       "      <td>12.0</td>\n",
       "      <td>4.000000</td>\n",
       "      <td>0.078717</td>\n",
       "    </tr>\n",
       "    <tr>\n",
       "      <th>b</th>\n",
       "      <td>1.0</td>\n",
       "      <td>12.0</td>\n",
       "      <td>12.0</td>\n",
       "      <td>4.000000</td>\n",
       "      <td>0.092426</td>\n",
       "    </tr>\n",
       "    <tr>\n",
       "      <th>a:b</th>\n",
       "      <td>2.0</td>\n",
       "      <td>8.0</td>\n",
       "      <td>4.0</td>\n",
       "      <td>1.333333</td>\n",
       "      <td>0.331816</td>\n",
       "    </tr>\n",
       "    <tr>\n",
       "      <th>Residual</th>\n",
       "      <td>6.0</td>\n",
       "      <td>18.0</td>\n",
       "      <td>3.0</td>\n",
       "      <td>NaN</td>\n",
       "      <td>NaN</td>\n",
       "    </tr>\n",
       "  </tbody>\n",
       "</table>\n",
       "</div>"
      ],
      "text/plain": [
       "           df  sum_sq  mean_sq         F    PR(>F)\n",
       "a         2.0    24.0     12.0  4.000000  0.078717\n",
       "b         1.0    12.0     12.0  4.000000  0.092426\n",
       "a:b       2.0     8.0      4.0  1.333333  0.331816\n",
       "Residual  6.0    18.0      3.0       NaN       NaN"
      ]
     },
     "execution_count": 410,
     "metadata": {},
     "output_type": "execute_result"
    }
   ],
   "source": [
    "co = [5,3,1,3,5,7,4,8,7,9,3,5]\n",
    "a = [\"a1\",\"a1\",\"a1\",\"a1\",\"a2\",\"a2\",\"a2\",\"a2\",\"a3\",\"a3\",\"a3\",\"a3\"]\n",
    "b = [\"b1\",\"b1\",\"b2\",\"b2\",\"b1\",\"b1\",\"b2\",\"b2\",\"b1\",\"b1\",\"b2\",\"b2\"]\n",
    "dat = {'co':co,'a':a, 'b':b}\n",
    "import pandas as pd\n",
    "df = pd.DataFrame(dat)\n",
    "import statsmodels.api as sm\n",
    "from statsmodels.formula.api import ols\n",
    "mod = ols('co ~ a*b', data = df).fit()\n",
    "sm.stats.anova_lm(mod, typ = 1)"
   ]
  },
  {
   "cell_type": "code",
   "execution_count": 412,
   "metadata": {},
   "outputs": [],
   "source": [
    "sse = []\n",
    "for x in [36,26,31,20,34,25,40,29,38,32,39,34,32,18,23,21,33,27]:\n",
    "    sse.append((x - 538/18) ** 2)"
   ]
  },
  {
   "cell_type": "code",
   "execution_count": 414,
   "metadata": {},
   "outputs": [
    {
     "data": {
      "text/plain": [
       "755.7777777777778"
      ]
     },
     "execution_count": 414,
     "metadata": {},
     "output_type": "execute_result"
    }
   ],
   "source": [
    "sum(sse)"
   ]
  },
  {
   "cell_type": "code",
   "execution_count": 3,
   "metadata": {},
   "outputs": [],
   "source": [
    "import math"
   ]
  },
  {
   "cell_type": "code",
   "execution_count": 12,
   "metadata": {},
   "outputs": [
    {
     "data": {
      "text/plain": [
       "0.7029443696638193"
      ]
     },
     "execution_count": 12,
     "metadata": {},
     "output_type": "execute_result"
    }
   ],
   "source": [
    "t.cdf(50/math.sqrt(8100/25),df = 24) - t.cdf(-10/(math.sqrt(8100/25)),df = 24)"
   ]
  },
  {
   "cell_type": "code",
   "execution_count": 14,
   "metadata": {},
   "outputs": [
    {
     "data": {
      "text/plain": [
       "0.7080060374597839"
      ]
     },
     "execution_count": 14,
     "metadata": {},
     "output_type": "execute_result"
    }
   ],
   "source": [
    "norm.cdf(50/math.sqrt(8100/25)) - norm.cdf(-10/math.sqrt(8100/25))"
   ]
  },
  {
   "cell_type": "code",
   "execution_count": 26,
   "metadata": {},
   "outputs": [
    {
     "data": {
      "text/plain": [
       "10.85765897920605"
      ]
     },
     "execution_count": 26,
     "metadata": {},
     "output_type": "execute_result"
    }
   ],
   "source": [
    "(24 * 61.88 ** 2) / (8464)"
   ]
  },
  {
   "cell_type": "code",
   "execution_count": 29,
   "metadata": {},
   "outputs": [
    {
     "data": {
      "text/plain": [
       "0.9799987221650633"
      ]
     },
     "execution_count": 29,
     "metadata": {},
     "output_type": "execute_result"
    }
   ],
   "source": [
    "chi2.cdf(42.982611,df = 24) - chi2.cdf(10.85765897920605,df = 24) "
   ]
  },
  {
   "cell_type": "code",
   "execution_count": 28,
   "metadata": {},
   "outputs": [
    {
     "data": {
      "text/plain": [
       "42.98261172022684"
      ]
     },
     "execution_count": 28,
     "metadata": {},
     "output_type": "execute_result"
    }
   ],
   "source": [
    "(24 * 123.12 ** 2) / (8464)"
   ]
  },
  {
   "cell_type": "code",
   "execution_count": 33,
   "metadata": {},
   "outputs": [
    {
     "data": {
      "text/plain": [
       "0.7095423362282717"
      ]
     },
     "execution_count": 33,
     "metadata": {},
     "output_type": "execute_result"
    }
   ],
   "source": [
    "norm.cdf(2.78) - norm.cdf(-0.56)"
   ]
  },
  {
   "cell_type": "code",
   "execution_count": 34,
   "metadata": {},
   "outputs": [
    {
     "data": {
      "text/plain": [
       "1.0"
      ]
     },
     "execution_count": 34,
     "metadata": {},
     "output_type": "execute_result"
    }
   ],
   "source": [
    "chi2.cdf(1112,df = 25)"
   ]
  },
  {
   "cell_type": "code",
   "execution_count": 36,
   "metadata": {},
   "outputs": [
    {
     "data": {
      "text/plain": [
       "11.310061436672969"
      ]
     },
     "execution_count": 36,
     "metadata": {},
     "output_type": "execute_result"
    }
   ],
   "source": [
    "25 * 61.88 ** 2/8464"
   ]
  },
  {
   "cell_type": "code",
   "execution_count": 39,
   "metadata": {},
   "outputs": [
    {
     "data": {
      "text/plain": [
       "0.9804234337287694"
      ]
     },
     "execution_count": 39,
     "metadata": {},
     "output_type": "execute_result"
    }
   ],
   "source": [
    "chi2.cdf(44.77,df = 24) - chi2.cdf(11.31, df =24)"
   ]
  },
  {
   "cell_type": "code",
   "execution_count": 38,
   "metadata": {},
   "outputs": [
    {
     "data": {
      "text/plain": [
       "8464"
      ]
     },
     "execution_count": 38,
     "metadata": {},
     "output_type": "execute_result"
    }
   ],
   "source": [
    "92 ** 2"
   ]
  },
  {
   "cell_type": "code",
   "execution_count": 40,
   "metadata": {},
   "outputs": [],
   "source": [
    "norm1 = norm.rvs(loc = 1850 , size = 10000 , scale = 90)"
   ]
  },
  {
   "cell_type": "code",
   "execution_count": 85,
   "metadata": {},
   "outputs": [],
   "source": [
    "w = []\n",
    "e = []\n",
    "avg = []\n",
    "for x in range(3000):\n",
    "    m = random.choices(norm1,k = 25)\n",
    "    w.append(np.var(m))\n",
    "    avg.append(np.mean(m))\n",
    "    e.append((25 * np.var(m))/90 ** 2)"
   ]
  },
  {
   "cell_type": "code",
   "execution_count": 107,
   "metadata": {},
   "outputs": [
    {
     "data": {
      "text/plain": [
       "<AxesSubplot:ylabel='Density'>"
      ]
     },
     "execution_count": 107,
     "metadata": {},
     "output_type": "execute_result"
    },
    {
     "data": {
      "image/png": "[encoded data removed]",
      "text/plain": [
       "<Figure size 720x360 with 2 Axes>"
      ]
     },
     "metadata": {
      "needs_background": "light"
     },
     "output_type": "display_data"
    }
   ],
   "source": [
    "fig,ax = plt.subplots(1,2,sharey = True,figsize = (10,5))\n",
    "sns.kdeplot(e,  ax = ax[0])\n",
    "sns.kdeplot(chi2.rvs(df = 25, size = 5000),ax = ax[0])\n",
    "sns.kdeplot(avg,ax = ax[1])"
   ]
  },
  {
   "cell_type": "code",
   "execution_count": 57,
   "metadata": {},
   "outputs": [
    {
     "data": {
      "text/plain": [
       "[1840.6129528851357,\n",
       " 1774.7994652790703,\n",
       " 1749.250894263695,\n",
       " 1720.6184233306974,\n",
       " 1950.9606357180144,\n",
       " 2146.9750474941357,\n",
       " 1899.4041425651565,\n",
       " 1761.5095979447055,\n",
       " 1892.6224368467385,\n",
       " 1859.6313477387337,\n",
       " 1867.3968421924571,\n",
       " 1789.0731570161242,\n",
       " 1854.8147774005022,\n",
       " 1743.0000568964867,\n",
       " 1994.975333084245,\n",
       " 1921.7793439227544,\n",
       " 1829.4900839229101,\n",
       " 1713.3246460148425,\n",
       " 1855.8784965617842,\n",
       " 2002.754228476594,\n",
       " 2018.022957801501,\n",
       " 1720.7924853584138,\n",
       " 1798.0449074337105,\n",
       " 1910.5057778111448,\n",
       " 1820.80027955769]"
      ]
     },
     "execution_count": 57,
     "metadata": {},
     "output_type": "execute_result"
    }
   ],
   "source": [
    "m"
   ]
  },
  {
   "cell_type": "code",
   "execution_count": 62,
   "metadata": {},
   "outputs": [
    {
     "data": {
      "text/plain": [
       "1.8124611228107335"
      ]
     },
     "execution_count": 62,
     "metadata": {},
     "output_type": "execute_result"
    }
   ],
   "source": [
    "t.ppf(0.95,df = 10)"
   ]
  },
  {
   "cell_type": "code",
   "execution_count": 63,
   "metadata": {},
   "outputs": [
    {
     "data": {
      "text/plain": [
       "1.8124611228116765"
      ]
     },
     "execution_count": 63,
     "metadata": {},
     "output_type": "execute_result"
    }
   ],
   "source": [
    "math.sqrt(f.ppf(0.9,dfn = 1,dfd = 10))"
   ]
  },
  {
   "cell_type": "code",
   "execution_count": 77,
   "metadata": {},
   "outputs": [
    {
     "data": {
      "text/plain": [
       "18.307038053275146"
      ]
     },
     "execution_count": 77,
     "metadata": {},
     "output_type": "execute_result"
    }
   ],
   "source": [
    "chi2.ppf(0.95,df = 10)"
   ]
  },
  {
   "cell_type": "code",
   "execution_count": 75,
   "metadata": {},
   "outputs": [
    {
     "data": {
      "text/plain": [
       "4.9646027437307145"
      ]
     },
     "execution_count": 75,
     "metadata": {},
     "output_type": "execute_result"
    }
   ],
   "source": [
    "f.ppf(0.95,dfd = 10 ,dfn = 1)"
   ]
  },
  {
   "cell_type": "code",
   "execution_count": 81,
   "metadata": {},
   "outputs": [
    {
     "data": {
      "text/plain": [
       "1.644853642189164"
      ]
     },
     "execution_count": 81,
     "metadata": {},
     "output_type": "execute_result"
    }
   ],
   "source": [
    "t.ppf(0.95, df =100000000)"
   ]
  },
  {
   "cell_type": "code",
   "execution_count": 84,
   "metadata": {},
   "outputs": [
    {
     "data": {
      "text/plain": [
       "1.6448536269514695"
      ]
     },
     "execution_count": 84,
     "metadata": {},
     "output_type": "execute_result"
    }
   ],
   "source": [
    "math.sqrt(chi2.ppf(0.9,df = 1))"
   ]
  },
  {
   "cell_type": "code",
   "execution_count": 108,
   "metadata": {},
   "outputs": [
    {
     "data": {
      "text/plain": [
       "35987.679000000004"
      ]
     },
     "execution_count": 108,
     "metadata": {},
     "output_type": "execute_result"
    }
   ],
   "source": [
    "-10 * 61.11 ** 2 + 1200 * 61.11"
   ]
  },
  {
   "cell_type": "code",
   "execution_count": 109,
   "metadata": {},
   "outputs": [
    {
     "data": {
      "text/plain": [
       "31234.5432"
      ]
     },
     "execution_count": 109,
     "metadata": {},
     "output_type": "execute_result"
    }
   ],
   "source": [
    "1000 * 61.11 - 8 * 61.11 ** 2"
   ]
  },
  {
   "cell_type": "code",
   "execution_count": 110,
   "metadata": {},
   "outputs": [
    {
     "data": {
      "text/plain": [
       "32400"
      ]
     },
     "execution_count": 110,
     "metadata": {},
     "output_type": "execute_result"
    }
   ],
   "source": [
    "1360 * 90 - 1000 * 90"
   ]
  },
  {
   "cell_type": "code",
   "execution_count": 119,
   "metadata": {},
   "outputs": [],
   "source": [
    "c =chi2.rvs(1000,size = 10000)"
   ]
  },
  {
   "cell_type": "code",
   "execution_count": 120,
   "metadata": {},
   "outputs": [
    {
     "data": {
      "text/plain": [
       "<AxesSubplot:ylabel='Density'>"
      ]
     },
     "execution_count": 120,
     "metadata": {},
     "output_type": "execute_result"
    },
    {
     "data": {
      "image/png": "[encoded data removed]",
      "text/plain": [
       "<Figure size 432x288 with 1 Axes>"
      ]
     },
     "metadata": {
      "needs_background": "light"
     },
     "output_type": "display_data"
    }
   ],
   "source": [
    "sns.kdeplot(c)"
   ]
  },
  {
   "cell_type": "code",
   "execution_count": 121,
   "metadata": {},
   "outputs": [],
   "source": [
    "c = chi2.rvs(1,size = 100)"
   ]
  },
  {
   "cell_type": "code",
   "execution_count": 122,
   "metadata": {},
   "outputs": [],
   "source": [
    "e = 2 * c\n",
    "q = c + c"
   ]
  },
  {
   "cell_type": "code",
   "execution_count": 123,
   "metadata": {},
   "outputs": [
    {
     "data": {
      "text/plain": [
       "<AxesSubplot:ylabel='Density'>"
      ]
     },
     "execution_count": 123,
     "metadata": {},
     "output_type": "execute_result"
    },
    {
     "data": {
      "image/png": "[encoded data removed]",
      "text/plain": [
       "<Figure size 432x288 with 1 Axes>"
      ]
     },
     "metadata": {
      "needs_background": "light"
     },
     "output_type": "display_data"
    }
   ],
   "source": [
    "sns.kdeplot(e)\n",
    "sns.kdeplot(q)"
   ]
  },
  {
   "cell_type": "code",
   "execution_count": 222,
   "metadata": {},
   "outputs": [],
   "source": [
    "norm1 = norm.rvs(loc = 10, scale = 1,size = 1000)"
   ]
  },
  {
   "cell_type": "code",
   "execution_count": 224,
   "metadata": {
    "collapsed": true
   },
   "outputs": [
    {
     "data": {
      "text/plain": [
       "<AxesSubplot:ylabel='Density'>"
      ]
     },
     "execution_count": 224,
     "metadata": {},
     "output_type": "execute_result"
    },
    {
     "data": {
      "image/png": "[encoded data removed]",
      "text/plain": [
       "<Figure size 432x288 with 1 Axes>"
      ]
     },
     "metadata": {
      "needs_background": "light"
     },
     "output_type": "display_data"
    }
   ],
   "source": [
    "s = []\n",
    "for x in range(2000):\n",
    "    s.append(10 * np.var(random.choices(norm1,k = 10))/np.var(norm1))\n",
    "sns.kdeplot(s)"
   ]
  },
  {
   "cell_type": "code",
   "execution_count": 208,
   "metadata": {},
   "outputs": [
    {
     "data": {
      "text/plain": [
       "1.0953969064648668"
      ]
     },
     "execution_count": 208,
     "metadata": {},
     "output_type": "execute_result"
    }
   ],
   "source": [
    "np.var(random.choices(expon1,k = 300))"
   ]
  },
  {
   "cell_type": "code",
   "execution_count": 166,
   "metadata": {},
   "outputs": [
    {
     "data": {
      "text/plain": [
       "442.23891049102264"
      ]
     },
     "execution_count": 166,
     "metadata": {},
     "output_type": "execute_result"
    }
   ],
   "source": [
    "(400*(sum((np.array(random.choices(expon1,k = 400)) - np.mean(expon1)) ** 2)/400))/np.var(expon1)"
   ]
  },
  {
   "cell_type": "code",
   "execution_count": 150,
   "metadata": {},
   "outputs": [
    {
     "data": {
      "text/plain": [
       "2.226440679923191"
      ]
     },
     "execution_count": 150,
     "metadata": {},
     "output_type": "execute_result"
    }
   ],
   "source": [
    "sum((np.array(random.choices(expon1,k = 100)) - 5)**2)/100"
   ]
  },
  {
   "cell_type": "code",
   "execution_count": null,
   "metadata": {},
   "outputs": [],
   "source": [
    "190 * (0.95 ** 18) * (0.05 ** 2) + 20 * (0.95 ** 19) * (0.05 ** 1) + 1 * 0.95 ** 20"
   ]
  },
  {
   "cell_type": "code",
   "execution_count": 4,
   "metadata": {},
   "outputs": [],
   "source": [
    "chi = chi2.cdf(23,df = 15)"
   ]
  },
  {
   "cell_type": "code",
   "execution_count": 5,
   "metadata": {},
   "outputs": [
    {
     "data": {
      "text/plain": [
       "0.915860135585492"
      ]
     },
     "execution_count": 5,
     "metadata": {},
     "output_type": "execute_result"
    }
   ],
   "source": [
    "chi"
   ]
  },
  {
   "cell_type": "code",
   "execution_count": 6,
   "metadata": {},
   "outputs": [
    {
     "data": {
      "text/plain": [
       "2.3069430514007236"
      ]
     },
     "execution_count": 6,
     "metadata": {},
     "output_type": "execute_result"
    }
   ],
   "source": [
    "f.ppf(0.9,dfn = 5,dfd = 14)"
   ]
  },
  {
   "cell_type": "code",
   "execution_count": 18,
   "metadata": {},
   "outputs": [
    {
     "data": {
      "text/plain": [
       "-2.673787315472915"
      ]
     },
     "execution_count": 18,
     "metadata": {},
     "output_type": "execute_result"
    }
   ],
   "source": [
    "norm.ppf(0.00375)"
   ]
  },
  {
   "cell_type": "code",
   "execution_count": 21,
   "metadata": {},
   "outputs": [
    {
     "data": {
      "text/plain": [
       "0.4719882510322698"
      ]
     },
     "execution_count": 21,
     "metadata": {},
     "output_type": "execute_result"
    }
   ],
   "source": [
    "1-norm.cdf(0.8/(36/math.sqrt(10)))"
   ]
  },
  {
   "cell_type": "code",
   "execution_count": 40,
   "metadata": {},
   "outputs": [
    {
     "data": {
      "text/plain": [
       "0.2923395333454475"
      ]
     },
     "execution_count": 40,
     "metadata": {},
     "output_type": "execute_result"
    }
   ],
   "source": [
    "(norm.cdf(0.375) - 0.5) * 2"
   ]
  },
  {
   "cell_type": "code",
   "execution_count": 58,
   "metadata": {},
   "outputs": [],
   "source": [
    "ber = bernoulli(p=0.8)\n"
   ]
  },
  {
   "cell_type": "code",
   "execution_count": 80,
   "metadata": {},
   "outputs": [],
   "source": [
    "binominal = []\n",
    "for x in range(2000):\n",
    "    binominal.append(np.mean(ber.rvs(size = 100)))\n",
    "#binominal"
   ]
  },
  {
   "cell_type": "code",
   "execution_count": 81,
   "metadata": {},
   "outputs": [
    {
     "data": {
      "text/plain": [
       "0.04054979161475432"
      ]
     },
     "execution_count": 81,
     "metadata": {},
     "output_type": "execute_result"
    }
   ],
   "source": [
    "np.std(binominal)"
   ]
  },
  {
   "cell_type": "code",
   "execution_count": 82,
   "metadata": {},
   "outputs": [
    {
     "data": {
      "text/plain": [
       "<AxesSubplot:ylabel='Density'>"
      ]
     },
     "execution_count": 82,
     "metadata": {},
     "output_type": "execute_result"
    },
    {
     "data": {
      "image/png": "[encoded data removed]",
      "text/plain": [
       "<Figure size 432x288 with 1 Axes>"
      ]
     },
     "metadata": {
      "needs_background": "light"
     },
     "output_type": "display_data"
    }
   ],
   "source": [
    "sns.kdeplot(binominal,color = \"g\")\n",
    "sns.kdeplot(norm.rvs(loc = 0.8,scale = 0.04,size = 100000))"
   ]
  },
  {
   "cell_type": "code",
   "execution_count": 83,
   "metadata": {},
   "outputs": [
    {
     "data": {
      "text/plain": [
       "<AxesSubplot:ylabel='Density'>"
      ]
     },
     "execution_count": 83,
     "metadata": {},
     "output_type": "execute_result"
    },
    {
     "data": {
      "image/png": "[encoded data removed]",
      "text/plain": [
       "<Figure size 432x288 with 1 Axes>"
      ]
     },
     "metadata": {
      "needs_background": "light"
     },
     "output_type": "display_data"
    }
   ],
   "source": [
    "sns.kdeplot((np.array(binominal) - 0.8) / 0.04)\n",
    "sns.kdeplot(norm.rvs(loc = 0,scale = 1,size = 100000),color = \"k\")"
   ]
  },
  {
   "cell_type": "code",
   "execution_count": 85,
   "metadata": {},
   "outputs": [
    {
     "data": {
      "text/plain": [
       "0.2923395333454475"
      ]
     },
     "execution_count": 85,
     "metadata": {},
     "output_type": "execute_result"
    }
   ],
   "source": [
    "(norm.cdf(0.375) - 0.5) * 2"
   ]
  },
  {
   "cell_type": "code",
   "execution_count": 92,
   "metadata": {},
   "outputs": [
    {
     "data": {
      "text/plain": [
       "0.15865525393145707"
      ]
     },
     "execution_count": 92,
     "metadata": {},
     "output_type": "execute_result"
    }
   ],
   "source": [
    "1 - norm.cdf(26,loc = 24,scale = 2)"
   ]
  },
  {
   "cell_type": "code",
   "execution_count": 101,
   "metadata": {},
   "outputs": [],
   "source": [
    "e = f(dfd = 9,dfn = 5)"
   ]
  },
  {
   "cell_type": "code",
   "execution_count": 102,
   "metadata": {},
   "outputs": [
    {
     "data": {
      "text/plain": [
       "2.610612550029971"
      ]
     },
     "execution_count": 102,
     "metadata": {},
     "output_type": "execute_result"
    }
   ],
   "source": [
    "e.ppf(0.9)"
   ]
  },
  {
   "cell_type": "code",
   "execution_count": 137,
   "metadata": {},
   "outputs": [
    {
     "name": "stderr",
     "output_type": "stream",
     "text": [
      "/Users/xuzhejia/opt/anaconda3/lib/python3.8/site-packages/seaborn/distributions.py:2551: FutureWarning: `distplot` is a deprecated function and will be removed in a future version. Please adapt your code to use either `displot` (a figure-level function with similar flexibility) or `histplot` (an axes-level function for histograms).\n",
      "  warnings.warn(msg, FutureWarning)\n",
      "/Users/xuzhejia/opt/anaconda3/lib/python3.8/site-packages/seaborn/distributions.py:2055: FutureWarning: The `axis` variable is no longer used and will be removed. Instead, assign variables directly to `x` or `y`.\n",
      "  warnings.warn(msg, FutureWarning)\n"
     ]
    },
    {
     "data": {
      "text/plain": [
       "<BarContainer object of 2 artists>"
      ]
     },
     "execution_count": 137,
     "metadata": {},
     "output_type": "execute_result"
    },
    {
     "data": {
      "image/png": "[encoded data removed]",
      "text/plain": [
       "<Figure size 432x288 with 1 Axes>"
      ]
     },
     "metadata": {
      "needs_background": "light"
     },
     "output_type": "display_data"
    }
   ],
   "source": [
    "fig,ax = plt.subplots(1,1)\n",
    "sns.distplot(norm.rvs(size = 1000))\n",
    "ax.bar([2,2],[0,0.6],width = 0.04)"
   ]
  },
  {
   "cell_type": "code",
   "execution_count": 148,
   "metadata": {},
   "outputs": [
    {
     "name": "stderr",
     "output_type": "stream",
     "text": [
      "/Users/xuzhejia/opt/anaconda3/lib/python3.8/site-packages/seaborn/distributions.py:2551: FutureWarning: `distplot` is a deprecated function and will be removed in a future version. Please adapt your code to use either `displot` (a figure-level function with similar flexibility) or `histplot` (an axes-level function for histograms).\n",
      "  warnings.warn(msg, FutureWarning)\n"
     ]
    },
    {
     "data": {
      "text/plain": [
       "<BarContainer object of 2 artists>"
      ]
     },
     "execution_count": 148,
     "metadata": {},
     "output_type": "execute_result"
    },
    {
     "data": {
      "image/png": "[encoded data removed]",
      "text/plain": [
       "<Figure size 432x288 with 1 Axes>"
      ]
     },
     "metadata": {
      "needs_background": "light"
     },
     "output_type": "display_data"
    }
   ],
   "source": [
    "fig,ax = plt.subplots(1,1)\n",
    "sns.distplot(binominal,ax = ax)\n",
    "ax.bar([0.8,0.8],[0,10],width = 0.00125)"
   ]
  },
  {
   "cell_type": "code",
   "execution_count": 150,
   "metadata": {},
   "outputs": [
    {
     "data": {
      "text/plain": [
       "-1.9599639845400545"
      ]
     },
     "execution_count": 150,
     "metadata": {},
     "output_type": "execute_result"
    }
   ],
   "source": [
    "norm.ppf(0.025)"
   ]
  },
  {
   "cell_type": "code",
   "execution_count": 153,
   "metadata": {},
   "outputs": [
    {
     "data": {
      "text/plain": [
       "-6428.8"
      ]
     },
     "execution_count": 153,
     "metadata": {},
     "output_type": "execute_result"
    }
   ],
   "source": [
    "1.96*3220 - 12740"
   ]
  },
  {
   "cell_type": "code",
   "execution_count": 155,
   "metadata": {},
   "outputs": [
    {
     "data": {
      "text/plain": [
       "array([1.84296289, 0.03721934, 2.69002428, 0.4576853 , 0.23826716,\n",
       "       1.91131137, 0.02162715, 0.26614397, 3.37064399, 3.84412849,\n",
       "       0.19960231, 0.95275327, 0.00736634, 0.90289142, 0.03952397,\n",
       "       0.03740956, 0.64198894, 0.11783613, 0.69384385, 1.04325108,\n",
       "       0.52938771, 0.41371138, 0.44915027, 0.0801988 , 1.16241148,\n",
       "       1.65068264, 1.02292062, 0.33144827, 2.32905249, 0.2320956 ,\n",
       "       0.06446519, 2.89877663, 0.58074016, 0.05982646, 1.45501637,\n",
       "       5.52037443, 0.99745384, 0.53609491, 0.73151194, 2.24218481,\n",
       "       1.41694603, 0.17503621, 2.13028056, 0.88448635, 0.27680951,\n",
       "       0.09773905, 0.48236265, 1.90347057, 2.16114361, 0.38817193,\n",
       "       0.95255313, 1.67456853, 1.26477387, 0.59245064, 2.67073931,\n",
       "       3.60375052, 0.11483287, 2.14386895, 0.3877448 , 0.41504258,\n",
       "       0.01594201, 0.89830976, 1.25490111, 0.14614234, 0.82633243,\n",
       "       0.08049454, 0.28534674, 2.32820926, 2.65487567, 0.94652674,\n",
       "       1.43040358, 3.0218653 , 1.15801658, 3.18605568, 0.28579632,\n",
       "       0.48588071, 0.41869385, 2.86251169, 0.32911523, 0.87823789,\n",
       "       0.88385167, 0.24929229, 2.6768439 , 0.08656594, 2.92610691,\n",
       "       0.73707191, 1.13882778, 0.13534622, 1.52078853, 0.15175322,\n",
       "       0.04871762, 1.47855566, 0.37126947, 1.10328679, 1.260979  ,\n",
       "       0.30995808, 0.99480369, 0.03720879, 1.68588366, 0.30083642])"
      ]
     },
     "execution_count": 155,
     "metadata": {},
     "output_type": "execute_result"
    }
   ],
   "source": [
    "e = expon.rvs(size = 100)\n",
    "e"
   ]
  },
  {
   "cell_type": "code",
   "execution_count": 156,
   "metadata": {},
   "outputs": [
    {
     "data": {
      "text/plain": [
       "<AxesSubplot:ylabel='Density'>"
      ]
     },
     "execution_count": 156,
     "metadata": {},
     "output_type": "execute_result"
    },
    {
     "data": {
      "image/png": "[encoded data removed]",
      "text/plain": [
       "<Figure size 432x288 with 1 Axes>"
      ]
     },
     "metadata": {
      "needs_background": "light"
     },
     "output_type": "display_data"
    }
   ],
   "source": [
    "sns.kdeplot(e)"
   ]
  },
  {
   "cell_type": "code",
   "execution_count": 168,
   "metadata": {},
   "outputs": [],
   "source": [
    "q = []\n",
    "for x in range(1000):\n",
    "    q.append(np.mean(random.choices(e,k = 40)))\n",
    "\n",
    "    "
   ]
  },
  {
   "cell_type": "code",
   "execution_count": 169,
   "metadata": {},
   "outputs": [
    {
     "data": {
      "text/plain": [
       "<AxesSubplot:ylabel='Density'>"
      ]
     },
     "execution_count": 169,
     "metadata": {},
     "output_type": "execute_result"
    },
    {
     "data": {
      "image/png": "[encoded data removed]",
      "text/plain": [
       "<Figure size 432x288 with 1 Axes>"
      ]
     },
     "metadata": {
      "needs_background": "light"
     },
     "output_type": "display_data"
    }
   ],
   "source": [
    "sns.kdeplot(q)"
   ]
  },
  {
   "cell_type": "code",
   "execution_count": 171,
   "metadata": {},
   "outputs": [
    {
     "data": {
      "text/plain": [
       "2.022690911734728"
      ]
     },
     "execution_count": 171,
     "metadata": {},
     "output_type": "execute_result"
    }
   ],
   "source": [
    "t.ppf(0.975,df = 39)"
   ]
  },
  {
   "cell_type": "code",
   "execution_count": 172,
   "metadata": {},
   "outputs": [
    {
     "data": {
      "text/plain": [
       "1.959963984540054"
      ]
     },
     "execution_count": 172,
     "metadata": {},
     "output_type": "execute_result"
    }
   ],
   "source": [
    "norm.ppf(0.975)"
   ]
  },
  {
   "cell_type": "code",
   "execution_count": 173,
   "metadata": {},
   "outputs": [
    {
     "data": {
      "text/plain": [
       "-9079.664577661639"
      ]
     },
     "execution_count": 173,
     "metadata": {},
     "output_type": "execute_result"
    }
   ],
   "source": [
    "(2000 * 1.01 ** 100) - (2000 * 1.02 ** 100)"
   ]
  },
  {
   "cell_type": "code",
   "execution_count": 174,
   "metadata": {},
   "outputs": [
    {
     "data": {
      "text/plain": [
       "1188.3823203228528"
      ]
     },
     "execution_count": 174,
     "metadata": {},
     "output_type": "execute_result"
    }
   ],
   "source": [
    "0.9692 * math.sqrt(1381.9 * 1087.95)"
   ]
  },
  {
   "cell_type": "code",
   "execution_count": 175,
   "metadata": {},
   "outputs": [
    {
     "data": {
      "text/plain": [
       "21.966272717180694"
      ]
     },
     "execution_count": 175,
     "metadata": {},
     "output_type": "execute_result"
    }
   ],
   "source": [
    "27.9/(1.127 ** 2)"
   ]
  },
  {
   "cell_type": "code",
   "execution_count": 180,
   "metadata": {},
   "outputs": [
    {
     "data": {
      "text/plain": [
       "5408.000000000001"
      ]
     },
     "execution_count": 180,
     "metadata": {},
     "output_type": "execute_result"
    }
   ],
   "source": [
    "5000 * 1.04 ** 2"
   ]
  },
  {
   "cell_type": "code",
   "execution_count": 184,
   "metadata": {},
   "outputs": [
    {
     "data": {
      "text/plain": [
       "0.915860135585492"
      ]
     },
     "execution_count": 184,
     "metadata": {},
     "output_type": "execute_result"
    }
   ],
   "source": [
    "chi2.cdf(23,df = 15)"
   ]
  },
  {
   "cell_type": "code",
   "execution_count": 185,
   "metadata": {},
   "outputs": [
    {
     "data": {
      "text/plain": [
       "1000.0000000000001"
      ]
     },
     "execution_count": 185,
     "metadata": {},
     "output_type": "execute_result"
    }
   ],
   "source": [
    "-10/0.99 + 990/0.99 ** 2"
   ]
  },
  {
   "cell_type": "code",
   "execution_count": 186,
   "metadata": {},
   "outputs": [
    {
     "data": {
      "text/plain": [
       "3736.290864330285"
      ]
     },
     "execution_count": 186,
     "metadata": {},
     "output_type": "execute_result"
    }
   ],
   "source": [
    "5000 / (1.06 ** 5)"
   ]
  },
  {
   "cell_type": "code",
   "execution_count": 187,
   "metadata": {},
   "outputs": [
    {
     "data": {
      "text/plain": [
       "1.6666666666666667"
      ]
     },
     "execution_count": 187,
     "metadata": {},
     "output_type": "execute_result"
    }
   ],
   "source": [
    "20/12"
   ]
  },
  {
   "cell_type": "code",
   "execution_count": 192,
   "metadata": {},
   "outputs": [
    {
     "data": {
      "text/plain": [
       "1.7134826410591473"
      ]
     },
     "execution_count": 192,
     "metadata": {},
     "output_type": "execute_result"
    }
   ],
   "source": [
    "(1.06/1.02) ** 14"
   ]
  },
  {
   "cell_type": "code",
   "execution_count": 194,
   "metadata": {},
   "outputs": [
    {
     "data": {
      "text/plain": [
       "11.607479383033922"
      ]
     },
     "execution_count": 194,
     "metadata": {},
     "output_type": "execute_result"
    }
   ],
   "source": [
    "math.log(21/15)/math.log(1.05/1.02)"
   ]
  },
  {
   "cell_type": "code",
   "execution_count": 195,
   "metadata": {},
   "outputs": [
    {
     "data": {
      "text/plain": [
       "0.014222222222222223"
      ]
     },
     "execution_count": 195,
     "metadata": {},
     "output_type": "execute_result"
    }
   ],
   "source": [
    "5/225 - 1/125"
   ]
  },
  {
   "cell_type": "code",
   "execution_count": 196,
   "metadata": {},
   "outputs": [
    {
     "data": {
      "text/plain": [
       "1.0294117647058822"
      ]
     },
     "execution_count": 196,
     "metadata": {},
     "output_type": "execute_result"
    }
   ],
   "source": [
    "((50 * 250) + (150 * 500)) / ((60 * 250) + (140 * 500))"
   ]
  },
  {
   "cell_type": "code",
   "execution_count": 197,
   "metadata": {},
   "outputs": [
    {
     "data": {
      "text/plain": [
       "1.1459627329192548"
      ]
     },
     "execution_count": 197,
     "metadata": {},
     "output_type": "execute_result"
    }
   ],
   "source": [
    "((70 * 175) + (160 * 500))/ ((60 * 175) + (140 * 500))"
   ]
  },
  {
   "cell_type": "code",
   "execution_count": 198,
   "metadata": {},
   "outputs": [
    {
     "data": {
      "text/plain": [
       "0.11273080660835756"
      ]
     },
     "execution_count": 198,
     "metadata": {},
     "output_type": "execute_result"
    }
   ],
   "source": [
    "(114.5 - 102.9) / 102.9"
   ]
  },
  {
   "cell_type": "code",
   "execution_count": 200,
   "metadata": {},
   "outputs": [
    {
     "data": {
      "text/plain": [
       "1.2215115925306996e-05"
      ]
     },
     "execution_count": 200,
     "metadata": {},
     "output_type": "execute_result"
    }
   ],
   "source": [
    "1 - norm.cdf(4.22)"
   ]
  },
  {
   "cell_type": "code",
   "execution_count": 203,
   "metadata": {},
   "outputs": [],
   "source": [
    "s = binom(n = 8,p = 0.5)"
   ]
  },
  {
   "cell_type": "code",
   "execution_count": 207,
   "metadata": {},
   "outputs": [
    {
     "data": {
      "text/plain": [
       "0.96484375"
      ]
     },
     "execution_count": 207,
     "metadata": {},
     "output_type": "execute_result"
    }
   ],
   "source": [
    "s.cdf(6)"
   ]
  },
  {
   "cell_type": "code",
   "execution_count": 144,
   "metadata": {},
   "outputs": [
    {
     "data": {
      "text/plain": [
       "<matplotlib.collections.PathCollection at 0x7fd849ac2bb0>"
      ]
     },
     "execution_count": 144,
     "metadata": {},
     "output_type": "execute_result"
    },
    {
     "data": {
      "image/png": "[encoded data removed]",
      "text/plain": [
       "<Figure size 720x360 with 1 Axes>"
      ]
     },
     "metadata": {
      "needs_background": "light"
     },
     "output_type": "display_data"
    }
   ],
   "source": [
    "# mu = 10, std = 3 , h0: u = x ,ha: u != x alpha = 0.05\n",
    "#生成隨機變數\n",
    "rv = norm.rvs(loc = 10,scale = 50,size = 1100)\n",
    "#生成critical value\n",
    "critical_value_low = np.mean(rv) - 1.96 * (np.std(rv)/math.sqrt(1100))\n",
    "critical_value_up = np.mean(rv) + 1.96 * (np.std(rv)/math.sqrt(1100))\n",
    "#滑動值(對立假設之mu)\n",
    "Ha_mu = np.arange(np.mean(rv)-2*1.96 * (np.std(rv)/math.sqrt(1100)),np.mean(rv)+2*1.96 * (np.std(rv)/math.sqrt(1100)),0.005)\n",
    "power = []\n",
    "for x in Ha_mu:\n",
    "    left_tail = norm.cdf((critical_value_low - x)/(np.std(rv)/math.sqrt(1100)))\n",
    "    right_tail = 1 - norm.cdf((critical_value_up - x)/(np.std(rv)/math.sqrt(1100)))\n",
    "    power.append(left_tail+right_tail)\n",
    "fig,ax = plt.subplots(1,1,figsize = (10,5))\n",
    "ax.plot(Ha_mu,power,color = 'skyblue')\n",
    "ax.scatter(np.mean(rv),0.05,color = 'red')"
   ]
  },
  {
   "cell_type": "code",
   "execution_count": 102,
   "metadata": {},
   "outputs": [
    {
     "data": {
      "text/plain": [
       "5.759525414899672e-31"
      ]
     },
     "execution_count": 102,
     "metadata": {},
     "output_type": "execute_result"
    }
   ],
   "source": [
    "norm.cdf((critical_value_low - x)/(np.std(rv)/math.sqrt(1100)))"
   ]
  },
  {
   "cell_type": "code",
   "execution_count": 104,
   "metadata": {},
   "outputs": [
    {
     "data": {
      "text/plain": [
       "0.9999999999999842"
      ]
     },
     "execution_count": 104,
     "metadata": {},
     "output_type": "execute_result"
    }
   ],
   "source": [
    "1 - norm.cdf((critical_value_up - x)/(np.std(rv)/math.sqrt(1100)))"
   ]
  },
  {
   "cell_type": "code",
   "execution_count": 94,
   "metadata": {},
   "outputs": [
    {
     "data": {
      "text/plain": [
       "-7.59169596190848"
      ]
     },
     "execution_count": 94,
     "metadata": {},
     "output_type": "execute_result"
    }
   ],
   "source": [
    "(critical_value_up - x)/(np.std(rv)/math.sqrt(1100))"
   ]
  },
  {
   "cell_type": "code",
   "execution_count": 147,
   "metadata": {},
   "outputs": [
    {
     "data": {
      "text/html": [
       "<div>\n",
       "<style scoped>\n",
       "    .dataframe tbody tr th:only-of-type {\n",
       "        vertical-align: middle;\n",
       "    }\n",
       "\n",
       "    .dataframe tbody tr th {\n",
       "        vertical-align: top;\n",
       "    }\n",
       "\n",
       "    .dataframe thead th {\n",
       "        text-align: right;\n",
       "    }\n",
       "</style>\n",
       "<table border=\"1\" class=\"dataframe\">\n",
       "  <thead>\n",
       "    <tr style=\"text-align: right;\">\n",
       "      <th></th>\n",
       "      <th>Unnamed: 0</th>\n",
       "      <th>時間戳記</th>\n",
       "      <th>1、您是否同意核四啟封商轉發電？</th>\n",
       "      <th>2、請問您的出生年份?（西元）</th>\n",
       "      <th>3、請問您的性別為?</th>\n",
       "      <th>4、請問您的學歷為?</th>\n",
       "      <th>5、請問您的家庭年收入為?</th>\n",
       "      <th>6、請問您的戶籍地為?</th>\n",
       "      <th>7、請問您的政黨傾向為?</th>\n",
       "      <th>8、您覺得您的家庭社會地位處於社會中的何種位置?</th>\n",
       "      <th>...</th>\n",
       "      <th>20、您是否認為政府在制定與執行重大決策時，會將民眾的福利擺在第一順位？</th>\n",
       "      <th>21、請問您是否相信政府首長在網路、平面媒體的發文與言論？</th>\n",
       "      <th>您的電子郵件(抽獎用</th>\n",
       "      <th>縣市分級</th>\n",
       "      <th>政治陣營</th>\n",
       "      <th>政治陣營_核四立場</th>\n",
       "      <th>經濟問題組合</th>\n",
       "      <th>風險意識組合</th>\n",
       "      <th>18題反轉</th>\n",
       "      <th>政治題組相加</th>\n",
       "    </tr>\n",
       "  </thead>\n",
       "  <tbody>\n",
       "    <tr>\n",
       "      <th>0</th>\n",
       "      <td>0</td>\n",
       "      <td>2021/11/20 1:00:40 上午 GMT+8</td>\n",
       "      <td>6</td>\n",
       "      <td>2000</td>\n",
       "      <td>0</td>\n",
       "      <td>4</td>\n",
       "      <td>5</td>\n",
       "      <td>新北市</td>\n",
       "      <td>時代力量</td>\n",
       "      <td>3</td>\n",
       "      <td>...</td>\n",
       "      <td>2</td>\n",
       "      <td>1</td>\n",
       "      <td>nike610550@gmail.com</td>\n",
       "      <td>1</td>\n",
       "      <td>2</td>\n",
       "      <td>1</td>\n",
       "      <td>8</td>\n",
       "      <td>10</td>\n",
       "      <td>4</td>\n",
       "      <td>11</td>\n",
       "    </tr>\n",
       "    <tr>\n",
       "      <th>1</th>\n",
       "      <td>1</td>\n",
       "      <td>2021/11/20 11:32:22 上午 GMT+8</td>\n",
       "      <td>6</td>\n",
       "      <td>1966</td>\n",
       "      <td>0</td>\n",
       "      <td>4</td>\n",
       "      <td>3</td>\n",
       "      <td>桃園市</td>\n",
       "      <td>民眾黨</td>\n",
       "      <td>4</td>\n",
       "      <td>...</td>\n",
       "      <td>2</td>\n",
       "      <td>2</td>\n",
       "      <td>NaN</td>\n",
       "      <td>2</td>\n",
       "      <td>1</td>\n",
       "      <td>1</td>\n",
       "      <td>8</td>\n",
       "      <td>8</td>\n",
       "      <td>3</td>\n",
       "      <td>11</td>\n",
       "    </tr>\n",
       "    <tr>\n",
       "      <th>2</th>\n",
       "      <td>2</td>\n",
       "      <td>2021/11/20 11:35:12 上午 GMT+8</td>\n",
       "      <td>6</td>\n",
       "      <td>1967</td>\n",
       "      <td>1</td>\n",
       "      <td>4</td>\n",
       "      <td>3</td>\n",
       "      <td>桃園市</td>\n",
       "      <td>國民黨</td>\n",
       "      <td>3</td>\n",
       "      <td>...</td>\n",
       "      <td>2</td>\n",
       "      <td>2</td>\n",
       "      <td>NaN</td>\n",
       "      <td>2</td>\n",
       "      <td>1</td>\n",
       "      <td>2</td>\n",
       "      <td>8</td>\n",
       "      <td>13</td>\n",
       "      <td>4</td>\n",
       "      <td>12</td>\n",
       "    </tr>\n",
       "    <tr>\n",
       "      <th>3</th>\n",
       "      <td>3</td>\n",
       "      <td>2021/11/20 11:40:50 上午 GMT+8</td>\n",
       "      <td>5</td>\n",
       "      <td>1998</td>\n",
       "      <td>0</td>\n",
       "      <td>4</td>\n",
       "      <td>4</td>\n",
       "      <td>新北市</td>\n",
       "      <td>無</td>\n",
       "      <td>4</td>\n",
       "      <td>...</td>\n",
       "      <td>3</td>\n",
       "      <td>3</td>\n",
       "      <td>evan0937408579@gmail.com</td>\n",
       "      <td>1</td>\n",
       "      <td>0</td>\n",
       "      <td>0</td>\n",
       "      <td>6</td>\n",
       "      <td>12</td>\n",
       "      <td>4</td>\n",
       "      <td>13</td>\n",
       "    </tr>\n",
       "    <tr>\n",
       "      <th>4</th>\n",
       "      <td>4</td>\n",
       "      <td>2021/11/20 11:42:29 上午 GMT+8</td>\n",
       "      <td>5</td>\n",
       "      <td>1988</td>\n",
       "      <td>0</td>\n",
       "      <td>4</td>\n",
       "      <td>3</td>\n",
       "      <td>新北市</td>\n",
       "      <td>無</td>\n",
       "      <td>3</td>\n",
       "      <td>...</td>\n",
       "      <td>2</td>\n",
       "      <td>3</td>\n",
       "      <td>NaN</td>\n",
       "      <td>1</td>\n",
       "      <td>0</td>\n",
       "      <td>0</td>\n",
       "      <td>9</td>\n",
       "      <td>13</td>\n",
       "      <td>4</td>\n",
       "      <td>13</td>\n",
       "    </tr>\n",
       "    <tr>\n",
       "      <th>...</th>\n",
       "      <td>...</td>\n",
       "      <td>...</td>\n",
       "      <td>...</td>\n",
       "      <td>...</td>\n",
       "      <td>...</td>\n",
       "      <td>...</td>\n",
       "      <td>...</td>\n",
       "      <td>...</td>\n",
       "      <td>...</td>\n",
       "      <td>...</td>\n",
       "      <td>...</td>\n",
       "      <td>...</td>\n",
       "      <td>...</td>\n",
       "      <td>...</td>\n",
       "      <td>...</td>\n",
       "      <td>...</td>\n",
       "      <td>...</td>\n",
       "      <td>...</td>\n",
       "      <td>...</td>\n",
       "      <td>...</td>\n",
       "      <td>...</td>\n",
       "    </tr>\n",
       "    <tr>\n",
       "      <th>595</th>\n",
       "      <td>595</td>\n",
       "      <td>2021/11/24 3:39:25 下午 GMT+8</td>\n",
       "      <td>7</td>\n",
       "      <td>2001</td>\n",
       "      <td>0</td>\n",
       "      <td>3</td>\n",
       "      <td>1</td>\n",
       "      <td>台中市</td>\n",
       "      <td>沒有，都是垃圾，我只看人</td>\n",
       "      <td>3</td>\n",
       "      <td>...</td>\n",
       "      <td>1</td>\n",
       "      <td>1</td>\n",
       "      <td>qr54128999@gmail.com</td>\n",
       "      <td>3</td>\n",
       "      <td>0</td>\n",
       "      <td>0</td>\n",
       "      <td>10</td>\n",
       "      <td>3</td>\n",
       "      <td>5</td>\n",
       "      <td>12</td>\n",
       "    </tr>\n",
       "    <tr>\n",
       "      <th>596</th>\n",
       "      <td>596</td>\n",
       "      <td>2021/11/24 3:56:01 下午 GMT+8</td>\n",
       "      <td>5</td>\n",
       "      <td>2002</td>\n",
       "      <td>0</td>\n",
       "      <td>4</td>\n",
       "      <td>1</td>\n",
       "      <td>新北市</td>\n",
       "      <td>時代力量</td>\n",
       "      <td>3</td>\n",
       "      <td>...</td>\n",
       "      <td>2</td>\n",
       "      <td>1</td>\n",
       "      <td>3849323@gmail.com</td>\n",
       "      <td>1</td>\n",
       "      <td>2</td>\n",
       "      <td>1</td>\n",
       "      <td>7</td>\n",
       "      <td>9</td>\n",
       "      <td>4</td>\n",
       "      <td>11</td>\n",
       "    </tr>\n",
       "    <tr>\n",
       "      <th>597</th>\n",
       "      <td>597</td>\n",
       "      <td>2021/11/24 4:32:42 下午 GMT+8</td>\n",
       "      <td>7</td>\n",
       "      <td>2001</td>\n",
       "      <td>0</td>\n",
       "      <td>4</td>\n",
       "      <td>1</td>\n",
       "      <td>台中市</td>\n",
       "      <td>無</td>\n",
       "      <td>3</td>\n",
       "      <td>...</td>\n",
       "      <td>3</td>\n",
       "      <td>2</td>\n",
       "      <td>NaN</td>\n",
       "      <td>3</td>\n",
       "      <td>0</td>\n",
       "      <td>0</td>\n",
       "      <td>8</td>\n",
       "      <td>9</td>\n",
       "      <td>4</td>\n",
       "      <td>12</td>\n",
       "    </tr>\n",
       "    <tr>\n",
       "      <th>598</th>\n",
       "      <td>598</td>\n",
       "      <td>2021/11/24 9:42:15 下午 GMT+8</td>\n",
       "      <td>7</td>\n",
       "      <td>2000</td>\n",
       "      <td>1</td>\n",
       "      <td>4</td>\n",
       "      <td>5</td>\n",
       "      <td>台北市</td>\n",
       "      <td>民眾黨</td>\n",
       "      <td>3</td>\n",
       "      <td>...</td>\n",
       "      <td>2</td>\n",
       "      <td>3</td>\n",
       "      <td>uxuxlai0713@gmail.com</td>\n",
       "      <td>1</td>\n",
       "      <td>1</td>\n",
       "      <td>1</td>\n",
       "      <td>10</td>\n",
       "      <td>10</td>\n",
       "      <td>4</td>\n",
       "      <td>13</td>\n",
       "    </tr>\n",
       "    <tr>\n",
       "      <th>599</th>\n",
       "      <td>599</td>\n",
       "      <td>2021/11/25 12:50:53 上午 GMT+8</td>\n",
       "      <td>6</td>\n",
       "      <td>1996</td>\n",
       "      <td>1</td>\n",
       "      <td>4</td>\n",
       "      <td>4</td>\n",
       "      <td>台北市</td>\n",
       "      <td>無</td>\n",
       "      <td>3</td>\n",
       "      <td>...</td>\n",
       "      <td>2</td>\n",
       "      <td>3</td>\n",
       "      <td>joanne850212@yahoo.com.tw</td>\n",
       "      <td>1</td>\n",
       "      <td>0</td>\n",
       "      <td>0</td>\n",
       "      <td>8</td>\n",
       "      <td>9</td>\n",
       "      <td>4</td>\n",
       "      <td>13</td>\n",
       "    </tr>\n",
       "  </tbody>\n",
       "</table>\n",
       "<p>600 rows × 31 columns</p>\n",
       "</div>"
      ],
      "text/plain": [
       "     Unnamed: 0                          時間戳記  1、您是否同意核四啟封商轉發電？  \\\n",
       "0             0   2021/11/20 1:00:40 上午 GMT+8                 6   \n",
       "1             1  2021/11/20 11:32:22 上午 GMT+8                 6   \n",
       "2             2  2021/11/20 11:35:12 上午 GMT+8                 6   \n",
       "3             3  2021/11/20 11:40:50 上午 GMT+8                 5   \n",
       "4             4  2021/11/20 11:42:29 上午 GMT+8                 5   \n",
       "..          ...                           ...               ...   \n",
       "595         595   2021/11/24 3:39:25 下午 GMT+8                 7   \n",
       "596         596   2021/11/24 3:56:01 下午 GMT+8                 5   \n",
       "597         597   2021/11/24 4:32:42 下午 GMT+8                 7   \n",
       "598         598   2021/11/24 9:42:15 下午 GMT+8                 7   \n",
       "599         599  2021/11/25 12:50:53 上午 GMT+8                 6   \n",
       "\n",
       "     2、請問您的出生年份?（西元）  3、請問您的性別為?  4、請問您的學歷為?  5、請問您的家庭年收入為? 6、請問您的戶籍地為?  \\\n",
       "0               2000           0           4              5         新北市   \n",
       "1               1966           0           4              3         桃園市   \n",
       "2               1967           1           4              3         桃園市   \n",
       "3               1998           0           4              4         新北市   \n",
       "4               1988           0           4              3         新北市   \n",
       "..               ...         ...         ...            ...         ...   \n",
       "595             2001           0           3              1         台中市   \n",
       "596             2002           0           4              1         新北市   \n",
       "597             2001           0           4              1         台中市   \n",
       "598             2000           1           4              5         台北市   \n",
       "599             1996           1           4              4         台北市   \n",
       "\n",
       "     7、請問您的政黨傾向為?  8、您覺得您的家庭社會地位處於社會中的何種位置?  ...  \\\n",
       "0            時代力量                         3  ...   \n",
       "1             民眾黨                         4  ...   \n",
       "2             國民黨                         3  ...   \n",
       "3               無                         4  ...   \n",
       "4               無                         3  ...   \n",
       "..            ...                       ...  ...   \n",
       "595  沒有，都是垃圾，我只看人                         3  ...   \n",
       "596          時代力量                         3  ...   \n",
       "597             無                         3  ...   \n",
       "598           民眾黨                         3  ...   \n",
       "599             無                         3  ...   \n",
       "\n",
       "     20、您是否認為政府在制定與執行重大決策時，會將民眾的福利擺在第一順位？ 21、請問您是否相信政府首長在網路、平面媒體的發文與言論？  \\\n",
       "0                                       2                             1   \n",
       "1                                       2                             2   \n",
       "2                                       2                             2   \n",
       "3                                       3                             3   \n",
       "4                                       2                             3   \n",
       "..                                    ...                           ...   \n",
       "595                                     1                             1   \n",
       "596                                     2                             1   \n",
       "597                                     3                             2   \n",
       "598                                     2                             3   \n",
       "599                                     2                             3   \n",
       "\n",
       "                    您的電子郵件(抽獎用  縣市分級  政治陣營  政治陣營_核四立場  經濟問題組合  風險意識組合  18題反轉  \\\n",
       "0         nike610550@gmail.com     1     2          1       8      10      4   \n",
       "1                          NaN     2     1          1       8       8      3   \n",
       "2                          NaN     2     1          2       8      13      4   \n",
       "3     evan0937408579@gmail.com     1     0          0       6      12      4   \n",
       "4                          NaN     1     0          0       9      13      4   \n",
       "..                         ...   ...   ...        ...     ...     ...    ...   \n",
       "595       qr54128999@gmail.com     3     0          0      10       3      5   \n",
       "596          3849323@gmail.com     1     2          1       7       9      4   \n",
       "597                        NaN     3     0          0       8       9      4   \n",
       "598      uxuxlai0713@gmail.com     1     1          1      10      10      4   \n",
       "599  joanne850212@yahoo.com.tw     1     0          0       8       9      4   \n",
       "\n",
       "     政治題組相加  \n",
       "0        11  \n",
       "1        11  \n",
       "2        12  \n",
       "3        13  \n",
       "4        13  \n",
       "..      ...  \n",
       "595      12  \n",
       "596      11  \n",
       "597      12  \n",
       "598      13  \n",
       "599      13  \n",
       "\n",
       "[600 rows x 31 columns]"
      ]
     },
     "execution_count": 147,
     "metadata": {},
     "output_type": "execute_result"
    }
   ],
   "source": [
    "import pandas as pd\n",
    "df = pd.read_csv(r\"/Users/xuzhejia/Desktop/畢專/data_dummy_final.csv\")\n",
    "df"
   ]
  },
  {
   "cell_type": "code",
   "execution_count": 151,
   "metadata": {},
   "outputs": [
    {
     "data": {
      "text/plain": [
       "Int64Index([4, 5, 3, 1, 2], dtype='int64')"
      ]
     },
     "execution_count": 151,
     "metadata": {},
     "output_type": "execute_result"
    }
   ],
   "source": [
    "df.iloc[:,5].value_counts().index"
   ]
  },
  {
   "cell_type": "code",
   "execution_count": 154,
   "metadata": {},
   "outputs": [
    {
     "data": {
      "text/plain": [
       "3    301\n",
       "1    184\n",
       "2    115\n",
       "Name: 縣市分級, dtype: int64"
      ]
     },
     "execution_count": 154,
     "metadata": {},
     "output_type": "execute_result"
    }
   ],
   "source": [
    "s = df[\"縣市分級\"].value_counts()\n",
    "s"
   ]
  },
  {
   "cell_type": "code",
   "execution_count": 156,
   "metadata": {},
   "outputs": [
    {
     "data": {
      "text/plain": [
       "3    0.501667\n",
       "1    0.306667\n",
       "2    0.191667\n",
       "Name: 縣市分級, dtype: float64"
      ]
     },
     "execution_count": 156,
     "metadata": {},
     "output_type": "execute_result"
    }
   ],
   "source": [
    "from __future__ import division\n",
    "pcts = s / s.sum()\n",
    "pcts\n"
   ]
  },
  {
   "cell_type": "code",
   "execution_count": 174,
   "metadata": {},
   "outputs": [
    {
     "data": {
      "text/html": [
       "<div>\n",
       "<style scoped>\n",
       "    .dataframe tbody tr th:only-of-type {\n",
       "        vertical-align: middle;\n",
       "    }\n",
       "\n",
       "    .dataframe tbody tr th {\n",
       "        vertical-align: top;\n",
       "    }\n",
       "\n",
       "    .dataframe thead th {\n",
       "        text-align: right;\n",
       "    }\n",
       "</style>\n",
       "<table border=\"1\" class=\"dataframe\">\n",
       "  <thead>\n",
       "    <tr style=\"text-align: right;\">\n",
       "      <th></th>\n",
       "      <th>19、有人說：「政府時常浪費民眾繳納的稅金」，您是否同意這種說法？</th>\n",
       "      <th>20、您是否認為政府在制定與執行重大決策時，會將民眾的福利擺在第一順位？</th>\n",
       "      <th>21、請問您是否相信政府首長在網路、平面媒體的發文與言論？</th>\n",
       "      <th>18題反轉</th>\n",
       "    </tr>\n",
       "  </thead>\n",
       "  <tbody>\n",
       "    <tr>\n",
       "      <th>19、有人說：「政府時常浪費民眾繳納的稅金」，您是否同意這種說法？</th>\n",
       "      <td>1.000000</td>\n",
       "      <td>-0.463409</td>\n",
       "      <td>-0.455227</td>\n",
       "      <td>0.416475</td>\n",
       "    </tr>\n",
       "    <tr>\n",
       "      <th>20、您是否認為政府在制定與執行重大決策時，會將民眾的福利擺在第一順位？</th>\n",
       "      <td>-0.463409</td>\n",
       "      <td>1.000000</td>\n",
       "      <td>0.666856</td>\n",
       "      <td>-0.579729</td>\n",
       "    </tr>\n",
       "    <tr>\n",
       "      <th>21、請問您是否相信政府首長在網路、平面媒體的發文與言論？</th>\n",
       "      <td>-0.455227</td>\n",
       "      <td>0.666856</td>\n",
       "      <td>1.000000</td>\n",
       "      <td>-0.616216</td>\n",
       "    </tr>\n",
       "    <tr>\n",
       "      <th>18題反轉</th>\n",
       "      <td>0.416475</td>\n",
       "      <td>-0.579729</td>\n",
       "      <td>-0.616216</td>\n",
       "      <td>1.000000</td>\n",
       "    </tr>\n",
       "  </tbody>\n",
       "</table>\n",
       "</div>"
      ],
      "text/plain": [
       "                                      19、有人說：「政府時常浪費民眾繳納的稅金」，您是否同意這種說法？  \\\n",
       "19、有人說：「政府時常浪費民眾繳納的稅金」，您是否同意這種說法？                              1.000000   \n",
       "20、您是否認為政府在制定與執行重大決策時，會將民眾的福利擺在第一順位？                          -0.463409   \n",
       "21、請問您是否相信政府首長在網路、平面媒體的發文與言論？                                 -0.455227   \n",
       "18題反轉                                                          0.416475   \n",
       "\n",
       "                                      20、您是否認為政府在制定與執行重大決策時，會將民眾的福利擺在第一順位？  \\\n",
       "19、有人說：「政府時常浪費民眾繳納的稅金」，您是否同意這種說法？                                -0.463409   \n",
       "20、您是否認為政府在制定與執行重大決策時，會將民眾的福利擺在第一順位？                              1.000000   \n",
       "21、請問您是否相信政府首長在網路、平面媒體的發文與言論？                                     0.666856   \n",
       "18題反轉                                                            -0.579729   \n",
       "\n",
       "                                      21、請問您是否相信政府首長在網路、平面媒體的發文與言論？     18題反轉  \n",
       "19、有人說：「政府時常浪費民眾繳納的稅金」，您是否同意這種說法？                         -0.455227  0.416475  \n",
       "20、您是否認為政府在制定與執行重大決策時，會將民眾的福利擺在第一順位？                       0.666856 -0.579729  \n",
       "21、請問您是否相信政府首長在網路、平面媒體的發文與言論？                              1.000000 -0.616216  \n",
       "18題反轉                                                     -0.616216  1.000000  "
      ]
     },
     "execution_count": 174,
     "metadata": {},
     "output_type": "execute_result"
    }
   ],
   "source": [
    "df.iloc[:,[20,21,22,-2]].corr()"
   ]
  },
  {
   "cell_type": "code",
   "execution_count": 172,
   "metadata": {},
   "outputs": [
    {
     "data": {
      "text/html": [
       "<div>\n",
       "<style scoped>\n",
       "    .dataframe tbody tr th:only-of-type {\n",
       "        vertical-align: middle;\n",
       "    }\n",
       "\n",
       "    .dataframe tbody tr th {\n",
       "        vertical-align: top;\n",
       "    }\n",
       "\n",
       "    .dataframe thead th {\n",
       "        text-align: right;\n",
       "    }\n",
       "</style>\n",
       "<table border=\"1\" class=\"dataframe\">\n",
       "  <thead>\n",
       "    <tr style=\"text-align: right;\">\n",
       "      <th></th>\n",
       "      <th>18、有人說：「政府所做的事情大多是正確的」，您是否同意這種說法？</th>\n",
       "      <th>19、有人說：「政府時常浪費民眾繳納的稅金」，您是否同意這種說法？</th>\n",
       "      <th>20、您是否認為政府在制定與執行重大決策時，會將民眾的福利擺在第一順位？</th>\n",
       "      <th>18題反轉</th>\n",
       "    </tr>\n",
       "  </thead>\n",
       "  <tbody>\n",
       "    <tr>\n",
       "      <th>0</th>\n",
       "      <td>2</td>\n",
       "      <td>4</td>\n",
       "      <td>2</td>\n",
       "      <td>4</td>\n",
       "    </tr>\n",
       "    <tr>\n",
       "      <th>1</th>\n",
       "      <td>3</td>\n",
       "      <td>4</td>\n",
       "      <td>2</td>\n",
       "      <td>3</td>\n",
       "    </tr>\n",
       "    <tr>\n",
       "      <th>2</th>\n",
       "      <td>2</td>\n",
       "      <td>4</td>\n",
       "      <td>2</td>\n",
       "      <td>4</td>\n",
       "    </tr>\n",
       "    <tr>\n",
       "      <th>3</th>\n",
       "      <td>2</td>\n",
       "      <td>3</td>\n",
       "      <td>3</td>\n",
       "      <td>4</td>\n",
       "    </tr>\n",
       "    <tr>\n",
       "      <th>4</th>\n",
       "      <td>2</td>\n",
       "      <td>4</td>\n",
       "      <td>2</td>\n",
       "      <td>4</td>\n",
       "    </tr>\n",
       "    <tr>\n",
       "      <th>...</th>\n",
       "      <td>...</td>\n",
       "      <td>...</td>\n",
       "      <td>...</td>\n",
       "      <td>...</td>\n",
       "    </tr>\n",
       "    <tr>\n",
       "      <th>595</th>\n",
       "      <td>1</td>\n",
       "      <td>5</td>\n",
       "      <td>1</td>\n",
       "      <td>5</td>\n",
       "    </tr>\n",
       "    <tr>\n",
       "      <th>596</th>\n",
       "      <td>2</td>\n",
       "      <td>4</td>\n",
       "      <td>2</td>\n",
       "      <td>4</td>\n",
       "    </tr>\n",
       "    <tr>\n",
       "      <th>597</th>\n",
       "      <td>2</td>\n",
       "      <td>3</td>\n",
       "      <td>3</td>\n",
       "      <td>4</td>\n",
       "    </tr>\n",
       "    <tr>\n",
       "      <th>598</th>\n",
       "      <td>2</td>\n",
       "      <td>4</td>\n",
       "      <td>2</td>\n",
       "      <td>4</td>\n",
       "    </tr>\n",
       "    <tr>\n",
       "      <th>599</th>\n",
       "      <td>2</td>\n",
       "      <td>4</td>\n",
       "      <td>2</td>\n",
       "      <td>4</td>\n",
       "    </tr>\n",
       "  </tbody>\n",
       "</table>\n",
       "<p>600 rows × 4 columns</p>\n",
       "</div>"
      ],
      "text/plain": [
       "     18、有人說：「政府所做的事情大多是正確的」，您是否同意這種說法？  19、有人說：「政府時常浪費民眾繳納的稅金」，您是否同意這種說法？  \\\n",
       "0                                    2                                  4   \n",
       "1                                    3                                  4   \n",
       "2                                    2                                  4   \n",
       "3                                    2                                  3   \n",
       "4                                    2                                  4   \n",
       "..                                 ...                                ...   \n",
       "595                                  1                                  5   \n",
       "596                                  2                                  4   \n",
       "597                                  2                                  3   \n",
       "598                                  2                                  4   \n",
       "599                                  2                                  4   \n",
       "\n",
       "     20、您是否認為政府在制定與執行重大決策時，會將民眾的福利擺在第一順位？  18題反轉  \n",
       "0                                       2      4  \n",
       "1                                       2      3  \n",
       "2                                       2      4  \n",
       "3                                       3      4  \n",
       "4                                       2      4  \n",
       "..                                    ...    ...  \n",
       "595                                     1      5  \n",
       "596                                     2      4  \n",
       "597                                     3      4  \n",
       "598                                     2      4  \n",
       "599                                     2      4  \n",
       "\n",
       "[600 rows x 4 columns]"
      ]
     },
     "execution_count": 172,
     "metadata": {},
     "output_type": "execute_result"
    }
   ],
   "source": [
    "df.iloc[:,[19,20,21,-2]]"
   ]
  },
  {
   "cell_type": "code",
   "execution_count": 168,
   "metadata": {},
   "outputs": [
    {
     "name": "stderr",
     "output_type": "stream",
     "text": [
      "/Users/xuzhejia/opt/anaconda3/lib/python3.8/site-packages/outdated/utils.py:14: OutdatedPackageWarning: The package pingouin is out of date. Your version is 0.3.10, the latest is 0.5.0.\n",
      "Set the environment variable OUTDATED_IGNORE=1 to disable these warnings.\n",
      "  return warn(\n",
      "/Users/xuzhejia/opt/anaconda3/lib/python3.8/site-packages/outdated/utils.py:14: OutdatedPackageWarning: The package outdated is out of date. Your version is 0.2.0, the latest is 0.2.1.\n",
      "Set the environment variable OUTDATED_IGNORE=1 to disable these warnings.\n",
      "  return warn(\n"
     ]
    }
   ],
   "source": [
    "import pingouin as pg"
   ]
  },
  {
   "cell_type": "code",
   "execution_count": 175,
   "metadata": {},
   "outputs": [
    {
     "data": {
      "text/plain": [
       "(-1.4271315949060064, array([-1.761, -1.125]))"
      ]
     },
     "execution_count": 175,
     "metadata": {},
     "output_type": "execute_result"
    }
   ],
   "source": [
    "pg.cronbach_alpha(data=df.iloc[:,[20,21,22,-2]])"
   ]
  },
  {
   "cell_type": "code",
   "execution_count": 178,
   "metadata": {},
   "outputs": [
    {
     "data": {
      "text/html": [
       "<div>\n",
       "<style scoped>\n",
       "    .dataframe tbody tr th:only-of-type {\n",
       "        vertical-align: middle;\n",
       "    }\n",
       "\n",
       "    .dataframe tbody tr th {\n",
       "        vertical-align: top;\n",
       "    }\n",
       "\n",
       "    .dataframe thead th {\n",
       "        text-align: right;\n",
       "    }\n",
       "</style>\n",
       "<table border=\"1\" class=\"dataframe\">\n",
       "  <thead>\n",
       "    <tr style=\"text-align: right;\">\n",
       "      <th></th>\n",
       "      <th>15、您是否擔心我國的核電廠突然發生重大事故?</th>\n",
       "      <th>16、您是否擔心核四廠位於斷層帶上?</th>\n",
       "      <th>17、您是否擔心核四廠的工程品質?</th>\n",
       "    </tr>\n",
       "  </thead>\n",
       "  <tbody>\n",
       "    <tr>\n",
       "      <th>15、您是否擔心我國的核電廠突然發生重大事故?</th>\n",
       "      <td>1.000000</td>\n",
       "      <td>0.761733</td>\n",
       "      <td>0.692403</td>\n",
       "    </tr>\n",
       "    <tr>\n",
       "      <th>16、您是否擔心核四廠位於斷層帶上?</th>\n",
       "      <td>0.761733</td>\n",
       "      <td>1.000000</td>\n",
       "      <td>0.718953</td>\n",
       "    </tr>\n",
       "    <tr>\n",
       "      <th>17、您是否擔心核四廠的工程品質?</th>\n",
       "      <td>0.692403</td>\n",
       "      <td>0.718953</td>\n",
       "      <td>1.000000</td>\n",
       "    </tr>\n",
       "  </tbody>\n",
       "</table>\n",
       "</div>"
      ],
      "text/plain": [
       "                         15、您是否擔心我國的核電廠突然發生重大事故?  16、您是否擔心核四廠位於斷層帶上?  \\\n",
       "15、您是否擔心我國的核電廠突然發生重大事故?                 1.000000            0.761733   \n",
       "16、您是否擔心核四廠位於斷層帶上?                      0.761733            1.000000   \n",
       "17、您是否擔心核四廠的工程品質?                       0.692403            0.718953   \n",
       "\n",
       "                         17、您是否擔心核四廠的工程品質?  \n",
       "15、您是否擔心我國的核電廠突然發生重大事故?           0.692403  \n",
       "16、您是否擔心核四廠位於斷層帶上?                0.718953  \n",
       "17、您是否擔心核四廠的工程品質?                 1.000000  "
      ]
     },
     "execution_count": 178,
     "metadata": {},
     "output_type": "execute_result"
    }
   ],
   "source": [
    "df.iloc[:,[16,17,18]].corr()"
   ]
  },
  {
   "cell_type": "code",
   "execution_count": 179,
   "metadata": {},
   "outputs": [
    {
     "data": {
      "text/plain": [
       "(0.887086896577715, array([0.87 , 0.902]))"
      ]
     },
     "execution_count": 179,
     "metadata": {},
     "output_type": "execute_result"
    }
   ],
   "source": [
    "pg.cronbach_alpha(data=df.iloc[:,[16,17,18]])"
   ]
  },
  {
   "cell_type": "code",
   "execution_count": null,
   "metadata": {},
   "outputs": [],
   "source": []
  }
 ],
 "metadata": {
  "kernelspec": {
   "display_name": "Python 3",
   "language": "python",
   "name": "python3"
  },
  "language_info": {
   "codemirror_mode": {
    "name": "ipython",
    "version": 3
   },
   "file_extension": ".py",
   "mimetype": "text/x-python",
   "name": "python",
   "nbconvert_exporter": "python",
   "pygments_lexer": "ipython3",
   "version": "3.8.5"
  }
 },
 "nbformat": 4,
 "nbformat_minor": 4
}
